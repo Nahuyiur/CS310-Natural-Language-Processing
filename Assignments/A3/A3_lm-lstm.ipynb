{
 "cells": [
  {
   "cell_type": "markdown",
   "metadata": {},
   "source": [
    "## CS310 Natural Language Processing\n",
    "## Assignment 3. Recurrent Neural Networks for Language Modeling \n",
    "\n",
    "**Total points**: \n",
    "\n",
    "In this assignment, you will train a LSTM-based language model on the Harry Potter text data. "
   ]
  },
  {
   "cell_type": "markdown",
   "metadata": {},
   "source": [
    "### 0. Import Necessary Libraries"
   ]
  },
  {
   "cell_type": "code",
   "execution_count": 30,
   "metadata": {},
   "outputs": [
    {
     "name": "stderr",
     "output_type": "stream",
     "text": [
      "[nltk_data] Downloading package punkt to /Users/ruiyuhan/nltk_data...\n",
      "[nltk_data]   Package punkt is already up-to-date!\n",
      "[nltk_data] Downloading package punkt_tab to\n",
      "[nltk_data]     /Users/ruiyuhan/nltk_data...\n",
      "[nltk_data]   Package punkt_tab is already up-to-date!\n"
     ]
    },
    {
     "data": {
      "text/plain": [
       "True"
      ]
     },
     "execution_count": 30,
     "metadata": {},
     "output_type": "execute_result"
    }
   ],
   "source": [
    "import nltk\n",
    "from nltk.tokenize import word_tokenize\n",
    "import torch\n",
    "import torch.nn as nn\n",
    "import numpy as np\n",
    "from collections import Counter\n",
    "from torch.utils.data import Dataset, DataLoader, random_split\n",
    "import logging\n",
    "from datetime import datetime\n",
    "import torch\n",
    "\n",
    "nltk.download('punkt')\n",
    "nltk.download('punkt_tab')"
   ]
  },
  {
   "cell_type": "code",
   "execution_count": 31,
   "metadata": {},
   "outputs": [
    {
     "name": "stdout",
     "output_type": "stream",
     "text": [
      "['the', 'boy', 'who', 'lived', 'mr', 'and', 'mrs', 'dursley', 'of', 'number']\n"
     ]
    }
   ],
   "source": [
    "def read_text(file_path):\n",
    "    with open(file_path,'r',encoding='utf-8')as f:\n",
    "        text=f.read()\n",
    "    return text\n",
    "\n",
    "text=read_text('Harry_Potter_all_books_preprocessed.txt')\n",
    "text=text.lower()\n",
    "words=word_tokenize(text)\n",
    "print(words[:10])"
   ]
  },
  {
   "cell_type": "code",
   "execution_count": 32,
   "metadata": {},
   "outputs": [
    {
     "name": "stdout",
     "output_type": "stream",
     "text": [
      "the size of vocab: 26355\n"
     ]
    }
   ],
   "source": [
    "def build_vocab(words):\n",
    "    vocab={'<PAD>':0,'<UNK>':1}\n",
    "    word_count=Counter(words)\n",
    "    for word, _ in word_count.items():\n",
    "        vocab[word]=len(vocab)\n",
    "    return vocab\n",
    "\n",
    "vocab=build_vocab(words)\n",
    "print('the size of vocab:',len(vocab))"
   ]
  },
  {
   "cell_type": "code",
   "execution_count": 33,
   "metadata": {},
   "outputs": [
    {
     "name": "stdout",
     "output_type": "stream",
     "text": [
      "the shape of data_tensor torch.Size([1105952])\n",
      "tensor([ 2,  3,  4,  5,  6,  7,  8,  9, 10, 11])\n"
     ]
    }
   ],
   "source": [
    "def text_to_tensor(words,vocab):\n",
    "    indices=[vocab.get(word,vocab['<UNK>']) for word in words]\n",
    "    return torch.tensor(indices,dtype=torch.long)\n",
    "\n",
    "data_tensor=text_to_tensor(words,vocab)\n",
    "print(\"the shape of data_tensor\",data_tensor.size())\n",
    "print(data_tensor[:10])"
   ]
  },
  {
   "cell_type": "code",
   "execution_count": 34,
   "metadata": {},
   "outputs": [],
   "source": [
    "class TextDataset(Dataset):\n",
    "    def __init__(self,data_tensor,seq_length):\n",
    "        self.data=data_tensor\n",
    "        self.seq_length=seq_length\n",
    "    def __len__(self):\n",
    "        return len(self.data)-self.seq_length\n",
    "    def __getitem__(self,idx):\n",
    "        input_seq = self.data[idx:idx + self.seq_length]\n",
    "        target_seq = self.data[idx + 1:idx + self.seq_length + 1]\n",
    "        return input_seq,target_seq"
   ]
  },
  {
   "cell_type": "markdown",
   "metadata": {},
   "source": [
    "### 1. Build the Model"
   ]
  },
  {
   "cell_type": "code",
   "execution_count": 35,
   "metadata": {},
   "outputs": [
    {
     "name": "stdout",
     "output_type": "stream",
     "text": [
      "LSTM_LM(\n",
      "  (embed): Embedding(26355, 128)\n",
      "  (lstm): LSTM(128, 256, num_layers=2, batch_first=True)\n",
      "  (fc): Linear(in_features=256, out_features=26355, bias=True)\n",
      ")\n"
     ]
    }
   ],
   "source": [
    "class LSTM_LM(nn.Module):\n",
    "    def __init__(self, vocab_size, embed_size, hidden_size, num_layers, bidirectional=False, pretrained_embeddings=None):\n",
    "        super(LSTM_LM, self).__init__()\n",
    "        # 嵌入层：如果有预训练嵌入，使用它；否则随机初始化\n",
    "        if pretrained_embeddings is not None:\n",
    "            self.embed = nn.Embedding.from_pretrained(pretrained_embeddings, freeze=False)  # freeze=False 允许微调\n",
    "        else:\n",
    "            self.embed = nn.Embedding(vocab_size, embed_size)\n",
    "        \n",
    "        self.lstm = nn.LSTM(embed_size, hidden_size, num_layers, batch_first=True, bidirectional=bidirectional)\n",
    "        self.bidirectional = bidirectional\n",
    "        self.num_layers = num_layers\n",
    "        self.hidden_size = hidden_size\n",
    "        \n",
    "        if bidirectional:\n",
    "            self.fc = nn.Linear(hidden_size * 2, vocab_size)\n",
    "        else:\n",
    "            self.fc = nn.Linear(hidden_size, vocab_size)\n",
    "    \n",
    "    def forward(self, x, hidden=None):\n",
    "        embedded = self.embed(x)\n",
    "        output, hidden = self.lstm(embedded, hidden)\n",
    "        output = self.fc(output)\n",
    "        return output, hidden\n",
    "    \n",
    "    def init_hidden(self, batch_size, device):\n",
    "        num_directions = 2 if self.bidirectional else 1\n",
    "        h_0 = torch.zeros(self.num_layers * num_directions, batch_size, self.hidden_size, device=device)\n",
    "        c_0 = torch.zeros(self.num_layers * num_directions, batch_size, self.hidden_size, device=device)\n",
    "        return (h_0, c_0)\n",
    "    \n",
    "# 实例化 LSTM 模型，使用与 RNN 相同的超参数\n",
    "vocab_size = len(vocab)\n",
    "embed_size = 128\n",
    "hidden_size = 256\n",
    "num_layers = 2\n",
    "bidirectional = False\n",
    "\n",
    "lstm_model = LSTM_LM(vocab_size, embed_size, hidden_size, num_layers, bidirectional)\n",
    "print(lstm_model)"
   ]
  },
  {
   "cell_type": "code",
   "execution_count": 36,
   "metadata": {},
   "outputs": [
    {
     "name": "stdout",
     "output_type": "stream",
     "text": [
      "size of train dataset: 995338\n",
      "size of test dataset: 55296\n",
      "size of val dataset: 55298\n"
     ]
    }
   ],
   "source": [
    "seq_length=20\n",
    "dataset=TextDataset(data_tensor,seq_length)\n",
    "total_size=len(dataset)\n",
    "train_size=int(total_size*0.9)\n",
    "test_size=int(total_size*0.05)\n",
    "val_size=total_size-train_size-test_size\n",
    "train_dataset,val_dataset,test_dataset=random_split(dataset,[train_size,val_size,test_size])\n",
    "\n",
    "train_loader=DataLoader(train_dataset,batch_size=32,shuffle=True)\n",
    "test_loader=DataLoader(test_dataset,batch_size=32,shuffle=False)\n",
    "\n",
    "print(f\"size of train dataset: {len(train_dataset)}\")\n",
    "print(f\"size of test dataset: {len(test_dataset)}\")\n",
    "print(f\"size of val dataset: {len(val_dataset)}\")"
   ]
  },
  {
   "cell_type": "markdown",
   "metadata": {},
   "source": [
    "### 2. Train and Evaluate"
   ]
  },
  {
   "cell_type": "code",
   "execution_count": null,
   "metadata": {},
   "outputs": [
    {
     "name": "stderr",
     "output_type": "stream",
     "text": [
      "2025-03-31 00:59:31,485 - INFO - Starting training with 1 epoch(s), log_interval=100\n"
     ]
    },
    {
     "name": "stdout",
     "output_type": "stream",
     "text": [
      "Training LSTM model...\n"
     ]
    },
    {
     "name": "stderr",
     "output_type": "stream",
     "text": [
      "2025-03-31 00:59:39,997 - INFO - Epoch 1, Batch 100/31105, Batch Loss: 4.9504, Avg Loss So Far: 4.8911\n"
     ]
    },
    {
     "name": "stdout",
     "output_type": "stream",
     "text": [
      "Epoch 1, Batch 100/31105, Batch Loss: 4.9504, Avg Loss So Far: 4.8911\n"
     ]
    },
    {
     "name": "stderr",
     "output_type": "stream",
     "text": [
      "2025-03-31 00:59:48,342 - INFO - Epoch 1, Batch 200/31105, Batch Loss: 4.9493, Avg Loss So Far: 4.9123\n"
     ]
    },
    {
     "name": "stdout",
     "output_type": "stream",
     "text": [
      "Epoch 1, Batch 200/31105, Batch Loss: 4.9493, Avg Loss So Far: 4.9123\n"
     ]
    },
    {
     "name": "stderr",
     "output_type": "stream",
     "text": [
      "2025-03-31 00:59:56,626 - INFO - Epoch 1, Batch 300/31105, Batch Loss: 4.9202, Avg Loss So Far: 4.9277\n"
     ]
    },
    {
     "name": "stdout",
     "output_type": "stream",
     "text": [
      "Epoch 1, Batch 300/31105, Batch Loss: 4.9202, Avg Loss So Far: 4.9277\n"
     ]
    },
    {
     "name": "stderr",
     "output_type": "stream",
     "text": [
      "2025-03-31 01:00:05,031 - INFO - Epoch 1, Batch 400/31105, Batch Loss: 5.0820, Avg Loss So Far: 4.9378\n"
     ]
    },
    {
     "name": "stdout",
     "output_type": "stream",
     "text": [
      "Epoch 1, Batch 400/31105, Batch Loss: 5.0820, Avg Loss So Far: 4.9378\n"
     ]
    },
    {
     "name": "stderr",
     "output_type": "stream",
     "text": [
      "2025-03-31 01:00:13,432 - INFO - Epoch 1, Batch 500/31105, Batch Loss: 5.3582, Avg Loss So Far: 4.9457\n"
     ]
    },
    {
     "name": "stdout",
     "output_type": "stream",
     "text": [
      "Epoch 1, Batch 500/31105, Batch Loss: 5.3582, Avg Loss So Far: 4.9457\n"
     ]
    },
    {
     "name": "stderr",
     "output_type": "stream",
     "text": [
      "2025-03-31 01:00:21,726 - INFO - Epoch 1, Batch 600/31105, Batch Loss: 4.8425, Avg Loss So Far: 4.9517\n"
     ]
    },
    {
     "name": "stdout",
     "output_type": "stream",
     "text": [
      "Epoch 1, Batch 600/31105, Batch Loss: 4.8425, Avg Loss So Far: 4.9517\n"
     ]
    },
    {
     "name": "stderr",
     "output_type": "stream",
     "text": [
      "2025-03-31 01:00:30,071 - INFO - Epoch 1, Batch 700/31105, Batch Loss: 4.9269, Avg Loss So Far: 4.9523\n"
     ]
    },
    {
     "name": "stdout",
     "output_type": "stream",
     "text": [
      "Epoch 1, Batch 700/31105, Batch Loss: 4.9269, Avg Loss So Far: 4.9523\n"
     ]
    },
    {
     "name": "stderr",
     "output_type": "stream",
     "text": [
      "2025-03-31 01:00:38,351 - INFO - Epoch 1, Batch 800/31105, Batch Loss: 5.1466, Avg Loss So Far: 4.9537\n"
     ]
    },
    {
     "name": "stdout",
     "output_type": "stream",
     "text": [
      "Epoch 1, Batch 800/31105, Batch Loss: 5.1466, Avg Loss So Far: 4.9537\n"
     ]
    },
    {
     "name": "stderr",
     "output_type": "stream",
     "text": [
      "2025-03-31 01:00:46,662 - INFO - Epoch 1, Batch 900/31105, Batch Loss: 5.0365, Avg Loss So Far: 4.9484\n"
     ]
    },
    {
     "name": "stdout",
     "output_type": "stream",
     "text": [
      "Epoch 1, Batch 900/31105, Batch Loss: 5.0365, Avg Loss So Far: 4.9484\n"
     ]
    },
    {
     "name": "stderr",
     "output_type": "stream",
     "text": [
      "2025-03-31 01:00:54,959 - INFO - Epoch 1, Batch 1000/31105, Batch Loss: 4.8060, Avg Loss So Far: 4.9453\n"
     ]
    },
    {
     "name": "stdout",
     "output_type": "stream",
     "text": [
      "Epoch 1, Batch 1000/31105, Batch Loss: 4.8060, Avg Loss So Far: 4.9453\n"
     ]
    },
    {
     "name": "stderr",
     "output_type": "stream",
     "text": [
      "2025-03-31 01:01:03,275 - INFO - Epoch 1, Batch 1100/31105, Batch Loss: 4.8941, Avg Loss So Far: 4.9446\n"
     ]
    },
    {
     "name": "stdout",
     "output_type": "stream",
     "text": [
      "Epoch 1, Batch 1100/31105, Batch Loss: 4.8941, Avg Loss So Far: 4.9446\n"
     ]
    },
    {
     "name": "stderr",
     "output_type": "stream",
     "text": [
      "2025-03-31 01:01:11,584 - INFO - Epoch 1, Batch 1200/31105, Batch Loss: 4.8851, Avg Loss So Far: 4.9419\n"
     ]
    },
    {
     "name": "stdout",
     "output_type": "stream",
     "text": [
      "Epoch 1, Batch 1200/31105, Batch Loss: 4.8851, Avg Loss So Far: 4.9419\n"
     ]
    },
    {
     "name": "stderr",
     "output_type": "stream",
     "text": [
      "2025-03-31 01:01:19,867 - INFO - Epoch 1, Batch 1300/31105, Batch Loss: 4.9621, Avg Loss So Far: 4.9390\n"
     ]
    },
    {
     "name": "stdout",
     "output_type": "stream",
     "text": [
      "Epoch 1, Batch 1300/31105, Batch Loss: 4.9621, Avg Loss So Far: 4.9390\n"
     ]
    },
    {
     "name": "stderr",
     "output_type": "stream",
     "text": [
      "2025-03-31 01:01:28,083 - INFO - Epoch 1, Batch 1400/31105, Batch Loss: 4.9756, Avg Loss So Far: 4.9356\n"
     ]
    },
    {
     "name": "stdout",
     "output_type": "stream",
     "text": [
      "Epoch 1, Batch 1400/31105, Batch Loss: 4.9756, Avg Loss So Far: 4.9356\n"
     ]
    },
    {
     "name": "stderr",
     "output_type": "stream",
     "text": [
      "2025-03-31 01:01:36,412 - INFO - Epoch 1, Batch 1500/31105, Batch Loss: 4.8570, Avg Loss So Far: 4.9316\n"
     ]
    },
    {
     "name": "stdout",
     "output_type": "stream",
     "text": [
      "Epoch 1, Batch 1500/31105, Batch Loss: 4.8570, Avg Loss So Far: 4.9316\n"
     ]
    },
    {
     "name": "stderr",
     "output_type": "stream",
     "text": [
      "2025-03-31 01:01:44,669 - INFO - Epoch 1, Batch 1600/31105, Batch Loss: 4.9990, Avg Loss So Far: 4.9287\n"
     ]
    },
    {
     "name": "stdout",
     "output_type": "stream",
     "text": [
      "Epoch 1, Batch 1600/31105, Batch Loss: 4.9990, Avg Loss So Far: 4.9287\n"
     ]
    },
    {
     "name": "stderr",
     "output_type": "stream",
     "text": [
      "2025-03-31 01:01:52,939 - INFO - Epoch 1, Batch 1700/31105, Batch Loss: 4.7833, Avg Loss So Far: 4.9275\n"
     ]
    },
    {
     "name": "stdout",
     "output_type": "stream",
     "text": [
      "Epoch 1, Batch 1700/31105, Batch Loss: 4.7833, Avg Loss So Far: 4.9275\n"
     ]
    },
    {
     "name": "stderr",
     "output_type": "stream",
     "text": [
      "2025-03-31 01:02:01,210 - INFO - Epoch 1, Batch 1800/31105, Batch Loss: 4.8823, Avg Loss So Far: 4.9247\n"
     ]
    },
    {
     "name": "stdout",
     "output_type": "stream",
     "text": [
      "Epoch 1, Batch 1800/31105, Batch Loss: 4.8823, Avg Loss So Far: 4.9247\n"
     ]
    },
    {
     "name": "stderr",
     "output_type": "stream",
     "text": [
      "2025-03-31 01:02:09,517 - INFO - Epoch 1, Batch 1900/31105, Batch Loss: 4.6710, Avg Loss So Far: 4.9212\n"
     ]
    },
    {
     "name": "stdout",
     "output_type": "stream",
     "text": [
      "Epoch 1, Batch 1900/31105, Batch Loss: 4.6710, Avg Loss So Far: 4.9212\n"
     ]
    },
    {
     "name": "stderr",
     "output_type": "stream",
     "text": [
      "2025-03-31 01:02:17,735 - INFO - Epoch 1, Batch 2000/31105, Batch Loss: 4.9188, Avg Loss So Far: 4.9184\n"
     ]
    },
    {
     "name": "stdout",
     "output_type": "stream",
     "text": [
      "Epoch 1, Batch 2000/31105, Batch Loss: 4.9188, Avg Loss So Far: 4.9184\n"
     ]
    },
    {
     "name": "stderr",
     "output_type": "stream",
     "text": [
      "2025-03-31 01:02:26,027 - INFO - Epoch 1, Batch 2100/31105, Batch Loss: 4.7323, Avg Loss So Far: 4.9159\n"
     ]
    },
    {
     "name": "stdout",
     "output_type": "stream",
     "text": [
      "Epoch 1, Batch 2100/31105, Batch Loss: 4.7323, Avg Loss So Far: 4.9159\n"
     ]
    },
    {
     "name": "stderr",
     "output_type": "stream",
     "text": [
      "2025-03-31 01:02:34,316 - INFO - Epoch 1, Batch 2200/31105, Batch Loss: 4.6209, Avg Loss So Far: 4.9117\n"
     ]
    },
    {
     "name": "stdout",
     "output_type": "stream",
     "text": [
      "Epoch 1, Batch 2200/31105, Batch Loss: 4.6209, Avg Loss So Far: 4.9117\n"
     ]
    },
    {
     "name": "stderr",
     "output_type": "stream",
     "text": [
      "2025-03-31 01:02:42,550 - INFO - Epoch 1, Batch 2300/31105, Batch Loss: 4.8778, Avg Loss So Far: 4.9079\n"
     ]
    },
    {
     "name": "stdout",
     "output_type": "stream",
     "text": [
      "Epoch 1, Batch 2300/31105, Batch Loss: 4.8778, Avg Loss So Far: 4.9079\n"
     ]
    },
    {
     "name": "stderr",
     "output_type": "stream",
     "text": [
      "2025-03-31 01:02:50,826 - INFO - Epoch 1, Batch 2400/31105, Batch Loss: 4.6360, Avg Loss So Far: 4.9027\n"
     ]
    },
    {
     "name": "stdout",
     "output_type": "stream",
     "text": [
      "Epoch 1, Batch 2400/31105, Batch Loss: 4.6360, Avg Loss So Far: 4.9027\n"
     ]
    },
    {
     "name": "stderr",
     "output_type": "stream",
     "text": [
      "2025-03-31 01:02:59,176 - INFO - Epoch 1, Batch 2500/31105, Batch Loss: 4.9941, Avg Loss So Far: 4.8977\n"
     ]
    },
    {
     "name": "stdout",
     "output_type": "stream",
     "text": [
      "Epoch 1, Batch 2500/31105, Batch Loss: 4.9941, Avg Loss So Far: 4.8977\n"
     ]
    },
    {
     "name": "stderr",
     "output_type": "stream",
     "text": [
      "2025-03-31 01:03:07,503 - INFO - Epoch 1, Batch 2600/31105, Batch Loss: 4.7224, Avg Loss So Far: 4.8934\n"
     ]
    },
    {
     "name": "stdout",
     "output_type": "stream",
     "text": [
      "Epoch 1, Batch 2600/31105, Batch Loss: 4.7224, Avg Loss So Far: 4.8934\n"
     ]
    },
    {
     "name": "stderr",
     "output_type": "stream",
     "text": [
      "2025-03-31 01:03:15,772 - INFO - Epoch 1, Batch 2700/31105, Batch Loss: 4.8045, Avg Loss So Far: 4.8886\n"
     ]
    },
    {
     "name": "stdout",
     "output_type": "stream",
     "text": [
      "Epoch 1, Batch 2700/31105, Batch Loss: 4.8045, Avg Loss So Far: 4.8886\n"
     ]
    },
    {
     "name": "stderr",
     "output_type": "stream",
     "text": [
      "2025-03-31 01:03:24,119 - INFO - Epoch 1, Batch 2800/31105, Batch Loss: 4.6840, Avg Loss So Far: 4.8837\n"
     ]
    },
    {
     "name": "stdout",
     "output_type": "stream",
     "text": [
      "Epoch 1, Batch 2800/31105, Batch Loss: 4.6840, Avg Loss So Far: 4.8837\n"
     ]
    },
    {
     "name": "stderr",
     "output_type": "stream",
     "text": [
      "2025-03-31 01:03:32,395 - INFO - Epoch 1, Batch 2900/31105, Batch Loss: 4.5436, Avg Loss So Far: 4.8786\n"
     ]
    },
    {
     "name": "stdout",
     "output_type": "stream",
     "text": [
      "Epoch 1, Batch 2900/31105, Batch Loss: 4.5436, Avg Loss So Far: 4.8786\n"
     ]
    },
    {
     "name": "stderr",
     "output_type": "stream",
     "text": [
      "2025-03-31 01:03:40,693 - INFO - Epoch 1, Batch 3000/31105, Batch Loss: 4.8887, Avg Loss So Far: 4.8733\n"
     ]
    },
    {
     "name": "stdout",
     "output_type": "stream",
     "text": [
      "Epoch 1, Batch 3000/31105, Batch Loss: 4.8887, Avg Loss So Far: 4.8733\n"
     ]
    },
    {
     "name": "stderr",
     "output_type": "stream",
     "text": [
      "2025-03-31 01:03:49,052 - INFO - Epoch 1, Batch 3100/31105, Batch Loss: 4.9009, Avg Loss So Far: 4.8682\n"
     ]
    },
    {
     "name": "stdout",
     "output_type": "stream",
     "text": [
      "Epoch 1, Batch 3100/31105, Batch Loss: 4.9009, Avg Loss So Far: 4.8682\n"
     ]
    },
    {
     "name": "stderr",
     "output_type": "stream",
     "text": [
      "2025-03-31 01:03:57,294 - INFO - Epoch 1, Batch 3200/31105, Batch Loss: 4.6709, Avg Loss So Far: 4.8651\n"
     ]
    },
    {
     "name": "stdout",
     "output_type": "stream",
     "text": [
      "Epoch 1, Batch 3200/31105, Batch Loss: 4.6709, Avg Loss So Far: 4.8651\n"
     ]
    },
    {
     "name": "stderr",
     "output_type": "stream",
     "text": [
      "2025-03-31 01:04:05,629 - INFO - Epoch 1, Batch 3300/31105, Batch Loss: 4.7271, Avg Loss So Far: 4.8608\n"
     ]
    },
    {
     "name": "stdout",
     "output_type": "stream",
     "text": [
      "Epoch 1, Batch 3300/31105, Batch Loss: 4.7271, Avg Loss So Far: 4.8608\n"
     ]
    },
    {
     "name": "stderr",
     "output_type": "stream",
     "text": [
      "2025-03-31 01:04:13,940 - INFO - Epoch 1, Batch 3400/31105, Batch Loss: 4.9709, Avg Loss So Far: 4.8565\n"
     ]
    },
    {
     "name": "stdout",
     "output_type": "stream",
     "text": [
      "Epoch 1, Batch 3400/31105, Batch Loss: 4.9709, Avg Loss So Far: 4.8565\n"
     ]
    },
    {
     "name": "stderr",
     "output_type": "stream",
     "text": [
      "2025-03-31 01:04:22,364 - INFO - Epoch 1, Batch 3500/31105, Batch Loss: 4.7616, Avg Loss So Far: 4.8522\n"
     ]
    },
    {
     "name": "stdout",
     "output_type": "stream",
     "text": [
      "Epoch 1, Batch 3500/31105, Batch Loss: 4.7616, Avg Loss So Far: 4.8522\n"
     ]
    },
    {
     "name": "stderr",
     "output_type": "stream",
     "text": [
      "2025-03-31 01:04:30,620 - INFO - Epoch 1, Batch 3600/31105, Batch Loss: 4.5771, Avg Loss So Far: 4.8483\n"
     ]
    },
    {
     "name": "stdout",
     "output_type": "stream",
     "text": [
      "Epoch 1, Batch 3600/31105, Batch Loss: 4.5771, Avg Loss So Far: 4.8483\n"
     ]
    },
    {
     "name": "stderr",
     "output_type": "stream",
     "text": [
      "2025-03-31 01:04:38,974 - INFO - Epoch 1, Batch 3700/31105, Batch Loss: 4.4155, Avg Loss So Far: 4.8443\n"
     ]
    },
    {
     "name": "stdout",
     "output_type": "stream",
     "text": [
      "Epoch 1, Batch 3700/31105, Batch Loss: 4.4155, Avg Loss So Far: 4.8443\n"
     ]
    },
    {
     "name": "stderr",
     "output_type": "stream",
     "text": [
      "2025-03-31 01:04:47,303 - INFO - Epoch 1, Batch 3800/31105, Batch Loss: 4.6196, Avg Loss So Far: 4.8407\n"
     ]
    },
    {
     "name": "stdout",
     "output_type": "stream",
     "text": [
      "Epoch 1, Batch 3800/31105, Batch Loss: 4.6196, Avg Loss So Far: 4.8407\n"
     ]
    },
    {
     "name": "stderr",
     "output_type": "stream",
     "text": [
      "2025-03-31 01:04:55,571 - INFO - Epoch 1, Batch 3900/31105, Batch Loss: 4.5870, Avg Loss So Far: 4.8370\n"
     ]
    },
    {
     "name": "stdout",
     "output_type": "stream",
     "text": [
      "Epoch 1, Batch 3900/31105, Batch Loss: 4.5870, Avg Loss So Far: 4.8370\n"
     ]
    },
    {
     "name": "stderr",
     "output_type": "stream",
     "text": [
      "2025-03-31 01:05:03,918 - INFO - Epoch 1, Batch 4000/31105, Batch Loss: 4.6539, Avg Loss So Far: 4.8329\n"
     ]
    },
    {
     "name": "stdout",
     "output_type": "stream",
     "text": [
      "Epoch 1, Batch 4000/31105, Batch Loss: 4.6539, Avg Loss So Far: 4.8329\n"
     ]
    },
    {
     "name": "stderr",
     "output_type": "stream",
     "text": [
      "2025-03-31 01:05:12,228 - INFO - Epoch 1, Batch 4100/31105, Batch Loss: 4.6061, Avg Loss So Far: 4.8287\n"
     ]
    },
    {
     "name": "stdout",
     "output_type": "stream",
     "text": [
      "Epoch 1, Batch 4100/31105, Batch Loss: 4.6061, Avg Loss So Far: 4.8287\n"
     ]
    },
    {
     "name": "stderr",
     "output_type": "stream",
     "text": [
      "2025-03-31 01:05:20,523 - INFO - Epoch 1, Batch 4200/31105, Batch Loss: 4.6562, Avg Loss So Far: 4.8244\n"
     ]
    },
    {
     "name": "stdout",
     "output_type": "stream",
     "text": [
      "Epoch 1, Batch 4200/31105, Batch Loss: 4.6562, Avg Loss So Far: 4.8244\n"
     ]
    },
    {
     "name": "stderr",
     "output_type": "stream",
     "text": [
      "2025-03-31 01:05:28,868 - INFO - Epoch 1, Batch 4300/31105, Batch Loss: 4.5190, Avg Loss So Far: 4.8195\n"
     ]
    },
    {
     "name": "stdout",
     "output_type": "stream",
     "text": [
      "Epoch 1, Batch 4300/31105, Batch Loss: 4.5190, Avg Loss So Far: 4.8195\n"
     ]
    },
    {
     "name": "stderr",
     "output_type": "stream",
     "text": [
      "2025-03-31 01:05:37,158 - INFO - Epoch 1, Batch 4400/31105, Batch Loss: 4.5397, Avg Loss So Far: 4.8157\n"
     ]
    },
    {
     "name": "stdout",
     "output_type": "stream",
     "text": [
      "Epoch 1, Batch 4400/31105, Batch Loss: 4.5397, Avg Loss So Far: 4.8157\n"
     ]
    },
    {
     "name": "stderr",
     "output_type": "stream",
     "text": [
      "2025-03-31 01:05:45,473 - INFO - Epoch 1, Batch 4500/31105, Batch Loss: 4.4469, Avg Loss So Far: 4.8120\n"
     ]
    },
    {
     "name": "stdout",
     "output_type": "stream",
     "text": [
      "Epoch 1, Batch 4500/31105, Batch Loss: 4.4469, Avg Loss So Far: 4.8120\n"
     ]
    },
    {
     "name": "stderr",
     "output_type": "stream",
     "text": [
      "2025-03-31 01:05:53,782 - INFO - Epoch 1, Batch 4600/31105, Batch Loss: 4.8171, Avg Loss So Far: 4.8079\n"
     ]
    },
    {
     "name": "stdout",
     "output_type": "stream",
     "text": [
      "Epoch 1, Batch 4600/31105, Batch Loss: 4.8171, Avg Loss So Far: 4.8079\n"
     ]
    },
    {
     "name": "stderr",
     "output_type": "stream",
     "text": [
      "2025-03-31 01:06:02,101 - INFO - Epoch 1, Batch 4700/31105, Batch Loss: 4.7810, Avg Loss So Far: 4.8039\n"
     ]
    },
    {
     "name": "stdout",
     "output_type": "stream",
     "text": [
      "Epoch 1, Batch 4700/31105, Batch Loss: 4.7810, Avg Loss So Far: 4.8039\n"
     ]
    },
    {
     "name": "stderr",
     "output_type": "stream",
     "text": [
      "2025-03-31 01:06:10,415 - INFO - Epoch 1, Batch 4800/31105, Batch Loss: 4.6117, Avg Loss So Far: 4.7997\n"
     ]
    },
    {
     "name": "stdout",
     "output_type": "stream",
     "text": [
      "Epoch 1, Batch 4800/31105, Batch Loss: 4.6117, Avg Loss So Far: 4.7997\n"
     ]
    },
    {
     "name": "stderr",
     "output_type": "stream",
     "text": [
      "2025-03-31 01:06:18,774 - INFO - Epoch 1, Batch 4900/31105, Batch Loss: 4.4285, Avg Loss So Far: 4.7958\n"
     ]
    },
    {
     "name": "stdout",
     "output_type": "stream",
     "text": [
      "Epoch 1, Batch 4900/31105, Batch Loss: 4.4285, Avg Loss So Far: 4.7958\n"
     ]
    },
    {
     "name": "stderr",
     "output_type": "stream",
     "text": [
      "2025-03-31 01:06:27,086 - INFO - Epoch 1, Batch 5000/31105, Batch Loss: 4.6649, Avg Loss So Far: 4.7922\n"
     ]
    },
    {
     "name": "stdout",
     "output_type": "stream",
     "text": [
      "Epoch 1, Batch 5000/31105, Batch Loss: 4.6649, Avg Loss So Far: 4.7922\n"
     ]
    },
    {
     "name": "stderr",
     "output_type": "stream",
     "text": [
      "2025-03-31 01:06:35,495 - INFO - Epoch 1, Batch 5100/31105, Batch Loss: 4.4144, Avg Loss So Far: 4.7884\n"
     ]
    },
    {
     "name": "stdout",
     "output_type": "stream",
     "text": [
      "Epoch 1, Batch 5100/31105, Batch Loss: 4.4144, Avg Loss So Far: 4.7884\n"
     ]
    },
    {
     "name": "stderr",
     "output_type": "stream",
     "text": [
      "2025-03-31 01:06:43,776 - INFO - Epoch 1, Batch 5200/31105, Batch Loss: 4.7755, Avg Loss So Far: 4.7844\n"
     ]
    },
    {
     "name": "stdout",
     "output_type": "stream",
     "text": [
      "Epoch 1, Batch 5200/31105, Batch Loss: 4.7755, Avg Loss So Far: 4.7844\n"
     ]
    },
    {
     "name": "stderr",
     "output_type": "stream",
     "text": [
      "2025-03-31 01:06:52,050 - INFO - Epoch 1, Batch 5300/31105, Batch Loss: 4.5058, Avg Loss So Far: 4.7803\n"
     ]
    },
    {
     "name": "stdout",
     "output_type": "stream",
     "text": [
      "Epoch 1, Batch 5300/31105, Batch Loss: 4.5058, Avg Loss So Far: 4.7803\n"
     ]
    },
    {
     "name": "stderr",
     "output_type": "stream",
     "text": [
      "2025-03-31 01:07:00,416 - INFO - Epoch 1, Batch 5400/31105, Batch Loss: 4.5841, Avg Loss So Far: 4.7765\n"
     ]
    },
    {
     "name": "stdout",
     "output_type": "stream",
     "text": [
      "Epoch 1, Batch 5400/31105, Batch Loss: 4.5841, Avg Loss So Far: 4.7765\n"
     ]
    },
    {
     "name": "stderr",
     "output_type": "stream",
     "text": [
      "2025-03-31 01:07:08,801 - INFO - Epoch 1, Batch 5500/31105, Batch Loss: 4.6242, Avg Loss So Far: 4.7722\n"
     ]
    },
    {
     "name": "stdout",
     "output_type": "stream",
     "text": [
      "Epoch 1, Batch 5500/31105, Batch Loss: 4.6242, Avg Loss So Far: 4.7722\n"
     ]
    },
    {
     "name": "stderr",
     "output_type": "stream",
     "text": [
      "2025-03-31 01:07:17,120 - INFO - Epoch 1, Batch 5600/31105, Batch Loss: 4.5750, Avg Loss So Far: 4.7686\n"
     ]
    },
    {
     "name": "stdout",
     "output_type": "stream",
     "text": [
      "Epoch 1, Batch 5600/31105, Batch Loss: 4.5750, Avg Loss So Far: 4.7686\n"
     ]
    },
    {
     "name": "stderr",
     "output_type": "stream",
     "text": [
      "2025-03-31 01:07:25,438 - INFO - Epoch 1, Batch 5700/31105, Batch Loss: 4.3958, Avg Loss So Far: 4.7646\n"
     ]
    },
    {
     "name": "stdout",
     "output_type": "stream",
     "text": [
      "Epoch 1, Batch 5700/31105, Batch Loss: 4.3958, Avg Loss So Far: 4.7646\n"
     ]
    },
    {
     "name": "stderr",
     "output_type": "stream",
     "text": [
      "2025-03-31 01:07:33,803 - INFO - Epoch 1, Batch 5800/31105, Batch Loss: 4.6112, Avg Loss So Far: 4.7611\n"
     ]
    },
    {
     "name": "stdout",
     "output_type": "stream",
     "text": [
      "Epoch 1, Batch 5800/31105, Batch Loss: 4.6112, Avg Loss So Far: 4.7611\n"
     ]
    },
    {
     "name": "stderr",
     "output_type": "stream",
     "text": [
      "2025-03-31 01:07:42,133 - INFO - Epoch 1, Batch 5900/31105, Batch Loss: 4.7126, Avg Loss So Far: 4.7574\n"
     ]
    },
    {
     "name": "stdout",
     "output_type": "stream",
     "text": [
      "Epoch 1, Batch 5900/31105, Batch Loss: 4.7126, Avg Loss So Far: 4.7574\n"
     ]
    },
    {
     "name": "stderr",
     "output_type": "stream",
     "text": [
      "2025-03-31 01:07:50,489 - INFO - Epoch 1, Batch 6000/31105, Batch Loss: 4.7338, Avg Loss So Far: 4.7539\n"
     ]
    },
    {
     "name": "stdout",
     "output_type": "stream",
     "text": [
      "Epoch 1, Batch 6000/31105, Batch Loss: 4.7338, Avg Loss So Far: 4.7539\n"
     ]
    },
    {
     "name": "stderr",
     "output_type": "stream",
     "text": [
      "2025-03-31 01:07:58,859 - INFO - Epoch 1, Batch 6100/31105, Batch Loss: 4.3345, Avg Loss So Far: 4.7502\n"
     ]
    },
    {
     "name": "stdout",
     "output_type": "stream",
     "text": [
      "Epoch 1, Batch 6100/31105, Batch Loss: 4.3345, Avg Loss So Far: 4.7502\n"
     ]
    },
    {
     "name": "stderr",
     "output_type": "stream",
     "text": [
      "2025-03-31 01:08:07,178 - INFO - Epoch 1, Batch 6200/31105, Batch Loss: 4.4476, Avg Loss So Far: 4.7465\n"
     ]
    },
    {
     "name": "stdout",
     "output_type": "stream",
     "text": [
      "Epoch 1, Batch 6200/31105, Batch Loss: 4.4476, Avg Loss So Far: 4.7465\n"
     ]
    },
    {
     "name": "stderr",
     "output_type": "stream",
     "text": [
      "2025-03-31 01:08:15,556 - INFO - Epoch 1, Batch 6300/31105, Batch Loss: 4.5515, Avg Loss So Far: 4.7427\n"
     ]
    },
    {
     "name": "stdout",
     "output_type": "stream",
     "text": [
      "Epoch 1, Batch 6300/31105, Batch Loss: 4.5515, Avg Loss So Far: 4.7427\n"
     ]
    },
    {
     "name": "stderr",
     "output_type": "stream",
     "text": [
      "2025-03-31 01:08:23,865 - INFO - Epoch 1, Batch 6400/31105, Batch Loss: 4.5781, Avg Loss So Far: 4.7391\n"
     ]
    },
    {
     "name": "stdout",
     "output_type": "stream",
     "text": [
      "Epoch 1, Batch 6400/31105, Batch Loss: 4.5781, Avg Loss So Far: 4.7391\n"
     ]
    },
    {
     "name": "stderr",
     "output_type": "stream",
     "text": [
      "2025-03-31 01:08:32,283 - INFO - Epoch 1, Batch 6500/31105, Batch Loss: 4.4688, Avg Loss So Far: 4.7357\n"
     ]
    },
    {
     "name": "stdout",
     "output_type": "stream",
     "text": [
      "Epoch 1, Batch 6500/31105, Batch Loss: 4.4688, Avg Loss So Far: 4.7357\n"
     ]
    },
    {
     "name": "stderr",
     "output_type": "stream",
     "text": [
      "2025-03-31 01:08:40,661 - INFO - Epoch 1, Batch 6600/31105, Batch Loss: 4.2918, Avg Loss So Far: 4.7319\n"
     ]
    },
    {
     "name": "stdout",
     "output_type": "stream",
     "text": [
      "Epoch 1, Batch 6600/31105, Batch Loss: 4.2918, Avg Loss So Far: 4.7319\n"
     ]
    },
    {
     "name": "stderr",
     "output_type": "stream",
     "text": [
      "2025-03-31 01:08:49,013 - INFO - Epoch 1, Batch 6700/31105, Batch Loss: 4.6358, Avg Loss So Far: 4.7285\n"
     ]
    },
    {
     "name": "stdout",
     "output_type": "stream",
     "text": [
      "Epoch 1, Batch 6700/31105, Batch Loss: 4.6358, Avg Loss So Far: 4.7285\n"
     ]
    },
    {
     "name": "stderr",
     "output_type": "stream",
     "text": [
      "2025-03-31 01:08:57,301 - INFO - Epoch 1, Batch 6800/31105, Batch Loss: 4.4362, Avg Loss So Far: 4.7250\n"
     ]
    },
    {
     "name": "stdout",
     "output_type": "stream",
     "text": [
      "Epoch 1, Batch 6800/31105, Batch Loss: 4.4362, Avg Loss So Far: 4.7250\n"
     ]
    },
    {
     "name": "stderr",
     "output_type": "stream",
     "text": [
      "2025-03-31 01:09:05,625 - INFO - Epoch 1, Batch 6900/31105, Batch Loss: 4.4025, Avg Loss So Far: 4.7212\n"
     ]
    },
    {
     "name": "stdout",
     "output_type": "stream",
     "text": [
      "Epoch 1, Batch 6900/31105, Batch Loss: 4.4025, Avg Loss So Far: 4.7212\n"
     ]
    },
    {
     "name": "stderr",
     "output_type": "stream",
     "text": [
      "2025-03-31 01:09:13,890 - INFO - Epoch 1, Batch 7000/31105, Batch Loss: 4.6693, Avg Loss So Far: 4.7176\n"
     ]
    },
    {
     "name": "stdout",
     "output_type": "stream",
     "text": [
      "Epoch 1, Batch 7000/31105, Batch Loss: 4.6693, Avg Loss So Far: 4.7176\n"
     ]
    },
    {
     "name": "stderr",
     "output_type": "stream",
     "text": [
      "2025-03-31 01:09:22,264 - INFO - Epoch 1, Batch 7100/31105, Batch Loss: 4.3632, Avg Loss So Far: 4.7138\n"
     ]
    },
    {
     "name": "stdout",
     "output_type": "stream",
     "text": [
      "Epoch 1, Batch 7100/31105, Batch Loss: 4.3632, Avg Loss So Far: 4.7138\n"
     ]
    },
    {
     "name": "stderr",
     "output_type": "stream",
     "text": [
      "2025-03-31 01:09:30,662 - INFO - Epoch 1, Batch 7200/31105, Batch Loss: 4.3095, Avg Loss So Far: 4.7101\n"
     ]
    },
    {
     "name": "stdout",
     "output_type": "stream",
     "text": [
      "Epoch 1, Batch 7200/31105, Batch Loss: 4.3095, Avg Loss So Far: 4.7101\n"
     ]
    },
    {
     "name": "stderr",
     "output_type": "stream",
     "text": [
      "2025-03-31 01:09:39,015 - INFO - Epoch 1, Batch 7300/31105, Batch Loss: 4.5820, Avg Loss So Far: 4.7067\n"
     ]
    },
    {
     "name": "stdout",
     "output_type": "stream",
     "text": [
      "Epoch 1, Batch 7300/31105, Batch Loss: 4.5820, Avg Loss So Far: 4.7067\n"
     ]
    },
    {
     "name": "stderr",
     "output_type": "stream",
     "text": [
      "2025-03-31 01:09:47,334 - INFO - Epoch 1, Batch 7400/31105, Batch Loss: 4.2226, Avg Loss So Far: 4.7032\n"
     ]
    },
    {
     "name": "stdout",
     "output_type": "stream",
     "text": [
      "Epoch 1, Batch 7400/31105, Batch Loss: 4.2226, Avg Loss So Far: 4.7032\n"
     ]
    },
    {
     "name": "stderr",
     "output_type": "stream",
     "text": [
      "2025-03-31 01:09:55,717 - INFO - Epoch 1, Batch 7500/31105, Batch Loss: 4.6617, Avg Loss So Far: 4.6998\n"
     ]
    },
    {
     "name": "stdout",
     "output_type": "stream",
     "text": [
      "Epoch 1, Batch 7500/31105, Batch Loss: 4.6617, Avg Loss So Far: 4.6998\n"
     ]
    },
    {
     "name": "stderr",
     "output_type": "stream",
     "text": [
      "2025-03-31 01:10:04,071 - INFO - Epoch 1, Batch 7600/31105, Batch Loss: 4.4370, Avg Loss So Far: 4.6962\n"
     ]
    },
    {
     "name": "stdout",
     "output_type": "stream",
     "text": [
      "Epoch 1, Batch 7600/31105, Batch Loss: 4.4370, Avg Loss So Far: 4.6962\n"
     ]
    },
    {
     "name": "stderr",
     "output_type": "stream",
     "text": [
      "2025-03-31 01:10:12,416 - INFO - Epoch 1, Batch 7700/31105, Batch Loss: 4.1827, Avg Loss So Far: 4.6930\n"
     ]
    },
    {
     "name": "stdout",
     "output_type": "stream",
     "text": [
      "Epoch 1, Batch 7700/31105, Batch Loss: 4.1827, Avg Loss So Far: 4.6930\n"
     ]
    },
    {
     "name": "stderr",
     "output_type": "stream",
     "text": [
      "2025-03-31 01:10:20,766 - INFO - Epoch 1, Batch 7800/31105, Batch Loss: 4.4701, Avg Loss So Far: 4.6894\n"
     ]
    },
    {
     "name": "stdout",
     "output_type": "stream",
     "text": [
      "Epoch 1, Batch 7800/31105, Batch Loss: 4.4701, Avg Loss So Far: 4.6894\n"
     ]
    },
    {
     "name": "stderr",
     "output_type": "stream",
     "text": [
      "2025-03-31 01:10:29,107 - INFO - Epoch 1, Batch 7900/31105, Batch Loss: 4.3093, Avg Loss So Far: 4.6859\n"
     ]
    },
    {
     "name": "stdout",
     "output_type": "stream",
     "text": [
      "Epoch 1, Batch 7900/31105, Batch Loss: 4.3093, Avg Loss So Far: 4.6859\n"
     ]
    },
    {
     "name": "stderr",
     "output_type": "stream",
     "text": [
      "2025-03-31 01:10:37,436 - INFO - Epoch 1, Batch 8000/31105, Batch Loss: 4.3649, Avg Loss So Far: 4.6822\n"
     ]
    },
    {
     "name": "stdout",
     "output_type": "stream",
     "text": [
      "Epoch 1, Batch 8000/31105, Batch Loss: 4.3649, Avg Loss So Far: 4.6822\n"
     ]
    },
    {
     "name": "stderr",
     "output_type": "stream",
     "text": [
      "2025-03-31 01:10:45,800 - INFO - Epoch 1, Batch 8100/31105, Batch Loss: 4.5317, Avg Loss So Far: 4.6786\n"
     ]
    },
    {
     "name": "stdout",
     "output_type": "stream",
     "text": [
      "Epoch 1, Batch 8100/31105, Batch Loss: 4.5317, Avg Loss So Far: 4.6786\n"
     ]
    },
    {
     "name": "stderr",
     "output_type": "stream",
     "text": [
      "2025-03-31 01:10:54,062 - INFO - Epoch 1, Batch 8200/31105, Batch Loss: 4.3855, Avg Loss So Far: 4.6752\n"
     ]
    },
    {
     "name": "stdout",
     "output_type": "stream",
     "text": [
      "Epoch 1, Batch 8200/31105, Batch Loss: 4.3855, Avg Loss So Far: 4.6752\n"
     ]
    },
    {
     "name": "stderr",
     "output_type": "stream",
     "text": [
      "2025-03-31 01:11:02,360 - INFO - Epoch 1, Batch 8300/31105, Batch Loss: 4.3063, Avg Loss So Far: 4.6717\n"
     ]
    },
    {
     "name": "stdout",
     "output_type": "stream",
     "text": [
      "Epoch 1, Batch 8300/31105, Batch Loss: 4.3063, Avg Loss So Far: 4.6717\n"
     ]
    },
    {
     "name": "stderr",
     "output_type": "stream",
     "text": [
      "2025-03-31 01:11:10,733 - INFO - Epoch 1, Batch 8400/31105, Batch Loss: 4.2643, Avg Loss So Far: 4.6684\n"
     ]
    },
    {
     "name": "stdout",
     "output_type": "stream",
     "text": [
      "Epoch 1, Batch 8400/31105, Batch Loss: 4.2643, Avg Loss So Far: 4.6684\n"
     ]
    },
    {
     "name": "stderr",
     "output_type": "stream",
     "text": [
      "2025-03-31 01:11:19,125 - INFO - Epoch 1, Batch 8500/31105, Batch Loss: 4.4088, Avg Loss So Far: 4.6649\n"
     ]
    },
    {
     "name": "stdout",
     "output_type": "stream",
     "text": [
      "Epoch 1, Batch 8500/31105, Batch Loss: 4.4088, Avg Loss So Far: 4.6649\n"
     ]
    },
    {
     "name": "stderr",
     "output_type": "stream",
     "text": [
      "2025-03-31 01:11:27,433 - INFO - Epoch 1, Batch 8600/31105, Batch Loss: 4.2721, Avg Loss So Far: 4.6615\n"
     ]
    },
    {
     "name": "stdout",
     "output_type": "stream",
     "text": [
      "Epoch 1, Batch 8600/31105, Batch Loss: 4.2721, Avg Loss So Far: 4.6615\n"
     ]
    },
    {
     "name": "stderr",
     "output_type": "stream",
     "text": [
      "2025-03-31 01:11:35,783 - INFO - Epoch 1, Batch 8700/31105, Batch Loss: 4.3399, Avg Loss So Far: 4.6582\n"
     ]
    },
    {
     "name": "stdout",
     "output_type": "stream",
     "text": [
      "Epoch 1, Batch 8700/31105, Batch Loss: 4.3399, Avg Loss So Far: 4.6582\n"
     ]
    },
    {
     "name": "stderr",
     "output_type": "stream",
     "text": [
      "2025-03-31 01:11:44,113 - INFO - Epoch 1, Batch 8800/31105, Batch Loss: 4.3454, Avg Loss So Far: 4.6551\n"
     ]
    },
    {
     "name": "stdout",
     "output_type": "stream",
     "text": [
      "Epoch 1, Batch 8800/31105, Batch Loss: 4.3454, Avg Loss So Far: 4.6551\n"
     ]
    },
    {
     "name": "stderr",
     "output_type": "stream",
     "text": [
      "2025-03-31 01:11:52,528 - INFO - Epoch 1, Batch 8900/31105, Batch Loss: 4.5054, Avg Loss So Far: 4.6519\n"
     ]
    },
    {
     "name": "stdout",
     "output_type": "stream",
     "text": [
      "Epoch 1, Batch 8900/31105, Batch Loss: 4.5054, Avg Loss So Far: 4.6519\n"
     ]
    },
    {
     "name": "stderr",
     "output_type": "stream",
     "text": [
      "2025-03-31 01:12:00,893 - INFO - Epoch 1, Batch 9000/31105, Batch Loss: 4.3190, Avg Loss So Far: 4.6487\n"
     ]
    },
    {
     "name": "stdout",
     "output_type": "stream",
     "text": [
      "Epoch 1, Batch 9000/31105, Batch Loss: 4.3190, Avg Loss So Far: 4.6487\n"
     ]
    },
    {
     "name": "stderr",
     "output_type": "stream",
     "text": [
      "2025-03-31 01:12:09,273 - INFO - Epoch 1, Batch 9100/31105, Batch Loss: 4.2369, Avg Loss So Far: 4.6453\n"
     ]
    },
    {
     "name": "stdout",
     "output_type": "stream",
     "text": [
      "Epoch 1, Batch 9100/31105, Batch Loss: 4.2369, Avg Loss So Far: 4.6453\n"
     ]
    },
    {
     "name": "stderr",
     "output_type": "stream",
     "text": [
      "2025-03-31 01:12:17,609 - INFO - Epoch 1, Batch 9200/31105, Batch Loss: 4.2226, Avg Loss So Far: 4.6421\n"
     ]
    },
    {
     "name": "stdout",
     "output_type": "stream",
     "text": [
      "Epoch 1, Batch 9200/31105, Batch Loss: 4.2226, Avg Loss So Far: 4.6421\n"
     ]
    },
    {
     "name": "stderr",
     "output_type": "stream",
     "text": [
      "2025-03-31 01:12:25,887 - INFO - Epoch 1, Batch 9300/31105, Batch Loss: 4.2611, Avg Loss So Far: 4.6390\n"
     ]
    },
    {
     "name": "stdout",
     "output_type": "stream",
     "text": [
      "Epoch 1, Batch 9300/31105, Batch Loss: 4.2611, Avg Loss So Far: 4.6390\n"
     ]
    },
    {
     "name": "stderr",
     "output_type": "stream",
     "text": [
      "2025-03-31 01:12:34,202 - INFO - Epoch 1, Batch 9400/31105, Batch Loss: 4.4281, Avg Loss So Far: 4.6357\n"
     ]
    },
    {
     "name": "stdout",
     "output_type": "stream",
     "text": [
      "Epoch 1, Batch 9400/31105, Batch Loss: 4.4281, Avg Loss So Far: 4.6357\n"
     ]
    },
    {
     "name": "stderr",
     "output_type": "stream",
     "text": [
      "2025-03-31 01:12:42,589 - INFO - Epoch 1, Batch 9500/31105, Batch Loss: 4.2845, Avg Loss So Far: 4.6324\n"
     ]
    },
    {
     "name": "stdout",
     "output_type": "stream",
     "text": [
      "Epoch 1, Batch 9500/31105, Batch Loss: 4.2845, Avg Loss So Far: 4.6324\n"
     ]
    },
    {
     "name": "stderr",
     "output_type": "stream",
     "text": [
      "2025-03-31 01:12:50,979 - INFO - Epoch 1, Batch 9600/31105, Batch Loss: 4.2548, Avg Loss So Far: 4.6292\n"
     ]
    },
    {
     "name": "stdout",
     "output_type": "stream",
     "text": [
      "Epoch 1, Batch 9600/31105, Batch Loss: 4.2548, Avg Loss So Far: 4.6292\n"
     ]
    },
    {
     "name": "stderr",
     "output_type": "stream",
     "text": [
      "2025-03-31 01:12:59,312 - INFO - Epoch 1, Batch 9700/31105, Batch Loss: 4.3166, Avg Loss So Far: 4.6261\n"
     ]
    },
    {
     "name": "stdout",
     "output_type": "stream",
     "text": [
      "Epoch 1, Batch 9700/31105, Batch Loss: 4.3166, Avg Loss So Far: 4.6261\n"
     ]
    },
    {
     "name": "stderr",
     "output_type": "stream",
     "text": [
      "2025-03-31 01:13:07,624 - INFO - Epoch 1, Batch 9800/31105, Batch Loss: 4.3931, Avg Loss So Far: 4.6227\n"
     ]
    },
    {
     "name": "stdout",
     "output_type": "stream",
     "text": [
      "Epoch 1, Batch 9800/31105, Batch Loss: 4.3931, Avg Loss So Far: 4.6227\n"
     ]
    },
    {
     "name": "stderr",
     "output_type": "stream",
     "text": [
      "2025-03-31 01:13:15,988 - INFO - Epoch 1, Batch 9900/31105, Batch Loss: 4.3887, Avg Loss So Far: 4.6195\n"
     ]
    },
    {
     "name": "stdout",
     "output_type": "stream",
     "text": [
      "Epoch 1, Batch 9900/31105, Batch Loss: 4.3887, Avg Loss So Far: 4.6195\n"
     ]
    },
    {
     "name": "stderr",
     "output_type": "stream",
     "text": [
      "2025-03-31 01:13:24,328 - INFO - Epoch 1, Batch 10000/31105, Batch Loss: 4.2633, Avg Loss So Far: 4.6163\n"
     ]
    },
    {
     "name": "stdout",
     "output_type": "stream",
     "text": [
      "Epoch 1, Batch 10000/31105, Batch Loss: 4.2633, Avg Loss So Far: 4.6163\n"
     ]
    },
    {
     "name": "stderr",
     "output_type": "stream",
     "text": [
      "2025-03-31 01:13:32,688 - INFO - Epoch 1, Batch 10100/31105, Batch Loss: 4.1573, Avg Loss So Far: 4.6130\n"
     ]
    },
    {
     "name": "stdout",
     "output_type": "stream",
     "text": [
      "Epoch 1, Batch 10100/31105, Batch Loss: 4.1573, Avg Loss So Far: 4.6130\n"
     ]
    },
    {
     "name": "stderr",
     "output_type": "stream",
     "text": [
      "2025-03-31 01:13:41,043 - INFO - Epoch 1, Batch 10200/31105, Batch Loss: 4.2948, Avg Loss So Far: 4.6097\n"
     ]
    },
    {
     "name": "stdout",
     "output_type": "stream",
     "text": [
      "Epoch 1, Batch 10200/31105, Batch Loss: 4.2948, Avg Loss So Far: 4.6097\n"
     ]
    },
    {
     "name": "stderr",
     "output_type": "stream",
     "text": [
      "2025-03-31 01:13:49,402 - INFO - Epoch 1, Batch 10300/31105, Batch Loss: 4.2620, Avg Loss So Far: 4.6066\n"
     ]
    },
    {
     "name": "stdout",
     "output_type": "stream",
     "text": [
      "Epoch 1, Batch 10300/31105, Batch Loss: 4.2620, Avg Loss So Far: 4.6066\n"
     ]
    },
    {
     "name": "stderr",
     "output_type": "stream",
     "text": [
      "2025-03-31 01:13:57,715 - INFO - Epoch 1, Batch 10400/31105, Batch Loss: 4.3141, Avg Loss So Far: 4.6033\n"
     ]
    },
    {
     "name": "stdout",
     "output_type": "stream",
     "text": [
      "Epoch 1, Batch 10400/31105, Batch Loss: 4.3141, Avg Loss So Far: 4.6033\n"
     ]
    },
    {
     "name": "stderr",
     "output_type": "stream",
     "text": [
      "2025-03-31 01:14:06,006 - INFO - Epoch 1, Batch 10500/31105, Batch Loss: 4.2225, Avg Loss So Far: 4.6003\n"
     ]
    },
    {
     "name": "stdout",
     "output_type": "stream",
     "text": [
      "Epoch 1, Batch 10500/31105, Batch Loss: 4.2225, Avg Loss So Far: 4.6003\n"
     ]
    },
    {
     "name": "stderr",
     "output_type": "stream",
     "text": [
      "2025-03-31 01:14:14,393 - INFO - Epoch 1, Batch 10600/31105, Batch Loss: 4.1906, Avg Loss So Far: 4.5974\n"
     ]
    },
    {
     "name": "stdout",
     "output_type": "stream",
     "text": [
      "Epoch 1, Batch 10600/31105, Batch Loss: 4.1906, Avg Loss So Far: 4.5974\n"
     ]
    },
    {
     "name": "stderr",
     "output_type": "stream",
     "text": [
      "2025-03-31 01:14:22,736 - INFO - Epoch 1, Batch 10700/31105, Batch Loss: 4.1236, Avg Loss So Far: 4.5943\n"
     ]
    },
    {
     "name": "stdout",
     "output_type": "stream",
     "text": [
      "Epoch 1, Batch 10700/31105, Batch Loss: 4.1236, Avg Loss So Far: 4.5943\n"
     ]
    },
    {
     "name": "stderr",
     "output_type": "stream",
     "text": [
      "2025-03-31 01:14:31,076 - INFO - Epoch 1, Batch 10800/31105, Batch Loss: 4.0717, Avg Loss So Far: 4.5912\n"
     ]
    },
    {
     "name": "stdout",
     "output_type": "stream",
     "text": [
      "Epoch 1, Batch 10800/31105, Batch Loss: 4.0717, Avg Loss So Far: 4.5912\n"
     ]
    },
    {
     "name": "stderr",
     "output_type": "stream",
     "text": [
      "2025-03-31 01:14:39,372 - INFO - Epoch 1, Batch 10900/31105, Batch Loss: 4.4219, Avg Loss So Far: 4.5879\n"
     ]
    },
    {
     "name": "stdout",
     "output_type": "stream",
     "text": [
      "Epoch 1, Batch 10900/31105, Batch Loss: 4.4219, Avg Loss So Far: 4.5879\n"
     ]
    },
    {
     "name": "stderr",
     "output_type": "stream",
     "text": [
      "2025-03-31 01:14:47,726 - INFO - Epoch 1, Batch 11000/31105, Batch Loss: 4.0776, Avg Loss So Far: 4.5848\n"
     ]
    },
    {
     "name": "stdout",
     "output_type": "stream",
     "text": [
      "Epoch 1, Batch 11000/31105, Batch Loss: 4.0776, Avg Loss So Far: 4.5848\n"
     ]
    },
    {
     "name": "stderr",
     "output_type": "stream",
     "text": [
      "2025-03-31 01:14:56,128 - INFO - Epoch 1, Batch 11100/31105, Batch Loss: 4.0886, Avg Loss So Far: 4.5816\n"
     ]
    },
    {
     "name": "stdout",
     "output_type": "stream",
     "text": [
      "Epoch 1, Batch 11100/31105, Batch Loss: 4.0886, Avg Loss So Far: 4.5816\n"
     ]
    },
    {
     "name": "stderr",
     "output_type": "stream",
     "text": [
      "2025-03-31 01:15:04,411 - INFO - Epoch 1, Batch 11200/31105, Batch Loss: 4.3876, Avg Loss So Far: 4.5786\n"
     ]
    },
    {
     "name": "stdout",
     "output_type": "stream",
     "text": [
      "Epoch 1, Batch 11200/31105, Batch Loss: 4.3876, Avg Loss So Far: 4.5786\n"
     ]
    },
    {
     "name": "stderr",
     "output_type": "stream",
     "text": [
      "2025-03-31 01:15:12,752 - INFO - Epoch 1, Batch 11300/31105, Batch Loss: 4.1939, Avg Loss So Far: 4.5755\n"
     ]
    },
    {
     "name": "stdout",
     "output_type": "stream",
     "text": [
      "Epoch 1, Batch 11300/31105, Batch Loss: 4.1939, Avg Loss So Far: 4.5755\n"
     ]
    },
    {
     "name": "stderr",
     "output_type": "stream",
     "text": [
      "2025-03-31 01:15:21,063 - INFO - Epoch 1, Batch 11400/31105, Batch Loss: 4.2010, Avg Loss So Far: 4.5726\n"
     ]
    },
    {
     "name": "stdout",
     "output_type": "stream",
     "text": [
      "Epoch 1, Batch 11400/31105, Batch Loss: 4.2010, Avg Loss So Far: 4.5726\n"
     ]
    },
    {
     "name": "stderr",
     "output_type": "stream",
     "text": [
      "2025-03-31 01:15:29,383 - INFO - Epoch 1, Batch 11500/31105, Batch Loss: 4.0540, Avg Loss So Far: 4.5696\n"
     ]
    },
    {
     "name": "stdout",
     "output_type": "stream",
     "text": [
      "Epoch 1, Batch 11500/31105, Batch Loss: 4.0540, Avg Loss So Far: 4.5696\n"
     ]
    },
    {
     "name": "stderr",
     "output_type": "stream",
     "text": [
      "2025-03-31 01:15:37,783 - INFO - Epoch 1, Batch 11600/31105, Batch Loss: 4.2882, Avg Loss So Far: 4.5665\n"
     ]
    },
    {
     "name": "stdout",
     "output_type": "stream",
     "text": [
      "Epoch 1, Batch 11600/31105, Batch Loss: 4.2882, Avg Loss So Far: 4.5665\n"
     ]
    },
    {
     "name": "stderr",
     "output_type": "stream",
     "text": [
      "2025-03-31 01:15:46,153 - INFO - Epoch 1, Batch 11700/31105, Batch Loss: 4.2423, Avg Loss So Far: 4.5634\n"
     ]
    },
    {
     "name": "stdout",
     "output_type": "stream",
     "text": [
      "Epoch 1, Batch 11700/31105, Batch Loss: 4.2423, Avg Loss So Far: 4.5634\n"
     ]
    },
    {
     "name": "stderr",
     "output_type": "stream",
     "text": [
      "2025-03-31 01:15:54,493 - INFO - Epoch 1, Batch 11800/31105, Batch Loss: 4.1463, Avg Loss So Far: 4.5605\n"
     ]
    },
    {
     "name": "stdout",
     "output_type": "stream",
     "text": [
      "Epoch 1, Batch 11800/31105, Batch Loss: 4.1463, Avg Loss So Far: 4.5605\n"
     ]
    },
    {
     "name": "stderr",
     "output_type": "stream",
     "text": [
      "2025-03-31 01:16:02,791 - INFO - Epoch 1, Batch 11900/31105, Batch Loss: 4.0562, Avg Loss So Far: 4.5574\n"
     ]
    },
    {
     "name": "stdout",
     "output_type": "stream",
     "text": [
      "Epoch 1, Batch 11900/31105, Batch Loss: 4.0562, Avg Loss So Far: 4.5574\n"
     ]
    },
    {
     "name": "stderr",
     "output_type": "stream",
     "text": [
      "2025-03-31 01:16:11,140 - INFO - Epoch 1, Batch 12000/31105, Batch Loss: 4.1995, Avg Loss So Far: 4.5544\n"
     ]
    },
    {
     "name": "stdout",
     "output_type": "stream",
     "text": [
      "Epoch 1, Batch 12000/31105, Batch Loss: 4.1995, Avg Loss So Far: 4.5544\n"
     ]
    },
    {
     "name": "stderr",
     "output_type": "stream",
     "text": [
      "2025-03-31 01:16:19,424 - INFO - Epoch 1, Batch 12100/31105, Batch Loss: 3.9764, Avg Loss So Far: 4.5515\n"
     ]
    },
    {
     "name": "stdout",
     "output_type": "stream",
     "text": [
      "Epoch 1, Batch 12100/31105, Batch Loss: 3.9764, Avg Loss So Far: 4.5515\n"
     ]
    },
    {
     "name": "stderr",
     "output_type": "stream",
     "text": [
      "2025-03-31 01:16:27,802 - INFO - Epoch 1, Batch 12200/31105, Batch Loss: 4.0067, Avg Loss So Far: 4.5486\n"
     ]
    },
    {
     "name": "stdout",
     "output_type": "stream",
     "text": [
      "Epoch 1, Batch 12200/31105, Batch Loss: 4.0067, Avg Loss So Far: 4.5486\n"
     ]
    },
    {
     "name": "stderr",
     "output_type": "stream",
     "text": [
      "2025-03-31 01:16:36,170 - INFO - Epoch 1, Batch 12300/31105, Batch Loss: 4.2747, Avg Loss So Far: 4.5456\n"
     ]
    },
    {
     "name": "stdout",
     "output_type": "stream",
     "text": [
      "Epoch 1, Batch 12300/31105, Batch Loss: 4.2747, Avg Loss So Far: 4.5456\n"
     ]
    },
    {
     "name": "stderr",
     "output_type": "stream",
     "text": [
      "2025-03-31 01:16:44,566 - INFO - Epoch 1, Batch 12400/31105, Batch Loss: 4.3256, Avg Loss So Far: 4.5426\n"
     ]
    },
    {
     "name": "stdout",
     "output_type": "stream",
     "text": [
      "Epoch 1, Batch 12400/31105, Batch Loss: 4.3256, Avg Loss So Far: 4.5426\n"
     ]
    },
    {
     "name": "stderr",
     "output_type": "stream",
     "text": [
      "2025-03-31 01:16:52,840 - INFO - Epoch 1, Batch 12500/31105, Batch Loss: 4.1093, Avg Loss So Far: 4.5396\n"
     ]
    },
    {
     "name": "stdout",
     "output_type": "stream",
     "text": [
      "Epoch 1, Batch 12500/31105, Batch Loss: 4.1093, Avg Loss So Far: 4.5396\n"
     ]
    },
    {
     "name": "stderr",
     "output_type": "stream",
     "text": [
      "2025-03-31 01:17:01,142 - INFO - Epoch 1, Batch 12600/31105, Batch Loss: 4.2080, Avg Loss So Far: 4.5367\n"
     ]
    },
    {
     "name": "stdout",
     "output_type": "stream",
     "text": [
      "Epoch 1, Batch 12600/31105, Batch Loss: 4.2080, Avg Loss So Far: 4.5367\n"
     ]
    },
    {
     "name": "stderr",
     "output_type": "stream",
     "text": [
      "2025-03-31 01:17:09,481 - INFO - Epoch 1, Batch 12700/31105, Batch Loss: 4.0519, Avg Loss So Far: 4.5337\n"
     ]
    },
    {
     "name": "stdout",
     "output_type": "stream",
     "text": [
      "Epoch 1, Batch 12700/31105, Batch Loss: 4.0519, Avg Loss So Far: 4.5337\n"
     ]
    },
    {
     "name": "stderr",
     "output_type": "stream",
     "text": [
      "2025-03-31 01:17:17,826 - INFO - Epoch 1, Batch 12800/31105, Batch Loss: 4.0651, Avg Loss So Far: 4.5308\n"
     ]
    },
    {
     "name": "stdout",
     "output_type": "stream",
     "text": [
      "Epoch 1, Batch 12800/31105, Batch Loss: 4.0651, Avg Loss So Far: 4.5308\n"
     ]
    },
    {
     "name": "stderr",
     "output_type": "stream",
     "text": [
      "2025-03-31 01:17:26,171 - INFO - Epoch 1, Batch 12900/31105, Batch Loss: 4.1428, Avg Loss So Far: 4.5279\n"
     ]
    },
    {
     "name": "stdout",
     "output_type": "stream",
     "text": [
      "Epoch 1, Batch 12900/31105, Batch Loss: 4.1428, Avg Loss So Far: 4.5279\n"
     ]
    },
    {
     "name": "stderr",
     "output_type": "stream",
     "text": [
      "2025-03-31 01:17:34,568 - INFO - Epoch 1, Batch 13000/31105, Batch Loss: 4.1354, Avg Loss So Far: 4.5252\n"
     ]
    },
    {
     "name": "stdout",
     "output_type": "stream",
     "text": [
      "Epoch 1, Batch 13000/31105, Batch Loss: 4.1354, Avg Loss So Far: 4.5252\n"
     ]
    },
    {
     "name": "stderr",
     "output_type": "stream",
     "text": [
      "2025-03-31 01:17:42,893 - INFO - Epoch 1, Batch 13100/31105, Batch Loss: 4.3473, Avg Loss So Far: 4.5225\n"
     ]
    },
    {
     "name": "stdout",
     "output_type": "stream",
     "text": [
      "Epoch 1, Batch 13100/31105, Batch Loss: 4.3473, Avg Loss So Far: 4.5225\n"
     ]
    },
    {
     "name": "stderr",
     "output_type": "stream",
     "text": [
      "2025-03-31 01:17:51,230 - INFO - Epoch 1, Batch 13200/31105, Batch Loss: 4.0451, Avg Loss So Far: 4.5196\n"
     ]
    },
    {
     "name": "stdout",
     "output_type": "stream",
     "text": [
      "Epoch 1, Batch 13200/31105, Batch Loss: 4.0451, Avg Loss So Far: 4.5196\n"
     ]
    },
    {
     "name": "stderr",
     "output_type": "stream",
     "text": [
      "2025-03-31 01:17:59,570 - INFO - Epoch 1, Batch 13300/31105, Batch Loss: 4.0339, Avg Loss So Far: 4.5170\n"
     ]
    },
    {
     "name": "stdout",
     "output_type": "stream",
     "text": [
      "Epoch 1, Batch 13300/31105, Batch Loss: 4.0339, Avg Loss So Far: 4.5170\n"
     ]
    },
    {
     "name": "stderr",
     "output_type": "stream",
     "text": [
      "2025-03-31 01:18:07,979 - INFO - Epoch 1, Batch 13400/31105, Batch Loss: 4.2170, Avg Loss So Far: 4.5141\n"
     ]
    },
    {
     "name": "stdout",
     "output_type": "stream",
     "text": [
      "Epoch 1, Batch 13400/31105, Batch Loss: 4.2170, Avg Loss So Far: 4.5141\n"
     ]
    },
    {
     "name": "stderr",
     "output_type": "stream",
     "text": [
      "2025-03-31 01:18:16,301 - INFO - Epoch 1, Batch 13500/31105, Batch Loss: 4.2759, Avg Loss So Far: 4.5113\n"
     ]
    },
    {
     "name": "stdout",
     "output_type": "stream",
     "text": [
      "Epoch 1, Batch 13500/31105, Batch Loss: 4.2759, Avg Loss So Far: 4.5113\n"
     ]
    },
    {
     "name": "stderr",
     "output_type": "stream",
     "text": [
      "2025-03-31 01:18:24,629 - INFO - Epoch 1, Batch 13600/31105, Batch Loss: 4.0808, Avg Loss So Far: 4.5086\n"
     ]
    },
    {
     "name": "stdout",
     "output_type": "stream",
     "text": [
      "Epoch 1, Batch 13600/31105, Batch Loss: 4.0808, Avg Loss So Far: 4.5086\n"
     ]
    },
    {
     "name": "stderr",
     "output_type": "stream",
     "text": [
      "2025-03-31 01:18:33,105 - INFO - Epoch 1, Batch 13700/31105, Batch Loss: 4.2426, Avg Loss So Far: 4.5057\n"
     ]
    },
    {
     "name": "stdout",
     "output_type": "stream",
     "text": [
      "Epoch 1, Batch 13700/31105, Batch Loss: 4.2426, Avg Loss So Far: 4.5057\n"
     ]
    },
    {
     "name": "stderr",
     "output_type": "stream",
     "text": [
      "2025-03-31 01:18:41,421 - INFO - Epoch 1, Batch 13800/31105, Batch Loss: 4.0854, Avg Loss So Far: 4.5030\n"
     ]
    },
    {
     "name": "stdout",
     "output_type": "stream",
     "text": [
      "Epoch 1, Batch 13800/31105, Batch Loss: 4.0854, Avg Loss So Far: 4.5030\n"
     ]
    },
    {
     "name": "stderr",
     "output_type": "stream",
     "text": [
      "2025-03-31 01:18:49,779 - INFO - Epoch 1, Batch 13900/31105, Batch Loss: 4.1018, Avg Loss So Far: 4.5000\n"
     ]
    },
    {
     "name": "stdout",
     "output_type": "stream",
     "text": [
      "Epoch 1, Batch 13900/31105, Batch Loss: 4.1018, Avg Loss So Far: 4.5000\n"
     ]
    },
    {
     "name": "stderr",
     "output_type": "stream",
     "text": [
      "2025-03-31 01:18:58,169 - INFO - Epoch 1, Batch 14000/31105, Batch Loss: 4.3014, Avg Loss So Far: 4.4973\n"
     ]
    },
    {
     "name": "stdout",
     "output_type": "stream",
     "text": [
      "Epoch 1, Batch 14000/31105, Batch Loss: 4.3014, Avg Loss So Far: 4.4973\n"
     ]
    },
    {
     "name": "stderr",
     "output_type": "stream",
     "text": [
      "2025-03-31 01:19:06,553 - INFO - Epoch 1, Batch 14100/31105, Batch Loss: 4.1472, Avg Loss So Far: 4.4944\n"
     ]
    },
    {
     "name": "stdout",
     "output_type": "stream",
     "text": [
      "Epoch 1, Batch 14100/31105, Batch Loss: 4.1472, Avg Loss So Far: 4.4944\n"
     ]
    },
    {
     "name": "stderr",
     "output_type": "stream",
     "text": [
      "2025-03-31 01:19:14,840 - INFO - Epoch 1, Batch 14200/31105, Batch Loss: 4.1922, Avg Loss So Far: 4.4918\n"
     ]
    },
    {
     "name": "stdout",
     "output_type": "stream",
     "text": [
      "Epoch 1, Batch 14200/31105, Batch Loss: 4.1922, Avg Loss So Far: 4.4918\n"
     ]
    },
    {
     "name": "stderr",
     "output_type": "stream",
     "text": [
      "2025-03-31 01:19:23,113 - INFO - Epoch 1, Batch 14300/31105, Batch Loss: 3.9597, Avg Loss So Far: 4.4890\n"
     ]
    },
    {
     "name": "stdout",
     "output_type": "stream",
     "text": [
      "Epoch 1, Batch 14300/31105, Batch Loss: 3.9597, Avg Loss So Far: 4.4890\n"
     ]
    },
    {
     "name": "stderr",
     "output_type": "stream",
     "text": [
      "2025-03-31 01:19:31,452 - INFO - Epoch 1, Batch 14400/31105, Batch Loss: 4.0557, Avg Loss So Far: 4.4862\n"
     ]
    },
    {
     "name": "stdout",
     "output_type": "stream",
     "text": [
      "Epoch 1, Batch 14400/31105, Batch Loss: 4.0557, Avg Loss So Far: 4.4862\n"
     ]
    },
    {
     "name": "stderr",
     "output_type": "stream",
     "text": [
      "2025-03-31 01:19:39,797 - INFO - Epoch 1, Batch 14500/31105, Batch Loss: 4.0971, Avg Loss So Far: 4.4835\n"
     ]
    },
    {
     "name": "stdout",
     "output_type": "stream",
     "text": [
      "Epoch 1, Batch 14500/31105, Batch Loss: 4.0971, Avg Loss So Far: 4.4835\n"
     ]
    },
    {
     "name": "stderr",
     "output_type": "stream",
     "text": [
      "2025-03-31 01:19:48,125 - INFO - Epoch 1, Batch 14600/31105, Batch Loss: 4.0991, Avg Loss So Far: 4.4808\n"
     ]
    },
    {
     "name": "stdout",
     "output_type": "stream",
     "text": [
      "Epoch 1, Batch 14600/31105, Batch Loss: 4.0991, Avg Loss So Far: 4.4808\n"
     ]
    },
    {
     "name": "stderr",
     "output_type": "stream",
     "text": [
      "2025-03-31 01:19:56,433 - INFO - Epoch 1, Batch 14700/31105, Batch Loss: 4.0188, Avg Loss So Far: 4.4780\n"
     ]
    },
    {
     "name": "stdout",
     "output_type": "stream",
     "text": [
      "Epoch 1, Batch 14700/31105, Batch Loss: 4.0188, Avg Loss So Far: 4.4780\n"
     ]
    },
    {
     "name": "stderr",
     "output_type": "stream",
     "text": [
      "2025-03-31 01:20:04,832 - INFO - Epoch 1, Batch 14800/31105, Batch Loss: 3.9953, Avg Loss So Far: 4.4752\n"
     ]
    },
    {
     "name": "stdout",
     "output_type": "stream",
     "text": [
      "Epoch 1, Batch 14800/31105, Batch Loss: 3.9953, Avg Loss So Far: 4.4752\n"
     ]
    },
    {
     "name": "stderr",
     "output_type": "stream",
     "text": [
      "2025-03-31 01:20:13,210 - INFO - Epoch 1, Batch 14900/31105, Batch Loss: 4.2129, Avg Loss So Far: 4.4726\n"
     ]
    },
    {
     "name": "stdout",
     "output_type": "stream",
     "text": [
      "Epoch 1, Batch 14900/31105, Batch Loss: 4.2129, Avg Loss So Far: 4.4726\n"
     ]
    },
    {
     "name": "stderr",
     "output_type": "stream",
     "text": [
      "2025-03-31 01:20:21,595 - INFO - Epoch 1, Batch 15000/31105, Batch Loss: 4.0426, Avg Loss So Far: 4.4699\n"
     ]
    },
    {
     "name": "stdout",
     "output_type": "stream",
     "text": [
      "Epoch 1, Batch 15000/31105, Batch Loss: 4.0426, Avg Loss So Far: 4.4699\n"
     ]
    },
    {
     "name": "stderr",
     "output_type": "stream",
     "text": [
      "2025-03-31 01:20:30,002 - INFO - Epoch 1, Batch 15100/31105, Batch Loss: 4.0876, Avg Loss So Far: 4.4674\n"
     ]
    },
    {
     "name": "stdout",
     "output_type": "stream",
     "text": [
      "Epoch 1, Batch 15100/31105, Batch Loss: 4.0876, Avg Loss So Far: 4.4674\n"
     ]
    },
    {
     "name": "stderr",
     "output_type": "stream",
     "text": [
      "2025-03-31 01:20:38,431 - INFO - Epoch 1, Batch 15200/31105, Batch Loss: 4.2010, Avg Loss So Far: 4.4649\n"
     ]
    },
    {
     "name": "stdout",
     "output_type": "stream",
     "text": [
      "Epoch 1, Batch 15200/31105, Batch Loss: 4.2010, Avg Loss So Far: 4.4649\n"
     ]
    },
    {
     "name": "stderr",
     "output_type": "stream",
     "text": [
      "2025-03-31 01:20:46,759 - INFO - Epoch 1, Batch 15300/31105, Batch Loss: 3.9668, Avg Loss So Far: 4.4623\n"
     ]
    },
    {
     "name": "stdout",
     "output_type": "stream",
     "text": [
      "Epoch 1, Batch 15300/31105, Batch Loss: 3.9668, Avg Loss So Far: 4.4623\n"
     ]
    },
    {
     "name": "stderr",
     "output_type": "stream",
     "text": [
      "2025-03-31 01:20:55,074 - INFO - Epoch 1, Batch 15400/31105, Batch Loss: 4.1400, Avg Loss So Far: 4.4597\n"
     ]
    },
    {
     "name": "stdout",
     "output_type": "stream",
     "text": [
      "Epoch 1, Batch 15400/31105, Batch Loss: 4.1400, Avg Loss So Far: 4.4597\n"
     ]
    },
    {
     "name": "stderr",
     "output_type": "stream",
     "text": [
      "2025-03-31 01:21:03,444 - INFO - Epoch 1, Batch 15500/31105, Batch Loss: 3.9341, Avg Loss So Far: 4.4570\n"
     ]
    },
    {
     "name": "stdout",
     "output_type": "stream",
     "text": [
      "Epoch 1, Batch 15500/31105, Batch Loss: 3.9341, Avg Loss So Far: 4.4570\n"
     ]
    },
    {
     "name": "stderr",
     "output_type": "stream",
     "text": [
      "2025-03-31 01:21:11,837 - INFO - Epoch 1, Batch 15600/31105, Batch Loss: 3.8832, Avg Loss So Far: 4.4543\n"
     ]
    },
    {
     "name": "stdout",
     "output_type": "stream",
     "text": [
      "Epoch 1, Batch 15600/31105, Batch Loss: 3.8832, Avg Loss So Far: 4.4543\n"
     ]
    },
    {
     "name": "stderr",
     "output_type": "stream",
     "text": [
      "2025-03-31 01:21:20,215 - INFO - Epoch 1, Batch 15700/31105, Batch Loss: 3.9983, Avg Loss So Far: 4.4517\n"
     ]
    },
    {
     "name": "stdout",
     "output_type": "stream",
     "text": [
      "Epoch 1, Batch 15700/31105, Batch Loss: 3.9983, Avg Loss So Far: 4.4517\n"
     ]
    },
    {
     "name": "stderr",
     "output_type": "stream",
     "text": [
      "2025-03-31 01:21:28,556 - INFO - Epoch 1, Batch 15800/31105, Batch Loss: 4.0911, Avg Loss So Far: 4.4491\n"
     ]
    },
    {
     "name": "stdout",
     "output_type": "stream",
     "text": [
      "Epoch 1, Batch 15800/31105, Batch Loss: 4.0911, Avg Loss So Far: 4.4491\n"
     ]
    },
    {
     "name": "stderr",
     "output_type": "stream",
     "text": [
      "2025-03-31 01:21:36,955 - INFO - Epoch 1, Batch 15900/31105, Batch Loss: 3.9516, Avg Loss So Far: 4.4464\n"
     ]
    },
    {
     "name": "stdout",
     "output_type": "stream",
     "text": [
      "Epoch 1, Batch 15900/31105, Batch Loss: 3.9516, Avg Loss So Far: 4.4464\n"
     ]
    },
    {
     "name": "stderr",
     "output_type": "stream",
     "text": [
      "2025-03-31 01:21:45,287 - INFO - Epoch 1, Batch 16000/31105, Batch Loss: 4.1030, Avg Loss So Far: 4.4437\n"
     ]
    },
    {
     "name": "stdout",
     "output_type": "stream",
     "text": [
      "Epoch 1, Batch 16000/31105, Batch Loss: 4.1030, Avg Loss So Far: 4.4437\n"
     ]
    },
    {
     "name": "stderr",
     "output_type": "stream",
     "text": [
      "2025-03-31 01:21:53,652 - INFO - Epoch 1, Batch 16100/31105, Batch Loss: 3.9093, Avg Loss So Far: 4.4411\n"
     ]
    },
    {
     "name": "stdout",
     "output_type": "stream",
     "text": [
      "Epoch 1, Batch 16100/31105, Batch Loss: 3.9093, Avg Loss So Far: 4.4411\n"
     ]
    },
    {
     "name": "stderr",
     "output_type": "stream",
     "text": [
      "2025-03-31 01:22:01,997 - INFO - Epoch 1, Batch 16200/31105, Batch Loss: 4.1653, Avg Loss So Far: 4.4385\n"
     ]
    },
    {
     "name": "stdout",
     "output_type": "stream",
     "text": [
      "Epoch 1, Batch 16200/31105, Batch Loss: 4.1653, Avg Loss So Far: 4.4385\n"
     ]
    },
    {
     "name": "stderr",
     "output_type": "stream",
     "text": [
      "2025-03-31 01:22:10,296 - INFO - Epoch 1, Batch 16300/31105, Batch Loss: 4.1791, Avg Loss So Far: 4.4359\n"
     ]
    },
    {
     "name": "stdout",
     "output_type": "stream",
     "text": [
      "Epoch 1, Batch 16300/31105, Batch Loss: 4.1791, Avg Loss So Far: 4.4359\n"
     ]
    },
    {
     "name": "stderr",
     "output_type": "stream",
     "text": [
      "2025-03-31 01:22:18,691 - INFO - Epoch 1, Batch 16400/31105, Batch Loss: 4.0320, Avg Loss So Far: 4.4334\n"
     ]
    },
    {
     "name": "stdout",
     "output_type": "stream",
     "text": [
      "Epoch 1, Batch 16400/31105, Batch Loss: 4.0320, Avg Loss So Far: 4.4334\n"
     ]
    },
    {
     "name": "stderr",
     "output_type": "stream",
     "text": [
      "2025-03-31 01:22:27,095 - INFO - Epoch 1, Batch 16500/31105, Batch Loss: 3.8540, Avg Loss So Far: 4.4309\n"
     ]
    },
    {
     "name": "stdout",
     "output_type": "stream",
     "text": [
      "Epoch 1, Batch 16500/31105, Batch Loss: 3.8540, Avg Loss So Far: 4.4309\n"
     ]
    },
    {
     "name": "stderr",
     "output_type": "stream",
     "text": [
      "2025-03-31 01:22:35,429 - INFO - Epoch 1, Batch 16600/31105, Batch Loss: 3.7814, Avg Loss So Far: 4.4283\n"
     ]
    },
    {
     "name": "stdout",
     "output_type": "stream",
     "text": [
      "Epoch 1, Batch 16600/31105, Batch Loss: 3.7814, Avg Loss So Far: 4.4283\n"
     ]
    },
    {
     "name": "stderr",
     "output_type": "stream",
     "text": [
      "2025-03-31 01:22:43,866 - INFO - Epoch 1, Batch 16700/31105, Batch Loss: 4.0670, Avg Loss So Far: 4.4257\n"
     ]
    },
    {
     "name": "stdout",
     "output_type": "stream",
     "text": [
      "Epoch 1, Batch 16700/31105, Batch Loss: 4.0670, Avg Loss So Far: 4.4257\n"
     ]
    },
    {
     "name": "stderr",
     "output_type": "stream",
     "text": [
      "2025-03-31 01:22:52,228 - INFO - Epoch 1, Batch 16800/31105, Batch Loss: 3.8649, Avg Loss So Far: 4.4231\n"
     ]
    },
    {
     "name": "stdout",
     "output_type": "stream",
     "text": [
      "Epoch 1, Batch 16800/31105, Batch Loss: 3.8649, Avg Loss So Far: 4.4231\n"
     ]
    },
    {
     "name": "stderr",
     "output_type": "stream",
     "text": [
      "2025-03-31 01:23:00,573 - INFO - Epoch 1, Batch 16900/31105, Batch Loss: 3.9556, Avg Loss So Far: 4.4207\n"
     ]
    },
    {
     "name": "stdout",
     "output_type": "stream",
     "text": [
      "Epoch 1, Batch 16900/31105, Batch Loss: 3.9556, Avg Loss So Far: 4.4207\n"
     ]
    },
    {
     "name": "stderr",
     "output_type": "stream",
     "text": [
      "2025-03-31 01:23:08,824 - INFO - Epoch 1, Batch 17000/31105, Batch Loss: 3.9532, Avg Loss So Far: 4.4181\n"
     ]
    },
    {
     "name": "stdout",
     "output_type": "stream",
     "text": [
      "Epoch 1, Batch 17000/31105, Batch Loss: 3.9532, Avg Loss So Far: 4.4181\n"
     ]
    },
    {
     "name": "stderr",
     "output_type": "stream",
     "text": [
      "2025-03-31 01:23:17,284 - INFO - Epoch 1, Batch 17100/31105, Batch Loss: 3.9252, Avg Loss So Far: 4.4157\n"
     ]
    },
    {
     "name": "stdout",
     "output_type": "stream",
     "text": [
      "Epoch 1, Batch 17100/31105, Batch Loss: 3.9252, Avg Loss So Far: 4.4157\n"
     ]
    },
    {
     "name": "stderr",
     "output_type": "stream",
     "text": [
      "2025-03-31 01:23:25,651 - INFO - Epoch 1, Batch 17200/31105, Batch Loss: 4.1668, Avg Loss So Far: 4.4131\n"
     ]
    },
    {
     "name": "stdout",
     "output_type": "stream",
     "text": [
      "Epoch 1, Batch 17200/31105, Batch Loss: 4.1668, Avg Loss So Far: 4.4131\n"
     ]
    },
    {
     "name": "stderr",
     "output_type": "stream",
     "text": [
      "2025-03-31 01:23:34,046 - INFO - Epoch 1, Batch 17300/31105, Batch Loss: 3.9338, Avg Loss So Far: 4.4106\n"
     ]
    },
    {
     "name": "stdout",
     "output_type": "stream",
     "text": [
      "Epoch 1, Batch 17300/31105, Batch Loss: 3.9338, Avg Loss So Far: 4.4106\n"
     ]
    },
    {
     "name": "stderr",
     "output_type": "stream",
     "text": [
      "2025-03-31 01:23:42,414 - INFO - Epoch 1, Batch 17400/31105, Batch Loss: 3.9459, Avg Loss So Far: 4.4082\n"
     ]
    },
    {
     "name": "stdout",
     "output_type": "stream",
     "text": [
      "Epoch 1, Batch 17400/31105, Batch Loss: 3.9459, Avg Loss So Far: 4.4082\n"
     ]
    },
    {
     "name": "stderr",
     "output_type": "stream",
     "text": [
      "2025-03-31 01:23:50,735 - INFO - Epoch 1, Batch 17500/31105, Batch Loss: 4.1253, Avg Loss So Far: 4.4057\n"
     ]
    },
    {
     "name": "stdout",
     "output_type": "stream",
     "text": [
      "Epoch 1, Batch 17500/31105, Batch Loss: 4.1253, Avg Loss So Far: 4.4057\n"
     ]
    },
    {
     "name": "stderr",
     "output_type": "stream",
     "text": [
      "2025-03-31 01:23:59,087 - INFO - Epoch 1, Batch 17600/31105, Batch Loss: 4.0153, Avg Loss So Far: 4.4033\n"
     ]
    },
    {
     "name": "stdout",
     "output_type": "stream",
     "text": [
      "Epoch 1, Batch 17600/31105, Batch Loss: 4.0153, Avg Loss So Far: 4.4033\n"
     ]
    },
    {
     "name": "stderr",
     "output_type": "stream",
     "text": [
      "2025-03-31 01:24:07,461 - INFO - Epoch 1, Batch 17700/31105, Batch Loss: 3.9540, Avg Loss So Far: 4.4009\n"
     ]
    },
    {
     "name": "stdout",
     "output_type": "stream",
     "text": [
      "Epoch 1, Batch 17700/31105, Batch Loss: 3.9540, Avg Loss So Far: 4.4009\n"
     ]
    },
    {
     "name": "stderr",
     "output_type": "stream",
     "text": [
      "2025-03-31 01:24:15,809 - INFO - Epoch 1, Batch 17800/31105, Batch Loss: 3.8561, Avg Loss So Far: 4.3985\n"
     ]
    },
    {
     "name": "stdout",
     "output_type": "stream",
     "text": [
      "Epoch 1, Batch 17800/31105, Batch Loss: 3.8561, Avg Loss So Far: 4.3985\n"
     ]
    },
    {
     "name": "stderr",
     "output_type": "stream",
     "text": [
      "2025-03-31 01:24:24,189 - INFO - Epoch 1, Batch 17900/31105, Batch Loss: 3.9891, Avg Loss So Far: 4.3960\n"
     ]
    },
    {
     "name": "stdout",
     "output_type": "stream",
     "text": [
      "Epoch 1, Batch 17900/31105, Batch Loss: 3.9891, Avg Loss So Far: 4.3960\n"
     ]
    },
    {
     "name": "stderr",
     "output_type": "stream",
     "text": [
      "2025-03-31 01:24:32,520 - INFO - Epoch 1, Batch 18000/31105, Batch Loss: 4.0579, Avg Loss So Far: 4.3936\n"
     ]
    },
    {
     "name": "stdout",
     "output_type": "stream",
     "text": [
      "Epoch 1, Batch 18000/31105, Batch Loss: 4.0579, Avg Loss So Far: 4.3936\n"
     ]
    },
    {
     "name": "stderr",
     "output_type": "stream",
     "text": [
      "2025-03-31 01:24:40,951 - INFO - Epoch 1, Batch 18100/31105, Batch Loss: 4.0390, Avg Loss So Far: 4.3912\n"
     ]
    },
    {
     "name": "stdout",
     "output_type": "stream",
     "text": [
      "Epoch 1, Batch 18100/31105, Batch Loss: 4.0390, Avg Loss So Far: 4.3912\n"
     ]
    },
    {
     "name": "stderr",
     "output_type": "stream",
     "text": [
      "2025-03-31 01:24:49,272 - INFO - Epoch 1, Batch 18200/31105, Batch Loss: 4.0003, Avg Loss So Far: 4.3888\n"
     ]
    },
    {
     "name": "stdout",
     "output_type": "stream",
     "text": [
      "Epoch 1, Batch 18200/31105, Batch Loss: 4.0003, Avg Loss So Far: 4.3888\n"
     ]
    },
    {
     "name": "stderr",
     "output_type": "stream",
     "text": [
      "2025-03-31 01:24:57,651 - INFO - Epoch 1, Batch 18300/31105, Batch Loss: 3.9692, Avg Loss So Far: 4.3864\n"
     ]
    },
    {
     "name": "stdout",
     "output_type": "stream",
     "text": [
      "Epoch 1, Batch 18300/31105, Batch Loss: 3.9692, Avg Loss So Far: 4.3864\n"
     ]
    },
    {
     "name": "stderr",
     "output_type": "stream",
     "text": [
      "2025-03-31 01:25:06,018 - INFO - Epoch 1, Batch 18400/31105, Batch Loss: 3.9902, Avg Loss So Far: 4.3840\n"
     ]
    },
    {
     "name": "stdout",
     "output_type": "stream",
     "text": [
      "Epoch 1, Batch 18400/31105, Batch Loss: 3.9902, Avg Loss So Far: 4.3840\n"
     ]
    },
    {
     "name": "stderr",
     "output_type": "stream",
     "text": [
      "2025-03-31 01:25:14,381 - INFO - Epoch 1, Batch 18500/31105, Batch Loss: 4.0258, Avg Loss So Far: 4.3816\n"
     ]
    },
    {
     "name": "stdout",
     "output_type": "stream",
     "text": [
      "Epoch 1, Batch 18500/31105, Batch Loss: 4.0258, Avg Loss So Far: 4.3816\n"
     ]
    },
    {
     "name": "stderr",
     "output_type": "stream",
     "text": [
      "2025-03-31 01:25:22,777 - INFO - Epoch 1, Batch 18600/31105, Batch Loss: 3.6639, Avg Loss So Far: 4.3790\n"
     ]
    },
    {
     "name": "stdout",
     "output_type": "stream",
     "text": [
      "Epoch 1, Batch 18600/31105, Batch Loss: 3.6639, Avg Loss So Far: 4.3790\n"
     ]
    },
    {
     "name": "stderr",
     "output_type": "stream",
     "text": [
      "2025-03-31 01:25:31,230 - INFO - Epoch 1, Batch 18700/31105, Batch Loss: 4.0258, Avg Loss So Far: 4.3766\n"
     ]
    },
    {
     "name": "stdout",
     "output_type": "stream",
     "text": [
      "Epoch 1, Batch 18700/31105, Batch Loss: 4.0258, Avg Loss So Far: 4.3766\n"
     ]
    },
    {
     "name": "stderr",
     "output_type": "stream",
     "text": [
      "2025-03-31 01:25:39,563 - INFO - Epoch 1, Batch 18800/31105, Batch Loss: 3.9579, Avg Loss So Far: 4.3742\n"
     ]
    },
    {
     "name": "stdout",
     "output_type": "stream",
     "text": [
      "Epoch 1, Batch 18800/31105, Batch Loss: 3.9579, Avg Loss So Far: 4.3742\n"
     ]
    },
    {
     "name": "stderr",
     "output_type": "stream",
     "text": [
      "2025-03-31 01:25:47,895 - INFO - Epoch 1, Batch 18900/31105, Batch Loss: 3.9361, Avg Loss So Far: 4.3719\n"
     ]
    },
    {
     "name": "stdout",
     "output_type": "stream",
     "text": [
      "Epoch 1, Batch 18900/31105, Batch Loss: 3.9361, Avg Loss So Far: 4.3719\n"
     ]
    },
    {
     "name": "stderr",
     "output_type": "stream",
     "text": [
      "2025-03-31 01:25:56,221 - INFO - Epoch 1, Batch 19000/31105, Batch Loss: 4.0209, Avg Loss So Far: 4.3696\n"
     ]
    },
    {
     "name": "stdout",
     "output_type": "stream",
     "text": [
      "Epoch 1, Batch 19000/31105, Batch Loss: 4.0209, Avg Loss So Far: 4.3696\n"
     ]
    },
    {
     "name": "stderr",
     "output_type": "stream",
     "text": [
      "2025-03-31 01:26:04,595 - INFO - Epoch 1, Batch 19100/31105, Batch Loss: 3.9113, Avg Loss So Far: 4.3673\n"
     ]
    },
    {
     "name": "stdout",
     "output_type": "stream",
     "text": [
      "Epoch 1, Batch 19100/31105, Batch Loss: 3.9113, Avg Loss So Far: 4.3673\n"
     ]
    },
    {
     "name": "stderr",
     "output_type": "stream",
     "text": [
      "2025-03-31 01:26:12,927 - INFO - Epoch 1, Batch 19200/31105, Batch Loss: 3.9186, Avg Loss So Far: 4.3649\n"
     ]
    },
    {
     "name": "stdout",
     "output_type": "stream",
     "text": [
      "Epoch 1, Batch 19200/31105, Batch Loss: 3.9186, Avg Loss So Far: 4.3649\n"
     ]
    },
    {
     "name": "stderr",
     "output_type": "stream",
     "text": [
      "2025-03-31 01:26:21,236 - INFO - Epoch 1, Batch 19300/31105, Batch Loss: 3.8363, Avg Loss So Far: 4.3626\n"
     ]
    },
    {
     "name": "stdout",
     "output_type": "stream",
     "text": [
      "Epoch 1, Batch 19300/31105, Batch Loss: 3.8363, Avg Loss So Far: 4.3626\n"
     ]
    },
    {
     "name": "stderr",
     "output_type": "stream",
     "text": [
      "2025-03-31 01:26:29,605 - INFO - Epoch 1, Batch 19400/31105, Batch Loss: 4.0235, Avg Loss So Far: 4.3602\n"
     ]
    },
    {
     "name": "stdout",
     "output_type": "stream",
     "text": [
      "Epoch 1, Batch 19400/31105, Batch Loss: 4.0235, Avg Loss So Far: 4.3602\n"
     ]
    },
    {
     "name": "stderr",
     "output_type": "stream",
     "text": [
      "2025-03-31 01:26:37,939 - INFO - Epoch 1, Batch 19500/31105, Batch Loss: 3.8615, Avg Loss So Far: 4.3579\n"
     ]
    },
    {
     "name": "stdout",
     "output_type": "stream",
     "text": [
      "Epoch 1, Batch 19500/31105, Batch Loss: 3.8615, Avg Loss So Far: 4.3579\n"
     ]
    },
    {
     "name": "stderr",
     "output_type": "stream",
     "text": [
      "2025-03-31 01:26:46,349 - INFO - Epoch 1, Batch 19600/31105, Batch Loss: 3.9307, Avg Loss So Far: 4.3555\n"
     ]
    },
    {
     "name": "stdout",
     "output_type": "stream",
     "text": [
      "Epoch 1, Batch 19600/31105, Batch Loss: 3.9307, Avg Loss So Far: 4.3555\n"
     ]
    },
    {
     "name": "stderr",
     "output_type": "stream",
     "text": [
      "2025-03-31 01:26:54,663 - INFO - Epoch 1, Batch 19700/31105, Batch Loss: 3.8680, Avg Loss So Far: 4.3532\n"
     ]
    },
    {
     "name": "stdout",
     "output_type": "stream",
     "text": [
      "Epoch 1, Batch 19700/31105, Batch Loss: 3.8680, Avg Loss So Far: 4.3532\n"
     ]
    },
    {
     "name": "stderr",
     "output_type": "stream",
     "text": [
      "2025-03-31 01:27:03,031 - INFO - Epoch 1, Batch 19800/31105, Batch Loss: 3.7752, Avg Loss So Far: 4.3509\n"
     ]
    },
    {
     "name": "stdout",
     "output_type": "stream",
     "text": [
      "Epoch 1, Batch 19800/31105, Batch Loss: 3.7752, Avg Loss So Far: 4.3509\n"
     ]
    },
    {
     "name": "stderr",
     "output_type": "stream",
     "text": [
      "2025-03-31 01:27:11,499 - INFO - Epoch 1, Batch 19900/31105, Batch Loss: 4.0551, Avg Loss So Far: 4.3486\n"
     ]
    },
    {
     "name": "stdout",
     "output_type": "stream",
     "text": [
      "Epoch 1, Batch 19900/31105, Batch Loss: 4.0551, Avg Loss So Far: 4.3486\n"
     ]
    },
    {
     "name": "stderr",
     "output_type": "stream",
     "text": [
      "2025-03-31 01:27:19,881 - INFO - Epoch 1, Batch 20000/31105, Batch Loss: 3.8425, Avg Loss So Far: 4.3464\n"
     ]
    },
    {
     "name": "stdout",
     "output_type": "stream",
     "text": [
      "Epoch 1, Batch 20000/31105, Batch Loss: 3.8425, Avg Loss So Far: 4.3464\n"
     ]
    },
    {
     "name": "stderr",
     "output_type": "stream",
     "text": [
      "2025-03-31 01:27:28,281 - INFO - Epoch 1, Batch 20100/31105, Batch Loss: 3.9125, Avg Loss So Far: 4.3441\n"
     ]
    },
    {
     "name": "stdout",
     "output_type": "stream",
     "text": [
      "Epoch 1, Batch 20100/31105, Batch Loss: 3.9125, Avg Loss So Far: 4.3441\n"
     ]
    },
    {
     "name": "stderr",
     "output_type": "stream",
     "text": [
      "2025-03-31 01:27:36,641 - INFO - Epoch 1, Batch 20200/31105, Batch Loss: 3.8148, Avg Loss So Far: 4.3418\n"
     ]
    },
    {
     "name": "stdout",
     "output_type": "stream",
     "text": [
      "Epoch 1, Batch 20200/31105, Batch Loss: 3.8148, Avg Loss So Far: 4.3418\n"
     ]
    },
    {
     "name": "stderr",
     "output_type": "stream",
     "text": [
      "2025-03-31 01:27:44,841 - INFO - Epoch 1, Batch 20300/31105, Batch Loss: 4.0295, Avg Loss So Far: 4.3396\n"
     ]
    },
    {
     "name": "stdout",
     "output_type": "stream",
     "text": [
      "Epoch 1, Batch 20300/31105, Batch Loss: 4.0295, Avg Loss So Far: 4.3396\n"
     ]
    },
    {
     "name": "stderr",
     "output_type": "stream",
     "text": [
      "2025-03-31 01:27:50,435 - INFO - Epoch 1, Batch 20400/31105, Batch Loss: 3.6164, Avg Loss So Far: 4.3373\n"
     ]
    },
    {
     "name": "stdout",
     "output_type": "stream",
     "text": [
      "Epoch 1, Batch 20400/31105, Batch Loss: 3.6164, Avg Loss So Far: 4.3373\n"
     ]
    },
    {
     "name": "stderr",
     "output_type": "stream",
     "text": [
      "2025-03-31 01:27:55,982 - INFO - Epoch 1, Batch 20500/31105, Batch Loss: 3.8574, Avg Loss So Far: 4.3351\n"
     ]
    },
    {
     "name": "stdout",
     "output_type": "stream",
     "text": [
      "Epoch 1, Batch 20500/31105, Batch Loss: 3.8574, Avg Loss So Far: 4.3351\n"
     ]
    },
    {
     "name": "stderr",
     "output_type": "stream",
     "text": [
      "2025-03-31 01:28:01,511 - INFO - Epoch 1, Batch 20600/31105, Batch Loss: 3.9311, Avg Loss So Far: 4.3328\n"
     ]
    },
    {
     "name": "stdout",
     "output_type": "stream",
     "text": [
      "Epoch 1, Batch 20600/31105, Batch Loss: 3.9311, Avg Loss So Far: 4.3328\n"
     ]
    },
    {
     "name": "stderr",
     "output_type": "stream",
     "text": [
      "2025-03-31 01:28:07,039 - INFO - Epoch 1, Batch 20700/31105, Batch Loss: 3.7622, Avg Loss So Far: 4.3307\n"
     ]
    },
    {
     "name": "stdout",
     "output_type": "stream",
     "text": [
      "Epoch 1, Batch 20700/31105, Batch Loss: 3.7622, Avg Loss So Far: 4.3307\n"
     ]
    },
    {
     "name": "stderr",
     "output_type": "stream",
     "text": [
      "2025-03-31 01:28:12,560 - INFO - Epoch 1, Batch 20800/31105, Batch Loss: 3.8785, Avg Loss So Far: 4.3285\n"
     ]
    },
    {
     "name": "stdout",
     "output_type": "stream",
     "text": [
      "Epoch 1, Batch 20800/31105, Batch Loss: 3.8785, Avg Loss So Far: 4.3285\n"
     ]
    },
    {
     "name": "stderr",
     "output_type": "stream",
     "text": [
      "2025-03-31 01:28:18,114 - INFO - Epoch 1, Batch 20900/31105, Batch Loss: 3.9320, Avg Loss So Far: 4.3263\n"
     ]
    },
    {
     "name": "stdout",
     "output_type": "stream",
     "text": [
      "Epoch 1, Batch 20900/31105, Batch Loss: 3.9320, Avg Loss So Far: 4.3263\n"
     ]
    },
    {
     "name": "stderr",
     "output_type": "stream",
     "text": [
      "2025-03-31 01:28:23,630 - INFO - Epoch 1, Batch 21000/31105, Batch Loss: 3.9648, Avg Loss So Far: 4.3242\n"
     ]
    },
    {
     "name": "stdout",
     "output_type": "stream",
     "text": [
      "Epoch 1, Batch 21000/31105, Batch Loss: 3.9648, Avg Loss So Far: 4.3242\n"
     ]
    },
    {
     "name": "stderr",
     "output_type": "stream",
     "text": [
      "2025-03-31 01:28:29,162 - INFO - Epoch 1, Batch 21100/31105, Batch Loss: 3.8890, Avg Loss So Far: 4.3219\n"
     ]
    },
    {
     "name": "stdout",
     "output_type": "stream",
     "text": [
      "Epoch 1, Batch 21100/31105, Batch Loss: 3.8890, Avg Loss So Far: 4.3219\n"
     ]
    },
    {
     "name": "stderr",
     "output_type": "stream",
     "text": [
      "2025-03-31 01:28:34,718 - INFO - Epoch 1, Batch 21200/31105, Batch Loss: 3.8079, Avg Loss So Far: 4.3197\n"
     ]
    },
    {
     "name": "stdout",
     "output_type": "stream",
     "text": [
      "Epoch 1, Batch 21200/31105, Batch Loss: 3.8079, Avg Loss So Far: 4.3197\n"
     ]
    },
    {
     "name": "stderr",
     "output_type": "stream",
     "text": [
      "2025-03-31 01:28:40,232 - INFO - Epoch 1, Batch 21300/31105, Batch Loss: 3.9193, Avg Loss So Far: 4.3175\n"
     ]
    },
    {
     "name": "stdout",
     "output_type": "stream",
     "text": [
      "Epoch 1, Batch 21300/31105, Batch Loss: 3.9193, Avg Loss So Far: 4.3175\n"
     ]
    },
    {
     "name": "stderr",
     "output_type": "stream",
     "text": [
      "2025-03-31 01:28:45,790 - INFO - Epoch 1, Batch 21400/31105, Batch Loss: 3.7970, Avg Loss So Far: 4.3153\n"
     ]
    },
    {
     "name": "stdout",
     "output_type": "stream",
     "text": [
      "Epoch 1, Batch 21400/31105, Batch Loss: 3.7970, Avg Loss So Far: 4.3153\n"
     ]
    },
    {
     "name": "stderr",
     "output_type": "stream",
     "text": [
      "2025-03-31 01:28:51,316 - INFO - Epoch 1, Batch 21500/31105, Batch Loss: 3.8803, Avg Loss So Far: 4.3130\n"
     ]
    },
    {
     "name": "stdout",
     "output_type": "stream",
     "text": [
      "Epoch 1, Batch 21500/31105, Batch Loss: 3.8803, Avg Loss So Far: 4.3130\n"
     ]
    },
    {
     "name": "stderr",
     "output_type": "stream",
     "text": [
      "2025-03-31 01:28:56,838 - INFO - Epoch 1, Batch 21600/31105, Batch Loss: 3.9650, Avg Loss So Far: 4.3109\n"
     ]
    },
    {
     "name": "stdout",
     "output_type": "stream",
     "text": [
      "Epoch 1, Batch 21600/31105, Batch Loss: 3.9650, Avg Loss So Far: 4.3109\n"
     ]
    },
    {
     "name": "stderr",
     "output_type": "stream",
     "text": [
      "2025-03-31 01:29:02,376 - INFO - Epoch 1, Batch 21700/31105, Batch Loss: 3.8917, Avg Loss So Far: 4.3086\n"
     ]
    },
    {
     "name": "stdout",
     "output_type": "stream",
     "text": [
      "Epoch 1, Batch 21700/31105, Batch Loss: 3.8917, Avg Loss So Far: 4.3086\n"
     ]
    },
    {
     "name": "stderr",
     "output_type": "stream",
     "text": [
      "2025-03-31 01:29:07,929 - INFO - Epoch 1, Batch 21800/31105, Batch Loss: 3.9572, Avg Loss So Far: 4.3065\n"
     ]
    },
    {
     "name": "stdout",
     "output_type": "stream",
     "text": [
      "Epoch 1, Batch 21800/31105, Batch Loss: 3.9572, Avg Loss So Far: 4.3065\n"
     ]
    },
    {
     "name": "stderr",
     "output_type": "stream",
     "text": [
      "2025-03-31 01:29:13,471 - INFO - Epoch 1, Batch 21900/31105, Batch Loss: 3.8685, Avg Loss So Far: 4.3043\n"
     ]
    },
    {
     "name": "stdout",
     "output_type": "stream",
     "text": [
      "Epoch 1, Batch 21900/31105, Batch Loss: 3.8685, Avg Loss So Far: 4.3043\n"
     ]
    },
    {
     "name": "stderr",
     "output_type": "stream",
     "text": [
      "2025-03-31 01:29:19,001 - INFO - Epoch 1, Batch 22000/31105, Batch Loss: 3.9812, Avg Loss So Far: 4.3022\n"
     ]
    },
    {
     "name": "stdout",
     "output_type": "stream",
     "text": [
      "Epoch 1, Batch 22000/31105, Batch Loss: 3.9812, Avg Loss So Far: 4.3022\n"
     ]
    },
    {
     "name": "stderr",
     "output_type": "stream",
     "text": [
      "2025-03-31 01:29:24,531 - INFO - Epoch 1, Batch 22100/31105, Batch Loss: 3.7348, Avg Loss So Far: 4.3000\n"
     ]
    },
    {
     "name": "stdout",
     "output_type": "stream",
     "text": [
      "Epoch 1, Batch 22100/31105, Batch Loss: 3.7348, Avg Loss So Far: 4.3000\n"
     ]
    },
    {
     "name": "stderr",
     "output_type": "stream",
     "text": [
      "2025-03-31 01:29:30,097 - INFO - Epoch 1, Batch 22200/31105, Batch Loss: 3.9297, Avg Loss So Far: 4.2979\n"
     ]
    },
    {
     "name": "stdout",
     "output_type": "stream",
     "text": [
      "Epoch 1, Batch 22200/31105, Batch Loss: 3.9297, Avg Loss So Far: 4.2979\n"
     ]
    },
    {
     "name": "stderr",
     "output_type": "stream",
     "text": [
      "2025-03-31 01:29:35,640 - INFO - Epoch 1, Batch 22300/31105, Batch Loss: 3.9391, Avg Loss So Far: 4.2957\n"
     ]
    },
    {
     "name": "stdout",
     "output_type": "stream",
     "text": [
      "Epoch 1, Batch 22300/31105, Batch Loss: 3.9391, Avg Loss So Far: 4.2957\n"
     ]
    },
    {
     "name": "stderr",
     "output_type": "stream",
     "text": [
      "2025-03-31 01:29:41,194 - INFO - Epoch 1, Batch 22400/31105, Batch Loss: 3.8281, Avg Loss So Far: 4.2937\n"
     ]
    },
    {
     "name": "stdout",
     "output_type": "stream",
     "text": [
      "Epoch 1, Batch 22400/31105, Batch Loss: 3.8281, Avg Loss So Far: 4.2937\n"
     ]
    },
    {
     "name": "stderr",
     "output_type": "stream",
     "text": [
      "2025-03-31 01:29:46,732 - INFO - Epoch 1, Batch 22500/31105, Batch Loss: 3.8807, Avg Loss So Far: 4.2916\n"
     ]
    },
    {
     "name": "stdout",
     "output_type": "stream",
     "text": [
      "Epoch 1, Batch 22500/31105, Batch Loss: 3.8807, Avg Loss So Far: 4.2916\n"
     ]
    },
    {
     "name": "stderr",
     "output_type": "stream",
     "text": [
      "2025-03-31 01:29:52,273 - INFO - Epoch 1, Batch 22600/31105, Batch Loss: 3.9838, Avg Loss So Far: 4.2895\n"
     ]
    },
    {
     "name": "stdout",
     "output_type": "stream",
     "text": [
      "Epoch 1, Batch 22600/31105, Batch Loss: 3.9838, Avg Loss So Far: 4.2895\n"
     ]
    },
    {
     "name": "stderr",
     "output_type": "stream",
     "text": [
      "2025-03-31 01:29:57,807 - INFO - Epoch 1, Batch 22700/31105, Batch Loss: 3.8565, Avg Loss So Far: 4.2874\n"
     ]
    },
    {
     "name": "stdout",
     "output_type": "stream",
     "text": [
      "Epoch 1, Batch 22700/31105, Batch Loss: 3.8565, Avg Loss So Far: 4.2874\n"
     ]
    },
    {
     "name": "stderr",
     "output_type": "stream",
     "text": [
      "2025-03-31 01:30:03,358 - INFO - Epoch 1, Batch 22800/31105, Batch Loss: 3.8648, Avg Loss So Far: 4.2853\n"
     ]
    },
    {
     "name": "stdout",
     "output_type": "stream",
     "text": [
      "Epoch 1, Batch 22800/31105, Batch Loss: 3.8648, Avg Loss So Far: 4.2853\n"
     ]
    },
    {
     "name": "stderr",
     "output_type": "stream",
     "text": [
      "2025-03-31 01:30:08,897 - INFO - Epoch 1, Batch 22900/31105, Batch Loss: 3.8039, Avg Loss So Far: 4.2832\n"
     ]
    },
    {
     "name": "stdout",
     "output_type": "stream",
     "text": [
      "Epoch 1, Batch 22900/31105, Batch Loss: 3.8039, Avg Loss So Far: 4.2832\n"
     ]
    },
    {
     "name": "stderr",
     "output_type": "stream",
     "text": [
      "2025-03-31 01:30:14,460 - INFO - Epoch 1, Batch 23000/31105, Batch Loss: 3.6978, Avg Loss So Far: 4.2811\n"
     ]
    },
    {
     "name": "stdout",
     "output_type": "stream",
     "text": [
      "Epoch 1, Batch 23000/31105, Batch Loss: 3.6978, Avg Loss So Far: 4.2811\n"
     ]
    },
    {
     "name": "stderr",
     "output_type": "stream",
     "text": [
      "2025-03-31 01:30:19,981 - INFO - Epoch 1, Batch 23100/31105, Batch Loss: 3.8030, Avg Loss So Far: 4.2789\n"
     ]
    },
    {
     "name": "stdout",
     "output_type": "stream",
     "text": [
      "Epoch 1, Batch 23100/31105, Batch Loss: 3.8030, Avg Loss So Far: 4.2789\n"
     ]
    },
    {
     "name": "stderr",
     "output_type": "stream",
     "text": [
      "2025-03-31 01:30:25,510 - INFO - Epoch 1, Batch 23200/31105, Batch Loss: 3.7108, Avg Loss So Far: 4.2769\n"
     ]
    },
    {
     "name": "stdout",
     "output_type": "stream",
     "text": [
      "Epoch 1, Batch 23200/31105, Batch Loss: 3.7108, Avg Loss So Far: 4.2769\n"
     ]
    },
    {
     "name": "stderr",
     "output_type": "stream",
     "text": [
      "2025-03-31 01:30:31,080 - INFO - Epoch 1, Batch 23300/31105, Batch Loss: 3.6524, Avg Loss So Far: 4.2747\n"
     ]
    },
    {
     "name": "stdout",
     "output_type": "stream",
     "text": [
      "Epoch 1, Batch 23300/31105, Batch Loss: 3.6524, Avg Loss So Far: 4.2747\n"
     ]
    },
    {
     "name": "stderr",
     "output_type": "stream",
     "text": [
      "2025-03-31 01:30:36,587 - INFO - Epoch 1, Batch 23400/31105, Batch Loss: 3.7413, Avg Loss So Far: 4.2727\n"
     ]
    },
    {
     "name": "stdout",
     "output_type": "stream",
     "text": [
      "Epoch 1, Batch 23400/31105, Batch Loss: 3.7413, Avg Loss So Far: 4.2727\n"
     ]
    },
    {
     "name": "stderr",
     "output_type": "stream",
     "text": [
      "2025-03-31 01:30:42,123 - INFO - Epoch 1, Batch 23500/31105, Batch Loss: 3.7798, Avg Loss So Far: 4.2707\n"
     ]
    },
    {
     "name": "stdout",
     "output_type": "stream",
     "text": [
      "Epoch 1, Batch 23500/31105, Batch Loss: 3.7798, Avg Loss So Far: 4.2707\n"
     ]
    },
    {
     "name": "stderr",
     "output_type": "stream",
     "text": [
      "2025-03-31 01:30:47,684 - INFO - Epoch 1, Batch 23600/31105, Batch Loss: 3.6855, Avg Loss So Far: 4.2685\n"
     ]
    },
    {
     "name": "stdout",
     "output_type": "stream",
     "text": [
      "Epoch 1, Batch 23600/31105, Batch Loss: 3.6855, Avg Loss So Far: 4.2685\n"
     ]
    },
    {
     "name": "stderr",
     "output_type": "stream",
     "text": [
      "2025-03-31 01:30:53,208 - INFO - Epoch 1, Batch 23700/31105, Batch Loss: 3.7826, Avg Loss So Far: 4.2666\n"
     ]
    },
    {
     "name": "stdout",
     "output_type": "stream",
     "text": [
      "Epoch 1, Batch 23700/31105, Batch Loss: 3.7826, Avg Loss So Far: 4.2666\n"
     ]
    },
    {
     "name": "stderr",
     "output_type": "stream",
     "text": [
      "2025-03-31 01:30:58,762 - INFO - Epoch 1, Batch 23800/31105, Batch Loss: 3.7735, Avg Loss So Far: 4.2645\n"
     ]
    },
    {
     "name": "stdout",
     "output_type": "stream",
     "text": [
      "Epoch 1, Batch 23800/31105, Batch Loss: 3.7735, Avg Loss So Far: 4.2645\n"
     ]
    },
    {
     "name": "stderr",
     "output_type": "stream",
     "text": [
      "2025-03-31 01:31:04,301 - INFO - Epoch 1, Batch 23900/31105, Batch Loss: 3.8448, Avg Loss So Far: 4.2624\n"
     ]
    },
    {
     "name": "stdout",
     "output_type": "stream",
     "text": [
      "Epoch 1, Batch 23900/31105, Batch Loss: 3.8448, Avg Loss So Far: 4.2624\n"
     ]
    },
    {
     "name": "stderr",
     "output_type": "stream",
     "text": [
      "2025-03-31 01:31:09,835 - INFO - Epoch 1, Batch 24000/31105, Batch Loss: 3.7824, Avg Loss So Far: 4.2603\n"
     ]
    },
    {
     "name": "stdout",
     "output_type": "stream",
     "text": [
      "Epoch 1, Batch 24000/31105, Batch Loss: 3.7824, Avg Loss So Far: 4.2603\n"
     ]
    },
    {
     "name": "stderr",
     "output_type": "stream",
     "text": [
      "2025-03-31 01:31:15,404 - INFO - Epoch 1, Batch 24100/31105, Batch Loss: 3.8630, Avg Loss So Far: 4.2583\n"
     ]
    },
    {
     "name": "stdout",
     "output_type": "stream",
     "text": [
      "Epoch 1, Batch 24100/31105, Batch Loss: 3.8630, Avg Loss So Far: 4.2583\n"
     ]
    },
    {
     "name": "stderr",
     "output_type": "stream",
     "text": [
      "2025-03-31 01:31:20,935 - INFO - Epoch 1, Batch 24200/31105, Batch Loss: 4.0061, Avg Loss So Far: 4.2563\n"
     ]
    },
    {
     "name": "stdout",
     "output_type": "stream",
     "text": [
      "Epoch 1, Batch 24200/31105, Batch Loss: 4.0061, Avg Loss So Far: 4.2563\n"
     ]
    },
    {
     "name": "stderr",
     "output_type": "stream",
     "text": [
      "2025-03-31 01:31:26,490 - INFO - Epoch 1, Batch 24300/31105, Batch Loss: 3.8026, Avg Loss So Far: 4.2543\n"
     ]
    },
    {
     "name": "stdout",
     "output_type": "stream",
     "text": [
      "Epoch 1, Batch 24300/31105, Batch Loss: 3.8026, Avg Loss So Far: 4.2543\n"
     ]
    },
    {
     "name": "stderr",
     "output_type": "stream",
     "text": [
      "2025-03-31 01:31:32,016 - INFO - Epoch 1, Batch 24400/31105, Batch Loss: 3.7403, Avg Loss So Far: 4.2523\n"
     ]
    },
    {
     "name": "stdout",
     "output_type": "stream",
     "text": [
      "Epoch 1, Batch 24400/31105, Batch Loss: 3.7403, Avg Loss So Far: 4.2523\n"
     ]
    },
    {
     "name": "stderr",
     "output_type": "stream",
     "text": [
      "2025-03-31 01:31:37,558 - INFO - Epoch 1, Batch 24500/31105, Batch Loss: 3.6578, Avg Loss So Far: 4.2502\n"
     ]
    },
    {
     "name": "stdout",
     "output_type": "stream",
     "text": [
      "Epoch 1, Batch 24500/31105, Batch Loss: 3.6578, Avg Loss So Far: 4.2502\n"
     ]
    },
    {
     "name": "stderr",
     "output_type": "stream",
     "text": [
      "2025-03-31 01:31:43,113 - INFO - Epoch 1, Batch 24600/31105, Batch Loss: 3.7119, Avg Loss So Far: 4.2482\n"
     ]
    },
    {
     "name": "stdout",
     "output_type": "stream",
     "text": [
      "Epoch 1, Batch 24600/31105, Batch Loss: 3.7119, Avg Loss So Far: 4.2482\n"
     ]
    },
    {
     "name": "stderr",
     "output_type": "stream",
     "text": [
      "2025-03-31 01:31:48,642 - INFO - Epoch 1, Batch 24700/31105, Batch Loss: 3.8672, Avg Loss So Far: 4.2462\n"
     ]
    },
    {
     "name": "stdout",
     "output_type": "stream",
     "text": [
      "Epoch 1, Batch 24700/31105, Batch Loss: 3.8672, Avg Loss So Far: 4.2462\n"
     ]
    },
    {
     "name": "stderr",
     "output_type": "stream",
     "text": [
      "2025-03-31 01:31:54,166 - INFO - Epoch 1, Batch 24800/31105, Batch Loss: 3.8595, Avg Loss So Far: 4.2443\n"
     ]
    },
    {
     "name": "stdout",
     "output_type": "stream",
     "text": [
      "Epoch 1, Batch 24800/31105, Batch Loss: 3.8595, Avg Loss So Far: 4.2443\n"
     ]
    },
    {
     "name": "stderr",
     "output_type": "stream",
     "text": [
      "2025-03-31 01:31:59,721 - INFO - Epoch 1, Batch 24900/31105, Batch Loss: 3.7131, Avg Loss So Far: 4.2424\n"
     ]
    },
    {
     "name": "stdout",
     "output_type": "stream",
     "text": [
      "Epoch 1, Batch 24900/31105, Batch Loss: 3.7131, Avg Loss So Far: 4.2424\n"
     ]
    },
    {
     "name": "stderr",
     "output_type": "stream",
     "text": [
      "2025-03-31 01:32:05,253 - INFO - Epoch 1, Batch 25000/31105, Batch Loss: 3.8074, Avg Loss So Far: 4.2404\n"
     ]
    },
    {
     "name": "stdout",
     "output_type": "stream",
     "text": [
      "Epoch 1, Batch 25000/31105, Batch Loss: 3.8074, Avg Loss So Far: 4.2404\n"
     ]
    },
    {
     "name": "stderr",
     "output_type": "stream",
     "text": [
      "2025-03-31 01:32:10,777 - INFO - Epoch 1, Batch 25100/31105, Batch Loss: 3.7647, Avg Loss So Far: 4.2384\n"
     ]
    },
    {
     "name": "stdout",
     "output_type": "stream",
     "text": [
      "Epoch 1, Batch 25100/31105, Batch Loss: 3.7647, Avg Loss So Far: 4.2384\n"
     ]
    },
    {
     "name": "stderr",
     "output_type": "stream",
     "text": [
      "2025-03-31 01:32:16,309 - INFO - Epoch 1, Batch 25200/31105, Batch Loss: 3.6704, Avg Loss So Far: 4.2365\n"
     ]
    },
    {
     "name": "stdout",
     "output_type": "stream",
     "text": [
      "Epoch 1, Batch 25200/31105, Batch Loss: 3.6704, Avg Loss So Far: 4.2365\n"
     ]
    },
    {
     "name": "stderr",
     "output_type": "stream",
     "text": [
      "2025-03-31 01:32:21,834 - INFO - Epoch 1, Batch 25300/31105, Batch Loss: 3.7003, Avg Loss So Far: 4.2345\n"
     ]
    },
    {
     "name": "stdout",
     "output_type": "stream",
     "text": [
      "Epoch 1, Batch 25300/31105, Batch Loss: 3.7003, Avg Loss So Far: 4.2345\n"
     ]
    },
    {
     "name": "stderr",
     "output_type": "stream",
     "text": [
      "2025-03-31 01:32:27,375 - INFO - Epoch 1, Batch 25400/31105, Batch Loss: 3.6117, Avg Loss So Far: 4.2326\n"
     ]
    },
    {
     "name": "stdout",
     "output_type": "stream",
     "text": [
      "Epoch 1, Batch 25400/31105, Batch Loss: 3.6117, Avg Loss So Far: 4.2326\n"
     ]
    },
    {
     "name": "stderr",
     "output_type": "stream",
     "text": [
      "2025-03-31 01:32:32,941 - INFO - Epoch 1, Batch 25500/31105, Batch Loss: 3.6935, Avg Loss So Far: 4.2307\n"
     ]
    },
    {
     "name": "stdout",
     "output_type": "stream",
     "text": [
      "Epoch 1, Batch 25500/31105, Batch Loss: 3.6935, Avg Loss So Far: 4.2307\n"
     ]
    },
    {
     "name": "stderr",
     "output_type": "stream",
     "text": [
      "2025-03-31 01:32:38,473 - INFO - Epoch 1, Batch 25600/31105, Batch Loss: 3.7169, Avg Loss So Far: 4.2287\n"
     ]
    },
    {
     "name": "stdout",
     "output_type": "stream",
     "text": [
      "Epoch 1, Batch 25600/31105, Batch Loss: 3.7169, Avg Loss So Far: 4.2287\n"
     ]
    },
    {
     "name": "stderr",
     "output_type": "stream",
     "text": [
      "2025-03-31 01:32:43,993 - INFO - Epoch 1, Batch 25700/31105, Batch Loss: 3.7191, Avg Loss So Far: 4.2268\n"
     ]
    },
    {
     "name": "stdout",
     "output_type": "stream",
     "text": [
      "Epoch 1, Batch 25700/31105, Batch Loss: 3.7191, Avg Loss So Far: 4.2268\n"
     ]
    },
    {
     "name": "stderr",
     "output_type": "stream",
     "text": [
      "2025-03-31 01:32:49,555 - INFO - Epoch 1, Batch 25800/31105, Batch Loss: 3.7021, Avg Loss So Far: 4.2248\n"
     ]
    },
    {
     "name": "stdout",
     "output_type": "stream",
     "text": [
      "Epoch 1, Batch 25800/31105, Batch Loss: 3.7021, Avg Loss So Far: 4.2248\n"
     ]
    },
    {
     "name": "stderr",
     "output_type": "stream",
     "text": [
      "2025-03-31 01:32:55,094 - INFO - Epoch 1, Batch 25900/31105, Batch Loss: 3.5607, Avg Loss So Far: 4.2229\n"
     ]
    },
    {
     "name": "stdout",
     "output_type": "stream",
     "text": [
      "Epoch 1, Batch 25900/31105, Batch Loss: 3.5607, Avg Loss So Far: 4.2229\n"
     ]
    },
    {
     "name": "stderr",
     "output_type": "stream",
     "text": [
      "2025-03-31 01:33:00,616 - INFO - Epoch 1, Batch 26000/31105, Batch Loss: 3.6598, Avg Loss So Far: 4.2210\n"
     ]
    },
    {
     "name": "stdout",
     "output_type": "stream",
     "text": [
      "Epoch 1, Batch 26000/31105, Batch Loss: 3.6598, Avg Loss So Far: 4.2210\n"
     ]
    },
    {
     "name": "stderr",
     "output_type": "stream",
     "text": [
      "2025-03-31 01:33:06,152 - INFO - Epoch 1, Batch 26100/31105, Batch Loss: 3.7011, Avg Loss So Far: 4.2190\n"
     ]
    },
    {
     "name": "stdout",
     "output_type": "stream",
     "text": [
      "Epoch 1, Batch 26100/31105, Batch Loss: 3.7011, Avg Loss So Far: 4.2190\n"
     ]
    },
    {
     "name": "stderr",
     "output_type": "stream",
     "text": [
      "2025-03-31 01:33:11,717 - INFO - Epoch 1, Batch 26200/31105, Batch Loss: 3.6722, Avg Loss So Far: 4.2171\n"
     ]
    },
    {
     "name": "stdout",
     "output_type": "stream",
     "text": [
      "Epoch 1, Batch 26200/31105, Batch Loss: 3.6722, Avg Loss So Far: 4.2171\n"
     ]
    },
    {
     "name": "stderr",
     "output_type": "stream",
     "text": [
      "2025-03-31 01:33:17,257 - INFO - Epoch 1, Batch 26300/31105, Batch Loss: 3.5989, Avg Loss So Far: 4.2152\n"
     ]
    },
    {
     "name": "stdout",
     "output_type": "stream",
     "text": [
      "Epoch 1, Batch 26300/31105, Batch Loss: 3.5989, Avg Loss So Far: 4.2152\n"
     ]
    },
    {
     "name": "stderr",
     "output_type": "stream",
     "text": [
      "2025-03-31 01:33:22,763 - INFO - Epoch 1, Batch 26400/31105, Batch Loss: 3.6995, Avg Loss So Far: 4.2134\n"
     ]
    },
    {
     "name": "stdout",
     "output_type": "stream",
     "text": [
      "Epoch 1, Batch 26400/31105, Batch Loss: 3.6995, Avg Loss So Far: 4.2134\n"
     ]
    },
    {
     "name": "stderr",
     "output_type": "stream",
     "text": [
      "2025-03-31 01:33:28,321 - INFO - Epoch 1, Batch 26500/31105, Batch Loss: 3.7698, Avg Loss So Far: 4.2115\n"
     ]
    },
    {
     "name": "stdout",
     "output_type": "stream",
     "text": [
      "Epoch 1, Batch 26500/31105, Batch Loss: 3.7698, Avg Loss So Far: 4.2115\n"
     ]
    },
    {
     "name": "stderr",
     "output_type": "stream",
     "text": [
      "2025-03-31 01:33:33,862 - INFO - Epoch 1, Batch 26600/31105, Batch Loss: 3.6254, Avg Loss So Far: 4.2096\n"
     ]
    },
    {
     "name": "stdout",
     "output_type": "stream",
     "text": [
      "Epoch 1, Batch 26600/31105, Batch Loss: 3.6254, Avg Loss So Far: 4.2096\n"
     ]
    },
    {
     "name": "stderr",
     "output_type": "stream",
     "text": [
      "2025-03-31 01:33:39,381 - INFO - Epoch 1, Batch 26700/31105, Batch Loss: 3.7291, Avg Loss So Far: 4.2078\n"
     ]
    },
    {
     "name": "stdout",
     "output_type": "stream",
     "text": [
      "Epoch 1, Batch 26700/31105, Batch Loss: 3.7291, Avg Loss So Far: 4.2078\n"
     ]
    },
    {
     "name": "stderr",
     "output_type": "stream",
     "text": [
      "2025-03-31 01:33:44,929 - INFO - Epoch 1, Batch 26800/31105, Batch Loss: 3.7181, Avg Loss So Far: 4.2059\n"
     ]
    },
    {
     "name": "stdout",
     "output_type": "stream",
     "text": [
      "Epoch 1, Batch 26800/31105, Batch Loss: 3.7181, Avg Loss So Far: 4.2059\n"
     ]
    },
    {
     "name": "stderr",
     "output_type": "stream",
     "text": [
      "2025-03-31 01:33:50,484 - INFO - Epoch 1, Batch 26900/31105, Batch Loss: 3.6923, Avg Loss So Far: 4.2041\n"
     ]
    },
    {
     "name": "stdout",
     "output_type": "stream",
     "text": [
      "Epoch 1, Batch 26900/31105, Batch Loss: 3.6923, Avg Loss So Far: 4.2041\n"
     ]
    },
    {
     "name": "stderr",
     "output_type": "stream",
     "text": [
      "2025-03-31 01:33:56,004 - INFO - Epoch 1, Batch 27000/31105, Batch Loss: 3.8579, Avg Loss So Far: 4.2021\n"
     ]
    },
    {
     "name": "stdout",
     "output_type": "stream",
     "text": [
      "Epoch 1, Batch 27000/31105, Batch Loss: 3.8579, Avg Loss So Far: 4.2021\n"
     ]
    },
    {
     "name": "stderr",
     "output_type": "stream",
     "text": [
      "2025-03-31 01:34:01,533 - INFO - Epoch 1, Batch 27100/31105, Batch Loss: 3.6027, Avg Loss So Far: 4.2003\n"
     ]
    },
    {
     "name": "stdout",
     "output_type": "stream",
     "text": [
      "Epoch 1, Batch 27100/31105, Batch Loss: 3.6027, Avg Loss So Far: 4.2003\n"
     ]
    },
    {
     "name": "stderr",
     "output_type": "stream",
     "text": [
      "2025-03-31 01:34:07,103 - INFO - Epoch 1, Batch 27200/31105, Batch Loss: 3.8400, Avg Loss So Far: 4.1983\n"
     ]
    },
    {
     "name": "stdout",
     "output_type": "stream",
     "text": [
      "Epoch 1, Batch 27200/31105, Batch Loss: 3.8400, Avg Loss So Far: 4.1983\n"
     ]
    },
    {
     "name": "stderr",
     "output_type": "stream",
     "text": [
      "2025-03-31 01:34:12,628 - INFO - Epoch 1, Batch 27300/31105, Batch Loss: 3.6504, Avg Loss So Far: 4.1964\n"
     ]
    },
    {
     "name": "stdout",
     "output_type": "stream",
     "text": [
      "Epoch 1, Batch 27300/31105, Batch Loss: 3.6504, Avg Loss So Far: 4.1964\n"
     ]
    },
    {
     "name": "stderr",
     "output_type": "stream",
     "text": [
      "2025-03-31 01:34:18,163 - INFO - Epoch 1, Batch 27400/31105, Batch Loss: 3.6402, Avg Loss So Far: 4.1946\n"
     ]
    },
    {
     "name": "stdout",
     "output_type": "stream",
     "text": [
      "Epoch 1, Batch 27400/31105, Batch Loss: 3.6402, Avg Loss So Far: 4.1946\n"
     ]
    },
    {
     "name": "stderr",
     "output_type": "stream",
     "text": [
      "2025-03-31 01:34:23,683 - INFO - Epoch 1, Batch 27500/31105, Batch Loss: 3.5870, Avg Loss So Far: 4.1927\n"
     ]
    },
    {
     "name": "stdout",
     "output_type": "stream",
     "text": [
      "Epoch 1, Batch 27500/31105, Batch Loss: 3.5870, Avg Loss So Far: 4.1927\n"
     ]
    },
    {
     "name": "stderr",
     "output_type": "stream",
     "text": [
      "2025-03-31 01:34:29,234 - INFO - Epoch 1, Batch 27600/31105, Batch Loss: 3.6986, Avg Loss So Far: 4.1908\n"
     ]
    },
    {
     "name": "stdout",
     "output_type": "stream",
     "text": [
      "Epoch 1, Batch 27600/31105, Batch Loss: 3.6986, Avg Loss So Far: 4.1908\n"
     ]
    },
    {
     "name": "stderr",
     "output_type": "stream",
     "text": [
      "2025-03-31 01:34:34,762 - INFO - Epoch 1, Batch 27700/31105, Batch Loss: 3.7380, Avg Loss So Far: 4.1889\n"
     ]
    },
    {
     "name": "stdout",
     "output_type": "stream",
     "text": [
      "Epoch 1, Batch 27700/31105, Batch Loss: 3.7380, Avg Loss So Far: 4.1889\n"
     ]
    },
    {
     "name": "stderr",
     "output_type": "stream",
     "text": [
      "2025-03-31 01:34:40,288 - INFO - Epoch 1, Batch 27800/31105, Batch Loss: 3.7192, Avg Loss So Far: 4.1871\n"
     ]
    },
    {
     "name": "stdout",
     "output_type": "stream",
     "text": [
      "Epoch 1, Batch 27800/31105, Batch Loss: 3.7192, Avg Loss So Far: 4.1871\n"
     ]
    },
    {
     "name": "stderr",
     "output_type": "stream",
     "text": [
      "2025-03-31 01:34:45,840 - INFO - Epoch 1, Batch 27900/31105, Batch Loss: 3.5596, Avg Loss So Far: 4.1852\n"
     ]
    },
    {
     "name": "stdout",
     "output_type": "stream",
     "text": [
      "Epoch 1, Batch 27900/31105, Batch Loss: 3.5596, Avg Loss So Far: 4.1852\n"
     ]
    },
    {
     "name": "stderr",
     "output_type": "stream",
     "text": [
      "2025-03-31 01:34:51,374 - INFO - Epoch 1, Batch 28000/31105, Batch Loss: 3.8342, Avg Loss So Far: 4.1833\n"
     ]
    },
    {
     "name": "stdout",
     "output_type": "stream",
     "text": [
      "Epoch 1, Batch 28000/31105, Batch Loss: 3.8342, Avg Loss So Far: 4.1833\n"
     ]
    },
    {
     "name": "stderr",
     "output_type": "stream",
     "text": [
      "2025-03-31 01:34:56,895 - INFO - Epoch 1, Batch 28100/31105, Batch Loss: 3.7668, Avg Loss So Far: 4.1815\n"
     ]
    },
    {
     "name": "stdout",
     "output_type": "stream",
     "text": [
      "Epoch 1, Batch 28100/31105, Batch Loss: 3.7668, Avg Loss So Far: 4.1815\n"
     ]
    },
    {
     "name": "stderr",
     "output_type": "stream",
     "text": [
      "2025-03-31 01:35:02,419 - INFO - Epoch 1, Batch 28200/31105, Batch Loss: 3.7181, Avg Loss So Far: 4.1797\n"
     ]
    },
    {
     "name": "stdout",
     "output_type": "stream",
     "text": [
      "Epoch 1, Batch 28200/31105, Batch Loss: 3.7181, Avg Loss So Far: 4.1797\n"
     ]
    },
    {
     "name": "stderr",
     "output_type": "stream",
     "text": [
      "2025-03-31 01:35:07,974 - INFO - Epoch 1, Batch 28300/31105, Batch Loss: 3.5155, Avg Loss So Far: 4.1779\n"
     ]
    },
    {
     "name": "stdout",
     "output_type": "stream",
     "text": [
      "Epoch 1, Batch 28300/31105, Batch Loss: 3.5155, Avg Loss So Far: 4.1779\n"
     ]
    },
    {
     "name": "stderr",
     "output_type": "stream",
     "text": [
      "2025-03-31 01:35:13,491 - INFO - Epoch 1, Batch 28400/31105, Batch Loss: 3.5902, Avg Loss So Far: 4.1761\n"
     ]
    },
    {
     "name": "stdout",
     "output_type": "stream",
     "text": [
      "Epoch 1, Batch 28400/31105, Batch Loss: 3.5902, Avg Loss So Far: 4.1761\n"
     ]
    },
    {
     "name": "stderr",
     "output_type": "stream",
     "text": [
      "2025-03-31 01:35:19,028 - INFO - Epoch 1, Batch 28500/31105, Batch Loss: 3.6840, Avg Loss So Far: 4.1743\n"
     ]
    },
    {
     "name": "stdout",
     "output_type": "stream",
     "text": [
      "Epoch 1, Batch 28500/31105, Batch Loss: 3.6840, Avg Loss So Far: 4.1743\n"
     ]
    },
    {
     "name": "stderr",
     "output_type": "stream",
     "text": [
      "2025-03-31 01:35:24,577 - INFO - Epoch 1, Batch 28600/31105, Batch Loss: 3.6465, Avg Loss So Far: 4.1724\n"
     ]
    },
    {
     "name": "stdout",
     "output_type": "stream",
     "text": [
      "Epoch 1, Batch 28600/31105, Batch Loss: 3.6465, Avg Loss So Far: 4.1724\n"
     ]
    },
    {
     "name": "stderr",
     "output_type": "stream",
     "text": [
      "2025-03-31 01:35:30,098 - INFO - Epoch 1, Batch 28700/31105, Batch Loss: 3.5259, Avg Loss So Far: 4.1706\n"
     ]
    },
    {
     "name": "stdout",
     "output_type": "stream",
     "text": [
      "Epoch 1, Batch 28700/31105, Batch Loss: 3.5259, Avg Loss So Far: 4.1706\n"
     ]
    },
    {
     "name": "stderr",
     "output_type": "stream",
     "text": [
      "2025-03-31 01:35:35,625 - INFO - Epoch 1, Batch 28800/31105, Batch Loss: 3.6020, Avg Loss So Far: 4.1688\n"
     ]
    },
    {
     "name": "stdout",
     "output_type": "stream",
     "text": [
      "Epoch 1, Batch 28800/31105, Batch Loss: 3.6020, Avg Loss So Far: 4.1688\n"
     ]
    },
    {
     "name": "stderr",
     "output_type": "stream",
     "text": [
      "2025-03-31 01:35:41,152 - INFO - Epoch 1, Batch 28900/31105, Batch Loss: 3.4563, Avg Loss So Far: 4.1670\n"
     ]
    },
    {
     "name": "stdout",
     "output_type": "stream",
     "text": [
      "Epoch 1, Batch 28900/31105, Batch Loss: 3.4563, Avg Loss So Far: 4.1670\n"
     ]
    },
    {
     "name": "stderr",
     "output_type": "stream",
     "text": [
      "2025-03-31 01:35:46,709 - INFO - Epoch 1, Batch 29000/31105, Batch Loss: 3.6326, Avg Loss So Far: 4.1652\n"
     ]
    },
    {
     "name": "stdout",
     "output_type": "stream",
     "text": [
      "Epoch 1, Batch 29000/31105, Batch Loss: 3.6326, Avg Loss So Far: 4.1652\n"
     ]
    },
    {
     "name": "stderr",
     "output_type": "stream",
     "text": [
      "2025-03-31 01:35:52,249 - INFO - Epoch 1, Batch 29100/31105, Batch Loss: 3.7285, Avg Loss So Far: 4.1634\n"
     ]
    },
    {
     "name": "stdout",
     "output_type": "stream",
     "text": [
      "Epoch 1, Batch 29100/31105, Batch Loss: 3.7285, Avg Loss So Far: 4.1634\n"
     ]
    },
    {
     "name": "stderr",
     "output_type": "stream",
     "text": [
      "2025-03-31 01:35:57,790 - INFO - Epoch 1, Batch 29200/31105, Batch Loss: 3.7743, Avg Loss So Far: 4.1616\n"
     ]
    },
    {
     "name": "stdout",
     "output_type": "stream",
     "text": [
      "Epoch 1, Batch 29200/31105, Batch Loss: 3.7743, Avg Loss So Far: 4.1616\n"
     ]
    },
    {
     "name": "stderr",
     "output_type": "stream",
     "text": [
      "2025-03-31 01:36:03,328 - INFO - Epoch 1, Batch 29300/31105, Batch Loss: 3.8490, Avg Loss So Far: 4.1598\n"
     ]
    },
    {
     "name": "stdout",
     "output_type": "stream",
     "text": [
      "Epoch 1, Batch 29300/31105, Batch Loss: 3.8490, Avg Loss So Far: 4.1598\n"
     ]
    },
    {
     "name": "stderr",
     "output_type": "stream",
     "text": [
      "2025-03-31 01:36:08,856 - INFO - Epoch 1, Batch 29400/31105, Batch Loss: 3.5666, Avg Loss So Far: 4.1580\n"
     ]
    },
    {
     "name": "stdout",
     "output_type": "stream",
     "text": [
      "Epoch 1, Batch 29400/31105, Batch Loss: 3.5666, Avg Loss So Far: 4.1580\n"
     ]
    },
    {
     "name": "stderr",
     "output_type": "stream",
     "text": [
      "2025-03-31 01:36:14,383 - INFO - Epoch 1, Batch 29500/31105, Batch Loss: 3.6125, Avg Loss So Far: 4.1562\n"
     ]
    },
    {
     "name": "stdout",
     "output_type": "stream",
     "text": [
      "Epoch 1, Batch 29500/31105, Batch Loss: 3.6125, Avg Loss So Far: 4.1562\n"
     ]
    },
    {
     "name": "stderr",
     "output_type": "stream",
     "text": [
      "2025-03-31 01:36:19,907 - INFO - Epoch 1, Batch 29600/31105, Batch Loss: 3.6147, Avg Loss So Far: 4.1545\n"
     ]
    },
    {
     "name": "stdout",
     "output_type": "stream",
     "text": [
      "Epoch 1, Batch 29600/31105, Batch Loss: 3.6147, Avg Loss So Far: 4.1545\n"
     ]
    },
    {
     "name": "stderr",
     "output_type": "stream",
     "text": [
      "2025-03-31 01:36:25,463 - INFO - Epoch 1, Batch 29700/31105, Batch Loss: 3.6902, Avg Loss So Far: 4.1527\n"
     ]
    },
    {
     "name": "stdout",
     "output_type": "stream",
     "text": [
      "Epoch 1, Batch 29700/31105, Batch Loss: 3.6902, Avg Loss So Far: 4.1527\n"
     ]
    },
    {
     "name": "stderr",
     "output_type": "stream",
     "text": [
      "2025-03-31 01:36:30,988 - INFO - Epoch 1, Batch 29800/31105, Batch Loss: 3.4932, Avg Loss So Far: 4.1509\n"
     ]
    },
    {
     "name": "stdout",
     "output_type": "stream",
     "text": [
      "Epoch 1, Batch 29800/31105, Batch Loss: 3.4932, Avg Loss So Far: 4.1509\n"
     ]
    },
    {
     "name": "stderr",
     "output_type": "stream",
     "text": [
      "2025-03-31 01:36:36,509 - INFO - Epoch 1, Batch 29900/31105, Batch Loss: 3.5732, Avg Loss So Far: 4.1491\n"
     ]
    },
    {
     "name": "stdout",
     "output_type": "stream",
     "text": [
      "Epoch 1, Batch 29900/31105, Batch Loss: 3.5732, Avg Loss So Far: 4.1491\n"
     ]
    },
    {
     "name": "stderr",
     "output_type": "stream",
     "text": [
      "2025-03-31 01:36:42,060 - INFO - Epoch 1, Batch 30000/31105, Batch Loss: 3.5678, Avg Loss So Far: 4.1473\n"
     ]
    },
    {
     "name": "stdout",
     "output_type": "stream",
     "text": [
      "Epoch 1, Batch 30000/31105, Batch Loss: 3.5678, Avg Loss So Far: 4.1473\n"
     ]
    },
    {
     "name": "stderr",
     "output_type": "stream",
     "text": [
      "2025-03-31 01:36:47,602 - INFO - Epoch 1, Batch 30100/31105, Batch Loss: 3.6648, Avg Loss So Far: 4.1455\n"
     ]
    },
    {
     "name": "stdout",
     "output_type": "stream",
     "text": [
      "Epoch 1, Batch 30100/31105, Batch Loss: 3.6648, Avg Loss So Far: 4.1455\n"
     ]
    },
    {
     "name": "stderr",
     "output_type": "stream",
     "text": [
      "2025-03-31 01:36:53,120 - INFO - Epoch 1, Batch 30200/31105, Batch Loss: 3.4404, Avg Loss So Far: 4.1438\n"
     ]
    },
    {
     "name": "stdout",
     "output_type": "stream",
     "text": [
      "Epoch 1, Batch 30200/31105, Batch Loss: 3.4404, Avg Loss So Far: 4.1438\n"
     ]
    },
    {
     "name": "stderr",
     "output_type": "stream",
     "text": [
      "2025-03-31 01:36:58,655 - INFO - Epoch 1, Batch 30300/31105, Batch Loss: 3.6401, Avg Loss So Far: 4.1420\n"
     ]
    },
    {
     "name": "stdout",
     "output_type": "stream",
     "text": [
      "Epoch 1, Batch 30300/31105, Batch Loss: 3.6401, Avg Loss So Far: 4.1420\n"
     ]
    },
    {
     "name": "stderr",
     "output_type": "stream",
     "text": [
      "2025-03-31 01:37:04,225 - INFO - Epoch 1, Batch 30400/31105, Batch Loss: 3.7321, Avg Loss So Far: 4.1403\n"
     ]
    },
    {
     "name": "stdout",
     "output_type": "stream",
     "text": [
      "Epoch 1, Batch 30400/31105, Batch Loss: 3.7321, Avg Loss So Far: 4.1403\n"
     ]
    },
    {
     "name": "stderr",
     "output_type": "stream",
     "text": [
      "2025-03-31 01:37:09,748 - INFO - Epoch 1, Batch 30500/31105, Batch Loss: 3.5387, Avg Loss So Far: 4.1386\n"
     ]
    },
    {
     "name": "stdout",
     "output_type": "stream",
     "text": [
      "Epoch 1, Batch 30500/31105, Batch Loss: 3.5387, Avg Loss So Far: 4.1386\n"
     ]
    },
    {
     "name": "stderr",
     "output_type": "stream",
     "text": [
      "2025-03-31 01:37:15,290 - INFO - Epoch 1, Batch 30600/31105, Batch Loss: 3.5492, Avg Loss So Far: 4.1368\n"
     ]
    },
    {
     "name": "stdout",
     "output_type": "stream",
     "text": [
      "Epoch 1, Batch 30600/31105, Batch Loss: 3.5492, Avg Loss So Far: 4.1368\n"
     ]
    },
    {
     "name": "stderr",
     "output_type": "stream",
     "text": [
      "2025-03-31 01:37:20,846 - INFO - Epoch 1, Batch 30700/31105, Batch Loss: 3.6006, Avg Loss So Far: 4.1351\n"
     ]
    },
    {
     "name": "stdout",
     "output_type": "stream",
     "text": [
      "Epoch 1, Batch 30700/31105, Batch Loss: 3.6006, Avg Loss So Far: 4.1351\n"
     ]
    },
    {
     "name": "stderr",
     "output_type": "stream",
     "text": [
      "2025-03-31 01:37:26,392 - INFO - Epoch 1, Batch 30800/31105, Batch Loss: 3.4709, Avg Loss So Far: 4.1333\n"
     ]
    },
    {
     "name": "stdout",
     "output_type": "stream",
     "text": [
      "Epoch 1, Batch 30800/31105, Batch Loss: 3.4709, Avg Loss So Far: 4.1333\n"
     ]
    },
    {
     "name": "stderr",
     "output_type": "stream",
     "text": [
      "2025-03-31 01:37:31,946 - INFO - Epoch 1, Batch 30900/31105, Batch Loss: 3.6718, Avg Loss So Far: 4.1315\n"
     ]
    },
    {
     "name": "stdout",
     "output_type": "stream",
     "text": [
      "Epoch 1, Batch 30900/31105, Batch Loss: 3.6718, Avg Loss So Far: 4.1315\n"
     ]
    },
    {
     "name": "stderr",
     "output_type": "stream",
     "text": [
      "2025-03-31 01:37:37,480 - INFO - Epoch 1, Batch 31000/31105, Batch Loss: 3.4123, Avg Loss So Far: 4.1297\n"
     ]
    },
    {
     "name": "stdout",
     "output_type": "stream",
     "text": [
      "Epoch 1, Batch 31000/31105, Batch Loss: 3.4123, Avg Loss So Far: 4.1297\n"
     ]
    },
    {
     "name": "stderr",
     "output_type": "stream",
     "text": [
      "2025-03-31 01:37:43,010 - INFO - Epoch 1, Batch 31100/31105, Batch Loss: 3.5172, Avg Loss So Far: 4.1280\n"
     ]
    },
    {
     "name": "stdout",
     "output_type": "stream",
     "text": [
      "Epoch 1, Batch 31100/31105, Batch Loss: 3.5172, Avg Loss So Far: 4.1280\n"
     ]
    },
    {
     "name": "stderr",
     "output_type": "stream",
     "text": [
      "2025-03-31 01:37:43,276 - INFO - Epoch 1 Summary, Avg Loss: 4.1280\n",
      "2025-03-31 01:37:43,324 - INFO - Model saved to lstm_model_new.pth\n",
      "2025-03-31 01:37:43,324 - INFO - Training completed\n"
     ]
    },
    {
     "name": "stdout",
     "output_type": "stream",
     "text": [
      "Epoch 1 Summary, Avg Loss: 4.1280\n",
      "Model saved to lstm_model_new.pth\n",
      "Training log saved to: training_log_20250331_005931.log\n"
     ]
    }
   ],
   "source": [
    "def setup_logging():\n",
    "    timestamp = datetime.now().strftime(\"%Y%m%d_%H%M%S\")\n",
    "    log_filename = f\"training_log_{timestamp}.log\"\n",
    "    \n",
    "    logger = logging.getLogger()\n",
    "    for handler in logger.handlers[:]: \n",
    "        logger.removeHandler(handler)\n",
    "    \n",
    "    logger.setLevel(logging.INFO)\n",
    "    \n",
    "    file_handler = logging.FileHandler(log_filename)\n",
    "    file_handler.setLevel(logging.INFO)\n",
    "    file_handler.setFormatter(logging.Formatter('%(asctime)s - %(levelname)s - %(message)s'))\n",
    "    logger.addHandler(file_handler)\n",
    "    \n",
    "    console_handler = logging.StreamHandler()\n",
    "    console_handler.setLevel(logging.INFO)\n",
    "    console_handler.setFormatter(logging.Formatter('%(asctime)s - %(levelname)s - %(message)s'))\n",
    "    logger.addHandler(console_handler)\n",
    "    \n",
    "    return log_filename\n",
    "\n",
    "def train_model(model, train_loader, epochs=3, log_interval=100, save_path=None):\n",
    "    log_filename = setup_logging()\n",
    "    logging.info(f\"Starting training with {epochs} epoch(s), log_interval={log_interval}\")\n",
    "    \n",
    "    criterion = nn.CrossEntropyLoss()\n",
    "    optimizer = torch.optim.Adam(model.parameters(), lr=0.001)\n",
    "    losses = []\n",
    "    \n",
    "    for epoch in range(epochs):\n",
    "        model.train()\n",
    "        total_loss = 0\n",
    "        for batch_idx, (batch_input, batch_target) in enumerate(train_loader):\n",
    "            optimizer.zero_grad()\n",
    "            logits, _ = model(batch_input)\n",
    "            loss = criterion(logits.view(-1, vocab_size), batch_target.view(-1))\n",
    "            loss.backward()\n",
    "            optimizer.step()\n",
    "            total_loss += loss.item()\n",
    "            \n",
    "            if (batch_idx + 1) % log_interval == 0:\n",
    "                avg_loss_so_far = total_loss / (batch_idx + 1)\n",
    "                log_message = (f\"Epoch {epoch+1}, Batch {batch_idx+1}/{len(train_loader)}, \"\n",
    "                              f\"Batch Loss: {loss.item():.4f}, Avg Loss So Far: {avg_loss_so_far:.4f}\")\n",
    "                print(log_message)\n",
    "                logging.info(log_message)\n",
    "        \n",
    "        avg_loss = total_loss / len(train_loader)\n",
    "        losses.append(avg_loss)\n",
    "        summary_message = f\"Epoch {epoch+1} Summary, Avg Loss: {avg_loss:.4f}\"\n",
    "        print(summary_message)\n",
    "        logging.info(summary_message)\n",
    "    \n",
    "    if save_path is not None:\n",
    "        torch.save(model.state_dict(), save_path)\n",
    "        logging.info(f\"Model saved to {save_path}\")\n",
    "        print(f\"Model saved to {save_path}\")\n",
    "    \n",
    "    logging.info(\"Training completed\")\n",
    "    print(f\"Training log saved to: {log_filename}\")\n",
    "    return losses\n",
    "\n",
    "\n",
    "print(\"Training LSTM model...\")\n",
    "save_path = \"lstm_model_new.pth\"  \n",
    "lstm_losses = train_model(lstm_model, train_loader, epochs=1, log_interval=100, save_path=save_path)"
   ]
  },
  {
   "cell_type": "code",
   "execution_count": 38,
   "metadata": {},
   "outputs": [],
   "source": [
    "import torch.nn.functional as F\n",
    "import math\n",
    "\n",
    "def evaluate_perplexity(model, data_loader):\n",
    "    model.eval()\n",
    "    total_loss = 0\n",
    "    total_tokens = 0\n",
    "    \n",
    "    criterion = nn.CrossEntropyLoss(ignore_index=0, reduction='none')\n",
    "    \n",
    "    with torch.no_grad():\n",
    "        for inputs, targets in data_loader:\n",
    "            outputs, _ = model(inputs)\n",
    "            loss = criterion(outputs.view(-1, outputs.size(-1)), targets.view(-1))\n",
    "            mask = targets != 0\n",
    "            batch_loss = loss[mask.view(-1)].sum().item()\n",
    "            batch_tokens = mask.sum().item()\n",
    "            total_loss += batch_loss\n",
    "            total_tokens += batch_tokens\n",
    "    \n",
    "    if total_tokens == 0:\n",
    "        raise ValueError(\"No non-padding tokens found in the dataset. Check your data or padding index.\")\n",
    "    \n",
    "    avg_loss = total_loss / total_tokens\n",
    "    perplexity = math.exp(avg_loss)\n",
    "    print(f\"Total non-padding tokens: {total_tokens}\")\n",
    "    print(f\"Total loss: {total_loss:.4f}\")\n",
    "    print(f\"Average loss: {avg_loss:.4f}\")\n",
    "    print(f\"Perplexity: {perplexity:.2f}\")\n",
    "    return perplexity\n"
   ]
  },
  {
   "cell_type": "code",
   "execution_count": 40,
   "metadata": {},
   "outputs": [
    {
     "name": "stdout",
     "output_type": "stream",
     "text": [
      "Total non-padding tokens: 1105920\n",
      "Total loss: 3893216.0881\n",
      "Average loss: 3.5203\n",
      "Perplexity: 33.80\n",
      "LSTM Test Perplexity: 33.80\n"
     ]
    }
   ],
   "source": [
    "lstm_model=LSTM_LM(vocab_size,embed_size,hidden_size,num_layers,bidirectional)\n",
    "lstm_model.load_state_dict(torch.load('lstm_model_new.pth'))\n",
    "lstm_model.eval()\n",
    "lstm_perplexity = evaluate_perplexity(lstm_model, test_loader)\n",
    "print(f\"LSTM Test Perplexity: {lstm_perplexity:.2f}\")"
   ]
  },
  {
   "cell_type": "code",
   "execution_count": 42,
   "metadata": {},
   "outputs": [],
   "source": [
    "import torch\n",
    "import torch.nn as nn\n",
    "import torch.nn.functional as F\n",
    "from nltk.tokenize import word_tokenize\n",
    "\n",
    "def generate_text(model, prefix, vocab, max_length=50, device=\"cpu\", temperature=1.0, top_k=5):\n",
    "    model.eval()\n",
    "    with torch.no_grad():\n",
    "        # 将前缀转换为索引张量\n",
    "        prefix_words = word_tokenize(prefix.lower())\n",
    "        prefix_indices = [vocab.get(word, vocab['<UNK>']) for word in prefix_words]\n",
    "        input_seq = torch.tensor(prefix_indices, dtype=torch.long).unsqueeze(0).to(device)  # 增加批次维度\n",
    "        \n",
    "        # 初始化隐藏状态 (LSTM 使用元组 (h_0, c_0))\n",
    "        hidden = model.init_hidden(1, device)\n",
    "\n",
    "        # 生成序列\n",
    "        generated_indices = prefix_indices.copy()\n",
    "\n",
    "        for _ in range(max_length - len(prefix_indices)):\n",
    "            # 前向传播\n",
    "            output, hidden = model(input_seq, hidden)  # hidden 是元组\n",
    "\n",
    "            # 获取最后一个输出进行预测\n",
    "            last_output = output[:, -1, :] / temperature  # 应用温度\n",
    "\n",
    "            # top-k 采样\n",
    "            values, indices = torch.topk(last_output, top_k)\n",
    "            probs = F.softmax(values, dim=-1)\n",
    "            next_word_idx = torch.multinomial(probs, 1).item()  # 从 top-k 中采样\n",
    "            next_word_idx = indices[0][next_word_idx].item()\n",
    "\n",
    "            # 追加新词\n",
    "            generated_indices.append(next_word_idx)\n",
    "            \n",
    "            # 准备下一个输入（移位）\n",
    "            input_seq = torch.tensor([next_word_idx], dtype=torch.long).unsqueeze(0).to(device)\n",
    "\n",
    "            # 检查停止条件：如果生成句号或标点符号，提前停止\n",
    "            if next_word_idx in [vocab.get('.', vocab['<UNK>']), vocab.get('!', vocab['<UNK>']), vocab.get('?', vocab['<UNK>'])]:\n",
    "                break\n",
    "\n",
    "        # 将索引转换回单词\n",
    "        vocab_reverse = {v: k for k, v in vocab.items()}\n",
    "        generated_words = [vocab_reverse.get(idx, '<UNK>') for idx in generated_indices]\n",
    "\n",
    "        # 清理句子：移除多余的句号和重复词\n",
    "        final_sentence = \" \".join(generated_words).replace(\" .\", \".\").replace(\"  \", \" \").strip()\n",
    "        return final_sentence\n"
   ]
  },
  {
   "cell_type": "code",
   "execution_count": 43,
   "metadata": {},
   "outputs": [
    {
     "name": "stdout",
     "output_type": "stream",
     "text": [
      "\n",
      "Generating 5 pairs of sentences (LSTM):\n",
      "\n",
      "Prefix: Harry looked\n",
      "LSTM: harry looked at ron who was looking at harry as though he could not believe it.he had been thinking about the stone wall behind the desk his head bawling\n",
      "\n",
      "Prefix: Hermione said\n",
      "LSTM: hermione said harry in a low voice that was still very odd indeed and as he had never heard him and he could not see the outline of the school\n",
      "\n",
      "Prefix: Ron shouted\n",
      "LSTM: ron shouted as harry and ron stared at each other harry could see the combs a little misty brown dress over the thuds of a large barn owl who was\n",
      "\n",
      "Prefix: Dumbledore stood\n",
      "LSTM: dumbledore stood up and striding back onto the floor.the slopingshouldered figure of a witch who was still standing in the middle of the room with an almighty crash that\n",
      "\n",
      "Prefix: Snape glared\n",
      "LSTM: snape glared at harry as they passed and was at his heels of darkness powder into the air.several one of the death eaters were laughing in the distance.he\n"
     ]
    }
   ],
   "source": [
    "# 确保模型和设备设置正确\n",
    "device = torch.device(\"cuda\" if torch.cuda.is_available() else \"cpu\")\n",
    "lstm_model = LSTM_LM(vocab_size, embed_size, hidden_size, num_layers, bidirectional).to(device)\n",
    "lstm_model.load_state_dict(torch.load('lstm_model_new.pth'))\n",
    "lstm_model.eval()\n",
    "\n",
    "# 生成 5 个句子\n",
    "prefixes = [\n",
    "    \"Harry looked\",\n",
    "    \"Hermione said\",\n",
    "    \"Ron shouted\",\n",
    "    \"Dumbledore stood\",\n",
    "    \"Snape glared\"\n",
    "]\n",
    "\n",
    "print(\"\\nGenerating 5 pairs of sentences (LSTM):\")\n",
    "for prefix in prefixes:\n",
    "    lstm_sentence = generate_text(lstm_model, prefix, vocab, max_length=30, device=device, temperature=0.8, top_k=5)\n",
    "    print(f\"\\nPrefix: {prefix}\")\n",
    "    print(f\"LSTM: {lstm_sentence}\")"
   ]
  },
  {
   "cell_type": "markdown",
   "metadata": {},
   "source": [
    "# Two conditions"
   ]
  },
  {
   "cell_type": "code",
   "execution_count": null,
   "metadata": {},
   "outputs": [],
   "source": [
    "def train_model(model, train_loader, epochs=10, log_interval=100, save_path=None):\n",
    "    criterion = nn.CrossEntropyLoss()\n",
    "    optimizer = torch.optim.Adam(model.parameters(), lr=0.001)\n",
    "    losses = []  # 存储每个 batch 的损失\n",
    "    \n",
    "    for epoch in range(epochs):\n",
    "        model.train()\n",
    "        total_loss = 0\n",
    "        \n",
    "        for batch_idx, (batch_input, batch_target) in enumerate(train_loader):\n",
    "            batch_input, batch_target = batch_input.to(device), batch_target.to(device)\n",
    "            optimizer.zero_grad()\n",
    "            logits, _ = model(batch_input)\n",
    "            loss = criterion(logits.view(-1, vocab_size), batch_target.view(-1))\n",
    "            loss.backward()\n",
    "            optimizer.step()\n",
    "            total_loss += loss.item()\n",
    "            \n",
    "            losses.append(loss.item())\n",
    "            if (batch_idx + 1) % log_interval == 0:\n",
    "                avg_loss = total_loss / (batch_idx + 1)\n",
    "                print(f\"Epoch {epoch+1}, Batch {batch_idx+1}/{len(train_loader)}, Loss: {avg_loss:.4f}\")\n",
    "        \n",
    "        avg_loss = total_loss / len(train_loader)\n",
    "        print(f\"Epoch {epoch+1} Summary, Avg Loss: {avg_loss:.4f}\")\n",
    "    \n",
    "    if save_path is not None:\n",
    "        torch.save(model.state_dict(), save_path)\n",
    "    \n",
    "    return losses"
   ]
  },
  {
   "cell_type": "code",
   "execution_count": null,
   "metadata": {},
   "outputs": [],
   "source": [
    "device = torch.device(\"cuda\" if torch.cuda.is_available() else \"cpu\")\n",
    "\n",
    "def load_glove_embeddings(vocab, embed_size=200):\n",
    "    glove_vectors = api.load(\"glove-wiki-gigaword-200\")  \n",
    "    embedding_matrix = np.zeros((len(vocab), embed_size))  \n",
    "    \n",
    "    word2idx = vocab  \n",
    "    found_count = 0\n",
    "    \n",
    "    for word, idx in word2idx.items():\n",
    "        if word in glove_vectors:\n",
    "            embedding_matrix[idx] = glove_vectors[word]\n",
    "            found_count += 1\n",
    "        else:\n",
    "            # 如果单词不在 GloVe 中，保持为零向量或随机初始化\n",
    "            embedding_matrix[idx] = np.random.normal(0, 0.1, embed_size)\n",
    "    \n",
    "    print(f\"Found {found_count}/{len(vocab)} words in GloVe embeddings.\")\n",
    "    return torch.tensor(embedding_matrix, dtype=torch.float32)"
   ]
  },
  {
   "cell_type": "code",
   "execution_count": null,
   "metadata": {},
   "outputs": [
    {
     "name": "stdout",
     "output_type": "stream",
     "text": [
      "Found 19331/26355 words in GloVe embeddings.\n",
      "Epoch 1, Batch 100/31105, Loss: 7.7400\n",
      "Epoch 1, Batch 200/31105, Loss: 7.4706\n",
      "Epoch 1, Batch 300/31105, Loss: 7.3557\n",
      "Epoch 1, Batch 400/31105, Loss: 7.2865\n",
      "Epoch 1, Batch 500/31105, Loss: 7.2339\n",
      "Epoch 1, Batch 600/31105, Loss: 7.1832\n",
      "Epoch 1, Batch 700/31105, Loss: 7.1351\n",
      "Epoch 1, Batch 800/31105, Loss: 7.0874\n",
      "Epoch 1, Batch 900/31105, Loss: 7.0380\n",
      "Epoch 1, Batch 1000/31105, Loss: 6.9885\n",
      "Epoch 1, Batch 1100/31105, Loss: 6.9379\n",
      "Epoch 1, Batch 1200/31105, Loss: 6.8921\n",
      "Epoch 1, Batch 1300/31105, Loss: 6.8466\n",
      "Epoch 1, Batch 1400/31105, Loss: 6.8039\n",
      "Epoch 1, Batch 1500/31105, Loss: 6.7625\n",
      "Epoch 1, Batch 1600/31105, Loss: 6.7231\n",
      "Epoch 1, Batch 1700/31105, Loss: 6.6853\n",
      "Epoch 1, Batch 1800/31105, Loss: 6.6490\n",
      "Epoch 1, Batch 1900/31105, Loss: 6.6146\n",
      "Epoch 1, Batch 2000/31105, Loss: 6.5813\n",
      "Epoch 1, Batch 2100/31105, Loss: 6.5492\n",
      "Epoch 1, Batch 2200/31105, Loss: 6.5190\n",
      "Epoch 1, Batch 2300/31105, Loss: 6.4899\n",
      "Epoch 1, Batch 2400/31105, Loss: 6.4609\n",
      "Epoch 1, Batch 2500/31105, Loss: 6.4329\n",
      "Epoch 1, Batch 2600/31105, Loss: 6.4060\n",
      "Epoch 1, Batch 2700/31105, Loss: 6.3801\n",
      "Epoch 1, Batch 2800/31105, Loss: 6.3555\n",
      "Epoch 1, Batch 2900/31105, Loss: 6.3319\n",
      "Epoch 1, Batch 3000/31105, Loss: 6.3086\n",
      "Epoch 1, Batch 3100/31105, Loss: 6.2866\n",
      "Epoch 1, Batch 3200/31105, Loss: 6.2658\n",
      "Epoch 1, Batch 3300/31105, Loss: 6.2454\n",
      "Epoch 1, Batch 3400/31105, Loss: 6.2253\n",
      "Epoch 1, Batch 3500/31105, Loss: 6.2056\n",
      "Epoch 1, Batch 3600/31105, Loss: 6.1865\n",
      "Epoch 1, Batch 3700/31105, Loss: 6.1679\n",
      "Epoch 1, Batch 3800/31105, Loss: 6.1492\n",
      "Epoch 1, Batch 3900/31105, Loss: 6.1318\n",
      "Epoch 1, Batch 4000/31105, Loss: 6.1153\n",
      "Epoch 1, Batch 4100/31105, Loss: 6.0982\n",
      "Epoch 1, Batch 4200/31105, Loss: 6.0822\n",
      "Epoch 1, Batch 4300/31105, Loss: 6.0661\n",
      "Epoch 1, Batch 4400/31105, Loss: 6.0499\n",
      "Epoch 1, Batch 4500/31105, Loss: 6.0354\n",
      "Epoch 1, Batch 4600/31105, Loss: 6.0209\n",
      "Epoch 1, Batch 4700/31105, Loss: 6.0064\n",
      "Epoch 1, Batch 4800/31105, Loss: 5.9921\n",
      "Epoch 1, Batch 4900/31105, Loss: 5.9784\n",
      "Epoch 1, Batch 5000/31105, Loss: 5.9647\n",
      "Epoch 1, Batch 5100/31105, Loss: 5.9517\n",
      "Epoch 1, Batch 5200/31105, Loss: 5.9386\n",
      "Epoch 1, Batch 5300/31105, Loss: 5.9255\n",
      "Epoch 1, Batch 5400/31105, Loss: 5.9134\n",
      "Epoch 1, Batch 5500/31105, Loss: 5.9017\n",
      "Epoch 1, Batch 5600/31105, Loss: 5.8894\n",
      "Epoch 1, Batch 5700/31105, Loss: 5.8777\n",
      "Epoch 1, Batch 5800/31105, Loss: 5.8660\n",
      "Epoch 1, Batch 5900/31105, Loss: 5.8547\n",
      "Epoch 1, Batch 6000/31105, Loss: 5.8438\n",
      "Epoch 1, Batch 6100/31105, Loss: 5.8325\n",
      "Epoch 1, Batch 6200/31105, Loss: 5.8217\n",
      "Epoch 1, Batch 6300/31105, Loss: 5.8106\n",
      "Epoch 1, Batch 6400/31105, Loss: 5.8000\n",
      "Epoch 1, Batch 6500/31105, Loss: 5.7896\n",
      "Epoch 1, Batch 6600/31105, Loss: 5.7793\n",
      "Epoch 1, Batch 6700/31105, Loss: 5.7693\n",
      "Epoch 1, Batch 6800/31105, Loss: 5.7595\n",
      "Epoch 1, Batch 6900/31105, Loss: 5.7497\n",
      "Epoch 1, Batch 7000/31105, Loss: 5.7401\n",
      "Epoch 1, Batch 7100/31105, Loss: 5.7306\n",
      "Epoch 1, Batch 7200/31105, Loss: 5.7213\n",
      "Epoch 1, Batch 7300/31105, Loss: 5.7119\n",
      "Epoch 1, Batch 7400/31105, Loss: 5.7026\n",
      "Epoch 1, Batch 7500/31105, Loss: 5.6935\n",
      "Epoch 1, Batch 7600/31105, Loss: 5.6844\n",
      "Epoch 1, Batch 7700/31105, Loss: 5.6753\n",
      "Epoch 1, Batch 7800/31105, Loss: 5.6666\n",
      "Epoch 1, Batch 7900/31105, Loss: 5.6578\n",
      "Epoch 1, Batch 8000/31105, Loss: 5.6494\n",
      "Epoch 1, Batch 8100/31105, Loss: 5.6410\n",
      "Epoch 1, Batch 8200/31105, Loss: 5.6328\n",
      "Epoch 1, Batch 8300/31105, Loss: 5.6247\n",
      "Epoch 1, Batch 8400/31105, Loss: 5.6163\n",
      "Epoch 1, Batch 8500/31105, Loss: 5.6083\n",
      "Epoch 1, Batch 8600/31105, Loss: 5.6002\n",
      "Epoch 1, Batch 8700/31105, Loss: 5.5924\n",
      "Epoch 1, Batch 8800/31105, Loss: 5.5844\n",
      "Epoch 1, Batch 8900/31105, Loss: 5.5767\n",
      "Epoch 1, Batch 9000/31105, Loss: 5.5689\n",
      "Epoch 1, Batch 9100/31105, Loss: 5.5614\n",
      "Epoch 1, Batch 9200/31105, Loss: 5.5540\n",
      "Epoch 1, Batch 9300/31105, Loss: 5.5465\n",
      "Epoch 1, Batch 9400/31105, Loss: 5.5388\n",
      "Epoch 1, Batch 9500/31105, Loss: 5.5315\n",
      "Epoch 1, Batch 9600/31105, Loss: 5.5240\n",
      "Epoch 1, Batch 9700/31105, Loss: 5.5169\n",
      "Epoch 1, Batch 9800/31105, Loss: 5.5098\n",
      "Epoch 1, Batch 9900/31105, Loss: 5.5026\n",
      "Epoch 1, Batch 10000/31105, Loss: 5.4956\n",
      "Epoch 1, Batch 10100/31105, Loss: 5.4887\n",
      "Epoch 1, Batch 10200/31105, Loss: 5.4819\n",
      "Epoch 1, Batch 10300/31105, Loss: 5.4750\n",
      "Epoch 1, Batch 10400/31105, Loss: 5.4684\n",
      "Epoch 1, Batch 10500/31105, Loss: 5.4619\n",
      "Epoch 1, Batch 10600/31105, Loss: 5.4553\n",
      "Epoch 1, Batch 10700/31105, Loss: 5.4487\n",
      "Epoch 1, Batch 10800/31105, Loss: 5.4422\n",
      "Epoch 1, Batch 10900/31105, Loss: 5.4356\n",
      "Epoch 1, Batch 11000/31105, Loss: 5.4291\n",
      "Epoch 1, Batch 11100/31105, Loss: 5.4227\n",
      "Epoch 1, Batch 11200/31105, Loss: 5.4163\n",
      "Epoch 1, Batch 11300/31105, Loss: 5.4100\n",
      "Epoch 1, Batch 11400/31105, Loss: 5.4036\n",
      "Epoch 1, Batch 11500/31105, Loss: 5.3976\n",
      "Epoch 1, Batch 11600/31105, Loss: 5.3914\n",
      "Epoch 1, Batch 11700/31105, Loss: 5.3854\n",
      "Epoch 1, Batch 11800/31105, Loss: 5.3793\n",
      "Epoch 1, Batch 11900/31105, Loss: 5.3732\n",
      "Epoch 1, Batch 12000/31105, Loss: 5.3672\n",
      "Epoch 1, Batch 12100/31105, Loss: 5.3612\n",
      "Epoch 1, Batch 12200/31105, Loss: 5.3553\n",
      "Epoch 1, Batch 12300/31105, Loss: 5.3494\n",
      "Epoch 1, Batch 12400/31105, Loss: 5.3435\n",
      "Epoch 1, Batch 12500/31105, Loss: 5.3376\n",
      "Epoch 1, Batch 12600/31105, Loss: 5.3319\n",
      "Epoch 1, Batch 12700/31105, Loss: 5.3263\n",
      "Epoch 1, Batch 12800/31105, Loss: 5.3207\n",
      "Epoch 1, Batch 12900/31105, Loss: 5.3150\n",
      "Epoch 1, Batch 13000/31105, Loss: 5.3096\n",
      "Epoch 1, Batch 13100/31105, Loss: 5.3038\n",
      "Epoch 1, Batch 13200/31105, Loss: 5.2983\n",
      "Epoch 1, Batch 13300/31105, Loss: 5.2929\n",
      "Epoch 1, Batch 13400/31105, Loss: 5.2876\n",
      "Epoch 1, Batch 13500/31105, Loss: 5.2823\n",
      "Epoch 1, Batch 13600/31105, Loss: 5.2771\n",
      "Epoch 1, Batch 13700/31105, Loss: 5.2717\n",
      "Epoch 1, Batch 13800/31105, Loss: 5.2662\n",
      "Epoch 1, Batch 13900/31105, Loss: 5.2610\n",
      "Epoch 1, Batch 14000/31105, Loss: 5.2558\n",
      "Epoch 1, Batch 14100/31105, Loss: 5.2504\n",
      "Epoch 1, Batch 14200/31105, Loss: 5.2453\n",
      "Epoch 1, Batch 14300/31105, Loss: 5.2403\n",
      "Epoch 1, Batch 14400/31105, Loss: 5.2352\n",
      "Epoch 1, Batch 14500/31105, Loss: 5.2302\n",
      "Epoch 1, Batch 14600/31105, Loss: 5.2251\n",
      "Epoch 1, Batch 14700/31105, Loss: 5.2201\n",
      "Epoch 1, Batch 14800/31105, Loss: 5.2150\n",
      "Epoch 1, Batch 14900/31105, Loss: 5.2100\n",
      "Epoch 1, Batch 15000/31105, Loss: 5.2051\n",
      "Epoch 1, Batch 15100/31105, Loss: 5.2002\n",
      "Epoch 1, Batch 15200/31105, Loss: 5.1954\n",
      "Epoch 1, Batch 15300/31105, Loss: 5.1905\n",
      "Epoch 1, Batch 15400/31105, Loss: 5.1858\n",
      "Epoch 1, Batch 15500/31105, Loss: 5.1811\n",
      "Epoch 1, Batch 15600/31105, Loss: 5.1765\n",
      "Epoch 1, Batch 15700/31105, Loss: 5.1718\n",
      "Epoch 1, Batch 15800/31105, Loss: 5.1671\n",
      "Epoch 1, Batch 15900/31105, Loss: 5.1624\n",
      "Epoch 1, Batch 16000/31105, Loss: 5.1577\n",
      "Epoch 1, Batch 16100/31105, Loss: 5.1530\n",
      "Epoch 1, Batch 16200/31105, Loss: 5.1484\n",
      "Epoch 1, Batch 16300/31105, Loss: 5.1438\n",
      "Epoch 1, Batch 16400/31105, Loss: 5.1392\n",
      "Epoch 1, Batch 16500/31105, Loss: 5.1347\n",
      "Epoch 1, Batch 16600/31105, Loss: 5.1301\n",
      "Epoch 1, Batch 16700/31105, Loss: 5.1256\n",
      "Epoch 1, Batch 16800/31105, Loss: 5.1211\n",
      "Epoch 1, Batch 16900/31105, Loss: 5.1167\n",
      "Epoch 1, Batch 17000/31105, Loss: 5.1123\n",
      "Epoch 1, Batch 17100/31105, Loss: 5.1078\n",
      "Epoch 1, Batch 17200/31105, Loss: 5.1034\n",
      "Epoch 1, Batch 17300/31105, Loss: 5.0989\n",
      "Epoch 1, Batch 17400/31105, Loss: 5.0946\n",
      "Epoch 1, Batch 17500/31105, Loss: 5.0903\n",
      "Epoch 1, Batch 17600/31105, Loss: 5.0859\n",
      "Epoch 1, Batch 17700/31105, Loss: 5.0817\n",
      "Epoch 1, Batch 17800/31105, Loss: 5.0773\n",
      "Epoch 1, Batch 17900/31105, Loss: 5.0732\n",
      "Epoch 1, Batch 18000/31105, Loss: 5.0690\n",
      "Epoch 1, Batch 18100/31105, Loss: 5.0648\n",
      "Epoch 1, Batch 18200/31105, Loss: 5.0606\n",
      "Epoch 1, Batch 18300/31105, Loss: 5.0564\n",
      "Epoch 1, Batch 18400/31105, Loss: 5.0523\n",
      "Epoch 1, Batch 18500/31105, Loss: 5.0482\n",
      "Epoch 1, Batch 18600/31105, Loss: 5.0442\n",
      "Epoch 1, Batch 18700/31105, Loss: 5.0401\n",
      "Epoch 1, Batch 18800/31105, Loss: 5.0361\n",
      "Epoch 1, Batch 18900/31105, Loss: 5.0320\n",
      "Epoch 1, Batch 19000/31105, Loss: 5.0280\n",
      "Epoch 1, Batch 19100/31105, Loss: 5.0240\n",
      "Epoch 1, Batch 19200/31105, Loss: 5.0200\n",
      "Epoch 1, Batch 19300/31105, Loss: 5.0161\n",
      "Epoch 1, Batch 19400/31105, Loss: 5.0121\n",
      "Epoch 1, Batch 19500/31105, Loss: 5.0082\n",
      "Epoch 1, Batch 19600/31105, Loss: 5.0043\n",
      "Epoch 1, Batch 19700/31105, Loss: 5.0004\n",
      "Epoch 1, Batch 19800/31105, Loss: 4.9965\n",
      "Epoch 1, Batch 19900/31105, Loss: 4.9926\n",
      "Epoch 1, Batch 20000/31105, Loss: 4.9888\n",
      "Epoch 1, Batch 20100/31105, Loss: 4.9850\n",
      "Epoch 1, Batch 20200/31105, Loss: 4.9812\n",
      "Epoch 1, Batch 20300/31105, Loss: 4.9774\n",
      "Epoch 1, Batch 20400/31105, Loss: 4.9735\n",
      "Epoch 1, Batch 20500/31105, Loss: 4.9697\n",
      "Epoch 1, Batch 20600/31105, Loss: 4.9660\n",
      "Epoch 1, Batch 20700/31105, Loss: 4.9621\n",
      "Epoch 1, Batch 20800/31105, Loss: 4.9584\n",
      "Epoch 1, Batch 20900/31105, Loss: 4.9547\n",
      "Epoch 1, Batch 21000/31105, Loss: 4.9510\n",
      "Epoch 1, Batch 21100/31105, Loss: 4.9473\n",
      "Epoch 1, Batch 21200/31105, Loss: 4.9437\n",
      "Epoch 1, Batch 21300/31105, Loss: 4.9400\n",
      "Epoch 1, Batch 21400/31105, Loss: 4.9363\n",
      "Epoch 1, Batch 21500/31105, Loss: 4.9328\n",
      "Epoch 1, Batch 21600/31105, Loss: 4.9292\n",
      "Epoch 1, Batch 21700/31105, Loss: 4.9255\n",
      "Epoch 1, Batch 21800/31105, Loss: 4.9220\n",
      "Epoch 1, Batch 21900/31105, Loss: 4.9184\n",
      "Epoch 1, Batch 22000/31105, Loss: 4.9149\n",
      "Epoch 1, Batch 22100/31105, Loss: 4.9113\n",
      "Epoch 1, Batch 22200/31105, Loss: 4.9077\n",
      "Epoch 1, Batch 22300/31105, Loss: 4.9041\n",
      "Epoch 1, Batch 22400/31105, Loss: 4.9006\n",
      "Epoch 1, Batch 22500/31105, Loss: 4.8971\n",
      "Epoch 1, Batch 22600/31105, Loss: 4.8938\n",
      "Epoch 1, Batch 22700/31105, Loss: 4.8903\n",
      "Epoch 1, Batch 22800/31105, Loss: 4.8868\n",
      "Epoch 1, Batch 22900/31105, Loss: 4.8835\n",
      "Epoch 1, Batch 23000/31105, Loss: 4.8801\n",
      "Epoch 1, Batch 23100/31105, Loss: 4.8767\n",
      "Epoch 1, Batch 23200/31105, Loss: 4.8733\n",
      "Epoch 1, Batch 23300/31105, Loss: 4.8699\n",
      "Epoch 1, Batch 23400/31105, Loss: 4.8666\n",
      "Epoch 1, Batch 23500/31105, Loss: 4.8632\n",
      "Epoch 1, Batch 23600/31105, Loss: 4.8599\n",
      "Epoch 1, Batch 23700/31105, Loss: 4.8566\n",
      "Epoch 1, Batch 23800/31105, Loss: 4.8533\n",
      "Epoch 1, Batch 23900/31105, Loss: 4.8498\n",
      "Epoch 1, Batch 24000/31105, Loss: 4.8465\n",
      "Epoch 1, Batch 24100/31105, Loss: 4.8432\n",
      "Epoch 1, Batch 24200/31105, Loss: 4.8399\n",
      "Epoch 1, Batch 24300/31105, Loss: 4.8367\n",
      "Epoch 1, Batch 24400/31105, Loss: 4.8335\n",
      "Epoch 1, Batch 24500/31105, Loss: 4.8303\n",
      "Epoch 1, Batch 24600/31105, Loss: 4.8271\n",
      "Epoch 1, Batch 24700/31105, Loss: 4.8239\n",
      "Epoch 1, Batch 24800/31105, Loss: 4.8207\n",
      "Epoch 1, Batch 24900/31105, Loss: 4.8174\n",
      "Epoch 1, Batch 25000/31105, Loss: 4.8143\n",
      "Epoch 1, Batch 25100/31105, Loss: 4.8111\n",
      "Epoch 1, Batch 25200/31105, Loss: 4.8080\n",
      "Epoch 1, Batch 25300/31105, Loss: 4.8048\n",
      "Epoch 1, Batch 25400/31105, Loss: 4.8017\n",
      "Epoch 1, Batch 25500/31105, Loss: 4.7986\n",
      "Epoch 1, Batch 25600/31105, Loss: 4.7955\n",
      "Epoch 1, Batch 25700/31105, Loss: 4.7923\n",
      "Epoch 1, Batch 25800/31105, Loss: 4.7892\n",
      "Epoch 1, Batch 25900/31105, Loss: 4.7861\n",
      "Epoch 1, Batch 26000/31105, Loss: 4.7830\n",
      "Epoch 1, Batch 26100/31105, Loss: 4.7799\n",
      "Epoch 1, Batch 26200/31105, Loss: 4.7768\n",
      "Epoch 1, Batch 26300/31105, Loss: 4.7737\n",
      "Epoch 1, Batch 26400/31105, Loss: 4.7706\n",
      "Epoch 1, Batch 26500/31105, Loss: 4.7676\n",
      "Epoch 1, Batch 26600/31105, Loss: 4.7646\n",
      "Epoch 1, Batch 26700/31105, Loss: 4.7616\n",
      "Epoch 1, Batch 26800/31105, Loss: 4.7586\n",
      "Epoch 1, Batch 26900/31105, Loss: 4.7556\n",
      "Epoch 1, Batch 27000/31105, Loss: 4.7526\n",
      "Epoch 1, Batch 27100/31105, Loss: 4.7497\n",
      "Epoch 1, Batch 27200/31105, Loss: 4.7467\n",
      "Epoch 1, Batch 27300/31105, Loss: 4.7437\n",
      "Epoch 1, Batch 27400/31105, Loss: 4.7407\n",
      "Epoch 1, Batch 27500/31105, Loss: 4.7378\n",
      "Epoch 1, Batch 27600/31105, Loss: 4.7348\n",
      "Epoch 1, Batch 27700/31105, Loss: 4.7319\n",
      "Epoch 1, Batch 27800/31105, Loss: 4.7290\n",
      "Epoch 1, Batch 27900/31105, Loss: 4.7261\n",
      "Epoch 1, Batch 28000/31105, Loss: 4.7232\n",
      "Epoch 1, Batch 28100/31105, Loss: 4.7203\n",
      "Epoch 1, Batch 28200/31105, Loss: 4.7175\n",
      "Epoch 1, Batch 28300/31105, Loss: 4.7146\n",
      "Epoch 1, Batch 28400/31105, Loss: 4.7117\n",
      "Epoch 1, Batch 28500/31105, Loss: 4.7089\n",
      "Epoch 1, Batch 28600/31105, Loss: 4.7061\n",
      "Epoch 1, Batch 28700/31105, Loss: 4.7033\n",
      "Epoch 1, Batch 28800/31105, Loss: 4.7005\n",
      "Epoch 1, Batch 28900/31105, Loss: 4.6976\n",
      "Epoch 1, Batch 29000/31105, Loss: 4.6949\n",
      "Epoch 1, Batch 29100/31105, Loss: 4.6920\n",
      "Epoch 1, Batch 29200/31105, Loss: 4.6892\n",
      "Epoch 1, Batch 29300/31105, Loss: 4.6864\n",
      "Epoch 1, Batch 29400/31105, Loss: 4.6836\n",
      "Epoch 1, Batch 29500/31105, Loss: 4.6808\n",
      "Epoch 1, Batch 29600/31105, Loss: 4.6781\n",
      "Epoch 1, Batch 29700/31105, Loss: 4.6753\n",
      "Epoch 1, Batch 29800/31105, Loss: 4.6726\n",
      "Epoch 1, Batch 29900/31105, Loss: 4.6699\n",
      "Epoch 1, Batch 30000/31105, Loss: 4.6671\n",
      "Epoch 1, Batch 30100/31105, Loss: 4.6644\n",
      "Epoch 1, Batch 30200/31105, Loss: 4.6616\n",
      "Epoch 1, Batch 30300/31105, Loss: 4.6590\n",
      "Epoch 1, Batch 30400/31105, Loss: 4.6564\n",
      "Epoch 1, Batch 30500/31105, Loss: 4.6537\n",
      "Epoch 1, Batch 30600/31105, Loss: 4.6511\n",
      "Epoch 1, Batch 30700/31105, Loss: 4.6485\n",
      "Epoch 1, Batch 30800/31105, Loss: 4.6458\n",
      "Epoch 1, Batch 30900/31105, Loss: 4.6432\n",
      "Epoch 1, Batch 31000/31105, Loss: 4.6405\n",
      "Epoch 1, Batch 31100/31105, Loss: 4.6378\n",
      "Epoch 1 Summary, Avg Loss: 4.6377\n",
      "Epoch 1, Batch 100/31105, Loss: 7.6341\n",
      "Epoch 1, Batch 200/31105, Loss: 7.4063\n",
      "Epoch 1, Batch 300/31105, Loss: 7.3186\n",
      "Epoch 1, Batch 400/31105, Loss: 7.2545\n",
      "Epoch 1, Batch 500/31105, Loss: 7.1962\n",
      "Epoch 1, Batch 600/31105, Loss: 7.1430\n",
      "Epoch 1, Batch 700/31105, Loss: 7.0862\n",
      "Epoch 1, Batch 800/31105, Loss: 7.0253\n",
      "Epoch 1, Batch 900/31105, Loss: 6.9636\n",
      "Epoch 1, Batch 1000/31105, Loss: 6.9003\n",
      "Epoch 1, Batch 1100/31105, Loss: 6.8435\n",
      "Epoch 1, Batch 1200/31105, Loss: 6.7885\n",
      "Epoch 1, Batch 1300/31105, Loss: 6.7349\n",
      "Epoch 1, Batch 1400/31105, Loss: 6.6850\n",
      "Epoch 1, Batch 1500/31105, Loss: 6.6352\n",
      "Epoch 1, Batch 1600/31105, Loss: 6.5924\n",
      "Epoch 1, Batch 1700/31105, Loss: 6.5521\n",
      "Epoch 1, Batch 1800/31105, Loss: 6.5136\n",
      "Epoch 1, Batch 1900/31105, Loss: 6.4753\n",
      "Epoch 1, Batch 2000/31105, Loss: 6.4403\n",
      "Epoch 1, Batch 2100/31105, Loss: 6.4079\n",
      "Epoch 1, Batch 2200/31105, Loss: 6.3765\n",
      "Epoch 1, Batch 2300/31105, Loss: 6.3464\n",
      "Epoch 1, Batch 2400/31105, Loss: 6.3177\n",
      "Epoch 1, Batch 2500/31105, Loss: 6.2902\n",
      "Epoch 1, Batch 2600/31105, Loss: 6.2637\n",
      "Epoch 1, Batch 2700/31105, Loss: 6.2388\n",
      "Epoch 1, Batch 2800/31105, Loss: 6.2156\n",
      "Epoch 1, Batch 2900/31105, Loss: 6.1925\n",
      "Epoch 1, Batch 3000/31105, Loss: 6.1700\n",
      "Epoch 1, Batch 3100/31105, Loss: 6.1485\n",
      "Epoch 1, Batch 3200/31105, Loss: 6.1274\n",
      "Epoch 1, Batch 3300/31105, Loss: 6.1067\n",
      "Epoch 1, Batch 3400/31105, Loss: 6.0870\n",
      "Epoch 1, Batch 3500/31105, Loss: 6.0683\n",
      "Epoch 1, Batch 3600/31105, Loss: 6.0501\n",
      "Epoch 1, Batch 3700/31105, Loss: 6.0324\n",
      "Epoch 1, Batch 3800/31105, Loss: 6.0156\n",
      "Epoch 1, Batch 3900/31105, Loss: 5.9983\n",
      "Epoch 1, Batch 4000/31105, Loss: 5.9821\n",
      "Epoch 1, Batch 4100/31105, Loss: 5.9663\n",
      "Epoch 1, Batch 4200/31105, Loss: 5.9503\n",
      "Epoch 1, Batch 4300/31105, Loss: 5.9354\n",
      "Epoch 1, Batch 4400/31105, Loss: 5.9205\n",
      "Epoch 1, Batch 4500/31105, Loss: 5.9061\n",
      "Epoch 1, Batch 4600/31105, Loss: 5.8923\n",
      "Epoch 1, Batch 4700/31105, Loss: 5.8792\n",
      "Epoch 1, Batch 4800/31105, Loss: 5.8657\n",
      "Epoch 1, Batch 4900/31105, Loss: 5.8526\n",
      "Epoch 1, Batch 5000/31105, Loss: 5.8401\n",
      "Epoch 1, Batch 5100/31105, Loss: 5.8281\n",
      "Epoch 1, Batch 5200/31105, Loss: 5.8154\n",
      "Epoch 1, Batch 5300/31105, Loss: 5.8031\n",
      "Epoch 1, Batch 5400/31105, Loss: 5.7907\n",
      "Epoch 1, Batch 5500/31105, Loss: 5.7792\n",
      "Epoch 1, Batch 5600/31105, Loss: 5.7683\n",
      "Epoch 1, Batch 5700/31105, Loss: 5.7572\n",
      "Epoch 1, Batch 5800/31105, Loss: 5.7464\n",
      "Epoch 1, Batch 5900/31105, Loss: 5.7360\n",
      "Epoch 1, Batch 6000/31105, Loss: 5.7254\n",
      "Epoch 1, Batch 6100/31105, Loss: 5.7149\n",
      "Epoch 1, Batch 6200/31105, Loss: 5.7044\n",
      "Epoch 1, Batch 6300/31105, Loss: 5.6943\n",
      "Epoch 1, Batch 6400/31105, Loss: 5.6845\n",
      "Epoch 1, Batch 6500/31105, Loss: 5.6750\n",
      "Epoch 1, Batch 6600/31105, Loss: 5.6650\n",
      "Epoch 1, Batch 6700/31105, Loss: 5.6556\n",
      "Epoch 1, Batch 6800/31105, Loss: 5.6461\n",
      "Epoch 1, Batch 6900/31105, Loss: 5.6373\n",
      "Epoch 1, Batch 7000/31105, Loss: 5.6284\n",
      "Epoch 1, Batch 7100/31105, Loss: 5.6193\n",
      "Epoch 1, Batch 7200/31105, Loss: 5.6103\n",
      "Epoch 1, Batch 7300/31105, Loss: 5.6017\n",
      "Epoch 1, Batch 7400/31105, Loss: 5.5932\n",
      "Epoch 1, Batch 7500/31105, Loss: 5.5847\n",
      "Epoch 1, Batch 7600/31105, Loss: 5.5766\n",
      "Epoch 1, Batch 7700/31105, Loss: 5.5683\n",
      "Epoch 1, Batch 7800/31105, Loss: 5.5600\n",
      "Epoch 1, Batch 7900/31105, Loss: 5.5518\n",
      "Epoch 1, Batch 8000/31105, Loss: 5.5437\n",
      "Epoch 1, Batch 8100/31105, Loss: 5.5358\n",
      "Epoch 1, Batch 8200/31105, Loss: 5.5283\n",
      "Epoch 1, Batch 8300/31105, Loss: 5.5208\n",
      "Epoch 1, Batch 8400/31105, Loss: 5.5132\n",
      "Epoch 1, Batch 8500/31105, Loss: 5.5057\n",
      "Epoch 1, Batch 8600/31105, Loss: 5.4982\n",
      "Epoch 1, Batch 8700/31105, Loss: 5.4910\n",
      "Epoch 1, Batch 8800/31105, Loss: 5.4837\n",
      "Epoch 1, Batch 8900/31105, Loss: 5.4765\n",
      "Epoch 1, Batch 9000/31105, Loss: 5.4693\n",
      "Epoch 1, Batch 9100/31105, Loss: 5.4620\n",
      "Epoch 1, Batch 9200/31105, Loss: 5.4550\n",
      "Epoch 1, Batch 9300/31105, Loss: 5.4481\n",
      "Epoch 1, Batch 9400/31105, Loss: 5.4413\n",
      "Epoch 1, Batch 9500/31105, Loss: 5.4345\n",
      "Epoch 1, Batch 9600/31105, Loss: 5.4280\n",
      "Epoch 1, Batch 9700/31105, Loss: 5.4215\n",
      "Epoch 1, Batch 9800/31105, Loss: 5.4149\n",
      "Epoch 1, Batch 9900/31105, Loss: 5.4083\n",
      "Epoch 1, Batch 10000/31105, Loss: 5.4016\n",
      "Epoch 1, Batch 10100/31105, Loss: 5.3951\n",
      "Epoch 1, Batch 10200/31105, Loss: 5.3887\n",
      "Epoch 1, Batch 10300/31105, Loss: 5.3825\n",
      "Epoch 1, Batch 10400/31105, Loss: 5.3763\n",
      "Epoch 1, Batch 10500/31105, Loss: 5.3702\n",
      "Epoch 1, Batch 10600/31105, Loss: 5.3640\n",
      "Epoch 1, Batch 10700/31105, Loss: 5.3579\n",
      "Epoch 1, Batch 10800/31105, Loss: 5.3519\n",
      "Epoch 1, Batch 10900/31105, Loss: 5.3459\n",
      "Epoch 1, Batch 11000/31105, Loss: 5.3400\n",
      "Epoch 1, Batch 11100/31105, Loss: 5.3342\n",
      "Epoch 1, Batch 11200/31105, Loss: 5.3284\n",
      "Epoch 1, Batch 11300/31105, Loss: 5.3225\n",
      "Epoch 1, Batch 11400/31105, Loss: 5.3168\n",
      "Epoch 1, Batch 11500/31105, Loss: 5.3112\n",
      "Epoch 1, Batch 11600/31105, Loss: 5.3055\n",
      "Epoch 1, Batch 11700/31105, Loss: 5.2999\n",
      "Epoch 1, Batch 11800/31105, Loss: 5.2942\n",
      "Epoch 1, Batch 11900/31105, Loss: 5.2886\n",
      "Epoch 1, Batch 12000/31105, Loss: 5.2832\n",
      "Epoch 1, Batch 12100/31105, Loss: 5.2777\n",
      "Epoch 1, Batch 12200/31105, Loss: 5.2723\n",
      "Epoch 1, Batch 12300/31105, Loss: 5.2669\n",
      "Epoch 1, Batch 12400/31105, Loss: 5.2614\n",
      "Epoch 1, Batch 12500/31105, Loss: 5.2560\n",
      "Epoch 1, Batch 12600/31105, Loss: 5.2507\n",
      "Epoch 1, Batch 12700/31105, Loss: 5.2455\n",
      "Epoch 1, Batch 12800/31105, Loss: 5.2403\n",
      "Epoch 1, Batch 12900/31105, Loss: 5.2352\n",
      "Epoch 1, Batch 13000/31105, Loss: 5.2302\n",
      "Epoch 1, Batch 13100/31105, Loss: 5.2250\n",
      "Epoch 1, Batch 13200/31105, Loss: 5.2200\n",
      "Epoch 1, Batch 13300/31105, Loss: 5.2150\n",
      "Epoch 1, Batch 13400/31105, Loss: 5.2100\n",
      "Epoch 1, Batch 13500/31105, Loss: 5.2049\n",
      "Epoch 1, Batch 13600/31105, Loss: 5.2000\n",
      "Epoch 1, Batch 13700/31105, Loss: 5.1950\n",
      "Epoch 1, Batch 13800/31105, Loss: 5.1899\n",
      "Epoch 1, Batch 13900/31105, Loss: 5.1851\n",
      "Epoch 1, Batch 14000/31105, Loss: 5.1803\n",
      "Epoch 1, Batch 14100/31105, Loss: 5.1756\n",
      "Epoch 1, Batch 14200/31105, Loss: 5.1709\n",
      "Epoch 1, Batch 14300/31105, Loss: 5.1659\n",
      "Epoch 1, Batch 14400/31105, Loss: 5.1613\n",
      "Epoch 1, Batch 14500/31105, Loss: 5.1567\n",
      "Epoch 1, Batch 14600/31105, Loss: 5.1521\n",
      "Epoch 1, Batch 14700/31105, Loss: 5.1475\n",
      "Epoch 1, Batch 14800/31105, Loss: 5.1429\n",
      "Epoch 1, Batch 14900/31105, Loss: 5.1382\n",
      "Epoch 1, Batch 15000/31105, Loss: 5.1337\n",
      "Epoch 1, Batch 15100/31105, Loss: 5.1292\n",
      "Epoch 1, Batch 15200/31105, Loss: 5.1247\n",
      "Epoch 1, Batch 15300/31105, Loss: 5.1201\n",
      "Epoch 1, Batch 15400/31105, Loss: 5.1157\n",
      "Epoch 1, Batch 15500/31105, Loss: 5.1112\n",
      "Epoch 1, Batch 15600/31105, Loss: 5.1067\n",
      "Epoch 1, Batch 15700/31105, Loss: 5.1025\n",
      "Epoch 1, Batch 15800/31105, Loss: 5.0981\n",
      "Epoch 1, Batch 15900/31105, Loss: 5.0938\n",
      "Epoch 1, Batch 16000/31105, Loss: 5.0895\n",
      "Epoch 1, Batch 16100/31105, Loss: 5.0853\n",
      "Epoch 1, Batch 16200/31105, Loss: 5.0810\n",
      "Epoch 1, Batch 16300/31105, Loss: 5.0768\n",
      "Epoch 1, Batch 16400/31105, Loss: 5.0727\n",
      "Epoch 1, Batch 16500/31105, Loss: 5.0684\n",
      "Epoch 1, Batch 16600/31105, Loss: 5.0642\n",
      "Epoch 1, Batch 16700/31105, Loss: 5.0602\n",
      "Epoch 1, Batch 16800/31105, Loss: 5.0561\n",
      "Epoch 1, Batch 16900/31105, Loss: 5.0522\n",
      "Epoch 1, Batch 17000/31105, Loss: 5.0482\n",
      "Epoch 1, Batch 17100/31105, Loss: 5.0441\n",
      "Epoch 1, Batch 17200/31105, Loss: 5.0402\n",
      "Epoch 1, Batch 17300/31105, Loss: 5.0361\n",
      "Epoch 1, Batch 17400/31105, Loss: 5.0322\n",
      "Epoch 1, Batch 17500/31105, Loss: 5.0282\n",
      "Epoch 1, Batch 17600/31105, Loss: 5.0243\n",
      "Epoch 1, Batch 17700/31105, Loss: 5.0204\n",
      "Epoch 1, Batch 17800/31105, Loss: 5.0165\n",
      "Epoch 1, Batch 17900/31105, Loss: 5.0125\n",
      "Epoch 1, Batch 18000/31105, Loss: 5.0087\n",
      "Epoch 1, Batch 18100/31105, Loss: 5.0048\n",
      "Epoch 1, Batch 18200/31105, Loss: 5.0009\n",
      "Epoch 1, Batch 18300/31105, Loss: 4.9971\n",
      "Epoch 1, Batch 18400/31105, Loss: 4.9932\n",
      "Epoch 1, Batch 18500/31105, Loss: 4.9895\n",
      "Epoch 1, Batch 18600/31105, Loss: 4.9858\n",
      "Epoch 1, Batch 18700/31105, Loss: 4.9820\n",
      "Epoch 1, Batch 18800/31105, Loss: 4.9783\n",
      "Epoch 1, Batch 18900/31105, Loss: 4.9746\n",
      "Epoch 1, Batch 19000/31105, Loss: 4.9710\n",
      "Epoch 1, Batch 19100/31105, Loss: 4.9672\n",
      "Epoch 1, Batch 19200/31105, Loss: 4.9636\n",
      "Epoch 1, Batch 19300/31105, Loss: 4.9600\n",
      "Epoch 1, Batch 19400/31105, Loss: 4.9564\n",
      "Epoch 1, Batch 19500/31105, Loss: 4.9529\n",
      "Epoch 1, Batch 19600/31105, Loss: 4.9494\n",
      "Epoch 1, Batch 19700/31105, Loss: 4.9459\n",
      "Epoch 1, Batch 19800/31105, Loss: 4.9424\n",
      "Epoch 1, Batch 19900/31105, Loss: 4.9388\n",
      "Epoch 1, Batch 20000/31105, Loss: 4.9352\n",
      "Epoch 1, Batch 20100/31105, Loss: 4.9317\n",
      "Epoch 1, Batch 20200/31105, Loss: 4.9282\n",
      "Epoch 1, Batch 20300/31105, Loss: 4.9248\n",
      "Epoch 1, Batch 20400/31105, Loss: 4.9213\n",
      "Epoch 1, Batch 20500/31105, Loss: 4.9178\n",
      "Epoch 1, Batch 20600/31105, Loss: 4.9144\n",
      "Epoch 1, Batch 20700/31105, Loss: 4.9110\n",
      "Epoch 1, Batch 20800/31105, Loss: 4.9075\n",
      "Epoch 1, Batch 20900/31105, Loss: 4.9041\n",
      "Epoch 1, Batch 21000/31105, Loss: 4.9008\n",
      "Epoch 1, Batch 21100/31105, Loss: 4.8975\n",
      "Epoch 1, Batch 21200/31105, Loss: 4.8942\n",
      "Epoch 1, Batch 21300/31105, Loss: 4.8907\n",
      "Epoch 1, Batch 21400/31105, Loss: 4.8874\n",
      "Epoch 1, Batch 21500/31105, Loss: 4.8841\n",
      "Epoch 1, Batch 21600/31105, Loss: 4.8808\n",
      "Epoch 1, Batch 21700/31105, Loss: 4.8776\n",
      "Epoch 1, Batch 21800/31105, Loss: 4.8743\n",
      "Epoch 1, Batch 21900/31105, Loss: 4.8710\n",
      "Epoch 1, Batch 22000/31105, Loss: 4.8678\n",
      "Epoch 1, Batch 22100/31105, Loss: 4.8645\n",
      "Epoch 1, Batch 22200/31105, Loss: 4.8613\n",
      "Epoch 1, Batch 22300/31105, Loss: 4.8581\n",
      "Epoch 1, Batch 22400/31105, Loss: 4.8551\n",
      "Epoch 1, Batch 22500/31105, Loss: 4.8518\n",
      "Epoch 1, Batch 22600/31105, Loss: 4.8487\n",
      "Epoch 1, Batch 22700/31105, Loss: 4.8455\n",
      "Epoch 1, Batch 22800/31105, Loss: 4.8424\n",
      "Epoch 1, Batch 22900/31105, Loss: 4.8392\n",
      "Epoch 1, Batch 23000/31105, Loss: 4.8361\n",
      "Epoch 1, Batch 23100/31105, Loss: 4.8329\n",
      "Epoch 1, Batch 23200/31105, Loss: 4.8298\n",
      "Epoch 1, Batch 23300/31105, Loss: 4.8267\n",
      "Epoch 1, Batch 23400/31105, Loss: 4.8235\n",
      "Epoch 1, Batch 23500/31105, Loss: 4.8204\n",
      "Epoch 1, Batch 23600/31105, Loss: 4.8174\n",
      "Epoch 1, Batch 23700/31105, Loss: 4.8144\n",
      "Epoch 1, Batch 23800/31105, Loss: 4.8114\n",
      "Epoch 1, Batch 23900/31105, Loss: 4.8085\n",
      "Epoch 1, Batch 24000/31105, Loss: 4.8055\n",
      "Epoch 1, Batch 24100/31105, Loss: 4.8024\n",
      "Epoch 1, Batch 24200/31105, Loss: 4.7994\n",
      "Epoch 1, Batch 24300/31105, Loss: 4.7965\n",
      "Epoch 1, Batch 24400/31105, Loss: 4.7935\n",
      "Epoch 1, Batch 24500/31105, Loss: 4.7905\n",
      "Epoch 1, Batch 24600/31105, Loss: 4.7876\n",
      "Epoch 1, Batch 24700/31105, Loss: 4.7847\n",
      "Epoch 1, Batch 24800/31105, Loss: 4.7818\n",
      "Epoch 1, Batch 24900/31105, Loss: 4.7789\n",
      "Epoch 1, Batch 25000/31105, Loss: 4.7760\n",
      "Epoch 1, Batch 25100/31105, Loss: 4.7731\n",
      "Epoch 1, Batch 25200/31105, Loss: 4.7702\n",
      "Epoch 1, Batch 25300/31105, Loss: 4.7673\n",
      "Epoch 1, Batch 25400/31105, Loss: 4.7645\n",
      "Epoch 1, Batch 25500/31105, Loss: 4.7617\n",
      "Epoch 1, Batch 25600/31105, Loss: 4.7589\n",
      "Epoch 1, Batch 25700/31105, Loss: 4.7561\n",
      "Epoch 1, Batch 25800/31105, Loss: 4.7531\n",
      "Epoch 1, Batch 25900/31105, Loss: 4.7504\n",
      "Epoch 1, Batch 26000/31105, Loss: 4.7476\n",
      "Epoch 1, Batch 26100/31105, Loss: 4.7449\n",
      "Epoch 1, Batch 26200/31105, Loss: 4.7420\n",
      "Epoch 1, Batch 26300/31105, Loss: 4.7393\n",
      "Epoch 1, Batch 26400/31105, Loss: 4.7366\n",
      "Epoch 1, Batch 26500/31105, Loss: 4.7339\n",
      "Epoch 1, Batch 26600/31105, Loss: 4.7312\n",
      "Epoch 1, Batch 26700/31105, Loss: 4.7284\n",
      "Epoch 1, Batch 26800/31105, Loss: 4.7257\n",
      "Epoch 1, Batch 26900/31105, Loss: 4.7230\n",
      "Epoch 1, Batch 27000/31105, Loss: 4.7203\n",
      "Epoch 1, Batch 27100/31105, Loss: 4.7177\n",
      "Epoch 1, Batch 27200/31105, Loss: 4.7151\n",
      "Epoch 1, Batch 27300/31105, Loss: 4.7124\n",
      "Epoch 1, Batch 27400/31105, Loss: 4.7098\n",
      "Epoch 1, Batch 27500/31105, Loss: 4.7070\n",
      "Epoch 1, Batch 27600/31105, Loss: 4.7045\n",
      "Epoch 1, Batch 27700/31105, Loss: 4.7018\n",
      "Epoch 1, Batch 27800/31105, Loss: 4.6992\n",
      "Epoch 1, Batch 27900/31105, Loss: 4.6966\n",
      "Epoch 1, Batch 28000/31105, Loss: 4.6940\n",
      "Epoch 1, Batch 28100/31105, Loss: 4.6915\n",
      "Epoch 1, Batch 28200/31105, Loss: 4.6888\n",
      "Epoch 1, Batch 28300/31105, Loss: 4.6862\n",
      "Epoch 1, Batch 28400/31105, Loss: 4.6836\n",
      "Epoch 1, Batch 28500/31105, Loss: 4.6811\n",
      "Epoch 1, Batch 28600/31105, Loss: 4.6785\n",
      "Epoch 1, Batch 28700/31105, Loss: 4.6760\n",
      "Epoch 1, Batch 28800/31105, Loss: 4.6734\n",
      "Epoch 1, Batch 28900/31105, Loss: 4.6709\n",
      "Epoch 1, Batch 29000/31105, Loss: 4.6684\n",
      "Epoch 1, Batch 29100/31105, Loss: 4.6658\n",
      "Epoch 1, Batch 29200/31105, Loss: 4.6633\n",
      "Epoch 1, Batch 29300/31105, Loss: 4.6608\n",
      "Epoch 1, Batch 29400/31105, Loss: 4.6583\n",
      "Epoch 1, Batch 29500/31105, Loss: 4.6559\n",
      "Epoch 1, Batch 29600/31105, Loss: 4.6534\n",
      "Epoch 1, Batch 29700/31105, Loss: 4.6509\n",
      "Epoch 1, Batch 29800/31105, Loss: 4.6484\n",
      "Epoch 1, Batch 29900/31105, Loss: 4.6459\n",
      "Epoch 1, Batch 30000/31105, Loss: 4.6434\n",
      "Epoch 1, Batch 30100/31105, Loss: 4.6409\n",
      "Epoch 1, Batch 30200/31105, Loss: 4.6385\n",
      "Epoch 1, Batch 30300/31105, Loss: 4.6360\n",
      "Epoch 1, Batch 30400/31105, Loss: 4.6337\n",
      "Epoch 1, Batch 30500/31105, Loss: 4.6312\n",
      "Epoch 1, Batch 30600/31105, Loss: 4.6288\n",
      "Epoch 1, Batch 30700/31105, Loss: 4.6264\n",
      "Epoch 1, Batch 30800/31105, Loss: 4.6240\n",
      "Epoch 1, Batch 30900/31105, Loss: 4.6216\n",
      "Epoch 1, Batch 31000/31105, Loss: 4.6192\n",
      "Epoch 1, Batch 31100/31105, Loss: 4.6168\n",
      "Epoch 1 Summary, Avg Loss: 4.6167\n"
     ]
    }
   ],
   "source": [
    "import gensim.downloader as api\n",
    "import matplotlib.pyplot as plt\n",
    "vocab_size = len(vocab)\n",
    "embed_size = 200  # 匹配 GloVe 200 维\n",
    "hidden_size = 256\n",
    "num_layers = 2\n",
    "bidirectional = False\n",
    "\n",
    "pretrained_embeddings = load_glove_embeddings(vocab, embed_size)\n",
    "\n",
    "# 训练随机初始化嵌入的模型\n",
    "random_model = LSTM_LM(vocab_size, embed_size, hidden_size, num_layers, bidirectional).to(device)\n",
    "random_losses = train_model(random_model, train_loader, epochs=1)\n",
    "torch.save(random_model.state_dict(), 'random_model.pth')\n",
    "\n",
    "# 训练预训练嵌入的模型\n",
    "pretrained_model = LSTM_LM(vocab_size, embed_size, hidden_size, num_layers, bidirectional, pretrained_embeddings).to(device)\n",
    "pretrained_losses = train_model(pretrained_model, train_loader, epochs=1)\n",
    "torch.save(pretrained_model.state_dict(), 'pretrained_model.pth')\n"
   ]
  },
  {
   "cell_type": "code",
   "execution_count": null,
   "metadata": {},
   "outputs": [
    {
     "data": {
      "image/png": "[encoded data removed]",
      "text/plain": [
       "<Figure size 1000x1000 with 2 Axes>"
      ]
     },
     "metadata": {},
     "output_type": "display_data"
    }
   ],
   "source": [
    "import matplotlib.pyplot as plt\n",
    "import numpy as np\n",
    "\n",
    "# 每隔 5 个点采样一次（太多了图就难看）\n",
    "step = 5\n",
    "random_losses_sampled = random_losses[::step]  \n",
    "pretrained_losses_sampled = pretrained_losses[::step]  \n",
    "epochs = np.arange(0, len(random_losses), step)  \n",
    "\n",
    "\n",
    "plt.figure(figsize=(10, 10))  \n",
    "\n",
    "# 第一个子图：绘制 Random Embeddings 的损失曲线\n",
    "plt.subplot(2, 1, 1) \n",
    "plt.plot(epochs, random_losses_sampled, color='blue', label='Random Embeddings') \n",
    "plt.title('Training Loss Curve (Random Embeddings)') \n",
    "plt.xlabel('Batch') \n",
    "plt.ylabel('Loss') \n",
    "plt.legend()  \n",
    "plt.grid(True)  \n",
    "\n",
    "# 第二个子图：绘制 Pretrained Embeddings (GloVe) 的损失曲线\n",
    "plt.subplot(2, 1, 2)  # 2行1列的第2个子图\n",
    "plt.plot(epochs, pretrained_losses_sampled, color='green', label='Pretrained Embeddings (GloVe)')  \n",
    "plt.title('Training Loss Curve (Pretrained Embeddings - GloVe)')  \n",
    "plt.xlabel('Batch')\n",
    "plt.ylabel('Loss')  \n",
    "plt.legend()  \n",
    "plt.grid(True)  \n",
    "\n",
    "# 调整布局，避免子图重叠\n",
    "plt.tight_layout()\n",
    "\n",
    "# 显示图形\n",
    "plt.show()"
   ]
  },
  {
   "cell_type": "code",
   "execution_count": 44,
   "metadata": {},
   "outputs": [
    {
     "name": "stdout",
     "output_type": "stream",
     "text": [
      "Total non-padding tokens: 1105920\n",
      "Total loss: 4145316.7944\n",
      "Average loss: 3.7483\n",
      "Perplexity: 42.45\n",
      "Total non-padding tokens: 1105920\n",
      "Total loss: 4223645.3047\n",
      "Average loss: 3.8191\n",
      "Perplexity: 45.56\n",
      "Final Perplexity (Random Embeddings): 42.45\n",
      "Final Perplexity (Pretrained Embeddings): 45.56\n"
     ]
    }
   ],
   "source": [
    "random_model.eval()\n",
    "pretrained_model.eval()\n",
    "\n",
    "random_perplexity = evaluate_perplexity(random_model, test_loader)\n",
    "pretrained_perplexity = evaluate_perplexity(pretrained_model, test_loader)\n",
    "\n",
    "print(f\"Final Perplexity (Random Embeddings): {random_perplexity:.2f}\")\n",
    "print(f\"Final Perplexity (Pretrained Embeddings): {pretrained_perplexity:.2f}\")"
   ]
  }
 ],
 "metadata": {
  "kernelspec": {
   "display_name": "NLP",
   "language": "python",
   "name": "python3"
  },
  "language_info": {
   "codemirror_mode": {
    "name": "ipython",
    "version": 3
   },
   "file_extension": ".py",
   "mimetype": "text/x-python",
   "name": "python",
   "nbconvert_exporter": "python",
   "pygments_lexer": "ipython3",
   "version": "3.11.11"
  }
 },
 "nbformat": 4,
 "nbformat_minor": 2
}
