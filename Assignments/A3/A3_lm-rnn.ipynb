{
 "cells": [
  {
   "cell_type": "markdown",
   "metadata": {},
   "source": [
    "## CS310 Natural Language Processing\n",
    "## Assignment 3. Recurrent Neural Networks for Language Modeling \n",
    "\n",
    "**Total points**: \n",
    "\n",
    "In this assignment, you will train a vanilla RNN-based language model on the Harry Potter text data. "
   ]
  },
  {
   "cell_type": "markdown",
   "metadata": {},
   "source": [
    "### 0. Import Necessary Libraries"
   ]
  },
  {
   "cell_type": "code",
   "execution_count": null,
   "metadata": {},
   "outputs": [
    {
     "name": "stderr",
     "output_type": "stream",
     "text": [
      "[nltk_data] Downloading package punkt to /Users/ruiyuhan/nltk_data...\n",
      "[nltk_data]   Package punkt is already up-to-date!\n",
      "[nltk_data] Downloading package punkt_tab to\n",
      "[nltk_data]     /Users/ruiyuhan/nltk_data...\n",
      "[nltk_data]   Package punkt_tab is already up-to-date!\n"
     ]
    },
    {
     "data": {
      "text/plain": [
       "True"
      ]
     },
     "execution_count": 3,
     "metadata": {},
     "output_type": "execute_result"
    }
   ],
   "source": [
    "import nltk\n",
    "from nltk.tokenize import word_tokenize\n",
    "import torch\n",
    "import torch.nn as nn\n",
    "import numpy as np\n",
    "from collections import Counter\n",
    "from torch.utils.data import Dataset, DataLoader, random_split\n",
    "import logging\n",
    "from datetime import datetime\n",
    "import torch\n",
    "import torch.nn.functional as F\n",
    "import math\n",
    "\n",
    "nltk.download('punkt')\n",
    "nltk.download('punkt_tab')"
   ]
  },
  {
   "cell_type": "code",
   "execution_count": 4,
   "metadata": {},
   "outputs": [
    {
     "name": "stdout",
     "output_type": "stream",
     "text": [
      "['the', 'boy', 'who', 'lived', 'mr', 'and', 'mrs', 'dursley', 'of', 'number']\n"
     ]
    }
   ],
   "source": [
    "def read_text(file_path):\n",
    "    with open(file_path,'r',encoding='utf-8')as f:\n",
    "        text=f.read()\n",
    "    return text\n",
    "\n",
    "text=read_text('Harry_Potter_all_books_preprocessed.txt')\n",
    "text=text.lower()\n",
    "words=word_tokenize(text)\n",
    "print(words[:10])"
   ]
  },
  {
   "cell_type": "code",
   "execution_count": null,
   "metadata": {},
   "outputs": [
    {
     "name": "stdout",
     "output_type": "stream",
     "text": [
      "the size of vocab: 26355\n"
     ]
    }
   ],
   "source": [
    "def build_vocab(words):\n",
    "    vocab={'<PAD>':0,'<UNK>':1}\n",
    "    word_count=Counter(words)\n",
    "    for word, _ in word_count.items():\n",
    "        vocab[word]=len(vocab)\n",
    "    return vocab\n",
    "\n",
    "vocab=build_vocab(words)\n",
    "print('the size of vocab:',len(vocab))"
   ]
  },
  {
   "cell_type": "code",
   "execution_count": 6,
   "metadata": {},
   "outputs": [
    {
     "name": "stdout",
     "output_type": "stream",
     "text": [
      "the shape of data_tensor torch.Size([1105952])\n",
      "tensor([ 2,  3,  4,  5,  6,  7,  8,  9, 10, 11])\n"
     ]
    }
   ],
   "source": [
    "def text_to_tensor(words,vocab):\n",
    "    indices=[vocab.get(word,vocab['<UNK>']) for word in words]\n",
    "    return torch.tensor(indices,dtype=torch.long)\n",
    "\n",
    "data_tensor=text_to_tensor(words,vocab)\n",
    "print(\"the shape of data_tensor\",data_tensor.size())\n",
    "print(data_tensor[:10])"
   ]
  },
  {
   "cell_type": "code",
   "execution_count": 7,
   "metadata": {},
   "outputs": [],
   "source": [
    "class TextDataset(Dataset):\n",
    "    def __init__(self,data_tensor,seq_length):\n",
    "        self.data=data_tensor\n",
    "        self.seq_length=seq_length\n",
    "    def __len__(self):\n",
    "        return len(self.data)-self.seq_length\n",
    "    def __getitem__(self,idx):\n",
    "        input_seq = self.data[idx:idx + self.seq_length]\n",
    "        target_seq = self.data[idx + 1:idx + self.seq_length + 1]\n",
    "        return input_seq,target_seq"
   ]
  },
  {
   "cell_type": "markdown",
   "metadata": {},
   "source": [
    "### 1. Build the Model"
   ]
  },
  {
   "cell_type": "code",
   "execution_count": 8,
   "metadata": {},
   "outputs": [
    {
     "name": "stdout",
     "output_type": "stream",
     "text": [
      "RNN_LM(\n",
      "  (embed): Embedding(26355, 128)\n",
      "  (rnn): RNN(128, 256, num_layers=2, batch_first=True)\n",
      "  (fc): Linear(in_features=256, out_features=26355, bias=True)\n",
      ")\n"
     ]
    }
   ],
   "source": [
    "class RNN_LM(nn.Module):\n",
    "    def __init__(self,vocab_size,embed_size,hidden_size,num_layers,bidirectional=False):\n",
    "        super(RNN_LM,self).__init__()\n",
    "        self.embed=nn.Embedding(vocab_size,embed_size)\n",
    "        self.rnn=nn.RNN(embed_size,hidden_size,num_layers,batch_first=True,bidirectional=bidirectional)\n",
    "        self.bidirectional=bidirectional\n",
    "        self.num_layers=num_layers\n",
    "        self.hidden_size=hidden_size\n",
    "        if bidirectional:\n",
    "            self.fc=nn.Linear(hidden_size*2,vocab_size)\n",
    "        else:\n",
    "            self.fc=nn.Linear(hidden_size,vocab_size)\n",
    "    def forward(self,x,hidden=None):\n",
    "        # x: [batch_size, seq_length]\n",
    "        embedded=self.embed(x)\n",
    "        output,hidden=self.rnn(embedded,hidden)\n",
    "        output=self.fc(output)\n",
    "        return output,hidden\n",
    "    def init_hidden(self, batch_size, device):\n",
    "        # 初始化隐藏状态\n",
    "        # 对于单向 RNN: [num_layers, batch_size, hidden_size]\n",
    "        # 对于双向 RNN: [num_layers * 2, batch_size, hidden_size]\n",
    "        num_directions = 2 if self.bidirectional else 1\n",
    "        hidden = torch.zeros(self.num_layers * num_directions, batch_size, self.hidden_size, device=device)\n",
    "        return hidden\n",
    "\n",
    "vocab_size=len(vocab)\n",
    "embed_size=128\n",
    "hidden_size=256\n",
    "num_layers=2\n",
    "bidirectional=False\n",
    "\n",
    "rnn_model=RNN_LM(vocab_size,embed_size,hidden_size,num_layers,bidirectional)\n",
    "print(rnn_model)"
   ]
  },
  {
   "cell_type": "code",
   "execution_count": 9,
   "metadata": {},
   "outputs": [
    {
     "name": "stdout",
     "output_type": "stream",
     "text": [
      "size of train dataset: 995338\n",
      "size of test dataset: 55296\n",
      "size of val dataset: 55298\n"
     ]
    }
   ],
   "source": [
    "seq_length=20\n",
    "dataset=TextDataset(data_tensor,seq_length)\n",
    "total_size=len(dataset)\n",
    "train_size=int(total_size*0.9)\n",
    "test_size=int(total_size*0.05)\n",
    "val_size=total_size-train_size-test_size\n",
    "train_dataset,val_dataset,test_dataset=random_split(dataset,[train_size,val_size,test_size])\n",
    "\n",
    "train_loader=DataLoader(train_dataset,batch_size=32,shuffle=True)\n",
    "test_loader=DataLoader(test_dataset,batch_size=32,shuffle=False)\n",
    "\n",
    "print(f\"size of train dataset: {len(train_dataset)}\")\n",
    "print(f\"size of test dataset: {len(test_dataset)}\")\n",
    "print(f\"size of val dataset: {len(val_dataset)}\")"
   ]
  },
  {
   "cell_type": "markdown",
   "metadata": {},
   "source": [
    "### 2. Train and Evaluate"
   ]
  },
  {
   "cell_type": "code",
   "execution_count": null,
   "metadata": {},
   "outputs": [
    {
     "name": "stderr",
     "output_type": "stream",
     "text": [
      "2025-03-31 00:59:20,878 - INFO - Starting training with 1 epoch(s), log_interval=100\n"
     ]
    },
    {
     "name": "stdout",
     "output_type": "stream",
     "text": [
      "Training RNN model...\n"
     ]
    },
    {
     "name": "stderr",
     "output_type": "stream",
     "text": [
      "2025-03-31 00:59:25,245 - INFO - Epoch 1, Batch 100/31105, Batch Loss: 4.2583, Avg Loss So Far: 4.2274\n"
     ]
    },
    {
     "name": "stdout",
     "output_type": "stream",
     "text": [
      "Epoch 1, Batch 100/31105, Batch Loss: 4.2583, Avg Loss So Far: 4.2274\n"
     ]
    },
    {
     "name": "stderr",
     "output_type": "stream",
     "text": [
      "2025-03-31 00:59:29,610 - INFO - Epoch 1, Batch 200/31105, Batch Loss: 4.2716, Avg Loss So Far: 4.2483\n"
     ]
    },
    {
     "name": "stdout",
     "output_type": "stream",
     "text": [
      "Epoch 1, Batch 200/31105, Batch Loss: 4.2716, Avg Loss So Far: 4.2483\n"
     ]
    },
    {
     "name": "stderr",
     "output_type": "stream",
     "text": [
      "2025-03-31 00:59:34,665 - INFO - Epoch 1, Batch 300/31105, Batch Loss: 4.3097, Avg Loss So Far: 4.2720\n"
     ]
    },
    {
     "name": "stdout",
     "output_type": "stream",
     "text": [
      "Epoch 1, Batch 300/31105, Batch Loss: 4.3097, Avg Loss So Far: 4.2720\n"
     ]
    },
    {
     "name": "stderr",
     "output_type": "stream",
     "text": [
      "2025-03-31 00:59:40,215 - INFO - Epoch 1, Batch 400/31105, Batch Loss: 4.2487, Avg Loss So Far: 4.2776\n"
     ]
    },
    {
     "name": "stdout",
     "output_type": "stream",
     "text": [
      "Epoch 1, Batch 400/31105, Batch Loss: 4.2487, Avg Loss So Far: 4.2776\n"
     ]
    },
    {
     "name": "stderr",
     "output_type": "stream",
     "text": [
      "2025-03-31 00:59:45,720 - INFO - Epoch 1, Batch 500/31105, Batch Loss: 4.5610, Avg Loss So Far: 4.2888\n"
     ]
    },
    {
     "name": "stdout",
     "output_type": "stream",
     "text": [
      "Epoch 1, Batch 500/31105, Batch Loss: 4.5610, Avg Loss So Far: 4.2888\n"
     ]
    },
    {
     "name": "stderr",
     "output_type": "stream",
     "text": [
      "2025-03-31 00:59:51,197 - INFO - Epoch 1, Batch 600/31105, Batch Loss: 4.1749, Avg Loss So Far: 4.2883\n"
     ]
    },
    {
     "name": "stdout",
     "output_type": "stream",
     "text": [
      "Epoch 1, Batch 600/31105, Batch Loss: 4.1749, Avg Loss So Far: 4.2883\n"
     ]
    },
    {
     "name": "stderr",
     "output_type": "stream",
     "text": [
      "2025-03-31 00:59:56,679 - INFO - Epoch 1, Batch 700/31105, Batch Loss: 4.3358, Avg Loss So Far: 4.2919\n"
     ]
    },
    {
     "name": "stdout",
     "output_type": "stream",
     "text": [
      "Epoch 1, Batch 700/31105, Batch Loss: 4.3358, Avg Loss So Far: 4.2919\n"
     ]
    },
    {
     "name": "stderr",
     "output_type": "stream",
     "text": [
      "2025-03-31 01:00:02,206 - INFO - Epoch 1, Batch 800/31105, Batch Loss: 4.2321, Avg Loss So Far: 4.2910\n"
     ]
    },
    {
     "name": "stdout",
     "output_type": "stream",
     "text": [
      "Epoch 1, Batch 800/31105, Batch Loss: 4.2321, Avg Loss So Far: 4.2910\n"
     ]
    },
    {
     "name": "stderr",
     "output_type": "stream",
     "text": [
      "2025-03-31 01:00:07,748 - INFO - Epoch 1, Batch 900/31105, Batch Loss: 4.3742, Avg Loss So Far: 4.2904\n"
     ]
    },
    {
     "name": "stdout",
     "output_type": "stream",
     "text": [
      "Epoch 1, Batch 900/31105, Batch Loss: 4.3742, Avg Loss So Far: 4.2904\n"
     ]
    },
    {
     "name": "stderr",
     "output_type": "stream",
     "text": [
      "2025-03-31 01:00:13,286 - INFO - Epoch 1, Batch 1000/31105, Batch Loss: 4.4616, Avg Loss So Far: 4.2894\n"
     ]
    },
    {
     "name": "stdout",
     "output_type": "stream",
     "text": [
      "Epoch 1, Batch 1000/31105, Batch Loss: 4.4616, Avg Loss So Far: 4.2894\n"
     ]
    },
    {
     "name": "stderr",
     "output_type": "stream",
     "text": [
      "2025-03-31 01:00:18,793 - INFO - Epoch 1, Batch 1100/31105, Batch Loss: 4.4173, Avg Loss So Far: 4.2876\n"
     ]
    },
    {
     "name": "stdout",
     "output_type": "stream",
     "text": [
      "Epoch 1, Batch 1100/31105, Batch Loss: 4.4173, Avg Loss So Far: 4.2876\n"
     ]
    },
    {
     "name": "stderr",
     "output_type": "stream",
     "text": [
      "2025-03-31 01:00:24,282 - INFO - Epoch 1, Batch 1200/31105, Batch Loss: 4.4667, Avg Loss So Far: 4.2864\n"
     ]
    },
    {
     "name": "stdout",
     "output_type": "stream",
     "text": [
      "Epoch 1, Batch 1200/31105, Batch Loss: 4.4667, Avg Loss So Far: 4.2864\n"
     ]
    },
    {
     "name": "stderr",
     "output_type": "stream",
     "text": [
      "2025-03-31 01:00:29,712 - INFO - Epoch 1, Batch 1300/31105, Batch Loss: 4.3479, Avg Loss So Far: 4.2840\n"
     ]
    },
    {
     "name": "stdout",
     "output_type": "stream",
     "text": [
      "Epoch 1, Batch 1300/31105, Batch Loss: 4.3479, Avg Loss So Far: 4.2840\n"
     ]
    },
    {
     "name": "stderr",
     "output_type": "stream",
     "text": [
      "2025-03-31 01:00:35,154 - INFO - Epoch 1, Batch 1400/31105, Batch Loss: 4.1559, Avg Loss So Far: 4.2824\n"
     ]
    },
    {
     "name": "stdout",
     "output_type": "stream",
     "text": [
      "Epoch 1, Batch 1400/31105, Batch Loss: 4.1559, Avg Loss So Far: 4.2824\n"
     ]
    },
    {
     "name": "stderr",
     "output_type": "stream",
     "text": [
      "2025-03-31 01:00:40,643 - INFO - Epoch 1, Batch 1500/31105, Batch Loss: 4.1666, Avg Loss So Far: 4.2798\n"
     ]
    },
    {
     "name": "stdout",
     "output_type": "stream",
     "text": [
      "Epoch 1, Batch 1500/31105, Batch Loss: 4.1666, Avg Loss So Far: 4.2798\n"
     ]
    },
    {
     "name": "stderr",
     "output_type": "stream",
     "text": [
      "2025-03-31 01:00:46,059 - INFO - Epoch 1, Batch 1600/31105, Batch Loss: 4.2744, Avg Loss So Far: 4.2757\n"
     ]
    },
    {
     "name": "stdout",
     "output_type": "stream",
     "text": [
      "Epoch 1, Batch 1600/31105, Batch Loss: 4.2744, Avg Loss So Far: 4.2757\n"
     ]
    },
    {
     "name": "stderr",
     "output_type": "stream",
     "text": [
      "2025-03-31 01:00:51,513 - INFO - Epoch 1, Batch 1700/31105, Batch Loss: 4.3687, Avg Loss So Far: 4.2737\n"
     ]
    },
    {
     "name": "stdout",
     "output_type": "stream",
     "text": [
      "Epoch 1, Batch 1700/31105, Batch Loss: 4.3687, Avg Loss So Far: 4.2737\n"
     ]
    },
    {
     "name": "stderr",
     "output_type": "stream",
     "text": [
      "2025-03-31 01:00:56,936 - INFO - Epoch 1, Batch 1800/31105, Batch Loss: 3.9981, Avg Loss So Far: 4.2708\n"
     ]
    },
    {
     "name": "stdout",
     "output_type": "stream",
     "text": [
      "Epoch 1, Batch 1800/31105, Batch Loss: 3.9981, Avg Loss So Far: 4.2708\n"
     ]
    },
    {
     "name": "stderr",
     "output_type": "stream",
     "text": [
      "2025-03-31 01:01:02,437 - INFO - Epoch 1, Batch 1900/31105, Batch Loss: 4.4004, Avg Loss So Far: 4.2686\n"
     ]
    },
    {
     "name": "stdout",
     "output_type": "stream",
     "text": [
      "Epoch 1, Batch 1900/31105, Batch Loss: 4.4004, Avg Loss So Far: 4.2686\n"
     ]
    },
    {
     "name": "stderr",
     "output_type": "stream",
     "text": [
      "2025-03-31 01:01:07,845 - INFO - Epoch 1, Batch 2000/31105, Batch Loss: 3.9435, Avg Loss So Far: 4.2657\n"
     ]
    },
    {
     "name": "stdout",
     "output_type": "stream",
     "text": [
      "Epoch 1, Batch 2000/31105, Batch Loss: 3.9435, Avg Loss So Far: 4.2657\n"
     ]
    },
    {
     "name": "stderr",
     "output_type": "stream",
     "text": [
      "2025-03-31 01:01:13,306 - INFO - Epoch 1, Batch 2100/31105, Batch Loss: 4.2238, Avg Loss So Far: 4.2624\n"
     ]
    },
    {
     "name": "stdout",
     "output_type": "stream",
     "text": [
      "Epoch 1, Batch 2100/31105, Batch Loss: 4.2238, Avg Loss So Far: 4.2624\n"
     ]
    },
    {
     "name": "stderr",
     "output_type": "stream",
     "text": [
      "2025-03-31 01:01:18,710 - INFO - Epoch 1, Batch 2200/31105, Batch Loss: 4.2773, Avg Loss So Far: 4.2599\n"
     ]
    },
    {
     "name": "stdout",
     "output_type": "stream",
     "text": [
      "Epoch 1, Batch 2200/31105, Batch Loss: 4.2773, Avg Loss So Far: 4.2599\n"
     ]
    },
    {
     "name": "stderr",
     "output_type": "stream",
     "text": [
      "2025-03-31 01:01:24,212 - INFO - Epoch 1, Batch 2300/31105, Batch Loss: 4.2610, Avg Loss So Far: 4.2576\n"
     ]
    },
    {
     "name": "stdout",
     "output_type": "stream",
     "text": [
      "Epoch 1, Batch 2300/31105, Batch Loss: 4.2610, Avg Loss So Far: 4.2576\n"
     ]
    },
    {
     "name": "stderr",
     "output_type": "stream",
     "text": [
      "2025-03-31 01:01:29,665 - INFO - Epoch 1, Batch 2400/31105, Batch Loss: 4.2754, Avg Loss So Far: 4.2554\n"
     ]
    },
    {
     "name": "stdout",
     "output_type": "stream",
     "text": [
      "Epoch 1, Batch 2400/31105, Batch Loss: 4.2754, Avg Loss So Far: 4.2554\n"
     ]
    },
    {
     "name": "stderr",
     "output_type": "stream",
     "text": [
      "2025-03-31 01:01:35,102 - INFO - Epoch 1, Batch 2500/31105, Batch Loss: 4.1724, Avg Loss So Far: 4.2527\n"
     ]
    },
    {
     "name": "stdout",
     "output_type": "stream",
     "text": [
      "Epoch 1, Batch 2500/31105, Batch Loss: 4.1724, Avg Loss So Far: 4.2527\n"
     ]
    },
    {
     "name": "stderr",
     "output_type": "stream",
     "text": [
      "2025-03-31 01:01:40,560 - INFO - Epoch 1, Batch 2600/31105, Batch Loss: 4.2392, Avg Loss So Far: 4.2511\n"
     ]
    },
    {
     "name": "stdout",
     "output_type": "stream",
     "text": [
      "Epoch 1, Batch 2600/31105, Batch Loss: 4.2392, Avg Loss So Far: 4.2511\n"
     ]
    },
    {
     "name": "stderr",
     "output_type": "stream",
     "text": [
      "2025-03-31 01:01:45,990 - INFO - Epoch 1, Batch 2700/31105, Batch Loss: 4.3471, Avg Loss So Far: 4.2491\n"
     ]
    },
    {
     "name": "stdout",
     "output_type": "stream",
     "text": [
      "Epoch 1, Batch 2700/31105, Batch Loss: 4.3471, Avg Loss So Far: 4.2491\n"
     ]
    },
    {
     "name": "stderr",
     "output_type": "stream",
     "text": [
      "2025-03-31 01:01:51,444 - INFO - Epoch 1, Batch 2800/31105, Batch Loss: 4.1269, Avg Loss So Far: 4.2463\n"
     ]
    },
    {
     "name": "stdout",
     "output_type": "stream",
     "text": [
      "Epoch 1, Batch 2800/31105, Batch Loss: 4.1269, Avg Loss So Far: 4.2463\n"
     ]
    },
    {
     "name": "stderr",
     "output_type": "stream",
     "text": [
      "2025-03-31 01:01:56,889 - INFO - Epoch 1, Batch 2900/31105, Batch Loss: 4.2251, Avg Loss So Far: 4.2438\n"
     ]
    },
    {
     "name": "stdout",
     "output_type": "stream",
     "text": [
      "Epoch 1, Batch 2900/31105, Batch Loss: 4.2251, Avg Loss So Far: 4.2438\n"
     ]
    },
    {
     "name": "stderr",
     "output_type": "stream",
     "text": [
      "2025-03-31 01:02:02,377 - INFO - Epoch 1, Batch 3000/31105, Batch Loss: 4.1959, Avg Loss So Far: 4.2409\n"
     ]
    },
    {
     "name": "stdout",
     "output_type": "stream",
     "text": [
      "Epoch 1, Batch 3000/31105, Batch Loss: 4.1959, Avg Loss So Far: 4.2409\n"
     ]
    },
    {
     "name": "stderr",
     "output_type": "stream",
     "text": [
      "2025-03-31 01:02:07,831 - INFO - Epoch 1, Batch 3100/31105, Batch Loss: 3.9834, Avg Loss So Far: 4.2380\n"
     ]
    },
    {
     "name": "stdout",
     "output_type": "stream",
     "text": [
      "Epoch 1, Batch 3100/31105, Batch Loss: 3.9834, Avg Loss So Far: 4.2380\n"
     ]
    },
    {
     "name": "stderr",
     "output_type": "stream",
     "text": [
      "2025-03-31 01:02:13,280 - INFO - Epoch 1, Batch 3200/31105, Batch Loss: 4.2085, Avg Loss So Far: 4.2349\n"
     ]
    },
    {
     "name": "stdout",
     "output_type": "stream",
     "text": [
      "Epoch 1, Batch 3200/31105, Batch Loss: 4.2085, Avg Loss So Far: 4.2349\n"
     ]
    },
    {
     "name": "stderr",
     "output_type": "stream",
     "text": [
      "2025-03-31 01:02:18,715 - INFO - Epoch 1, Batch 3300/31105, Batch Loss: 4.1597, Avg Loss So Far: 4.2324\n"
     ]
    },
    {
     "name": "stdout",
     "output_type": "stream",
     "text": [
      "Epoch 1, Batch 3300/31105, Batch Loss: 4.1597, Avg Loss So Far: 4.2324\n"
     ]
    },
    {
     "name": "stderr",
     "output_type": "stream",
     "text": [
      "2025-03-31 01:02:24,191 - INFO - Epoch 1, Batch 3400/31105, Batch Loss: 3.9302, Avg Loss So Far: 4.2298\n"
     ]
    },
    {
     "name": "stdout",
     "output_type": "stream",
     "text": [
      "Epoch 1, Batch 3400/31105, Batch Loss: 3.9302, Avg Loss So Far: 4.2298\n"
     ]
    },
    {
     "name": "stderr",
     "output_type": "stream",
     "text": [
      "2025-03-31 01:02:29,665 - INFO - Epoch 1, Batch 3500/31105, Batch Loss: 4.2586, Avg Loss So Far: 4.2273\n"
     ]
    },
    {
     "name": "stdout",
     "output_type": "stream",
     "text": [
      "Epoch 1, Batch 3500/31105, Batch Loss: 4.2586, Avg Loss So Far: 4.2273\n"
     ]
    },
    {
     "name": "stderr",
     "output_type": "stream",
     "text": [
      "2025-03-31 01:02:35,126 - INFO - Epoch 1, Batch 3600/31105, Batch Loss: 4.0210, Avg Loss So Far: 4.2246\n"
     ]
    },
    {
     "name": "stdout",
     "output_type": "stream",
     "text": [
      "Epoch 1, Batch 3600/31105, Batch Loss: 4.0210, Avg Loss So Far: 4.2246\n"
     ]
    },
    {
     "name": "stderr",
     "output_type": "stream",
     "text": [
      "2025-03-31 01:02:40,531 - INFO - Epoch 1, Batch 3700/31105, Batch Loss: 4.1089, Avg Loss So Far: 4.2221\n"
     ]
    },
    {
     "name": "stdout",
     "output_type": "stream",
     "text": [
      "Epoch 1, Batch 3700/31105, Batch Loss: 4.1089, Avg Loss So Far: 4.2221\n"
     ]
    },
    {
     "name": "stderr",
     "output_type": "stream",
     "text": [
      "2025-03-31 01:02:45,963 - INFO - Epoch 1, Batch 3800/31105, Batch Loss: 4.0385, Avg Loss So Far: 4.2196\n"
     ]
    },
    {
     "name": "stdout",
     "output_type": "stream",
     "text": [
      "Epoch 1, Batch 3800/31105, Batch Loss: 4.0385, Avg Loss So Far: 4.2196\n"
     ]
    },
    {
     "name": "stderr",
     "output_type": "stream",
     "text": [
      "2025-03-31 01:02:51,424 - INFO - Epoch 1, Batch 3900/31105, Batch Loss: 4.0630, Avg Loss So Far: 4.2170\n"
     ]
    },
    {
     "name": "stdout",
     "output_type": "stream",
     "text": [
      "Epoch 1, Batch 3900/31105, Batch Loss: 4.0630, Avg Loss So Far: 4.2170\n"
     ]
    },
    {
     "name": "stderr",
     "output_type": "stream",
     "text": [
      "2025-03-31 01:02:56,942 - INFO - Epoch 1, Batch 4000/31105, Batch Loss: 4.2917, Avg Loss So Far: 4.2148\n"
     ]
    },
    {
     "name": "stdout",
     "output_type": "stream",
     "text": [
      "Epoch 1, Batch 4000/31105, Batch Loss: 4.2917, Avg Loss So Far: 4.2148\n"
     ]
    },
    {
     "name": "stderr",
     "output_type": "stream",
     "text": [
      "2025-03-31 01:03:02,416 - INFO - Epoch 1, Batch 4100/31105, Batch Loss: 4.1135, Avg Loss So Far: 4.2124\n"
     ]
    },
    {
     "name": "stdout",
     "output_type": "stream",
     "text": [
      "Epoch 1, Batch 4100/31105, Batch Loss: 4.1135, Avg Loss So Far: 4.2124\n"
     ]
    },
    {
     "name": "stderr",
     "output_type": "stream",
     "text": [
      "2025-03-31 01:03:07,930 - INFO - Epoch 1, Batch 4200/31105, Batch Loss: 4.2954, Avg Loss So Far: 4.2101\n"
     ]
    },
    {
     "name": "stdout",
     "output_type": "stream",
     "text": [
      "Epoch 1, Batch 4200/31105, Batch Loss: 4.2954, Avg Loss So Far: 4.2101\n"
     ]
    },
    {
     "name": "stderr",
     "output_type": "stream",
     "text": [
      "2025-03-31 01:03:13,396 - INFO - Epoch 1, Batch 4300/31105, Batch Loss: 4.0895, Avg Loss So Far: 4.2077\n"
     ]
    },
    {
     "name": "stdout",
     "output_type": "stream",
     "text": [
      "Epoch 1, Batch 4300/31105, Batch Loss: 4.0895, Avg Loss So Far: 4.2077\n"
     ]
    },
    {
     "name": "stderr",
     "output_type": "stream",
     "text": [
      "2025-03-31 01:03:18,857 - INFO - Epoch 1, Batch 4400/31105, Batch Loss: 4.1002, Avg Loss So Far: 4.2052\n"
     ]
    },
    {
     "name": "stdout",
     "output_type": "stream",
     "text": [
      "Epoch 1, Batch 4400/31105, Batch Loss: 4.1002, Avg Loss So Far: 4.2052\n"
     ]
    },
    {
     "name": "stderr",
     "output_type": "stream",
     "text": [
      "2025-03-31 01:03:24,331 - INFO - Epoch 1, Batch 4500/31105, Batch Loss: 4.1011, Avg Loss So Far: 4.2028\n"
     ]
    },
    {
     "name": "stdout",
     "output_type": "stream",
     "text": [
      "Epoch 1, Batch 4500/31105, Batch Loss: 4.1011, Avg Loss So Far: 4.2028\n"
     ]
    },
    {
     "name": "stderr",
     "output_type": "stream",
     "text": [
      "2025-03-31 01:03:29,804 - INFO - Epoch 1, Batch 4600/31105, Batch Loss: 3.9709, Avg Loss So Far: 4.1997\n"
     ]
    },
    {
     "name": "stdout",
     "output_type": "stream",
     "text": [
      "Epoch 1, Batch 4600/31105, Batch Loss: 3.9709, Avg Loss So Far: 4.1997\n"
     ]
    },
    {
     "name": "stderr",
     "output_type": "stream",
     "text": [
      "2025-03-31 01:03:35,278 - INFO - Epoch 1, Batch 4700/31105, Batch Loss: 3.9901, Avg Loss So Far: 4.1972\n"
     ]
    },
    {
     "name": "stdout",
     "output_type": "stream",
     "text": [
      "Epoch 1, Batch 4700/31105, Batch Loss: 3.9901, Avg Loss So Far: 4.1972\n"
     ]
    },
    {
     "name": "stderr",
     "output_type": "stream",
     "text": [
      "2025-03-31 01:03:40,743 - INFO - Epoch 1, Batch 4800/31105, Batch Loss: 4.1457, Avg Loss So Far: 4.1946\n"
     ]
    },
    {
     "name": "stdout",
     "output_type": "stream",
     "text": [
      "Epoch 1, Batch 4800/31105, Batch Loss: 4.1457, Avg Loss So Far: 4.1946\n"
     ]
    },
    {
     "name": "stderr",
     "output_type": "stream",
     "text": [
      "2025-03-31 01:03:46,221 - INFO - Epoch 1, Batch 4900/31105, Batch Loss: 4.0033, Avg Loss So Far: 4.1920\n"
     ]
    },
    {
     "name": "stdout",
     "output_type": "stream",
     "text": [
      "Epoch 1, Batch 4900/31105, Batch Loss: 4.0033, Avg Loss So Far: 4.1920\n"
     ]
    },
    {
     "name": "stderr",
     "output_type": "stream",
     "text": [
      "2025-03-31 01:03:51,731 - INFO - Epoch 1, Batch 5000/31105, Batch Loss: 4.0334, Avg Loss So Far: 4.1893\n"
     ]
    },
    {
     "name": "stdout",
     "output_type": "stream",
     "text": [
      "Epoch 1, Batch 5000/31105, Batch Loss: 4.0334, Avg Loss So Far: 4.1893\n"
     ]
    },
    {
     "name": "stderr",
     "output_type": "stream",
     "text": [
      "2025-03-31 01:03:57,177 - INFO - Epoch 1, Batch 5100/31105, Batch Loss: 4.0453, Avg Loss So Far: 4.1871\n"
     ]
    },
    {
     "name": "stdout",
     "output_type": "stream",
     "text": [
      "Epoch 1, Batch 5100/31105, Batch Loss: 4.0453, Avg Loss So Far: 4.1871\n"
     ]
    },
    {
     "name": "stderr",
     "output_type": "stream",
     "text": [
      "2025-03-31 01:04:02,695 - INFO - Epoch 1, Batch 5200/31105, Batch Loss: 3.9192, Avg Loss So Far: 4.1847\n"
     ]
    },
    {
     "name": "stdout",
     "output_type": "stream",
     "text": [
      "Epoch 1, Batch 5200/31105, Batch Loss: 3.9192, Avg Loss So Far: 4.1847\n"
     ]
    },
    {
     "name": "stderr",
     "output_type": "stream",
     "text": [
      "2025-03-31 01:04:08,164 - INFO - Epoch 1, Batch 5300/31105, Batch Loss: 3.9825, Avg Loss So Far: 4.1824\n"
     ]
    },
    {
     "name": "stdout",
     "output_type": "stream",
     "text": [
      "Epoch 1, Batch 5300/31105, Batch Loss: 3.9825, Avg Loss So Far: 4.1824\n"
     ]
    },
    {
     "name": "stderr",
     "output_type": "stream",
     "text": [
      "2025-03-31 01:04:13,658 - INFO - Epoch 1, Batch 5400/31105, Batch Loss: 4.2023, Avg Loss So Far: 4.1803\n"
     ]
    },
    {
     "name": "stdout",
     "output_type": "stream",
     "text": [
      "Epoch 1, Batch 5400/31105, Batch Loss: 4.2023, Avg Loss So Far: 4.1803\n"
     ]
    },
    {
     "name": "stderr",
     "output_type": "stream",
     "text": [
      "2025-03-31 01:04:19,128 - INFO - Epoch 1, Batch 5500/31105, Batch Loss: 4.1980, Avg Loss So Far: 4.1779\n"
     ]
    },
    {
     "name": "stdout",
     "output_type": "stream",
     "text": [
      "Epoch 1, Batch 5500/31105, Batch Loss: 4.1980, Avg Loss So Far: 4.1779\n"
     ]
    },
    {
     "name": "stderr",
     "output_type": "stream",
     "text": [
      "2025-03-31 01:04:24,599 - INFO - Epoch 1, Batch 5600/31105, Batch Loss: 3.9667, Avg Loss So Far: 4.1757\n"
     ]
    },
    {
     "name": "stdout",
     "output_type": "stream",
     "text": [
      "Epoch 1, Batch 5600/31105, Batch Loss: 3.9667, Avg Loss So Far: 4.1757\n"
     ]
    },
    {
     "name": "stderr",
     "output_type": "stream",
     "text": [
      "2025-03-31 01:04:30,057 - INFO - Epoch 1, Batch 5700/31105, Batch Loss: 3.8836, Avg Loss So Far: 4.1732\n"
     ]
    },
    {
     "name": "stdout",
     "output_type": "stream",
     "text": [
      "Epoch 1, Batch 5700/31105, Batch Loss: 3.8836, Avg Loss So Far: 4.1732\n"
     ]
    },
    {
     "name": "stderr",
     "output_type": "stream",
     "text": [
      "2025-03-31 01:04:35,544 - INFO - Epoch 1, Batch 5800/31105, Batch Loss: 3.8034, Avg Loss So Far: 4.1710\n"
     ]
    },
    {
     "name": "stdout",
     "output_type": "stream",
     "text": [
      "Epoch 1, Batch 5800/31105, Batch Loss: 3.8034, Avg Loss So Far: 4.1710\n"
     ]
    },
    {
     "name": "stderr",
     "output_type": "stream",
     "text": [
      "2025-03-31 01:04:41,029 - INFO - Epoch 1, Batch 5900/31105, Batch Loss: 3.9468, Avg Loss So Far: 4.1687\n"
     ]
    },
    {
     "name": "stdout",
     "output_type": "stream",
     "text": [
      "Epoch 1, Batch 5900/31105, Batch Loss: 3.9468, Avg Loss So Far: 4.1687\n"
     ]
    },
    {
     "name": "stderr",
     "output_type": "stream",
     "text": [
      "2025-03-31 01:04:46,534 - INFO - Epoch 1, Batch 6000/31105, Batch Loss: 3.9429, Avg Loss So Far: 4.1665\n"
     ]
    },
    {
     "name": "stdout",
     "output_type": "stream",
     "text": [
      "Epoch 1, Batch 6000/31105, Batch Loss: 3.9429, Avg Loss So Far: 4.1665\n"
     ]
    },
    {
     "name": "stderr",
     "output_type": "stream",
     "text": [
      "2025-03-31 01:04:52,039 - INFO - Epoch 1, Batch 6100/31105, Batch Loss: 4.0723, Avg Loss So Far: 4.1644\n"
     ]
    },
    {
     "name": "stdout",
     "output_type": "stream",
     "text": [
      "Epoch 1, Batch 6100/31105, Batch Loss: 4.0723, Avg Loss So Far: 4.1644\n"
     ]
    },
    {
     "name": "stderr",
     "output_type": "stream",
     "text": [
      "2025-03-31 01:04:57,489 - INFO - Epoch 1, Batch 6200/31105, Batch Loss: 4.0640, Avg Loss So Far: 4.1620\n"
     ]
    },
    {
     "name": "stdout",
     "output_type": "stream",
     "text": [
      "Epoch 1, Batch 6200/31105, Batch Loss: 4.0640, Avg Loss So Far: 4.1620\n"
     ]
    },
    {
     "name": "stderr",
     "output_type": "stream",
     "text": [
      "2025-03-31 01:05:02,973 - INFO - Epoch 1, Batch 6300/31105, Batch Loss: 4.0954, Avg Loss So Far: 4.1602\n"
     ]
    },
    {
     "name": "stdout",
     "output_type": "stream",
     "text": [
      "Epoch 1, Batch 6300/31105, Batch Loss: 4.0954, Avg Loss So Far: 4.1602\n"
     ]
    },
    {
     "name": "stderr",
     "output_type": "stream",
     "text": [
      "2025-03-31 01:05:08,452 - INFO - Epoch 1, Batch 6400/31105, Batch Loss: 3.9503, Avg Loss So Far: 4.1581\n"
     ]
    },
    {
     "name": "stdout",
     "output_type": "stream",
     "text": [
      "Epoch 1, Batch 6400/31105, Batch Loss: 3.9503, Avg Loss So Far: 4.1581\n"
     ]
    },
    {
     "name": "stderr",
     "output_type": "stream",
     "text": [
      "2025-03-31 01:05:13,930 - INFO - Epoch 1, Batch 6500/31105, Batch Loss: 4.1449, Avg Loss So Far: 4.1561\n"
     ]
    },
    {
     "name": "stdout",
     "output_type": "stream",
     "text": [
      "Epoch 1, Batch 6500/31105, Batch Loss: 4.1449, Avg Loss So Far: 4.1561\n"
     ]
    },
    {
     "name": "stderr",
     "output_type": "stream",
     "text": [
      "2025-03-31 01:05:19,419 - INFO - Epoch 1, Batch 6600/31105, Batch Loss: 3.8927, Avg Loss So Far: 4.1540\n"
     ]
    },
    {
     "name": "stdout",
     "output_type": "stream",
     "text": [
      "Epoch 1, Batch 6600/31105, Batch Loss: 3.8927, Avg Loss So Far: 4.1540\n"
     ]
    },
    {
     "name": "stderr",
     "output_type": "stream",
     "text": [
      "2025-03-31 01:05:24,926 - INFO - Epoch 1, Batch 6700/31105, Batch Loss: 3.9952, Avg Loss So Far: 4.1521\n"
     ]
    },
    {
     "name": "stdout",
     "output_type": "stream",
     "text": [
      "Epoch 1, Batch 6700/31105, Batch Loss: 3.9952, Avg Loss So Far: 4.1521\n"
     ]
    },
    {
     "name": "stderr",
     "output_type": "stream",
     "text": [
      "2025-03-31 01:05:30,407 - INFO - Epoch 1, Batch 6800/31105, Batch Loss: 3.9074, Avg Loss So Far: 4.1500\n"
     ]
    },
    {
     "name": "stdout",
     "output_type": "stream",
     "text": [
      "Epoch 1, Batch 6800/31105, Batch Loss: 3.9074, Avg Loss So Far: 4.1500\n"
     ]
    },
    {
     "name": "stderr",
     "output_type": "stream",
     "text": [
      "2025-03-31 01:05:35,893 - INFO - Epoch 1, Batch 6900/31105, Batch Loss: 3.9735, Avg Loss So Far: 4.1480\n"
     ]
    },
    {
     "name": "stdout",
     "output_type": "stream",
     "text": [
      "Epoch 1, Batch 6900/31105, Batch Loss: 3.9735, Avg Loss So Far: 4.1480\n"
     ]
    },
    {
     "name": "stderr",
     "output_type": "stream",
     "text": [
      "2025-03-31 01:05:41,351 - INFO - Epoch 1, Batch 7000/31105, Batch Loss: 4.0347, Avg Loss So Far: 4.1464\n"
     ]
    },
    {
     "name": "stdout",
     "output_type": "stream",
     "text": [
      "Epoch 1, Batch 7000/31105, Batch Loss: 4.0347, Avg Loss So Far: 4.1464\n"
     ]
    },
    {
     "name": "stderr",
     "output_type": "stream",
     "text": [
      "2025-03-31 01:05:46,868 - INFO - Epoch 1, Batch 7100/31105, Batch Loss: 4.0704, Avg Loss So Far: 4.1445\n"
     ]
    },
    {
     "name": "stdout",
     "output_type": "stream",
     "text": [
      "Epoch 1, Batch 7100/31105, Batch Loss: 4.0704, Avg Loss So Far: 4.1445\n"
     ]
    },
    {
     "name": "stderr",
     "output_type": "stream",
     "text": [
      "2025-03-31 01:05:52,359 - INFO - Epoch 1, Batch 7200/31105, Batch Loss: 3.8307, Avg Loss So Far: 4.1424\n"
     ]
    },
    {
     "name": "stdout",
     "output_type": "stream",
     "text": [
      "Epoch 1, Batch 7200/31105, Batch Loss: 3.8307, Avg Loss So Far: 4.1424\n"
     ]
    },
    {
     "name": "stderr",
     "output_type": "stream",
     "text": [
      "2025-03-31 01:05:57,793 - INFO - Epoch 1, Batch 7300/31105, Batch Loss: 3.9268, Avg Loss So Far: 4.1407\n"
     ]
    },
    {
     "name": "stdout",
     "output_type": "stream",
     "text": [
      "Epoch 1, Batch 7300/31105, Batch Loss: 3.9268, Avg Loss So Far: 4.1407\n"
     ]
    },
    {
     "name": "stderr",
     "output_type": "stream",
     "text": [
      "2025-03-31 01:06:03,323 - INFO - Epoch 1, Batch 7400/31105, Batch Loss: 4.0558, Avg Loss So Far: 4.1386\n"
     ]
    },
    {
     "name": "stdout",
     "output_type": "stream",
     "text": [
      "Epoch 1, Batch 7400/31105, Batch Loss: 4.0558, Avg Loss So Far: 4.1386\n"
     ]
    },
    {
     "name": "stderr",
     "output_type": "stream",
     "text": [
      "2025-03-31 01:06:08,808 - INFO - Epoch 1, Batch 7500/31105, Batch Loss: 3.9280, Avg Loss So Far: 4.1367\n"
     ]
    },
    {
     "name": "stdout",
     "output_type": "stream",
     "text": [
      "Epoch 1, Batch 7500/31105, Batch Loss: 3.9280, Avg Loss So Far: 4.1367\n"
     ]
    },
    {
     "name": "stderr",
     "output_type": "stream",
     "text": [
      "2025-03-31 01:06:14,267 - INFO - Epoch 1, Batch 7600/31105, Batch Loss: 3.9284, Avg Loss So Far: 4.1346\n"
     ]
    },
    {
     "name": "stdout",
     "output_type": "stream",
     "text": [
      "Epoch 1, Batch 7600/31105, Batch Loss: 3.9284, Avg Loss So Far: 4.1346\n"
     ]
    },
    {
     "name": "stderr",
     "output_type": "stream",
     "text": [
      "2025-03-31 01:06:19,712 - INFO - Epoch 1, Batch 7700/31105, Batch Loss: 3.9923, Avg Loss So Far: 4.1328\n"
     ]
    },
    {
     "name": "stdout",
     "output_type": "stream",
     "text": [
      "Epoch 1, Batch 7700/31105, Batch Loss: 3.9923, Avg Loss So Far: 4.1328\n"
     ]
    },
    {
     "name": "stderr",
     "output_type": "stream",
     "text": [
      "2025-03-31 01:06:25,211 - INFO - Epoch 1, Batch 7800/31105, Batch Loss: 4.0528, Avg Loss So Far: 4.1310\n"
     ]
    },
    {
     "name": "stdout",
     "output_type": "stream",
     "text": [
      "Epoch 1, Batch 7800/31105, Batch Loss: 4.0528, Avg Loss So Far: 4.1310\n"
     ]
    },
    {
     "name": "stderr",
     "output_type": "stream",
     "text": [
      "2025-03-31 01:06:30,707 - INFO - Epoch 1, Batch 7900/31105, Batch Loss: 3.9635, Avg Loss So Far: 4.1293\n"
     ]
    },
    {
     "name": "stdout",
     "output_type": "stream",
     "text": [
      "Epoch 1, Batch 7900/31105, Batch Loss: 3.9635, Avg Loss So Far: 4.1293\n"
     ]
    },
    {
     "name": "stderr",
     "output_type": "stream",
     "text": [
      "2025-03-31 01:06:36,195 - INFO - Epoch 1, Batch 8000/31105, Batch Loss: 4.0797, Avg Loss So Far: 4.1274\n"
     ]
    },
    {
     "name": "stdout",
     "output_type": "stream",
     "text": [
      "Epoch 1, Batch 8000/31105, Batch Loss: 4.0797, Avg Loss So Far: 4.1274\n"
     ]
    },
    {
     "name": "stderr",
     "output_type": "stream",
     "text": [
      "2025-03-31 01:06:41,664 - INFO - Epoch 1, Batch 8100/31105, Batch Loss: 3.7373, Avg Loss So Far: 4.1255\n"
     ]
    },
    {
     "name": "stdout",
     "output_type": "stream",
     "text": [
      "Epoch 1, Batch 8100/31105, Batch Loss: 3.7373, Avg Loss So Far: 4.1255\n"
     ]
    },
    {
     "name": "stderr",
     "output_type": "stream",
     "text": [
      "2025-03-31 01:06:47,148 - INFO - Epoch 1, Batch 8200/31105, Batch Loss: 3.9959, Avg Loss So Far: 4.1237\n"
     ]
    },
    {
     "name": "stdout",
     "output_type": "stream",
     "text": [
      "Epoch 1, Batch 8200/31105, Batch Loss: 3.9959, Avg Loss So Far: 4.1237\n"
     ]
    },
    {
     "name": "stderr",
     "output_type": "stream",
     "text": [
      "2025-03-31 01:06:52,683 - INFO - Epoch 1, Batch 8300/31105, Batch Loss: 3.9231, Avg Loss So Far: 4.1221\n"
     ]
    },
    {
     "name": "stdout",
     "output_type": "stream",
     "text": [
      "Epoch 1, Batch 8300/31105, Batch Loss: 3.9231, Avg Loss So Far: 4.1221\n"
     ]
    },
    {
     "name": "stderr",
     "output_type": "stream",
     "text": [
      "2025-03-31 01:06:58,196 - INFO - Epoch 1, Batch 8400/31105, Batch Loss: 3.9578, Avg Loss So Far: 4.1203\n"
     ]
    },
    {
     "name": "stdout",
     "output_type": "stream",
     "text": [
      "Epoch 1, Batch 8400/31105, Batch Loss: 3.9578, Avg Loss So Far: 4.1203\n"
     ]
    },
    {
     "name": "stderr",
     "output_type": "stream",
     "text": [
      "2025-03-31 01:07:03,669 - INFO - Epoch 1, Batch 8500/31105, Batch Loss: 3.9180, Avg Loss So Far: 4.1183\n"
     ]
    },
    {
     "name": "stdout",
     "output_type": "stream",
     "text": [
      "Epoch 1, Batch 8500/31105, Batch Loss: 3.9180, Avg Loss So Far: 4.1183\n"
     ]
    },
    {
     "name": "stderr",
     "output_type": "stream",
     "text": [
      "2025-03-31 01:07:09,124 - INFO - Epoch 1, Batch 8600/31105, Batch Loss: 3.7549, Avg Loss So Far: 4.1164\n"
     ]
    },
    {
     "name": "stdout",
     "output_type": "stream",
     "text": [
      "Epoch 1, Batch 8600/31105, Batch Loss: 3.7549, Avg Loss So Far: 4.1164\n"
     ]
    },
    {
     "name": "stderr",
     "output_type": "stream",
     "text": [
      "2025-03-31 01:07:14,610 - INFO - Epoch 1, Batch 8700/31105, Batch Loss: 4.0663, Avg Loss So Far: 4.1145\n"
     ]
    },
    {
     "name": "stdout",
     "output_type": "stream",
     "text": [
      "Epoch 1, Batch 8700/31105, Batch Loss: 4.0663, Avg Loss So Far: 4.1145\n"
     ]
    },
    {
     "name": "stderr",
     "output_type": "stream",
     "text": [
      "2025-03-31 01:07:20,119 - INFO - Epoch 1, Batch 8800/31105, Batch Loss: 3.8106, Avg Loss So Far: 4.1127\n"
     ]
    },
    {
     "name": "stdout",
     "output_type": "stream",
     "text": [
      "Epoch 1, Batch 8800/31105, Batch Loss: 3.8106, Avg Loss So Far: 4.1127\n"
     ]
    },
    {
     "name": "stderr",
     "output_type": "stream",
     "text": [
      "2025-03-31 01:07:25,645 - INFO - Epoch 1, Batch 8900/31105, Batch Loss: 4.0756, Avg Loss So Far: 4.1110\n"
     ]
    },
    {
     "name": "stdout",
     "output_type": "stream",
     "text": [
      "Epoch 1, Batch 8900/31105, Batch Loss: 4.0756, Avg Loss So Far: 4.1110\n"
     ]
    },
    {
     "name": "stderr",
     "output_type": "stream",
     "text": [
      "2025-03-31 01:07:31,136 - INFO - Epoch 1, Batch 9000/31105, Batch Loss: 3.9092, Avg Loss So Far: 4.1091\n"
     ]
    },
    {
     "name": "stdout",
     "output_type": "stream",
     "text": [
      "Epoch 1, Batch 9000/31105, Batch Loss: 3.9092, Avg Loss So Far: 4.1091\n"
     ]
    },
    {
     "name": "stderr",
     "output_type": "stream",
     "text": [
      "2025-03-31 01:07:36,627 - INFO - Epoch 1, Batch 9100/31105, Batch Loss: 3.8649, Avg Loss So Far: 4.1074\n"
     ]
    },
    {
     "name": "stdout",
     "output_type": "stream",
     "text": [
      "Epoch 1, Batch 9100/31105, Batch Loss: 3.8649, Avg Loss So Far: 4.1074\n"
     ]
    },
    {
     "name": "stderr",
     "output_type": "stream",
     "text": [
      "2025-03-31 01:07:42,115 - INFO - Epoch 1, Batch 9200/31105, Batch Loss: 3.8729, Avg Loss So Far: 4.1057\n"
     ]
    },
    {
     "name": "stdout",
     "output_type": "stream",
     "text": [
      "Epoch 1, Batch 9200/31105, Batch Loss: 3.8729, Avg Loss So Far: 4.1057\n"
     ]
    },
    {
     "name": "stderr",
     "output_type": "stream",
     "text": [
      "2025-03-31 01:07:47,632 - INFO - Epoch 1, Batch 9300/31105, Batch Loss: 3.9949, Avg Loss So Far: 4.1040\n"
     ]
    },
    {
     "name": "stdout",
     "output_type": "stream",
     "text": [
      "Epoch 1, Batch 9300/31105, Batch Loss: 3.9949, Avg Loss So Far: 4.1040\n"
     ]
    },
    {
     "name": "stderr",
     "output_type": "stream",
     "text": [
      "2025-03-31 01:07:53,114 - INFO - Epoch 1, Batch 9400/31105, Batch Loss: 4.0640, Avg Loss So Far: 4.1024\n"
     ]
    },
    {
     "name": "stdout",
     "output_type": "stream",
     "text": [
      "Epoch 1, Batch 9400/31105, Batch Loss: 4.0640, Avg Loss So Far: 4.1024\n"
     ]
    },
    {
     "name": "stderr",
     "output_type": "stream",
     "text": [
      "2025-03-31 01:07:58,658 - INFO - Epoch 1, Batch 9500/31105, Batch Loss: 4.0693, Avg Loss So Far: 4.1008\n"
     ]
    },
    {
     "name": "stdout",
     "output_type": "stream",
     "text": [
      "Epoch 1, Batch 9500/31105, Batch Loss: 4.0693, Avg Loss So Far: 4.1008\n"
     ]
    },
    {
     "name": "stderr",
     "output_type": "stream",
     "text": [
      "2025-03-31 01:08:04,140 - INFO - Epoch 1, Batch 9600/31105, Batch Loss: 3.9465, Avg Loss So Far: 4.0994\n"
     ]
    },
    {
     "name": "stdout",
     "output_type": "stream",
     "text": [
      "Epoch 1, Batch 9600/31105, Batch Loss: 3.9465, Avg Loss So Far: 4.0994\n"
     ]
    },
    {
     "name": "stderr",
     "output_type": "stream",
     "text": [
      "2025-03-31 01:08:09,667 - INFO - Epoch 1, Batch 9700/31105, Batch Loss: 3.8396, Avg Loss So Far: 4.0977\n"
     ]
    },
    {
     "name": "stdout",
     "output_type": "stream",
     "text": [
      "Epoch 1, Batch 9700/31105, Batch Loss: 3.8396, Avg Loss So Far: 4.0977\n"
     ]
    },
    {
     "name": "stderr",
     "output_type": "stream",
     "text": [
      "2025-03-31 01:08:15,142 - INFO - Epoch 1, Batch 9800/31105, Batch Loss: 3.9694, Avg Loss So Far: 4.0960\n"
     ]
    },
    {
     "name": "stdout",
     "output_type": "stream",
     "text": [
      "Epoch 1, Batch 9800/31105, Batch Loss: 3.9694, Avg Loss So Far: 4.0960\n"
     ]
    },
    {
     "name": "stderr",
     "output_type": "stream",
     "text": [
      "2025-03-31 01:08:20,644 - INFO - Epoch 1, Batch 9900/31105, Batch Loss: 3.9927, Avg Loss So Far: 4.0944\n"
     ]
    },
    {
     "name": "stdout",
     "output_type": "stream",
     "text": [
      "Epoch 1, Batch 9900/31105, Batch Loss: 3.9927, Avg Loss So Far: 4.0944\n"
     ]
    },
    {
     "name": "stderr",
     "output_type": "stream",
     "text": [
      "2025-03-31 01:08:26,128 - INFO - Epoch 1, Batch 10000/31105, Batch Loss: 4.0121, Avg Loss So Far: 4.0930\n"
     ]
    },
    {
     "name": "stdout",
     "output_type": "stream",
     "text": [
      "Epoch 1, Batch 10000/31105, Batch Loss: 4.0121, Avg Loss So Far: 4.0930\n"
     ]
    },
    {
     "name": "stderr",
     "output_type": "stream",
     "text": [
      "2025-03-31 01:08:31,594 - INFO - Epoch 1, Batch 10100/31105, Batch Loss: 4.0621, Avg Loss So Far: 4.0916\n"
     ]
    },
    {
     "name": "stdout",
     "output_type": "stream",
     "text": [
      "Epoch 1, Batch 10100/31105, Batch Loss: 4.0621, Avg Loss So Far: 4.0916\n"
     ]
    },
    {
     "name": "stderr",
     "output_type": "stream",
     "text": [
      "2025-03-31 01:08:37,055 - INFO - Epoch 1, Batch 10200/31105, Batch Loss: 4.0382, Avg Loss So Far: 4.0901\n"
     ]
    },
    {
     "name": "stdout",
     "output_type": "stream",
     "text": [
      "Epoch 1, Batch 10200/31105, Batch Loss: 4.0382, Avg Loss So Far: 4.0901\n"
     ]
    },
    {
     "name": "stderr",
     "output_type": "stream",
     "text": [
      "2025-03-31 01:08:42,547 - INFO - Epoch 1, Batch 10300/31105, Batch Loss: 3.8493, Avg Loss So Far: 4.0886\n"
     ]
    },
    {
     "name": "stdout",
     "output_type": "stream",
     "text": [
      "Epoch 1, Batch 10300/31105, Batch Loss: 3.8493, Avg Loss So Far: 4.0886\n"
     ]
    },
    {
     "name": "stderr",
     "output_type": "stream",
     "text": [
      "2025-03-31 01:08:48,043 - INFO - Epoch 1, Batch 10400/31105, Batch Loss: 3.9173, Avg Loss So Far: 4.0872\n"
     ]
    },
    {
     "name": "stdout",
     "output_type": "stream",
     "text": [
      "Epoch 1, Batch 10400/31105, Batch Loss: 3.9173, Avg Loss So Far: 4.0872\n"
     ]
    },
    {
     "name": "stderr",
     "output_type": "stream",
     "text": [
      "2025-03-31 01:08:53,536 - INFO - Epoch 1, Batch 10500/31105, Batch Loss: 3.9041, Avg Loss So Far: 4.0856\n"
     ]
    },
    {
     "name": "stdout",
     "output_type": "stream",
     "text": [
      "Epoch 1, Batch 10500/31105, Batch Loss: 3.9041, Avg Loss So Far: 4.0856\n"
     ]
    },
    {
     "name": "stderr",
     "output_type": "stream",
     "text": [
      "2025-03-31 01:08:59,064 - INFO - Epoch 1, Batch 10600/31105, Batch Loss: 4.0545, Avg Loss So Far: 4.0840\n"
     ]
    },
    {
     "name": "stdout",
     "output_type": "stream",
     "text": [
      "Epoch 1, Batch 10600/31105, Batch Loss: 4.0545, Avg Loss So Far: 4.0840\n"
     ]
    },
    {
     "name": "stderr",
     "output_type": "stream",
     "text": [
      "2025-03-31 01:09:04,495 - INFO - Epoch 1, Batch 10700/31105, Batch Loss: 3.8122, Avg Loss So Far: 4.0824\n"
     ]
    },
    {
     "name": "stdout",
     "output_type": "stream",
     "text": [
      "Epoch 1, Batch 10700/31105, Batch Loss: 3.8122, Avg Loss So Far: 4.0824\n"
     ]
    },
    {
     "name": "stderr",
     "output_type": "stream",
     "text": [
      "2025-03-31 01:09:10,004 - INFO - Epoch 1, Batch 10800/31105, Batch Loss: 3.8762, Avg Loss So Far: 4.0808\n"
     ]
    },
    {
     "name": "stdout",
     "output_type": "stream",
     "text": [
      "Epoch 1, Batch 10800/31105, Batch Loss: 3.8762, Avg Loss So Far: 4.0808\n"
     ]
    },
    {
     "name": "stderr",
     "output_type": "stream",
     "text": [
      "2025-03-31 01:09:15,485 - INFO - Epoch 1, Batch 10900/31105, Batch Loss: 3.9913, Avg Loss So Far: 4.0793\n"
     ]
    },
    {
     "name": "stdout",
     "output_type": "stream",
     "text": [
      "Epoch 1, Batch 10900/31105, Batch Loss: 3.9913, Avg Loss So Far: 4.0793\n"
     ]
    },
    {
     "name": "stderr",
     "output_type": "stream",
     "text": [
      "2025-03-31 01:09:20,985 - INFO - Epoch 1, Batch 11000/31105, Batch Loss: 3.9896, Avg Loss So Far: 4.0778\n"
     ]
    },
    {
     "name": "stdout",
     "output_type": "stream",
     "text": [
      "Epoch 1, Batch 11000/31105, Batch Loss: 3.9896, Avg Loss So Far: 4.0778\n"
     ]
    },
    {
     "name": "stderr",
     "output_type": "stream",
     "text": [
      "2025-03-31 01:09:26,482 - INFO - Epoch 1, Batch 11100/31105, Batch Loss: 3.7896, Avg Loss So Far: 4.0763\n"
     ]
    },
    {
     "name": "stdout",
     "output_type": "stream",
     "text": [
      "Epoch 1, Batch 11100/31105, Batch Loss: 3.7896, Avg Loss So Far: 4.0763\n"
     ]
    },
    {
     "name": "stderr",
     "output_type": "stream",
     "text": [
      "2025-03-31 01:09:31,978 - INFO - Epoch 1, Batch 11200/31105, Batch Loss: 3.9908, Avg Loss So Far: 4.0750\n"
     ]
    },
    {
     "name": "stdout",
     "output_type": "stream",
     "text": [
      "Epoch 1, Batch 11200/31105, Batch Loss: 3.9908, Avg Loss So Far: 4.0750\n"
     ]
    },
    {
     "name": "stderr",
     "output_type": "stream",
     "text": [
      "2025-03-31 01:09:37,465 - INFO - Epoch 1, Batch 11300/31105, Batch Loss: 3.9821, Avg Loss So Far: 4.0736\n"
     ]
    },
    {
     "name": "stdout",
     "output_type": "stream",
     "text": [
      "Epoch 1, Batch 11300/31105, Batch Loss: 3.9821, Avg Loss So Far: 4.0736\n"
     ]
    },
    {
     "name": "stderr",
     "output_type": "stream",
     "text": [
      "2025-03-31 01:09:42,968 - INFO - Epoch 1, Batch 11400/31105, Batch Loss: 3.8903, Avg Loss So Far: 4.0721\n"
     ]
    },
    {
     "name": "stdout",
     "output_type": "stream",
     "text": [
      "Epoch 1, Batch 11400/31105, Batch Loss: 3.8903, Avg Loss So Far: 4.0721\n"
     ]
    },
    {
     "name": "stderr",
     "output_type": "stream",
     "text": [
      "2025-03-31 01:09:48,489 - INFO - Epoch 1, Batch 11500/31105, Batch Loss: 3.9528, Avg Loss So Far: 4.0705\n"
     ]
    },
    {
     "name": "stdout",
     "output_type": "stream",
     "text": [
      "Epoch 1, Batch 11500/31105, Batch Loss: 3.9528, Avg Loss So Far: 4.0705\n"
     ]
    },
    {
     "name": "stderr",
     "output_type": "stream",
     "text": [
      "2025-03-31 01:09:54,036 - INFO - Epoch 1, Batch 11600/31105, Batch Loss: 3.7653, Avg Loss So Far: 4.0690\n"
     ]
    },
    {
     "name": "stdout",
     "output_type": "stream",
     "text": [
      "Epoch 1, Batch 11600/31105, Batch Loss: 3.7653, Avg Loss So Far: 4.0690\n"
     ]
    },
    {
     "name": "stderr",
     "output_type": "stream",
     "text": [
      "2025-03-31 01:09:59,517 - INFO - Epoch 1, Batch 11700/31105, Batch Loss: 3.7743, Avg Loss So Far: 4.0675\n"
     ]
    },
    {
     "name": "stdout",
     "output_type": "stream",
     "text": [
      "Epoch 1, Batch 11700/31105, Batch Loss: 3.7743, Avg Loss So Far: 4.0675\n"
     ]
    },
    {
     "name": "stderr",
     "output_type": "stream",
     "text": [
      "2025-03-31 01:10:04,985 - INFO - Epoch 1, Batch 11800/31105, Batch Loss: 3.9788, Avg Loss So Far: 4.0659\n"
     ]
    },
    {
     "name": "stdout",
     "output_type": "stream",
     "text": [
      "Epoch 1, Batch 11800/31105, Batch Loss: 3.9788, Avg Loss So Far: 4.0659\n"
     ]
    },
    {
     "name": "stderr",
     "output_type": "stream",
     "text": [
      "2025-03-31 01:10:10,462 - INFO - Epoch 1, Batch 11900/31105, Batch Loss: 4.0173, Avg Loss So Far: 4.0648\n"
     ]
    },
    {
     "name": "stdout",
     "output_type": "stream",
     "text": [
      "Epoch 1, Batch 11900/31105, Batch Loss: 4.0173, Avg Loss So Far: 4.0648\n"
     ]
    },
    {
     "name": "stderr",
     "output_type": "stream",
     "text": [
      "2025-03-31 01:10:15,965 - INFO - Epoch 1, Batch 12000/31105, Batch Loss: 3.7587, Avg Loss So Far: 4.0632\n"
     ]
    },
    {
     "name": "stdout",
     "output_type": "stream",
     "text": [
      "Epoch 1, Batch 12000/31105, Batch Loss: 3.7587, Avg Loss So Far: 4.0632\n"
     ]
    },
    {
     "name": "stderr",
     "output_type": "stream",
     "text": [
      "2025-03-31 01:10:21,442 - INFO - Epoch 1, Batch 12100/31105, Batch Loss: 4.1810, Avg Loss So Far: 4.0619\n"
     ]
    },
    {
     "name": "stdout",
     "output_type": "stream",
     "text": [
      "Epoch 1, Batch 12100/31105, Batch Loss: 4.1810, Avg Loss So Far: 4.0619\n"
     ]
    },
    {
     "name": "stderr",
     "output_type": "stream",
     "text": [
      "2025-03-31 01:10:26,927 - INFO - Epoch 1, Batch 12200/31105, Batch Loss: 3.8731, Avg Loss So Far: 4.0604\n"
     ]
    },
    {
     "name": "stdout",
     "output_type": "stream",
     "text": [
      "Epoch 1, Batch 12200/31105, Batch Loss: 3.8731, Avg Loss So Far: 4.0604\n"
     ]
    },
    {
     "name": "stderr",
     "output_type": "stream",
     "text": [
      "2025-03-31 01:10:32,395 - INFO - Epoch 1, Batch 12300/31105, Batch Loss: 3.9356, Avg Loss So Far: 4.0590\n"
     ]
    },
    {
     "name": "stdout",
     "output_type": "stream",
     "text": [
      "Epoch 1, Batch 12300/31105, Batch Loss: 3.9356, Avg Loss So Far: 4.0590\n"
     ]
    },
    {
     "name": "stderr",
     "output_type": "stream",
     "text": [
      "2025-03-31 01:10:37,866 - INFO - Epoch 1, Batch 12400/31105, Batch Loss: 3.9034, Avg Loss So Far: 4.0575\n"
     ]
    },
    {
     "name": "stdout",
     "output_type": "stream",
     "text": [
      "Epoch 1, Batch 12400/31105, Batch Loss: 3.9034, Avg Loss So Far: 4.0575\n"
     ]
    },
    {
     "name": "stderr",
     "output_type": "stream",
     "text": [
      "2025-03-31 01:10:43,363 - INFO - Epoch 1, Batch 12500/31105, Batch Loss: 3.9159, Avg Loss So Far: 4.0560\n"
     ]
    },
    {
     "name": "stdout",
     "output_type": "stream",
     "text": [
      "Epoch 1, Batch 12500/31105, Batch Loss: 3.9159, Avg Loss So Far: 4.0560\n"
     ]
    },
    {
     "name": "stderr",
     "output_type": "stream",
     "text": [
      "2025-03-31 01:10:48,847 - INFO - Epoch 1, Batch 12600/31105, Batch Loss: 3.7296, Avg Loss So Far: 4.0546\n"
     ]
    },
    {
     "name": "stdout",
     "output_type": "stream",
     "text": [
      "Epoch 1, Batch 12600/31105, Batch Loss: 3.7296, Avg Loss So Far: 4.0546\n"
     ]
    },
    {
     "name": "stderr",
     "output_type": "stream",
     "text": [
      "2025-03-31 01:10:54,357 - INFO - Epoch 1, Batch 12700/31105, Batch Loss: 3.8079, Avg Loss So Far: 4.0531\n"
     ]
    },
    {
     "name": "stdout",
     "output_type": "stream",
     "text": [
      "Epoch 1, Batch 12700/31105, Batch Loss: 3.8079, Avg Loss So Far: 4.0531\n"
     ]
    },
    {
     "name": "stderr",
     "output_type": "stream",
     "text": [
      "2025-03-31 01:10:59,859 - INFO - Epoch 1, Batch 12800/31105, Batch Loss: 3.8270, Avg Loss So Far: 4.0517\n"
     ]
    },
    {
     "name": "stdout",
     "output_type": "stream",
     "text": [
      "Epoch 1, Batch 12800/31105, Batch Loss: 3.8270, Avg Loss So Far: 4.0517\n"
     ]
    },
    {
     "name": "stderr",
     "output_type": "stream",
     "text": [
      "2025-03-31 01:11:05,348 - INFO - Epoch 1, Batch 12900/31105, Batch Loss: 3.8202, Avg Loss So Far: 4.0502\n"
     ]
    },
    {
     "name": "stdout",
     "output_type": "stream",
     "text": [
      "Epoch 1, Batch 12900/31105, Batch Loss: 3.8202, Avg Loss So Far: 4.0502\n"
     ]
    },
    {
     "name": "stderr",
     "output_type": "stream",
     "text": [
      "2025-03-31 01:11:10,804 - INFO - Epoch 1, Batch 13000/31105, Batch Loss: 3.7227, Avg Loss So Far: 4.0489\n"
     ]
    },
    {
     "name": "stdout",
     "output_type": "stream",
     "text": [
      "Epoch 1, Batch 13000/31105, Batch Loss: 3.7227, Avg Loss So Far: 4.0489\n"
     ]
    },
    {
     "name": "stderr",
     "output_type": "stream",
     "text": [
      "2025-03-31 01:11:16,334 - INFO - Epoch 1, Batch 13100/31105, Batch Loss: 3.8853, Avg Loss So Far: 4.0475\n"
     ]
    },
    {
     "name": "stdout",
     "output_type": "stream",
     "text": [
      "Epoch 1, Batch 13100/31105, Batch Loss: 3.8853, Avg Loss So Far: 4.0475\n"
     ]
    },
    {
     "name": "stderr",
     "output_type": "stream",
     "text": [
      "2025-03-31 01:11:21,816 - INFO - Epoch 1, Batch 13200/31105, Batch Loss: 3.9326, Avg Loss So Far: 4.0462\n"
     ]
    },
    {
     "name": "stdout",
     "output_type": "stream",
     "text": [
      "Epoch 1, Batch 13200/31105, Batch Loss: 3.9326, Avg Loss So Far: 4.0462\n"
     ]
    },
    {
     "name": "stderr",
     "output_type": "stream",
     "text": [
      "2025-03-31 01:11:27,309 - INFO - Epoch 1, Batch 13300/31105, Batch Loss: 3.9090, Avg Loss So Far: 4.0450\n"
     ]
    },
    {
     "name": "stdout",
     "output_type": "stream",
     "text": [
      "Epoch 1, Batch 13300/31105, Batch Loss: 3.9090, Avg Loss So Far: 4.0450\n"
     ]
    },
    {
     "name": "stderr",
     "output_type": "stream",
     "text": [
      "2025-03-31 01:11:32,794 - INFO - Epoch 1, Batch 13400/31105, Batch Loss: 3.9480, Avg Loss So Far: 4.0436\n"
     ]
    },
    {
     "name": "stdout",
     "output_type": "stream",
     "text": [
      "Epoch 1, Batch 13400/31105, Batch Loss: 3.9480, Avg Loss So Far: 4.0436\n"
     ]
    },
    {
     "name": "stderr",
     "output_type": "stream",
     "text": [
      "2025-03-31 01:11:38,276 - INFO - Epoch 1, Batch 13500/31105, Batch Loss: 3.8408, Avg Loss So Far: 4.0422\n"
     ]
    },
    {
     "name": "stdout",
     "output_type": "stream",
     "text": [
      "Epoch 1, Batch 13500/31105, Batch Loss: 3.8408, Avg Loss So Far: 4.0422\n"
     ]
    },
    {
     "name": "stderr",
     "output_type": "stream",
     "text": [
      "2025-03-31 01:11:43,757 - INFO - Epoch 1, Batch 13600/31105, Batch Loss: 3.8736, Avg Loss So Far: 4.0409\n"
     ]
    },
    {
     "name": "stdout",
     "output_type": "stream",
     "text": [
      "Epoch 1, Batch 13600/31105, Batch Loss: 3.8736, Avg Loss So Far: 4.0409\n"
     ]
    },
    {
     "name": "stderr",
     "output_type": "stream",
     "text": [
      "2025-03-31 01:11:49,269 - INFO - Epoch 1, Batch 13700/31105, Batch Loss: 3.8813, Avg Loss So Far: 4.0394\n"
     ]
    },
    {
     "name": "stdout",
     "output_type": "stream",
     "text": [
      "Epoch 1, Batch 13700/31105, Batch Loss: 3.8813, Avg Loss So Far: 4.0394\n"
     ]
    },
    {
     "name": "stderr",
     "output_type": "stream",
     "text": [
      "2025-03-31 01:11:54,769 - INFO - Epoch 1, Batch 13800/31105, Batch Loss: 4.0382, Avg Loss So Far: 4.0382\n"
     ]
    },
    {
     "name": "stdout",
     "output_type": "stream",
     "text": [
      "Epoch 1, Batch 13800/31105, Batch Loss: 4.0382, Avg Loss So Far: 4.0382\n"
     ]
    },
    {
     "name": "stderr",
     "output_type": "stream",
     "text": [
      "2025-03-31 01:12:00,213 - INFO - Epoch 1, Batch 13900/31105, Batch Loss: 3.8528, Avg Loss So Far: 4.0369\n"
     ]
    },
    {
     "name": "stdout",
     "output_type": "stream",
     "text": [
      "Epoch 1, Batch 13900/31105, Batch Loss: 3.8528, Avg Loss So Far: 4.0369\n"
     ]
    },
    {
     "name": "stderr",
     "output_type": "stream",
     "text": [
      "2025-03-31 01:12:05,693 - INFO - Epoch 1, Batch 14000/31105, Batch Loss: 3.9024, Avg Loss So Far: 4.0356\n"
     ]
    },
    {
     "name": "stdout",
     "output_type": "stream",
     "text": [
      "Epoch 1, Batch 14000/31105, Batch Loss: 3.9024, Avg Loss So Far: 4.0356\n"
     ]
    },
    {
     "name": "stderr",
     "output_type": "stream",
     "text": [
      "2025-03-31 01:12:11,198 - INFO - Epoch 1, Batch 14100/31105, Batch Loss: 3.6329, Avg Loss So Far: 4.0342\n"
     ]
    },
    {
     "name": "stdout",
     "output_type": "stream",
     "text": [
      "Epoch 1, Batch 14100/31105, Batch Loss: 3.6329, Avg Loss So Far: 4.0342\n"
     ]
    },
    {
     "name": "stderr",
     "output_type": "stream",
     "text": [
      "2025-03-31 01:12:16,689 - INFO - Epoch 1, Batch 14200/31105, Batch Loss: 3.7277, Avg Loss So Far: 4.0326\n"
     ]
    },
    {
     "name": "stdout",
     "output_type": "stream",
     "text": [
      "Epoch 1, Batch 14200/31105, Batch Loss: 3.7277, Avg Loss So Far: 4.0326\n"
     ]
    },
    {
     "name": "stderr",
     "output_type": "stream",
     "text": [
      "2025-03-31 01:12:22,167 - INFO - Epoch 1, Batch 14300/31105, Batch Loss: 3.9420, Avg Loss So Far: 4.0312\n"
     ]
    },
    {
     "name": "stdout",
     "output_type": "stream",
     "text": [
      "Epoch 1, Batch 14300/31105, Batch Loss: 3.9420, Avg Loss So Far: 4.0312\n"
     ]
    },
    {
     "name": "stderr",
     "output_type": "stream",
     "text": [
      "2025-03-31 01:12:27,679 - INFO - Epoch 1, Batch 14400/31105, Batch Loss: 3.7187, Avg Loss So Far: 4.0298\n"
     ]
    },
    {
     "name": "stdout",
     "output_type": "stream",
     "text": [
      "Epoch 1, Batch 14400/31105, Batch Loss: 3.7187, Avg Loss So Far: 4.0298\n"
     ]
    },
    {
     "name": "stderr",
     "output_type": "stream",
     "text": [
      "2025-03-31 01:12:33,133 - INFO - Epoch 1, Batch 14500/31105, Batch Loss: 3.6157, Avg Loss So Far: 4.0286\n"
     ]
    },
    {
     "name": "stdout",
     "output_type": "stream",
     "text": [
      "Epoch 1, Batch 14500/31105, Batch Loss: 3.6157, Avg Loss So Far: 4.0286\n"
     ]
    },
    {
     "name": "stderr",
     "output_type": "stream",
     "text": [
      "2025-03-31 01:12:38,641 - INFO - Epoch 1, Batch 14600/31105, Batch Loss: 4.0150, Avg Loss So Far: 4.0273\n"
     ]
    },
    {
     "name": "stdout",
     "output_type": "stream",
     "text": [
      "Epoch 1, Batch 14600/31105, Batch Loss: 4.0150, Avg Loss So Far: 4.0273\n"
     ]
    },
    {
     "name": "stderr",
     "output_type": "stream",
     "text": [
      "2025-03-31 01:12:44,069 - INFO - Epoch 1, Batch 14700/31105, Batch Loss: 3.6977, Avg Loss So Far: 4.0262\n"
     ]
    },
    {
     "name": "stdout",
     "output_type": "stream",
     "text": [
      "Epoch 1, Batch 14700/31105, Batch Loss: 3.6977, Avg Loss So Far: 4.0262\n"
     ]
    },
    {
     "name": "stderr",
     "output_type": "stream",
     "text": [
      "2025-03-31 01:12:49,558 - INFO - Epoch 1, Batch 14800/31105, Batch Loss: 3.9323, Avg Loss So Far: 4.0250\n"
     ]
    },
    {
     "name": "stdout",
     "output_type": "stream",
     "text": [
      "Epoch 1, Batch 14800/31105, Batch Loss: 3.9323, Avg Loss So Far: 4.0250\n"
     ]
    },
    {
     "name": "stderr",
     "output_type": "stream",
     "text": [
      "2025-03-31 01:12:55,020 - INFO - Epoch 1, Batch 14900/31105, Batch Loss: 3.7196, Avg Loss So Far: 4.0236\n"
     ]
    },
    {
     "name": "stdout",
     "output_type": "stream",
     "text": [
      "Epoch 1, Batch 14900/31105, Batch Loss: 3.7196, Avg Loss So Far: 4.0236\n"
     ]
    },
    {
     "name": "stderr",
     "output_type": "stream",
     "text": [
      "2025-03-31 01:13:00,508 - INFO - Epoch 1, Batch 15000/31105, Batch Loss: 3.7790, Avg Loss So Far: 4.0222\n"
     ]
    },
    {
     "name": "stdout",
     "output_type": "stream",
     "text": [
      "Epoch 1, Batch 15000/31105, Batch Loss: 3.7790, Avg Loss So Far: 4.0222\n"
     ]
    },
    {
     "name": "stderr",
     "output_type": "stream",
     "text": [
      "2025-03-31 01:13:06,004 - INFO - Epoch 1, Batch 15100/31105, Batch Loss: 3.9758, Avg Loss So Far: 4.0210\n"
     ]
    },
    {
     "name": "stdout",
     "output_type": "stream",
     "text": [
      "Epoch 1, Batch 15100/31105, Batch Loss: 3.9758, Avg Loss So Far: 4.0210\n"
     ]
    },
    {
     "name": "stderr",
     "output_type": "stream",
     "text": [
      "2025-03-31 01:13:11,460 - INFO - Epoch 1, Batch 15200/31105, Batch Loss: 4.0130, Avg Loss So Far: 4.0197\n"
     ]
    },
    {
     "name": "stdout",
     "output_type": "stream",
     "text": [
      "Epoch 1, Batch 15200/31105, Batch Loss: 4.0130, Avg Loss So Far: 4.0197\n"
     ]
    },
    {
     "name": "stderr",
     "output_type": "stream",
     "text": [
      "2025-03-31 01:13:16,951 - INFO - Epoch 1, Batch 15300/31105, Batch Loss: 4.2632, Avg Loss So Far: 4.0185\n"
     ]
    },
    {
     "name": "stdout",
     "output_type": "stream",
     "text": [
      "Epoch 1, Batch 15300/31105, Batch Loss: 4.2632, Avg Loss So Far: 4.0185\n"
     ]
    },
    {
     "name": "stderr",
     "output_type": "stream",
     "text": [
      "2025-03-31 01:13:22,429 - INFO - Epoch 1, Batch 15400/31105, Batch Loss: 3.7944, Avg Loss So Far: 4.0173\n"
     ]
    },
    {
     "name": "stdout",
     "output_type": "stream",
     "text": [
      "Epoch 1, Batch 15400/31105, Batch Loss: 3.7944, Avg Loss So Far: 4.0173\n"
     ]
    },
    {
     "name": "stderr",
     "output_type": "stream",
     "text": [
      "2025-03-31 01:13:27,975 - INFO - Epoch 1, Batch 15500/31105, Batch Loss: 3.9791, Avg Loss So Far: 4.0159\n"
     ]
    },
    {
     "name": "stdout",
     "output_type": "stream",
     "text": [
      "Epoch 1, Batch 15500/31105, Batch Loss: 3.9791, Avg Loss So Far: 4.0159\n"
     ]
    },
    {
     "name": "stderr",
     "output_type": "stream",
     "text": [
      "2025-03-31 01:13:33,447 - INFO - Epoch 1, Batch 15600/31105, Batch Loss: 3.9763, Avg Loss So Far: 4.0146\n"
     ]
    },
    {
     "name": "stdout",
     "output_type": "stream",
     "text": [
      "Epoch 1, Batch 15600/31105, Batch Loss: 3.9763, Avg Loss So Far: 4.0146\n"
     ]
    },
    {
     "name": "stderr",
     "output_type": "stream",
     "text": [
      "2025-03-31 01:13:38,985 - INFO - Epoch 1, Batch 15700/31105, Batch Loss: 3.7882, Avg Loss So Far: 4.0134\n"
     ]
    },
    {
     "name": "stdout",
     "output_type": "stream",
     "text": [
      "Epoch 1, Batch 15700/31105, Batch Loss: 3.7882, Avg Loss So Far: 4.0134\n"
     ]
    },
    {
     "name": "stderr",
     "output_type": "stream",
     "text": [
      "2025-03-31 01:13:44,432 - INFO - Epoch 1, Batch 15800/31105, Batch Loss: 3.8540, Avg Loss So Far: 4.0123\n"
     ]
    },
    {
     "name": "stdout",
     "output_type": "stream",
     "text": [
      "Epoch 1, Batch 15800/31105, Batch Loss: 3.8540, Avg Loss So Far: 4.0123\n"
     ]
    },
    {
     "name": "stderr",
     "output_type": "stream",
     "text": [
      "2025-03-31 01:13:49,914 - INFO - Epoch 1, Batch 15900/31105, Batch Loss: 3.8585, Avg Loss So Far: 4.0110\n"
     ]
    },
    {
     "name": "stdout",
     "output_type": "stream",
     "text": [
      "Epoch 1, Batch 15900/31105, Batch Loss: 3.8585, Avg Loss So Far: 4.0110\n"
     ]
    },
    {
     "name": "stderr",
     "output_type": "stream",
     "text": [
      "2025-03-31 01:13:55,368 - INFO - Epoch 1, Batch 16000/31105, Batch Loss: 3.7554, Avg Loss So Far: 4.0098\n"
     ]
    },
    {
     "name": "stdout",
     "output_type": "stream",
     "text": [
      "Epoch 1, Batch 16000/31105, Batch Loss: 3.7554, Avg Loss So Far: 4.0098\n"
     ]
    },
    {
     "name": "stderr",
     "output_type": "stream",
     "text": [
      "2025-03-31 01:14:00,875 - INFO - Epoch 1, Batch 16100/31105, Batch Loss: 3.8011, Avg Loss So Far: 4.0086\n"
     ]
    },
    {
     "name": "stdout",
     "output_type": "stream",
     "text": [
      "Epoch 1, Batch 16100/31105, Batch Loss: 3.8011, Avg Loss So Far: 4.0086\n"
     ]
    },
    {
     "name": "stderr",
     "output_type": "stream",
     "text": [
      "2025-03-31 01:14:06,335 - INFO - Epoch 1, Batch 16200/31105, Batch Loss: 3.5953, Avg Loss So Far: 4.0073\n"
     ]
    },
    {
     "name": "stdout",
     "output_type": "stream",
     "text": [
      "Epoch 1, Batch 16200/31105, Batch Loss: 3.5953, Avg Loss So Far: 4.0073\n"
     ]
    },
    {
     "name": "stderr",
     "output_type": "stream",
     "text": [
      "2025-03-31 01:14:11,816 - INFO - Epoch 1, Batch 16300/31105, Batch Loss: 3.9450, Avg Loss So Far: 4.0061\n"
     ]
    },
    {
     "name": "stdout",
     "output_type": "stream",
     "text": [
      "Epoch 1, Batch 16300/31105, Batch Loss: 3.9450, Avg Loss So Far: 4.0061\n"
     ]
    },
    {
     "name": "stderr",
     "output_type": "stream",
     "text": [
      "2025-03-31 01:14:17,284 - INFO - Epoch 1, Batch 16400/31105, Batch Loss: 3.8347, Avg Loss So Far: 4.0049\n"
     ]
    },
    {
     "name": "stdout",
     "output_type": "stream",
     "text": [
      "Epoch 1, Batch 16400/31105, Batch Loss: 3.8347, Avg Loss So Far: 4.0049\n"
     ]
    },
    {
     "name": "stderr",
     "output_type": "stream",
     "text": [
      "2025-03-31 01:14:22,747 - INFO - Epoch 1, Batch 16500/31105, Batch Loss: 3.8361, Avg Loss So Far: 4.0037\n"
     ]
    },
    {
     "name": "stdout",
     "output_type": "stream",
     "text": [
      "Epoch 1, Batch 16500/31105, Batch Loss: 3.8361, Avg Loss So Far: 4.0037\n"
     ]
    },
    {
     "name": "stderr",
     "output_type": "stream",
     "text": [
      "2025-03-31 01:14:28,210 - INFO - Epoch 1, Batch 16600/31105, Batch Loss: 3.8258, Avg Loss So Far: 4.0026\n"
     ]
    },
    {
     "name": "stdout",
     "output_type": "stream",
     "text": [
      "Epoch 1, Batch 16600/31105, Batch Loss: 3.8258, Avg Loss So Far: 4.0026\n"
     ]
    },
    {
     "name": "stderr",
     "output_type": "stream",
     "text": [
      "2025-03-31 01:14:33,738 - INFO - Epoch 1, Batch 16700/31105, Batch Loss: 3.7659, Avg Loss So Far: 4.0013\n"
     ]
    },
    {
     "name": "stdout",
     "output_type": "stream",
     "text": [
      "Epoch 1, Batch 16700/31105, Batch Loss: 3.7659, Avg Loss So Far: 4.0013\n"
     ]
    },
    {
     "name": "stderr",
     "output_type": "stream",
     "text": [
      "2025-03-31 01:14:39,196 - INFO - Epoch 1, Batch 16800/31105, Batch Loss: 3.9279, Avg Loss So Far: 4.0001\n"
     ]
    },
    {
     "name": "stdout",
     "output_type": "stream",
     "text": [
      "Epoch 1, Batch 16800/31105, Batch Loss: 3.9279, Avg Loss So Far: 4.0001\n"
     ]
    },
    {
     "name": "stderr",
     "output_type": "stream",
     "text": [
      "2025-03-31 01:14:44,653 - INFO - Epoch 1, Batch 16900/31105, Batch Loss: 3.7909, Avg Loss So Far: 3.9990\n"
     ]
    },
    {
     "name": "stdout",
     "output_type": "stream",
     "text": [
      "Epoch 1, Batch 16900/31105, Batch Loss: 3.7909, Avg Loss So Far: 3.9990\n"
     ]
    },
    {
     "name": "stderr",
     "output_type": "stream",
     "text": [
      "2025-03-31 01:14:50,202 - INFO - Epoch 1, Batch 17000/31105, Batch Loss: 3.8937, Avg Loss So Far: 3.9979\n"
     ]
    },
    {
     "name": "stdout",
     "output_type": "stream",
     "text": [
      "Epoch 1, Batch 17000/31105, Batch Loss: 3.8937, Avg Loss So Far: 3.9979\n"
     ]
    },
    {
     "name": "stderr",
     "output_type": "stream",
     "text": [
      "2025-03-31 01:14:55,691 - INFO - Epoch 1, Batch 17100/31105, Batch Loss: 3.8095, Avg Loss So Far: 3.9967\n"
     ]
    },
    {
     "name": "stdout",
     "output_type": "stream",
     "text": [
      "Epoch 1, Batch 17100/31105, Batch Loss: 3.8095, Avg Loss So Far: 3.9967\n"
     ]
    },
    {
     "name": "stderr",
     "output_type": "stream",
     "text": [
      "2025-03-31 01:15:01,171 - INFO - Epoch 1, Batch 17200/31105, Batch Loss: 3.7850, Avg Loss So Far: 3.9956\n"
     ]
    },
    {
     "name": "stdout",
     "output_type": "stream",
     "text": [
      "Epoch 1, Batch 17200/31105, Batch Loss: 3.7850, Avg Loss So Far: 3.9956\n"
     ]
    },
    {
     "name": "stderr",
     "output_type": "stream",
     "text": [
      "2025-03-31 01:15:06,664 - INFO - Epoch 1, Batch 17300/31105, Batch Loss: 3.7903, Avg Loss So Far: 3.9944\n"
     ]
    },
    {
     "name": "stdout",
     "output_type": "stream",
     "text": [
      "Epoch 1, Batch 17300/31105, Batch Loss: 3.7903, Avg Loss So Far: 3.9944\n"
     ]
    },
    {
     "name": "stderr",
     "output_type": "stream",
     "text": [
      "2025-03-31 01:15:12,207 - INFO - Epoch 1, Batch 17400/31105, Batch Loss: 3.8265, Avg Loss So Far: 3.9933\n"
     ]
    },
    {
     "name": "stdout",
     "output_type": "stream",
     "text": [
      "Epoch 1, Batch 17400/31105, Batch Loss: 3.8265, Avg Loss So Far: 3.9933\n"
     ]
    },
    {
     "name": "stderr",
     "output_type": "stream",
     "text": [
      "2025-03-31 01:15:17,669 - INFO - Epoch 1, Batch 17500/31105, Batch Loss: 4.1457, Avg Loss So Far: 3.9921\n"
     ]
    },
    {
     "name": "stdout",
     "output_type": "stream",
     "text": [
      "Epoch 1, Batch 17500/31105, Batch Loss: 4.1457, Avg Loss So Far: 3.9921\n"
     ]
    },
    {
     "name": "stderr",
     "output_type": "stream",
     "text": [
      "2025-03-31 01:15:23,173 - INFO - Epoch 1, Batch 17600/31105, Batch Loss: 3.8558, Avg Loss So Far: 3.9908\n"
     ]
    },
    {
     "name": "stdout",
     "output_type": "stream",
     "text": [
      "Epoch 1, Batch 17600/31105, Batch Loss: 3.8558, Avg Loss So Far: 3.9908\n"
     ]
    },
    {
     "name": "stderr",
     "output_type": "stream",
     "text": [
      "2025-03-31 01:15:28,630 - INFO - Epoch 1, Batch 17700/31105, Batch Loss: 3.8414, Avg Loss So Far: 3.9897\n"
     ]
    },
    {
     "name": "stdout",
     "output_type": "stream",
     "text": [
      "Epoch 1, Batch 17700/31105, Batch Loss: 3.8414, Avg Loss So Far: 3.9897\n"
     ]
    },
    {
     "name": "stderr",
     "output_type": "stream",
     "text": [
      "2025-03-31 01:15:34,158 - INFO - Epoch 1, Batch 17800/31105, Batch Loss: 3.7953, Avg Loss So Far: 3.9886\n"
     ]
    },
    {
     "name": "stdout",
     "output_type": "stream",
     "text": [
      "Epoch 1, Batch 17800/31105, Batch Loss: 3.7953, Avg Loss So Far: 3.9886\n"
     ]
    },
    {
     "name": "stderr",
     "output_type": "stream",
     "text": [
      "2025-03-31 01:15:39,664 - INFO - Epoch 1, Batch 17900/31105, Batch Loss: 3.9870, Avg Loss So Far: 3.9875\n"
     ]
    },
    {
     "name": "stdout",
     "output_type": "stream",
     "text": [
      "Epoch 1, Batch 17900/31105, Batch Loss: 3.9870, Avg Loss So Far: 3.9875\n"
     ]
    },
    {
     "name": "stderr",
     "output_type": "stream",
     "text": [
      "2025-03-31 01:15:45,130 - INFO - Epoch 1, Batch 18000/31105, Batch Loss: 3.6570, Avg Loss So Far: 3.9864\n"
     ]
    },
    {
     "name": "stdout",
     "output_type": "stream",
     "text": [
      "Epoch 1, Batch 18000/31105, Batch Loss: 3.6570, Avg Loss So Far: 3.9864\n"
     ]
    },
    {
     "name": "stderr",
     "output_type": "stream",
     "text": [
      "2025-03-31 01:15:50,623 - INFO - Epoch 1, Batch 18100/31105, Batch Loss: 3.7986, Avg Loss So Far: 3.9854\n"
     ]
    },
    {
     "name": "stdout",
     "output_type": "stream",
     "text": [
      "Epoch 1, Batch 18100/31105, Batch Loss: 3.7986, Avg Loss So Far: 3.9854\n"
     ]
    },
    {
     "name": "stderr",
     "output_type": "stream",
     "text": [
      "2025-03-31 01:15:56,066 - INFO - Epoch 1, Batch 18200/31105, Batch Loss: 3.7017, Avg Loss So Far: 3.9842\n"
     ]
    },
    {
     "name": "stdout",
     "output_type": "stream",
     "text": [
      "Epoch 1, Batch 18200/31105, Batch Loss: 3.7017, Avg Loss So Far: 3.9842\n"
     ]
    },
    {
     "name": "stderr",
     "output_type": "stream",
     "text": [
      "2025-03-31 01:16:01,561 - INFO - Epoch 1, Batch 18300/31105, Batch Loss: 3.6096, Avg Loss So Far: 3.9831\n"
     ]
    },
    {
     "name": "stdout",
     "output_type": "stream",
     "text": [
      "Epoch 1, Batch 18300/31105, Batch Loss: 3.6096, Avg Loss So Far: 3.9831\n"
     ]
    },
    {
     "name": "stderr",
     "output_type": "stream",
     "text": [
      "2025-03-31 01:16:07,031 - INFO - Epoch 1, Batch 18400/31105, Batch Loss: 3.6850, Avg Loss So Far: 3.9819\n"
     ]
    },
    {
     "name": "stdout",
     "output_type": "stream",
     "text": [
      "Epoch 1, Batch 18400/31105, Batch Loss: 3.6850, Avg Loss So Far: 3.9819\n"
     ]
    },
    {
     "name": "stderr",
     "output_type": "stream",
     "text": [
      "2025-03-31 01:16:12,517 - INFO - Epoch 1, Batch 18500/31105, Batch Loss: 3.7240, Avg Loss So Far: 3.9808\n"
     ]
    },
    {
     "name": "stdout",
     "output_type": "stream",
     "text": [
      "Epoch 1, Batch 18500/31105, Batch Loss: 3.7240, Avg Loss So Far: 3.9808\n"
     ]
    },
    {
     "name": "stderr",
     "output_type": "stream",
     "text": [
      "2025-03-31 01:16:17,929 - INFO - Epoch 1, Batch 18600/31105, Batch Loss: 3.8337, Avg Loss So Far: 3.9797\n"
     ]
    },
    {
     "name": "stdout",
     "output_type": "stream",
     "text": [
      "Epoch 1, Batch 18600/31105, Batch Loss: 3.8337, Avg Loss So Far: 3.9797\n"
     ]
    },
    {
     "name": "stderr",
     "output_type": "stream",
     "text": [
      "2025-03-31 01:16:23,433 - INFO - Epoch 1, Batch 18700/31105, Batch Loss: 3.6905, Avg Loss So Far: 3.9787\n"
     ]
    },
    {
     "name": "stdout",
     "output_type": "stream",
     "text": [
      "Epoch 1, Batch 18700/31105, Batch Loss: 3.6905, Avg Loss So Far: 3.9787\n"
     ]
    },
    {
     "name": "stderr",
     "output_type": "stream",
     "text": [
      "2025-03-31 01:16:28,907 - INFO - Epoch 1, Batch 18800/31105, Batch Loss: 3.8064, Avg Loss So Far: 3.9775\n"
     ]
    },
    {
     "name": "stdout",
     "output_type": "stream",
     "text": [
      "Epoch 1, Batch 18800/31105, Batch Loss: 3.8064, Avg Loss So Far: 3.9775\n"
     ]
    },
    {
     "name": "stderr",
     "output_type": "stream",
     "text": [
      "2025-03-31 01:16:34,402 - INFO - Epoch 1, Batch 18900/31105, Batch Loss: 3.8470, Avg Loss So Far: 3.9763\n"
     ]
    },
    {
     "name": "stdout",
     "output_type": "stream",
     "text": [
      "Epoch 1, Batch 18900/31105, Batch Loss: 3.8470, Avg Loss So Far: 3.9763\n"
     ]
    },
    {
     "name": "stderr",
     "output_type": "stream",
     "text": [
      "2025-03-31 01:16:39,884 - INFO - Epoch 1, Batch 19000/31105, Batch Loss: 4.0358, Avg Loss So Far: 3.9753\n"
     ]
    },
    {
     "name": "stdout",
     "output_type": "stream",
     "text": [
      "Epoch 1, Batch 19000/31105, Batch Loss: 4.0358, Avg Loss So Far: 3.9753\n"
     ]
    },
    {
     "name": "stderr",
     "output_type": "stream",
     "text": [
      "2025-03-31 01:16:45,399 - INFO - Epoch 1, Batch 19100/31105, Batch Loss: 3.8406, Avg Loss So Far: 3.9741\n"
     ]
    },
    {
     "name": "stdout",
     "output_type": "stream",
     "text": [
      "Epoch 1, Batch 19100/31105, Batch Loss: 3.8406, Avg Loss So Far: 3.9741\n"
     ]
    },
    {
     "name": "stderr",
     "output_type": "stream",
     "text": [
      "2025-03-31 01:16:50,882 - INFO - Epoch 1, Batch 19200/31105, Batch Loss: 3.8950, Avg Loss So Far: 3.9729\n"
     ]
    },
    {
     "name": "stdout",
     "output_type": "stream",
     "text": [
      "Epoch 1, Batch 19200/31105, Batch Loss: 3.8950, Avg Loss So Far: 3.9729\n"
     ]
    },
    {
     "name": "stderr",
     "output_type": "stream",
     "text": [
      "2025-03-31 01:16:56,378 - INFO - Epoch 1, Batch 19300/31105, Batch Loss: 3.7920, Avg Loss So Far: 3.9718\n"
     ]
    },
    {
     "name": "stdout",
     "output_type": "stream",
     "text": [
      "Epoch 1, Batch 19300/31105, Batch Loss: 3.7920, Avg Loss So Far: 3.9718\n"
     ]
    },
    {
     "name": "stderr",
     "output_type": "stream",
     "text": [
      "2025-03-31 01:17:01,880 - INFO - Epoch 1, Batch 19400/31105, Batch Loss: 3.6987, Avg Loss So Far: 3.9707\n"
     ]
    },
    {
     "name": "stdout",
     "output_type": "stream",
     "text": [
      "Epoch 1, Batch 19400/31105, Batch Loss: 3.6987, Avg Loss So Far: 3.9707\n"
     ]
    },
    {
     "name": "stderr",
     "output_type": "stream",
     "text": [
      "2025-03-31 01:17:07,325 - INFO - Epoch 1, Batch 19500/31105, Batch Loss: 3.5883, Avg Loss So Far: 3.9696\n"
     ]
    },
    {
     "name": "stdout",
     "output_type": "stream",
     "text": [
      "Epoch 1, Batch 19500/31105, Batch Loss: 3.5883, Avg Loss So Far: 3.9696\n"
     ]
    },
    {
     "name": "stderr",
     "output_type": "stream",
     "text": [
      "2025-03-31 01:17:12,789 - INFO - Epoch 1, Batch 19600/31105, Batch Loss: 3.8723, Avg Loss So Far: 3.9685\n"
     ]
    },
    {
     "name": "stdout",
     "output_type": "stream",
     "text": [
      "Epoch 1, Batch 19600/31105, Batch Loss: 3.8723, Avg Loss So Far: 3.9685\n"
     ]
    },
    {
     "name": "stderr",
     "output_type": "stream",
     "text": [
      "2025-03-31 01:17:18,291 - INFO - Epoch 1, Batch 19700/31105, Batch Loss: 3.6432, Avg Loss So Far: 3.9674\n"
     ]
    },
    {
     "name": "stdout",
     "output_type": "stream",
     "text": [
      "Epoch 1, Batch 19700/31105, Batch Loss: 3.6432, Avg Loss So Far: 3.9674\n"
     ]
    },
    {
     "name": "stderr",
     "output_type": "stream",
     "text": [
      "2025-03-31 01:17:23,770 - INFO - Epoch 1, Batch 19800/31105, Batch Loss: 3.8102, Avg Loss So Far: 3.9663\n"
     ]
    },
    {
     "name": "stdout",
     "output_type": "stream",
     "text": [
      "Epoch 1, Batch 19800/31105, Batch Loss: 3.8102, Avg Loss So Far: 3.9663\n"
     ]
    },
    {
     "name": "stderr",
     "output_type": "stream",
     "text": [
      "2025-03-31 01:17:29,259 - INFO - Epoch 1, Batch 19900/31105, Batch Loss: 3.6025, Avg Loss So Far: 3.9653\n"
     ]
    },
    {
     "name": "stdout",
     "output_type": "stream",
     "text": [
      "Epoch 1, Batch 19900/31105, Batch Loss: 3.6025, Avg Loss So Far: 3.9653\n"
     ]
    },
    {
     "name": "stderr",
     "output_type": "stream",
     "text": [
      "2025-03-31 01:17:34,753 - INFO - Epoch 1, Batch 20000/31105, Batch Loss: 3.6882, Avg Loss So Far: 3.9642\n"
     ]
    },
    {
     "name": "stdout",
     "output_type": "stream",
     "text": [
      "Epoch 1, Batch 20000/31105, Batch Loss: 3.6882, Avg Loss So Far: 3.9642\n"
     ]
    },
    {
     "name": "stderr",
     "output_type": "stream",
     "text": [
      "2025-03-31 01:17:40,263 - INFO - Epoch 1, Batch 20100/31105, Batch Loss: 3.7089, Avg Loss So Far: 3.9633\n"
     ]
    },
    {
     "name": "stdout",
     "output_type": "stream",
     "text": [
      "Epoch 1, Batch 20100/31105, Batch Loss: 3.7089, Avg Loss So Far: 3.9633\n"
     ]
    },
    {
     "name": "stderr",
     "output_type": "stream",
     "text": [
      "2025-03-31 01:17:45,786 - INFO - Epoch 1, Batch 20200/31105, Batch Loss: 3.6762, Avg Loss So Far: 3.9623\n"
     ]
    },
    {
     "name": "stdout",
     "output_type": "stream",
     "text": [
      "Epoch 1, Batch 20200/31105, Batch Loss: 3.6762, Avg Loss So Far: 3.9623\n"
     ]
    },
    {
     "name": "stderr",
     "output_type": "stream",
     "text": [
      "2025-03-31 01:17:51,303 - INFO - Epoch 1, Batch 20300/31105, Batch Loss: 4.0520, Avg Loss So Far: 3.9612\n"
     ]
    },
    {
     "name": "stdout",
     "output_type": "stream",
     "text": [
      "Epoch 1, Batch 20300/31105, Batch Loss: 4.0520, Avg Loss So Far: 3.9612\n"
     ]
    },
    {
     "name": "stderr",
     "output_type": "stream",
     "text": [
      "2025-03-31 01:17:56,785 - INFO - Epoch 1, Batch 20400/31105, Batch Loss: 3.8011, Avg Loss So Far: 3.9601\n"
     ]
    },
    {
     "name": "stdout",
     "output_type": "stream",
     "text": [
      "Epoch 1, Batch 20400/31105, Batch Loss: 3.8011, Avg Loss So Far: 3.9601\n"
     ]
    },
    {
     "name": "stderr",
     "output_type": "stream",
     "text": [
      "2025-03-31 01:18:02,265 - INFO - Epoch 1, Batch 20500/31105, Batch Loss: 3.8100, Avg Loss So Far: 3.9591\n"
     ]
    },
    {
     "name": "stdout",
     "output_type": "stream",
     "text": [
      "Epoch 1, Batch 20500/31105, Batch Loss: 3.8100, Avg Loss So Far: 3.9591\n"
     ]
    },
    {
     "name": "stderr",
     "output_type": "stream",
     "text": [
      "2025-03-31 01:18:07,749 - INFO - Epoch 1, Batch 20600/31105, Batch Loss: 3.6501, Avg Loss So Far: 3.9580\n"
     ]
    },
    {
     "name": "stdout",
     "output_type": "stream",
     "text": [
      "Epoch 1, Batch 20600/31105, Batch Loss: 3.6501, Avg Loss So Far: 3.9580\n"
     ]
    },
    {
     "name": "stderr",
     "output_type": "stream",
     "text": [
      "2025-03-31 01:18:13,263 - INFO - Epoch 1, Batch 20700/31105, Batch Loss: 3.8134, Avg Loss So Far: 3.9570\n"
     ]
    },
    {
     "name": "stdout",
     "output_type": "stream",
     "text": [
      "Epoch 1, Batch 20700/31105, Batch Loss: 3.8134, Avg Loss So Far: 3.9570\n"
     ]
    },
    {
     "name": "stderr",
     "output_type": "stream",
     "text": [
      "2025-03-31 01:18:18,701 - INFO - Epoch 1, Batch 20800/31105, Batch Loss: 3.8095, Avg Loss So Far: 3.9560\n"
     ]
    },
    {
     "name": "stdout",
     "output_type": "stream",
     "text": [
      "Epoch 1, Batch 20800/31105, Batch Loss: 3.8095, Avg Loss So Far: 3.9560\n"
     ]
    },
    {
     "name": "stderr",
     "output_type": "stream",
     "text": [
      "2025-03-31 01:18:24,159 - INFO - Epoch 1, Batch 20900/31105, Batch Loss: 3.8832, Avg Loss So Far: 3.9550\n"
     ]
    },
    {
     "name": "stdout",
     "output_type": "stream",
     "text": [
      "Epoch 1, Batch 20900/31105, Batch Loss: 3.8832, Avg Loss So Far: 3.9550\n"
     ]
    },
    {
     "name": "stderr",
     "output_type": "stream",
     "text": [
      "2025-03-31 01:18:29,642 - INFO - Epoch 1, Batch 21000/31105, Batch Loss: 3.9449, Avg Loss So Far: 3.9539\n"
     ]
    },
    {
     "name": "stdout",
     "output_type": "stream",
     "text": [
      "Epoch 1, Batch 21000/31105, Batch Loss: 3.9449, Avg Loss So Far: 3.9539\n"
     ]
    },
    {
     "name": "stderr",
     "output_type": "stream",
     "text": [
      "2025-03-31 01:18:35,129 - INFO - Epoch 1, Batch 21100/31105, Batch Loss: 3.9755, Avg Loss So Far: 3.9529\n"
     ]
    },
    {
     "name": "stdout",
     "output_type": "stream",
     "text": [
      "Epoch 1, Batch 21100/31105, Batch Loss: 3.9755, Avg Loss So Far: 3.9529\n"
     ]
    },
    {
     "name": "stderr",
     "output_type": "stream",
     "text": [
      "2025-03-31 01:18:40,646 - INFO - Epoch 1, Batch 21200/31105, Batch Loss: 3.7077, Avg Loss So Far: 3.9519\n"
     ]
    },
    {
     "name": "stdout",
     "output_type": "stream",
     "text": [
      "Epoch 1, Batch 21200/31105, Batch Loss: 3.7077, Avg Loss So Far: 3.9519\n"
     ]
    },
    {
     "name": "stderr",
     "output_type": "stream",
     "text": [
      "2025-03-31 01:18:46,111 - INFO - Epoch 1, Batch 21300/31105, Batch Loss: 3.5144, Avg Loss So Far: 3.9509\n"
     ]
    },
    {
     "name": "stdout",
     "output_type": "stream",
     "text": [
      "Epoch 1, Batch 21300/31105, Batch Loss: 3.5144, Avg Loss So Far: 3.9509\n"
     ]
    },
    {
     "name": "stderr",
     "output_type": "stream",
     "text": [
      "2025-03-31 01:18:51,587 - INFO - Epoch 1, Batch 21400/31105, Batch Loss: 3.6306, Avg Loss So Far: 3.9498\n"
     ]
    },
    {
     "name": "stdout",
     "output_type": "stream",
     "text": [
      "Epoch 1, Batch 21400/31105, Batch Loss: 3.6306, Avg Loss So Far: 3.9498\n"
     ]
    },
    {
     "name": "stderr",
     "output_type": "stream",
     "text": [
      "2025-03-31 01:18:57,074 - INFO - Epoch 1, Batch 21500/31105, Batch Loss: 3.6114, Avg Loss So Far: 3.9488\n"
     ]
    },
    {
     "name": "stdout",
     "output_type": "stream",
     "text": [
      "Epoch 1, Batch 21500/31105, Batch Loss: 3.6114, Avg Loss So Far: 3.9488\n"
     ]
    },
    {
     "name": "stderr",
     "output_type": "stream",
     "text": [
      "2025-03-31 01:19:02,574 - INFO - Epoch 1, Batch 21600/31105, Batch Loss: 3.5904, Avg Loss So Far: 3.9478\n"
     ]
    },
    {
     "name": "stdout",
     "output_type": "stream",
     "text": [
      "Epoch 1, Batch 21600/31105, Batch Loss: 3.5904, Avg Loss So Far: 3.9478\n"
     ]
    },
    {
     "name": "stderr",
     "output_type": "stream",
     "text": [
      "2025-03-31 01:19:08,072 - INFO - Epoch 1, Batch 21700/31105, Batch Loss: 3.7916, Avg Loss So Far: 3.9468\n"
     ]
    },
    {
     "name": "stdout",
     "output_type": "stream",
     "text": [
      "Epoch 1, Batch 21700/31105, Batch Loss: 3.7916, Avg Loss So Far: 3.9468\n"
     ]
    },
    {
     "name": "stderr",
     "output_type": "stream",
     "text": [
      "2025-03-31 01:19:13,533 - INFO - Epoch 1, Batch 21800/31105, Batch Loss: 3.7671, Avg Loss So Far: 3.9459\n"
     ]
    },
    {
     "name": "stdout",
     "output_type": "stream",
     "text": [
      "Epoch 1, Batch 21800/31105, Batch Loss: 3.7671, Avg Loss So Far: 3.9459\n"
     ]
    },
    {
     "name": "stderr",
     "output_type": "stream",
     "text": [
      "2025-03-31 01:19:19,012 - INFO - Epoch 1, Batch 21900/31105, Batch Loss: 3.8681, Avg Loss So Far: 3.9449\n"
     ]
    },
    {
     "name": "stdout",
     "output_type": "stream",
     "text": [
      "Epoch 1, Batch 21900/31105, Batch Loss: 3.8681, Avg Loss So Far: 3.9449\n"
     ]
    },
    {
     "name": "stderr",
     "output_type": "stream",
     "text": [
      "2025-03-31 01:19:24,551 - INFO - Epoch 1, Batch 22000/31105, Batch Loss: 3.7465, Avg Loss So Far: 3.9439\n"
     ]
    },
    {
     "name": "stdout",
     "output_type": "stream",
     "text": [
      "Epoch 1, Batch 22000/31105, Batch Loss: 3.7465, Avg Loss So Far: 3.9439\n"
     ]
    },
    {
     "name": "stderr",
     "output_type": "stream",
     "text": [
      "2025-03-31 01:19:30,006 - INFO - Epoch 1, Batch 22100/31105, Batch Loss: 3.6520, Avg Loss So Far: 3.9429\n"
     ]
    },
    {
     "name": "stdout",
     "output_type": "stream",
     "text": [
      "Epoch 1, Batch 22100/31105, Batch Loss: 3.6520, Avg Loss So Far: 3.9429\n"
     ]
    },
    {
     "name": "stderr",
     "output_type": "stream",
     "text": [
      "2025-03-31 01:19:35,531 - INFO - Epoch 1, Batch 22200/31105, Batch Loss: 3.6759, Avg Loss So Far: 3.9420\n"
     ]
    },
    {
     "name": "stdout",
     "output_type": "stream",
     "text": [
      "Epoch 1, Batch 22200/31105, Batch Loss: 3.6759, Avg Loss So Far: 3.9420\n"
     ]
    },
    {
     "name": "stderr",
     "output_type": "stream",
     "text": [
      "2025-03-31 01:19:41,023 - INFO - Epoch 1, Batch 22300/31105, Batch Loss: 3.7494, Avg Loss So Far: 3.9409\n"
     ]
    },
    {
     "name": "stdout",
     "output_type": "stream",
     "text": [
      "Epoch 1, Batch 22300/31105, Batch Loss: 3.7494, Avg Loss So Far: 3.9409\n"
     ]
    },
    {
     "name": "stderr",
     "output_type": "stream",
     "text": [
      "2025-03-31 01:19:46,480 - INFO - Epoch 1, Batch 22400/31105, Batch Loss: 3.6658, Avg Loss So Far: 3.9399\n"
     ]
    },
    {
     "name": "stdout",
     "output_type": "stream",
     "text": [
      "Epoch 1, Batch 22400/31105, Batch Loss: 3.6658, Avg Loss So Far: 3.9399\n"
     ]
    },
    {
     "name": "stderr",
     "output_type": "stream",
     "text": [
      "2025-03-31 01:19:51,983 - INFO - Epoch 1, Batch 22500/31105, Batch Loss: 3.7158, Avg Loss So Far: 3.9388\n"
     ]
    },
    {
     "name": "stdout",
     "output_type": "stream",
     "text": [
      "Epoch 1, Batch 22500/31105, Batch Loss: 3.7158, Avg Loss So Far: 3.9388\n"
     ]
    },
    {
     "name": "stderr",
     "output_type": "stream",
     "text": [
      "2025-03-31 01:19:57,434 - INFO - Epoch 1, Batch 22600/31105, Batch Loss: 3.7294, Avg Loss So Far: 3.9378\n"
     ]
    },
    {
     "name": "stdout",
     "output_type": "stream",
     "text": [
      "Epoch 1, Batch 22600/31105, Batch Loss: 3.7294, Avg Loss So Far: 3.9378\n"
     ]
    },
    {
     "name": "stderr",
     "output_type": "stream",
     "text": [
      "2025-03-31 01:20:02,886 - INFO - Epoch 1, Batch 22700/31105, Batch Loss: 3.6877, Avg Loss So Far: 3.9369\n"
     ]
    },
    {
     "name": "stdout",
     "output_type": "stream",
     "text": [
      "Epoch 1, Batch 22700/31105, Batch Loss: 3.6877, Avg Loss So Far: 3.9369\n"
     ]
    },
    {
     "name": "stderr",
     "output_type": "stream",
     "text": [
      "2025-03-31 01:20:08,377 - INFO - Epoch 1, Batch 22800/31105, Batch Loss: 3.7974, Avg Loss So Far: 3.9359\n"
     ]
    },
    {
     "name": "stdout",
     "output_type": "stream",
     "text": [
      "Epoch 1, Batch 22800/31105, Batch Loss: 3.7974, Avg Loss So Far: 3.9359\n"
     ]
    },
    {
     "name": "stderr",
     "output_type": "stream",
     "text": [
      "2025-03-31 01:20:13,865 - INFO - Epoch 1, Batch 22900/31105, Batch Loss: 3.7777, Avg Loss So Far: 3.9349\n"
     ]
    },
    {
     "name": "stdout",
     "output_type": "stream",
     "text": [
      "Epoch 1, Batch 22900/31105, Batch Loss: 3.7777, Avg Loss So Far: 3.9349\n"
     ]
    },
    {
     "name": "stderr",
     "output_type": "stream",
     "text": [
      "2025-03-31 01:20:19,366 - INFO - Epoch 1, Batch 23000/31105, Batch Loss: 3.7453, Avg Loss So Far: 3.9339\n"
     ]
    },
    {
     "name": "stdout",
     "output_type": "stream",
     "text": [
      "Epoch 1, Batch 23000/31105, Batch Loss: 3.7453, Avg Loss So Far: 3.9339\n"
     ]
    },
    {
     "name": "stderr",
     "output_type": "stream",
     "text": [
      "2025-03-31 01:20:24,860 - INFO - Epoch 1, Batch 23100/31105, Batch Loss: 3.6566, Avg Loss So Far: 3.9330\n"
     ]
    },
    {
     "name": "stdout",
     "output_type": "stream",
     "text": [
      "Epoch 1, Batch 23100/31105, Batch Loss: 3.6566, Avg Loss So Far: 3.9330\n"
     ]
    },
    {
     "name": "stderr",
     "output_type": "stream",
     "text": [
      "2025-03-31 01:20:30,384 - INFO - Epoch 1, Batch 23200/31105, Batch Loss: 3.6149, Avg Loss So Far: 3.9320\n"
     ]
    },
    {
     "name": "stdout",
     "output_type": "stream",
     "text": [
      "Epoch 1, Batch 23200/31105, Batch Loss: 3.6149, Avg Loss So Far: 3.9320\n"
     ]
    },
    {
     "name": "stderr",
     "output_type": "stream",
     "text": [
      "2025-03-31 01:20:35,882 - INFO - Epoch 1, Batch 23300/31105, Batch Loss: 3.7198, Avg Loss So Far: 3.9310\n"
     ]
    },
    {
     "name": "stdout",
     "output_type": "stream",
     "text": [
      "Epoch 1, Batch 23300/31105, Batch Loss: 3.7198, Avg Loss So Far: 3.9310\n"
     ]
    },
    {
     "name": "stderr",
     "output_type": "stream",
     "text": [
      "2025-03-31 01:20:41,358 - INFO - Epoch 1, Batch 23400/31105, Batch Loss: 3.6177, Avg Loss So Far: 3.9301\n"
     ]
    },
    {
     "name": "stdout",
     "output_type": "stream",
     "text": [
      "Epoch 1, Batch 23400/31105, Batch Loss: 3.6177, Avg Loss So Far: 3.9301\n"
     ]
    },
    {
     "name": "stderr",
     "output_type": "stream",
     "text": [
      "2025-03-31 01:20:46,866 - INFO - Epoch 1, Batch 23500/31105, Batch Loss: 3.7721, Avg Loss So Far: 3.9292\n"
     ]
    },
    {
     "name": "stdout",
     "output_type": "stream",
     "text": [
      "Epoch 1, Batch 23500/31105, Batch Loss: 3.7721, Avg Loss So Far: 3.9292\n"
     ]
    },
    {
     "name": "stderr",
     "output_type": "stream",
     "text": [
      "2025-03-31 01:20:52,345 - INFO - Epoch 1, Batch 23600/31105, Batch Loss: 3.5827, Avg Loss So Far: 3.9283\n"
     ]
    },
    {
     "name": "stdout",
     "output_type": "stream",
     "text": [
      "Epoch 1, Batch 23600/31105, Batch Loss: 3.5827, Avg Loss So Far: 3.9283\n"
     ]
    },
    {
     "name": "stderr",
     "output_type": "stream",
     "text": [
      "2025-03-31 01:20:57,811 - INFO - Epoch 1, Batch 23700/31105, Batch Loss: 3.6973, Avg Loss So Far: 3.9273\n"
     ]
    },
    {
     "name": "stdout",
     "output_type": "stream",
     "text": [
      "Epoch 1, Batch 23700/31105, Batch Loss: 3.6973, Avg Loss So Far: 3.9273\n"
     ]
    },
    {
     "name": "stderr",
     "output_type": "stream",
     "text": [
      "2025-03-31 01:21:03,275 - INFO - Epoch 1, Batch 23800/31105, Batch Loss: 3.4683, Avg Loss So Far: 3.9264\n"
     ]
    },
    {
     "name": "stdout",
     "output_type": "stream",
     "text": [
      "Epoch 1, Batch 23800/31105, Batch Loss: 3.4683, Avg Loss So Far: 3.9264\n"
     ]
    },
    {
     "name": "stderr",
     "output_type": "stream",
     "text": [
      "2025-03-31 01:21:08,750 - INFO - Epoch 1, Batch 23900/31105, Batch Loss: 3.7362, Avg Loss So Far: 3.9255\n"
     ]
    },
    {
     "name": "stdout",
     "output_type": "stream",
     "text": [
      "Epoch 1, Batch 23900/31105, Batch Loss: 3.7362, Avg Loss So Far: 3.9255\n"
     ]
    },
    {
     "name": "stderr",
     "output_type": "stream",
     "text": [
      "2025-03-31 01:21:14,259 - INFO - Epoch 1, Batch 24000/31105, Batch Loss: 3.6721, Avg Loss So Far: 3.9246\n"
     ]
    },
    {
     "name": "stdout",
     "output_type": "stream",
     "text": [
      "Epoch 1, Batch 24000/31105, Batch Loss: 3.6721, Avg Loss So Far: 3.9246\n"
     ]
    },
    {
     "name": "stderr",
     "output_type": "stream",
     "text": [
      "2025-03-31 01:21:19,739 - INFO - Epoch 1, Batch 24100/31105, Batch Loss: 3.6881, Avg Loss So Far: 3.9237\n"
     ]
    },
    {
     "name": "stdout",
     "output_type": "stream",
     "text": [
      "Epoch 1, Batch 24100/31105, Batch Loss: 3.6881, Avg Loss So Far: 3.9237\n"
     ]
    },
    {
     "name": "stderr",
     "output_type": "stream",
     "text": [
      "2025-03-31 01:21:25,270 - INFO - Epoch 1, Batch 24200/31105, Batch Loss: 3.7408, Avg Loss So Far: 3.9228\n"
     ]
    },
    {
     "name": "stdout",
     "output_type": "stream",
     "text": [
      "Epoch 1, Batch 24200/31105, Batch Loss: 3.7408, Avg Loss So Far: 3.9228\n"
     ]
    },
    {
     "name": "stderr",
     "output_type": "stream",
     "text": [
      "2025-03-31 01:21:30,770 - INFO - Epoch 1, Batch 24300/31105, Batch Loss: 3.8447, Avg Loss So Far: 3.9219\n"
     ]
    },
    {
     "name": "stdout",
     "output_type": "stream",
     "text": [
      "Epoch 1, Batch 24300/31105, Batch Loss: 3.8447, Avg Loss So Far: 3.9219\n"
     ]
    },
    {
     "name": "stderr",
     "output_type": "stream",
     "text": [
      "2025-03-31 01:21:36,250 - INFO - Epoch 1, Batch 24400/31105, Batch Loss: 3.7754, Avg Loss So Far: 3.9209\n"
     ]
    },
    {
     "name": "stdout",
     "output_type": "stream",
     "text": [
      "Epoch 1, Batch 24400/31105, Batch Loss: 3.7754, Avg Loss So Far: 3.9209\n"
     ]
    },
    {
     "name": "stderr",
     "output_type": "stream",
     "text": [
      "2025-03-31 01:21:41,745 - INFO - Epoch 1, Batch 24500/31105, Batch Loss: 3.6130, Avg Loss So Far: 3.9199\n"
     ]
    },
    {
     "name": "stdout",
     "output_type": "stream",
     "text": [
      "Epoch 1, Batch 24500/31105, Batch Loss: 3.6130, Avg Loss So Far: 3.9199\n"
     ]
    },
    {
     "name": "stderr",
     "output_type": "stream",
     "text": [
      "2025-03-31 01:21:47,259 - INFO - Epoch 1, Batch 24600/31105, Batch Loss: 3.7036, Avg Loss So Far: 3.9191\n"
     ]
    },
    {
     "name": "stdout",
     "output_type": "stream",
     "text": [
      "Epoch 1, Batch 24600/31105, Batch Loss: 3.7036, Avg Loss So Far: 3.9191\n"
     ]
    },
    {
     "name": "stderr",
     "output_type": "stream",
     "text": [
      "2025-03-31 01:21:52,772 - INFO - Epoch 1, Batch 24700/31105, Batch Loss: 3.4668, Avg Loss So Far: 3.9182\n"
     ]
    },
    {
     "name": "stdout",
     "output_type": "stream",
     "text": [
      "Epoch 1, Batch 24700/31105, Batch Loss: 3.4668, Avg Loss So Far: 3.9182\n"
     ]
    },
    {
     "name": "stderr",
     "output_type": "stream",
     "text": [
      "2025-03-31 01:21:58,219 - INFO - Epoch 1, Batch 24800/31105, Batch Loss: 3.6517, Avg Loss So Far: 3.9173\n"
     ]
    },
    {
     "name": "stdout",
     "output_type": "stream",
     "text": [
      "Epoch 1, Batch 24800/31105, Batch Loss: 3.6517, Avg Loss So Far: 3.9173\n"
     ]
    },
    {
     "name": "stderr",
     "output_type": "stream",
     "text": [
      "2025-03-31 01:22:03,691 - INFO - Epoch 1, Batch 24900/31105, Batch Loss: 3.7367, Avg Loss So Far: 3.9163\n"
     ]
    },
    {
     "name": "stdout",
     "output_type": "stream",
     "text": [
      "Epoch 1, Batch 24900/31105, Batch Loss: 3.7367, Avg Loss So Far: 3.9163\n"
     ]
    },
    {
     "name": "stderr",
     "output_type": "stream",
     "text": [
      "2025-03-31 01:22:09,189 - INFO - Epoch 1, Batch 25000/31105, Batch Loss: 3.8165, Avg Loss So Far: 3.9154\n"
     ]
    },
    {
     "name": "stdout",
     "output_type": "stream",
     "text": [
      "Epoch 1, Batch 25000/31105, Batch Loss: 3.8165, Avg Loss So Far: 3.9154\n"
     ]
    },
    {
     "name": "stderr",
     "output_type": "stream",
     "text": [
      "2025-03-31 01:22:14,664 - INFO - Epoch 1, Batch 25100/31105, Batch Loss: 3.6830, Avg Loss So Far: 3.9144\n"
     ]
    },
    {
     "name": "stdout",
     "output_type": "stream",
     "text": [
      "Epoch 1, Batch 25100/31105, Batch Loss: 3.6830, Avg Loss So Far: 3.9144\n"
     ]
    },
    {
     "name": "stderr",
     "output_type": "stream",
     "text": [
      "2025-03-31 01:22:20,111 - INFO - Epoch 1, Batch 25200/31105, Batch Loss: 3.6651, Avg Loss So Far: 3.9135\n"
     ]
    },
    {
     "name": "stdout",
     "output_type": "stream",
     "text": [
      "Epoch 1, Batch 25200/31105, Batch Loss: 3.6651, Avg Loss So Far: 3.9135\n"
     ]
    },
    {
     "name": "stderr",
     "output_type": "stream",
     "text": [
      "2025-03-31 01:22:25,635 - INFO - Epoch 1, Batch 25300/31105, Batch Loss: 3.8454, Avg Loss So Far: 3.9126\n"
     ]
    },
    {
     "name": "stdout",
     "output_type": "stream",
     "text": [
      "Epoch 1, Batch 25300/31105, Batch Loss: 3.8454, Avg Loss So Far: 3.9126\n"
     ]
    },
    {
     "name": "stderr",
     "output_type": "stream",
     "text": [
      "2025-03-31 01:22:31,135 - INFO - Epoch 1, Batch 25400/31105, Batch Loss: 3.6366, Avg Loss So Far: 3.9117\n"
     ]
    },
    {
     "name": "stdout",
     "output_type": "stream",
     "text": [
      "Epoch 1, Batch 25400/31105, Batch Loss: 3.6366, Avg Loss So Far: 3.9117\n"
     ]
    },
    {
     "name": "stderr",
     "output_type": "stream",
     "text": [
      "2025-03-31 01:22:36,595 - INFO - Epoch 1, Batch 25500/31105, Batch Loss: 3.7575, Avg Loss So Far: 3.9108\n"
     ]
    },
    {
     "name": "stdout",
     "output_type": "stream",
     "text": [
      "Epoch 1, Batch 25500/31105, Batch Loss: 3.7575, Avg Loss So Far: 3.9108\n"
     ]
    },
    {
     "name": "stderr",
     "output_type": "stream",
     "text": [
      "2025-03-31 01:22:42,088 - INFO - Epoch 1, Batch 25600/31105, Batch Loss: 3.5056, Avg Loss So Far: 3.9099\n"
     ]
    },
    {
     "name": "stdout",
     "output_type": "stream",
     "text": [
      "Epoch 1, Batch 25600/31105, Batch Loss: 3.5056, Avg Loss So Far: 3.9099\n"
     ]
    },
    {
     "name": "stderr",
     "output_type": "stream",
     "text": [
      "2025-03-31 01:22:47,635 - INFO - Epoch 1, Batch 25700/31105, Batch Loss: 3.7121, Avg Loss So Far: 3.9091\n"
     ]
    },
    {
     "name": "stdout",
     "output_type": "stream",
     "text": [
      "Epoch 1, Batch 25700/31105, Batch Loss: 3.7121, Avg Loss So Far: 3.9091\n"
     ]
    },
    {
     "name": "stderr",
     "output_type": "stream",
     "text": [
      "2025-03-31 01:22:53,119 - INFO - Epoch 1, Batch 25800/31105, Batch Loss: 3.6086, Avg Loss So Far: 3.9082\n"
     ]
    },
    {
     "name": "stdout",
     "output_type": "stream",
     "text": [
      "Epoch 1, Batch 25800/31105, Batch Loss: 3.6086, Avg Loss So Far: 3.9082\n"
     ]
    },
    {
     "name": "stderr",
     "output_type": "stream",
     "text": [
      "2025-03-31 01:22:58,596 - INFO - Epoch 1, Batch 25900/31105, Batch Loss: 3.6371, Avg Loss So Far: 3.9073\n"
     ]
    },
    {
     "name": "stdout",
     "output_type": "stream",
     "text": [
      "Epoch 1, Batch 25900/31105, Batch Loss: 3.6371, Avg Loss So Far: 3.9073\n"
     ]
    },
    {
     "name": "stderr",
     "output_type": "stream",
     "text": [
      "2025-03-31 01:23:04,069 - INFO - Epoch 1, Batch 26000/31105, Batch Loss: 3.8384, Avg Loss So Far: 3.9065\n"
     ]
    },
    {
     "name": "stdout",
     "output_type": "stream",
     "text": [
      "Epoch 1, Batch 26000/31105, Batch Loss: 3.8384, Avg Loss So Far: 3.9065\n"
     ]
    },
    {
     "name": "stderr",
     "output_type": "stream",
     "text": [
      "2025-03-31 01:23:09,564 - INFO - Epoch 1, Batch 26100/31105, Batch Loss: 3.5278, Avg Loss So Far: 3.9055\n"
     ]
    },
    {
     "name": "stdout",
     "output_type": "stream",
     "text": [
      "Epoch 1, Batch 26100/31105, Batch Loss: 3.5278, Avg Loss So Far: 3.9055\n"
     ]
    },
    {
     "name": "stderr",
     "output_type": "stream",
     "text": [
      "2025-03-31 01:23:15,047 - INFO - Epoch 1, Batch 26200/31105, Batch Loss: 3.6941, Avg Loss So Far: 3.9046\n"
     ]
    },
    {
     "name": "stdout",
     "output_type": "stream",
     "text": [
      "Epoch 1, Batch 26200/31105, Batch Loss: 3.6941, Avg Loss So Far: 3.9046\n"
     ]
    },
    {
     "name": "stderr",
     "output_type": "stream",
     "text": [
      "2025-03-31 01:23:20,512 - INFO - Epoch 1, Batch 26300/31105, Batch Loss: 3.4132, Avg Loss So Far: 3.9037\n"
     ]
    },
    {
     "name": "stdout",
     "output_type": "stream",
     "text": [
      "Epoch 1, Batch 26300/31105, Batch Loss: 3.4132, Avg Loss So Far: 3.9037\n"
     ]
    },
    {
     "name": "stderr",
     "output_type": "stream",
     "text": [
      "2025-03-31 01:23:26,022 - INFO - Epoch 1, Batch 26400/31105, Batch Loss: 3.5604, Avg Loss So Far: 3.9027\n"
     ]
    },
    {
     "name": "stdout",
     "output_type": "stream",
     "text": [
      "Epoch 1, Batch 26400/31105, Batch Loss: 3.5604, Avg Loss So Far: 3.9027\n"
     ]
    },
    {
     "name": "stderr",
     "output_type": "stream",
     "text": [
      "2025-03-31 01:23:31,489 - INFO - Epoch 1, Batch 26500/31105, Batch Loss: 3.8420, Avg Loss So Far: 3.9019\n"
     ]
    },
    {
     "name": "stdout",
     "output_type": "stream",
     "text": [
      "Epoch 1, Batch 26500/31105, Batch Loss: 3.8420, Avg Loss So Far: 3.9019\n"
     ]
    },
    {
     "name": "stderr",
     "output_type": "stream",
     "text": [
      "2025-03-31 01:23:36,981 - INFO - Epoch 1, Batch 26600/31105, Batch Loss: 3.8287, Avg Loss So Far: 3.9010\n"
     ]
    },
    {
     "name": "stdout",
     "output_type": "stream",
     "text": [
      "Epoch 1, Batch 26600/31105, Batch Loss: 3.8287, Avg Loss So Far: 3.9010\n"
     ]
    },
    {
     "name": "stderr",
     "output_type": "stream",
     "text": [
      "2025-03-31 01:23:42,426 - INFO - Epoch 1, Batch 26700/31105, Batch Loss: 3.4582, Avg Loss So Far: 3.9001\n"
     ]
    },
    {
     "name": "stdout",
     "output_type": "stream",
     "text": [
      "Epoch 1, Batch 26700/31105, Batch Loss: 3.4582, Avg Loss So Far: 3.9001\n"
     ]
    },
    {
     "name": "stderr",
     "output_type": "stream",
     "text": [
      "2025-03-31 01:23:47,935 - INFO - Epoch 1, Batch 26800/31105, Batch Loss: 3.5074, Avg Loss So Far: 3.8993\n"
     ]
    },
    {
     "name": "stdout",
     "output_type": "stream",
     "text": [
      "Epoch 1, Batch 26800/31105, Batch Loss: 3.5074, Avg Loss So Far: 3.8993\n"
     ]
    },
    {
     "name": "stderr",
     "output_type": "stream",
     "text": [
      "2025-03-31 01:23:53,507 - INFO - Epoch 1, Batch 26900/31105, Batch Loss: 3.5820, Avg Loss So Far: 3.8983\n"
     ]
    },
    {
     "name": "stdout",
     "output_type": "stream",
     "text": [
      "Epoch 1, Batch 26900/31105, Batch Loss: 3.5820, Avg Loss So Far: 3.8983\n"
     ]
    },
    {
     "name": "stderr",
     "output_type": "stream",
     "text": [
      "2025-03-31 01:23:58,938 - INFO - Epoch 1, Batch 27000/31105, Batch Loss: 3.5401, Avg Loss So Far: 3.8975\n"
     ]
    },
    {
     "name": "stdout",
     "output_type": "stream",
     "text": [
      "Epoch 1, Batch 27000/31105, Batch Loss: 3.5401, Avg Loss So Far: 3.8975\n"
     ]
    },
    {
     "name": "stderr",
     "output_type": "stream",
     "text": [
      "2025-03-31 01:24:04,447 - INFO - Epoch 1, Batch 27100/31105, Batch Loss: 3.5916, Avg Loss So Far: 3.8967\n"
     ]
    },
    {
     "name": "stdout",
     "output_type": "stream",
     "text": [
      "Epoch 1, Batch 27100/31105, Batch Loss: 3.5916, Avg Loss So Far: 3.8967\n"
     ]
    },
    {
     "name": "stderr",
     "output_type": "stream",
     "text": [
      "2025-03-31 01:24:09,929 - INFO - Epoch 1, Batch 27200/31105, Batch Loss: 3.6894, Avg Loss So Far: 3.8959\n"
     ]
    },
    {
     "name": "stdout",
     "output_type": "stream",
     "text": [
      "Epoch 1, Batch 27200/31105, Batch Loss: 3.6894, Avg Loss So Far: 3.8959\n"
     ]
    },
    {
     "name": "stderr",
     "output_type": "stream",
     "text": [
      "2025-03-31 01:24:15,366 - INFO - Epoch 1, Batch 27300/31105, Batch Loss: 3.5188, Avg Loss So Far: 3.8950\n"
     ]
    },
    {
     "name": "stdout",
     "output_type": "stream",
     "text": [
      "Epoch 1, Batch 27300/31105, Batch Loss: 3.5188, Avg Loss So Far: 3.8950\n"
     ]
    },
    {
     "name": "stderr",
     "output_type": "stream",
     "text": [
      "2025-03-31 01:24:20,881 - INFO - Epoch 1, Batch 27400/31105, Batch Loss: 3.6098, Avg Loss So Far: 3.8941\n"
     ]
    },
    {
     "name": "stdout",
     "output_type": "stream",
     "text": [
      "Epoch 1, Batch 27400/31105, Batch Loss: 3.6098, Avg Loss So Far: 3.8941\n"
     ]
    },
    {
     "name": "stderr",
     "output_type": "stream",
     "text": [
      "2025-03-31 01:24:26,344 - INFO - Epoch 1, Batch 27500/31105, Batch Loss: 3.5505, Avg Loss So Far: 3.8933\n"
     ]
    },
    {
     "name": "stdout",
     "output_type": "stream",
     "text": [
      "Epoch 1, Batch 27500/31105, Batch Loss: 3.5505, Avg Loss So Far: 3.8933\n"
     ]
    },
    {
     "name": "stderr",
     "output_type": "stream",
     "text": [
      "2025-03-31 01:24:31,804 - INFO - Epoch 1, Batch 27600/31105, Batch Loss: 3.4273, Avg Loss So Far: 3.8924\n"
     ]
    },
    {
     "name": "stdout",
     "output_type": "stream",
     "text": [
      "Epoch 1, Batch 27600/31105, Batch Loss: 3.4273, Avg Loss So Far: 3.8924\n"
     ]
    },
    {
     "name": "stderr",
     "output_type": "stream",
     "text": [
      "2025-03-31 01:24:37,309 - INFO - Epoch 1, Batch 27700/31105, Batch Loss: 3.6996, Avg Loss So Far: 3.8916\n"
     ]
    },
    {
     "name": "stdout",
     "output_type": "stream",
     "text": [
      "Epoch 1, Batch 27700/31105, Batch Loss: 3.6996, Avg Loss So Far: 3.8916\n"
     ]
    },
    {
     "name": "stderr",
     "output_type": "stream",
     "text": [
      "2025-03-31 01:24:42,775 - INFO - Epoch 1, Batch 27800/31105, Batch Loss: 3.9148, Avg Loss So Far: 3.8908\n"
     ]
    },
    {
     "name": "stdout",
     "output_type": "stream",
     "text": [
      "Epoch 1, Batch 27800/31105, Batch Loss: 3.9148, Avg Loss So Far: 3.8908\n"
     ]
    },
    {
     "name": "stderr",
     "output_type": "stream",
     "text": [
      "2025-03-31 01:24:48,301 - INFO - Epoch 1, Batch 27900/31105, Batch Loss: 3.8058, Avg Loss So Far: 3.8899\n"
     ]
    },
    {
     "name": "stdout",
     "output_type": "stream",
     "text": [
      "Epoch 1, Batch 27900/31105, Batch Loss: 3.8058, Avg Loss So Far: 3.8899\n"
     ]
    },
    {
     "name": "stderr",
     "output_type": "stream",
     "text": [
      "2025-03-31 01:24:53,816 - INFO - Epoch 1, Batch 28000/31105, Batch Loss: 3.5036, Avg Loss So Far: 3.8891\n"
     ]
    },
    {
     "name": "stdout",
     "output_type": "stream",
     "text": [
      "Epoch 1, Batch 28000/31105, Batch Loss: 3.5036, Avg Loss So Far: 3.8891\n"
     ]
    },
    {
     "name": "stderr",
     "output_type": "stream",
     "text": [
      "2025-03-31 01:24:59,337 - INFO - Epoch 1, Batch 28100/31105, Batch Loss: 3.6414, Avg Loss So Far: 3.8883\n"
     ]
    },
    {
     "name": "stdout",
     "output_type": "stream",
     "text": [
      "Epoch 1, Batch 28100/31105, Batch Loss: 3.6414, Avg Loss So Far: 3.8883\n"
     ]
    },
    {
     "name": "stderr",
     "output_type": "stream",
     "text": [
      "2025-03-31 01:25:04,778 - INFO - Epoch 1, Batch 28200/31105, Batch Loss: 3.5682, Avg Loss So Far: 3.8875\n"
     ]
    },
    {
     "name": "stdout",
     "output_type": "stream",
     "text": [
      "Epoch 1, Batch 28200/31105, Batch Loss: 3.5682, Avg Loss So Far: 3.8875\n"
     ]
    },
    {
     "name": "stderr",
     "output_type": "stream",
     "text": [
      "2025-03-31 01:25:10,299 - INFO - Epoch 1, Batch 28300/31105, Batch Loss: 3.7428, Avg Loss So Far: 3.8867\n"
     ]
    },
    {
     "name": "stdout",
     "output_type": "stream",
     "text": [
      "Epoch 1, Batch 28300/31105, Batch Loss: 3.7428, Avg Loss So Far: 3.8867\n"
     ]
    },
    {
     "name": "stderr",
     "output_type": "stream",
     "text": [
      "2025-03-31 01:25:15,780 - INFO - Epoch 1, Batch 28400/31105, Batch Loss: 3.7160, Avg Loss So Far: 3.8858\n"
     ]
    },
    {
     "name": "stdout",
     "output_type": "stream",
     "text": [
      "Epoch 1, Batch 28400/31105, Batch Loss: 3.7160, Avg Loss So Far: 3.8858\n"
     ]
    },
    {
     "name": "stderr",
     "output_type": "stream",
     "text": [
      "2025-03-31 01:25:21,303 - INFO - Epoch 1, Batch 28500/31105, Batch Loss: 3.6614, Avg Loss So Far: 3.8850\n"
     ]
    },
    {
     "name": "stdout",
     "output_type": "stream",
     "text": [
      "Epoch 1, Batch 28500/31105, Batch Loss: 3.6614, Avg Loss So Far: 3.8850\n"
     ]
    },
    {
     "name": "stderr",
     "output_type": "stream",
     "text": [
      "2025-03-31 01:25:26,801 - INFO - Epoch 1, Batch 28600/31105, Batch Loss: 3.5349, Avg Loss So Far: 3.8842\n"
     ]
    },
    {
     "name": "stdout",
     "output_type": "stream",
     "text": [
      "Epoch 1, Batch 28600/31105, Batch Loss: 3.5349, Avg Loss So Far: 3.8842\n"
     ]
    },
    {
     "name": "stderr",
     "output_type": "stream",
     "text": [
      "2025-03-31 01:25:32,312 - INFO - Epoch 1, Batch 28700/31105, Batch Loss: 3.5839, Avg Loss So Far: 3.8835\n"
     ]
    },
    {
     "name": "stdout",
     "output_type": "stream",
     "text": [
      "Epoch 1, Batch 28700/31105, Batch Loss: 3.5839, Avg Loss So Far: 3.8835\n"
     ]
    },
    {
     "name": "stderr",
     "output_type": "stream",
     "text": [
      "2025-03-31 01:25:37,799 - INFO - Epoch 1, Batch 28800/31105, Batch Loss: 3.6943, Avg Loss So Far: 3.8826\n"
     ]
    },
    {
     "name": "stdout",
     "output_type": "stream",
     "text": [
      "Epoch 1, Batch 28800/31105, Batch Loss: 3.6943, Avg Loss So Far: 3.8826\n"
     ]
    },
    {
     "name": "stderr",
     "output_type": "stream",
     "text": [
      "2025-03-31 01:25:43,279 - INFO - Epoch 1, Batch 28900/31105, Batch Loss: 3.6227, Avg Loss So Far: 3.8818\n"
     ]
    },
    {
     "name": "stdout",
     "output_type": "stream",
     "text": [
      "Epoch 1, Batch 28900/31105, Batch Loss: 3.6227, Avg Loss So Far: 3.8818\n"
     ]
    },
    {
     "name": "stderr",
     "output_type": "stream",
     "text": [
      "2025-03-31 01:25:48,754 - INFO - Epoch 1, Batch 29000/31105, Batch Loss: 3.6350, Avg Loss So Far: 3.8810\n"
     ]
    },
    {
     "name": "stdout",
     "output_type": "stream",
     "text": [
      "Epoch 1, Batch 29000/31105, Batch Loss: 3.6350, Avg Loss So Far: 3.8810\n"
     ]
    },
    {
     "name": "stderr",
     "output_type": "stream",
     "text": [
      "2025-03-31 01:25:54,288 - INFO - Epoch 1, Batch 29100/31105, Batch Loss: 3.5710, Avg Loss So Far: 3.8802\n"
     ]
    },
    {
     "name": "stdout",
     "output_type": "stream",
     "text": [
      "Epoch 1, Batch 29100/31105, Batch Loss: 3.5710, Avg Loss So Far: 3.8802\n"
     ]
    },
    {
     "name": "stderr",
     "output_type": "stream",
     "text": [
      "2025-03-31 01:25:59,746 - INFO - Epoch 1, Batch 29200/31105, Batch Loss: 3.8101, Avg Loss So Far: 3.8794\n"
     ]
    },
    {
     "name": "stdout",
     "output_type": "stream",
     "text": [
      "Epoch 1, Batch 29200/31105, Batch Loss: 3.8101, Avg Loss So Far: 3.8794\n"
     ]
    },
    {
     "name": "stderr",
     "output_type": "stream",
     "text": [
      "2025-03-31 01:26:05,248 - INFO - Epoch 1, Batch 29300/31105, Batch Loss: 3.4417, Avg Loss So Far: 3.8786\n"
     ]
    },
    {
     "name": "stdout",
     "output_type": "stream",
     "text": [
      "Epoch 1, Batch 29300/31105, Batch Loss: 3.4417, Avg Loss So Far: 3.8786\n"
     ]
    },
    {
     "name": "stderr",
     "output_type": "stream",
     "text": [
      "2025-03-31 01:26:10,754 - INFO - Epoch 1, Batch 29400/31105, Batch Loss: 3.6754, Avg Loss So Far: 3.8778\n"
     ]
    },
    {
     "name": "stdout",
     "output_type": "stream",
     "text": [
      "Epoch 1, Batch 29400/31105, Batch Loss: 3.6754, Avg Loss So Far: 3.8778\n"
     ]
    },
    {
     "name": "stderr",
     "output_type": "stream",
     "text": [
      "2025-03-31 01:26:16,267 - INFO - Epoch 1, Batch 29500/31105, Batch Loss: 3.5361, Avg Loss So Far: 3.8769\n"
     ]
    },
    {
     "name": "stdout",
     "output_type": "stream",
     "text": [
      "Epoch 1, Batch 29500/31105, Batch Loss: 3.5361, Avg Loss So Far: 3.8769\n"
     ]
    },
    {
     "name": "stderr",
     "output_type": "stream",
     "text": [
      "2025-03-31 01:26:21,747 - INFO - Epoch 1, Batch 29600/31105, Batch Loss: 3.6072, Avg Loss So Far: 3.8761\n"
     ]
    },
    {
     "name": "stdout",
     "output_type": "stream",
     "text": [
      "Epoch 1, Batch 29600/31105, Batch Loss: 3.6072, Avg Loss So Far: 3.8761\n"
     ]
    },
    {
     "name": "stderr",
     "output_type": "stream",
     "text": [
      "2025-03-31 01:26:27,278 - INFO - Epoch 1, Batch 29700/31105, Batch Loss: 3.6635, Avg Loss So Far: 3.8753\n"
     ]
    },
    {
     "name": "stdout",
     "output_type": "stream",
     "text": [
      "Epoch 1, Batch 29700/31105, Batch Loss: 3.6635, Avg Loss So Far: 3.8753\n"
     ]
    },
    {
     "name": "stderr",
     "output_type": "stream",
     "text": [
      "2025-03-31 01:26:32,768 - INFO - Epoch 1, Batch 29800/31105, Batch Loss: 3.7354, Avg Loss So Far: 3.8744\n"
     ]
    },
    {
     "name": "stdout",
     "output_type": "stream",
     "text": [
      "Epoch 1, Batch 29800/31105, Batch Loss: 3.7354, Avg Loss So Far: 3.8744\n"
     ]
    },
    {
     "name": "stderr",
     "output_type": "stream",
     "text": [
      "2025-03-31 01:26:38,275 - INFO - Epoch 1, Batch 29900/31105, Batch Loss: 3.7158, Avg Loss So Far: 3.8737\n"
     ]
    },
    {
     "name": "stdout",
     "output_type": "stream",
     "text": [
      "Epoch 1, Batch 29900/31105, Batch Loss: 3.7158, Avg Loss So Far: 3.8737\n"
     ]
    },
    {
     "name": "stderr",
     "output_type": "stream",
     "text": [
      "2025-03-31 01:26:43,782 - INFO - Epoch 1, Batch 30000/31105, Batch Loss: 3.6133, Avg Loss So Far: 3.8729\n"
     ]
    },
    {
     "name": "stdout",
     "output_type": "stream",
     "text": [
      "Epoch 1, Batch 30000/31105, Batch Loss: 3.6133, Avg Loss So Far: 3.8729\n"
     ]
    },
    {
     "name": "stderr",
     "output_type": "stream",
     "text": [
      "2025-03-31 01:26:49,302 - INFO - Epoch 1, Batch 30100/31105, Batch Loss: 3.5615, Avg Loss So Far: 3.8721\n"
     ]
    },
    {
     "name": "stdout",
     "output_type": "stream",
     "text": [
      "Epoch 1, Batch 30100/31105, Batch Loss: 3.5615, Avg Loss So Far: 3.8721\n"
     ]
    },
    {
     "name": "stderr",
     "output_type": "stream",
     "text": [
      "2025-03-31 01:26:54,763 - INFO - Epoch 1, Batch 30200/31105, Batch Loss: 3.6940, Avg Loss So Far: 3.8712\n"
     ]
    },
    {
     "name": "stdout",
     "output_type": "stream",
     "text": [
      "Epoch 1, Batch 30200/31105, Batch Loss: 3.6940, Avg Loss So Far: 3.8712\n"
     ]
    },
    {
     "name": "stderr",
     "output_type": "stream",
     "text": [
      "2025-03-31 01:27:00,271 - INFO - Epoch 1, Batch 30300/31105, Batch Loss: 3.7143, Avg Loss So Far: 3.8705\n"
     ]
    },
    {
     "name": "stdout",
     "output_type": "stream",
     "text": [
      "Epoch 1, Batch 30300/31105, Batch Loss: 3.7143, Avg Loss So Far: 3.8705\n"
     ]
    },
    {
     "name": "stderr",
     "output_type": "stream",
     "text": [
      "2025-03-31 01:27:05,753 - INFO - Epoch 1, Batch 30400/31105, Batch Loss: 3.5816, Avg Loss So Far: 3.8696\n"
     ]
    },
    {
     "name": "stdout",
     "output_type": "stream",
     "text": [
      "Epoch 1, Batch 30400/31105, Batch Loss: 3.5816, Avg Loss So Far: 3.8696\n"
     ]
    },
    {
     "name": "stderr",
     "output_type": "stream",
     "text": [
      "2025-03-31 01:27:11,269 - INFO - Epoch 1, Batch 30500/31105, Batch Loss: 3.4680, Avg Loss So Far: 3.8688\n"
     ]
    },
    {
     "name": "stdout",
     "output_type": "stream",
     "text": [
      "Epoch 1, Batch 30500/31105, Batch Loss: 3.4680, Avg Loss So Far: 3.8688\n"
     ]
    },
    {
     "name": "stderr",
     "output_type": "stream",
     "text": [
      "2025-03-31 01:27:16,710 - INFO - Epoch 1, Batch 30600/31105, Batch Loss: 3.5479, Avg Loss So Far: 3.8681\n"
     ]
    },
    {
     "name": "stdout",
     "output_type": "stream",
     "text": [
      "Epoch 1, Batch 30600/31105, Batch Loss: 3.5479, Avg Loss So Far: 3.8681\n"
     ]
    },
    {
     "name": "stderr",
     "output_type": "stream",
     "text": [
      "2025-03-31 01:27:22,205 - INFO - Epoch 1, Batch 30700/31105, Batch Loss: 3.6060, Avg Loss So Far: 3.8673\n"
     ]
    },
    {
     "name": "stdout",
     "output_type": "stream",
     "text": [
      "Epoch 1, Batch 30700/31105, Batch Loss: 3.6060, Avg Loss So Far: 3.8673\n"
     ]
    },
    {
     "name": "stderr",
     "output_type": "stream",
     "text": [
      "2025-03-31 01:27:27,698 - INFO - Epoch 1, Batch 30800/31105, Batch Loss: 3.6954, Avg Loss So Far: 3.8665\n"
     ]
    },
    {
     "name": "stdout",
     "output_type": "stream",
     "text": [
      "Epoch 1, Batch 30800/31105, Batch Loss: 3.6954, Avg Loss So Far: 3.8665\n"
     ]
    },
    {
     "name": "stderr",
     "output_type": "stream",
     "text": [
      "2025-03-31 01:27:33,157 - INFO - Epoch 1, Batch 30900/31105, Batch Loss: 3.5182, Avg Loss So Far: 3.8657\n"
     ]
    },
    {
     "name": "stdout",
     "output_type": "stream",
     "text": [
      "Epoch 1, Batch 30900/31105, Batch Loss: 3.5182, Avg Loss So Far: 3.8657\n"
     ]
    },
    {
     "name": "stderr",
     "output_type": "stream",
     "text": [
      "2025-03-31 01:27:38,666 - INFO - Epoch 1, Batch 31000/31105, Batch Loss: 3.4214, Avg Loss So Far: 3.8649\n"
     ]
    },
    {
     "name": "stdout",
     "output_type": "stream",
     "text": [
      "Epoch 1, Batch 31000/31105, Batch Loss: 3.4214, Avg Loss So Far: 3.8649\n"
     ]
    },
    {
     "name": "stderr",
     "output_type": "stream",
     "text": [
      "2025-03-31 01:27:44,177 - INFO - Epoch 1, Batch 31100/31105, Batch Loss: 3.5912, Avg Loss So Far: 3.8641\n"
     ]
    },
    {
     "name": "stdout",
     "output_type": "stream",
     "text": [
      "Epoch 1, Batch 31100/31105, Batch Loss: 3.5912, Avg Loss So Far: 3.8641\n"
     ]
    },
    {
     "name": "stderr",
     "output_type": "stream",
     "text": [
      "2025-03-31 01:27:44,460 - INFO - Epoch 1 Summary, Avg Loss: 3.8641\n",
      "2025-03-31 01:27:44,506 - INFO - Model saved to rnn_model_new\n",
      "2025-03-31 01:27:44,507 - INFO - Training completed\n"
     ]
    },
    {
     "name": "stdout",
     "output_type": "stream",
     "text": [
      "Epoch 1 Summary, Avg Loss: 3.8641\n",
      "Model saved to rnn_model_new\n",
      "Training log saved to: training_log_20250331_005920.log\n"
     ]
    }
   ],
   "source": [
    "def setup_logging():\n",
    "    timestamp = datetime.now().strftime(\"%Y%m%d_%H%M%S\")\n",
    "    log_filename = f\"training_log_{timestamp}.log\"\n",
    "    \n",
    "    logger = logging.getLogger()\n",
    "    for handler in logger.handlers[:]: \n",
    "        logger.removeHandler(handler)\n",
    "    \n",
    "    logger.setLevel(logging.INFO)\n",
    "    \n",
    "    file_handler = logging.FileHandler(log_filename)\n",
    "    file_handler.setLevel(logging.INFO)\n",
    "    file_handler.setFormatter(logging.Formatter('%(asctime)s - %(levelname)s - %(message)s'))\n",
    "    logger.addHandler(file_handler)\n",
    "    \n",
    "    console_handler = logging.StreamHandler()\n",
    "    console_handler.setLevel(logging.INFO)\n",
    "    console_handler.setFormatter(logging.Formatter('%(asctime)s - %(levelname)s - %(message)s'))\n",
    "    logger.addHandler(console_handler)\n",
    "    \n",
    "    return log_filename\n",
    "\n",
    "def train_model(model, train_loader, epochs=3, log_interval=100, save_path=None):\n",
    "    log_filename = setup_logging()\n",
    "    logging.info(f\"Starting training with {epochs} epoch(s), log_interval={log_interval}\")\n",
    "    \n",
    "    criterion = nn.CrossEntropyLoss()\n",
    "    optimizer = torch.optim.Adam(model.parameters(), lr=0.001)\n",
    "    losses = []\n",
    "    \n",
    "    for epoch in range(epochs):\n",
    "        model.train()\n",
    "        total_loss = 0\n",
    "\n",
    "        for batch_idx, (batch_input, batch_target) in enumerate(train_loader):\n",
    "            optimizer.zero_grad()\n",
    "            logits, _ = model(batch_input)\n",
    "            loss = criterion(logits.view(-1, vocab_size), batch_target.view(-1))\n",
    "            loss.backward()\n",
    "            optimizer.step()\n",
    "            total_loss += loss.item()\n",
    "            \n",
    "            if (batch_idx + 1) % log_interval == 0:\n",
    "                avg_loss_so_far = total_loss / (batch_idx + 1)\n",
    "                log_message = (f\"Epoch {epoch+1}, Batch {batch_idx+1}/{len(train_loader)}, \"\n",
    "                              f\"Batch Loss: {loss.item():.4f}, Avg Loss So Far: {avg_loss_so_far:.4f}\")\n",
    "                print(log_message)\n",
    "                logging.info(log_message)\n",
    "\n",
    "        avg_loss = total_loss / len(train_loader)\n",
    "        losses.append(avg_loss)\n",
    "        summary_message = f\"Epoch {epoch+1} Summary, Avg Loss: {avg_loss:.4f}\"\n",
    "        print(summary_message)\n",
    "        logging.info(summary_message)\n",
    "    \n",
    "    if save_path is not None:\n",
    "        torch.save(model.state_dict(), save_path)\n",
    "        logging.info(f\"Model saved to {save_path}\")\n",
    "        print(f\"Model saved to {save_path}\")\n",
    "    \n",
    "    logging.info(\"Training completed\")\n",
    "    print(f\"Training log saved to: {log_filename}\")\n",
    "    return losses\n",
    "\n",
    "print(\"Training RNN model...\")\n",
    "save_path = \"rnn_model_new.pth\" \n",
    "rnn_losses = train_model(rnn_model, train_loader, epochs=1, log_interval=100, save_path=save_path)"
   ]
  },
  {
   "cell_type": "code",
   "execution_count": null,
   "metadata": {},
   "outputs": [
    {
     "name": "stdout",
     "output_type": "stream",
     "text": [
      "Total non-padding tokens: 1105920\n",
      "Total loss: 3930417.2094\n",
      "Average loss: 3.5540\n",
      "Perplexity: 34.95\n",
      "RNN Test Perplexity: 34.95\n"
     ]
    }
   ],
   "source": [
    "def evaluate_perplexity(model, data_loader):\n",
    "    model.eval()\n",
    "    total_loss = 0\n",
    "    total_tokens = 0\n",
    "    \n",
    "    criterion = nn.CrossEntropyLoss(ignore_index=0, reduction='none')\n",
    "    \n",
    "    with torch.no_grad():\n",
    "        for inputs, targets in data_loader:\n",
    "            outputs, _ = model(inputs)\n",
    "            loss = criterion(outputs.view(-1, outputs.size(-1)), targets.view(-1))\n",
    "            mask = targets != 0\n",
    "            batch_loss = loss[mask.view(-1)].sum().item()\n",
    "            batch_tokens = mask.sum().item()\n",
    "            total_loss += batch_loss\n",
    "            total_tokens += batch_tokens\n",
    "    \n",
    "    if total_tokens == 0:\n",
    "        raise ValueError(\"No non-padding tokens found in the dataset. Check your data or padding index.\")\n",
    "    \n",
    "    avg_loss = total_loss / total_tokens\n",
    "    perplexity = math.exp(avg_loss)\n",
    "    print(f\"Total non-padding tokens: {total_tokens}\")\n",
    "    print(f\"Total loss: {total_loss:.4f}\")\n",
    "    print(f\"Average loss: {avg_loss:.4f}\")\n",
    "    print(f\"Perplexity: {perplexity:.2f}\")\n",
    "    return perplexity\n",
    "\n",
    "rnn_model=RNN_LM(vocab_size,embed_size,hidden_size,num_layers,bidirectional)\n",
    "rnn_model.load_state_dict(torch.load('rnn_model_new.pth'))\n",
    "rnn_model.eval()\n",
    "rnn_perplexity = evaluate_perplexity(rnn_model, test_loader)\n",
    "print(f\"RNN Test Perplexity: {rnn_perplexity:.2f}\")"
   ]
  },
  {
   "cell_type": "code",
   "execution_count": null,
   "metadata": {},
   "outputs": [
    {
     "name": "stdout",
     "output_type": "stream",
     "text": [
      "\n",
      "Generating 5 pairs of sentences (RNN):\n",
      "\n",
      "Prefix: Harry looked\n",
      "RNN: harry looked up at the ceiling and then the door swung open and he was sure that he had not seen him .he was wearing a long overcoat and a\n",
      "\n",
      "Prefix: Hermione said\n",
      "RNN: hermione said ron nodding toward the remainder of the bus .the ministry of magic confirmed that he had been discovered to act as though he had a stitch in his\n",
      "\n",
      "Prefix: Ron shouted\n",
      "RNN: ron shouted at the dangling and carrying a large suitcase and banged her eyes and scanning it to the kilted glass of the chamber of secrets and finally the dark\n",
      "\n",
      "Prefix: Dumbledore stood\n",
      "RNN: dumbledore stood up and croaked hedwig and roger davies was almost glad to see her .aberforths not supposed to be in the forest .harry felt a thrill of foreboding .avada\n",
      "\n",
      "Prefix: Snape glared\n",
      "RNN: snape glared at him as though he had a stitch in his chest was torn and his eyes were rolling madly and down the table and shouted expelliarmusv and he\n"
     ]
    }
   ],
   "source": [
    "def generate_text(model, prefix, vocab, max_length=50, device=\"cpu\"):\n",
    "    model.eval()\n",
    "    with torch.no_grad():\n",
    "        prefix_words = word_tokenize(prefix.lower())\n",
    "        prefix_indices = [vocab.get(word, vocab['<UNK>']) for word in prefix_words]\n",
    "        input_seq = torch.tensor(prefix_indices, dtype=torch.long).unsqueeze(0).to(device)  # Add batch dimension\n",
    "        \n",
    "        hidden = model.init_hidden(1, device) \n",
    "        \n",
    "        # Generate sequence\n",
    "        generated_indices = prefix_indices.copy()\n",
    "        \n",
    "        for _ in range(max_length - len(prefix_indices)):\n",
    "            output, hidden = model(input_seq, hidden)\n",
    "            \n",
    "            last_output = output[:, -1, :]  \n",
    "            next_word_idx = torch.argmax(last_output, dim=-1).item()  # Greedy search\n",
    "            \n",
    "            generated_indices.append(next_word_idx)\n",
    "            \n",
    "            input_seq = torch.tensor([next_word_idx], dtype=torch.long).unsqueeze(0).to(device)\n",
    "        \n",
    "        generated_words = [list(vocab.keys())[list(vocab.values()).index(idx)] for idx in generated_indices]\n",
    "        return \" \".join(generated_words)\n",
    "\n",
    "prefixes = [\n",
    "    \"Harry looked\",\n",
    "    \"Hermione said\",\n",
    "    \"Ron shouted\",\n",
    "    \"Dumbledore stood\",\n",
    "    \"Snape glared\"\n",
    "]\n",
    "\n",
    "print(\"\\nGenerating 5 pairs of sentences (RNN):\")\n",
    "for prefix in prefixes:\n",
    "    rnn_sentence = generate_text(rnn_model, prefix, vocab, max_length=30, device='cpu')\n",
    "    \n",
    "    print(f\"\\nPrefix: {prefix}\")\n",
    "    print(f\"RNN: {rnn_sentence}\")"
   ]
  }
 ],
 "metadata": {
  "kernelspec": {
   "display_name": "NLP",
   "language": "python",
   "name": "python3"
  },
  "language_info": {
   "codemirror_mode": {
    "name": "ipython",
    "version": 3
   },
   "file_extension": ".py",
   "mimetype": "text/x-python",
   "name": "python",
   "nbconvert_exporter": "python",
   "pygments_lexer": "ipython3",
   "version": "3.11.11"
  }
 },
 "nbformat": 4,
 "nbformat_minor": 2
}
