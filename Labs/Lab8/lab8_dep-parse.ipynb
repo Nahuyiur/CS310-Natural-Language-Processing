{
 "cells": [
  {
   "cell_type": "markdown",
   "metadata": {},
   "source": [
    "## CS310 Natural Language Processing\n",
    "## Lab 8: Dependency Parsing\n",
    "依存句法分析的目标是给定一句话，构建一个有向树结构，其中每个词（token）都有一个父节点（head），除根节点（通常是虚拟的 ROOT）外。分析结果可用于信息抽取、机器翻译等下游任务。\n",
    "\n",
    "In this lab, we will practice the necessary steps of implementing a dependency parser.\n",
    "\n",
    "We will first explore the CoNLL-X format that stores the dependency-parsed trees. \n",
    "\n",
    "Then we will implement the procedure for obtaining training data from the CoNLL-X format data, which simulates the parsing process of an arc-standard transtion-based parser. "
   ]
  },
  {
   "cell_type": "code",
   "execution_count": 1,
   "metadata": {},
   "outputs": [],
   "source": [
    "from dep_utils import conll_reader, DependencyTree\n",
    "import copy\n",
    "from pprint import pprint\n",
    "from collections import Counter, defaultdict\n",
    "from typing import List, Dict, Tuple"
   ]
  },
  {
   "cell_type": "markdown",
   "metadata": {},
   "source": [
    "### Explore Dependency-Annotated Data\n",
    "\n",
    "The data used in this lab are listed as follows:\n",
    "- data/train.conll - Training data.  ~40k sentences\n",
    "- data/dev.conll - Development data.  ~1.7k sentences. Used for observing loss and accuracy during training, and for tuning hyperparameters.\n",
    "- data/test.conll - Test data.  ~2.4k sentences. Used for evaluating the final model.\n",
    "\n",
    "The data are from a split of the WSJ part of the Penn Treebank.\n",
    "\n",
    "The data are in CoNLL-X  format (CoNLL: Conference on Computational Natural Language learning) Each sentences corresponds to a number of lines, one per word. Sentences are separated with a blank line.\n"
   ]
  },
  {
   "cell_type": "code",
   "execution_count": 2,
   "metadata": {},
   "outputs": [
    {
     "name": "stdout",
     "output_type": "stream",
     "text": [
      "In train.conll:\n",
      "39832 trees read.\n",
      "In dev.conll:\n",
      "1700 trees read.\n",
      "In test.conll:\n",
      "2416 trees read.\n"
     ]
    }
   ],
   "source": [
    "print('In train.conll:')\n",
    "with open('data/train.conll') as f:\n",
    "    train_trees = list(conll_reader(f))\n",
    "print(f'{len(train_trees)} trees read.')\n",
    "\n",
    "print('In dev.conll:')\n",
    "with open('data/dev.conll') as f:\n",
    "    dev_trees = list(conll_reader(f))\n",
    "print(f'{len(dev_trees)} trees read.')\n",
    "\n",
    "print('In test.conll:')\n",
    "with open('data/test.conll') as f:\n",
    "    test_trees = list(conll_reader(f))\n",
    "print(f'{len(test_trees)} trees read.')"
   ]
  },
  {
   "cell_type": "markdown",
   "metadata": {},
   "source": [
    "Print some processed sentences "
   ]
  },
  {
   "cell_type": "code",
   "execution_count": 3,
   "metadata": {},
   "outputs": [
    {
     "name": "stdout",
     "output_type": "stream",
     "text": [
      "1\tThe\t_\t_\tDT\t_\t2\tdet\t_\t_\n",
      "2\tbill\t_\t_\tNN\t_\t3\tnsubj\t_\t_\n",
      "3\tintends\t_\t_\tVBZ\t_\t0\troot\t_\t_\n",
      "4\tto\t_\t_\tTO\t_\t5\tmark\t_\t_\n",
      "5\trestrict\t_\t_\tVB\t_\t3\txcomp\t_\t_\n",
      "6\tthe\t_\t_\tDT\t_\t7\tdet\t_\t_\n",
      "7\tRTC\t_\t_\tNNP\t_\t5\tdobj\t_\t_\n",
      "8\tto\t_\t_\tTO\t_\t10\tcase\t_\t_\n",
      "9\tTreasury\t_\t_\tNNP\t_\t10\tcompound\t_\t_\n",
      "10\tborrowings\t_\t_\tNNS\t_\t5\tnmod\t_\t_\n",
      "11\tonly\t_\t_\tRB\t_\t10\tadvmod\t_\t_\n",
      "12\t,\t_\t_\t,\t_\t3\tpunct\t_\t_\n",
      "13\tunless\t_\t_\tIN\t_\t16\tmark\t_\t_\n",
      "14\tthe\t_\t_\tDT\t_\t15\tdet\t_\t_\n",
      "15\tagency\t_\t_\tNN\t_\t16\tnsubj\t_\t_\n",
      "16\treceives\t_\t_\tVBZ\t_\t3\tadvcl\t_\t_\n",
      "17\tspecific\t_\t_\tJJ\t_\t19\tamod\t_\t_\n",
      "18\tcongressional\t_\t_\tJJ\t_\t19\tamod\t_\t_\n",
      "19\tauthorization\t_\t_\tNN\t_\t16\tdobj\t_\t_\n",
      "20\t.\t_\t_\t.\t_\t3\tpunct\t_\t_\n"
     ]
    }
   ],
   "source": [
    "tree = dev_trees[2]\n",
    "print(tree)"
   ]
  },
  {
   "cell_type": "markdown",
   "metadata": {},
   "source": [
    "The above cell prints the 3rd sentence in dev.conll, which consists of 20 words (including punctuations) in 20 lines.\n",
    "\n",
    "Each line contains fields, seperated by a single tab symbol, as follows:\n",
    "\n",
    "- **Word ID**: Word index, integer starting from 1 for each new sentence.\n",
    "- Word form: The word itself.\n",
    "- Lemma: Unused (represented as an underscore \"_\").\n",
    "- Universal POS: Unused (represented as an underscore \"_\").\n",
    "- POS: Part of speech tag.\n",
    "- Features: Unused (represented as an underscore \"_\").\n",
    "- **Head**: Word ID of the **head** of the current word.\n",
    "- **Dependency relation**: The dependency relation between the head and the current word.\n",
    "- Deps: Unused (represented as an underscore \"_\").\n",
    "- Misc: Unused (represented as an underscore \"_\").\n"
   ]
  },
  {
   "cell_type": "code",
   "execution_count": 4,
   "metadata": {},
   "outputs": [
    {
     "name": "stdout",
     "output_type": "stream",
     "text": [
      "[None, 'The', 'bill', 'intends', 'to', 'restrict', 'the', 'RTC', 'to', 'Treasury', 'borrowings', 'only', ',', 'unless', 'the', 'agency', 'receives', 'specific', 'congressional', 'authorization', '.']\n",
      "\n",
      "3\tintends\t_\t_\tVBZ\t_\t0\troot\t_\t_\n",
      "<class 'dep_utils.DependencyArc'>\n",
      "0\n",
      "3\n",
      "root\n",
      "\n",
      "tree.deprels[3]:\n",
      "0 --root--> 3\n",
      "ROOT --root--> intends\n",
      "\n",
      "tree.deprels[2]:\n",
      "intends --nsubj--> 2\n",
      "intends --nsubj--> bill\n"
     ]
    }
   ],
   "source": [
    "print(tree.words())\n",
    "\n",
    "print()\n",
    "print(tree.deprels[3])\n",
    "print(type(tree.deprels[3]))\n",
    "print(tree.deprels[3].head)\n",
    "print(tree.deprels[3].id)\n",
    "print(tree.deprels[3].deprel)\n",
    "\n",
    "print()\n",
    "print('tree.deprels[3]:')\n",
    "head_id = tree.deprels[3].head\n",
    "head_word = 'ROOT'\n",
    "dep_id = tree.deprels[3].id\n",
    "dep_word = tree.deprels[dep_id].word\n",
    "dep_rel = tree.deprels[3].deprel\n",
    "print(f'{head_id} --{dep_rel}--> {dep_id}')\n",
    "print(f'{head_word} --{dep_rel}--> {dep_word}')\n",
    "\n",
    "print()\n",
    "print('tree.deprels[2]:')\n",
    "head_id = tree.deprels[2].head\n",
    "head_word = tree.deprels[head_id].word\n",
    "dep_id = tree.deprels[2].id\n",
    "dep_word = tree.deprels[dep_id].word\n",
    "dep_rel = tree.deprels[2].deprel\n",
    "print(f'{head_word} --{dep_rel}--> {dep_id}')\n",
    "print(f'{head_word} --{dep_rel}--> {dep_word}')"
   ]
  },
  {
   "cell_type": "markdown",
   "metadata": {},
   "source": [
    "## T1. Statistics of Dependency Relations\n",
    "\n",
    "Study the code of `DependencyTree` and `DependencyArc` classes in  `dep_utils.py`, and then count the number of unique dependency relations in the data.\n",
    "\n",
    "*Hint*: \n",
    "- The `deprels` attribute of `DependencyTree` is a dictionary whose keys are word IDs and values are `DependencyArc` objects.\n",
    "- The `deprel` attribute of each `DependencyArc` object is a string representing the dependency relation."
   ]
  },
  {
   "cell_type": "code",
   "execution_count": 6,
   "metadata": {},
   "outputs": [
    {
     "name": "stdout",
     "output_type": "stream",
     "text": [
      "Total number fo unique relations: 39\n",
      "{'mwe', 'nsubjpass', 'cc:preconj', 'conj', 'dep', 'root', 'discourse', 'nmod:tmod', 'nmod:npmod', 'ccomp', 'dobj', 'iobj', 'aux', 'det:predet', 'compound:prt', 'advcl', 'nmod:poss', 'cc', 'nmod', 'auxpass', 'cop', 'expl', 'xcomp', 'punct', 'mark', 'acl', 'nummod', 'det', 'amod', 'acl:relcl', 'neg', 'csubjpass', 'case', 'advmod', 'appos', 'parataxis', 'csubj', 'compound', 'nsubj'}\n",
      "Number of occurrences of ROOT: 43948\n"
     ]
    }
   ],
   "source": [
    "rel_counter = Counter()\n",
    "\n",
    "### START YOUR CODE ###\n",
    "for split in ['train','dev','test']:\n",
    "    path=f'data/{split}.conll'\n",
    "    with open(path,'r',encoding='utf-8') as f:\n",
    "        for deps in conll_reader(f):\n",
    "            for arc in deps.deprels.values():\n",
    "                rel=arc.deprel\n",
    "                rel_counter[rel]+=1\n",
    "### END YOUR CODE ###\n",
    "\n",
    "# Test results\n",
    "print('Total number fo unique relations:', len(rel_counter))\n",
    "print(set(rel_counter.keys()))\n",
    "print('Number of occurrences of ROOT:', rel_counter['root'])\n",
    "\n",
    "# You should expect to see the following output:\n",
    "# Total number fo unique relations: 39\n",
    "# {'nummod', 'root', 'nmod:tmod', 'nmod', 'punct', 'expl', 'auxpass', 'neg', 'nsubjpass', 'appos' ...\n",
    "# Number of occurrences of ROOT: 43948"
   ]
  },
  {
   "attachments": {
    "image.png": {
     "image/png": "[encoded data removed]"
    }
   },
   "cell_type": "markdown",
   "metadata": {},
   "source": [
    "## T2. Generate Training Data\n",
    "\n",
    "Study the code of the following `State` class\n",
    "\n",
    "**Note**:\n",
    "- The `State` class consists of `stack`, `buffer`, and `deps` as its members\n",
    "- `stack` and `buffer` are lists of word IDs (integers)\n",
    "  - The top of stack is `stack[-1]`\n",
    "  - The front of buffer is `buffer[-1]`\n",
    "- `deps` represents the currently found dependencies\n",
    "  - It is a list of `(parent, child, relation)` triples, where `parent` and `child` are integer IDs and `relation` is a string (the dependency label).\n",
    "- The `shift` methods moves the front of the buffer to the top of the stack\n",
    "- The `left_arc` method adds a head-dependent relation between the top two words on stack: $s_1 \\rightarrow s_2$. Here $s_1$ is `stack[-1]`.\n",
    "- The `right_arc` method adds a head-dependent relation between the top two words on stack: $s_2 \\rightarrow s_1$. \n",
    "\n",
    "![image.png](attachment:image.png)"
   ]
  },
  {
   "cell_type": "code",
   "execution_count": 7,
   "metadata": {},
   "outputs": [],
   "source": [
    "class State(object):\n",
    "    def __init__(self, sentence=[]):\n",
    "        self.stack = []\n",
    "        self.buffer = []\n",
    "        if sentence:\n",
    "            self.buffer = list(reversed(sentence))\n",
    "        self.deps = set()\n",
    "\n",
    "    def shift(self):\n",
    "        ### START YOUR CODE ###\n",
    "        # 弹出 buffer[-1] 并推入 stack\n",
    "        if len(self.buffer) > 0:\n",
    "            self.stack.append(self.buffer.pop())\n",
    "        ### END YOUR CODE ###\n",
    "\n",
    "    def left_arc(self, label: str):\n",
    "        assert len(self.stack) >= 2\n",
    "        s1=self.stack[-1]\n",
    "        s2=self.stack[-2]\n",
    "        # LEFT-ARC(label): 在 s1->s2 上建立依存弧，然后弹出 s2（次顶）\n",
    "        self.deps.add((s1, s2, label))\n",
    "        self.stack.pop(-2)\n",
    "        ### START YOUR CODE ###\n",
    "        ### END YOUR CODE ###\n",
    "\n",
    "    def right_arc(self, label: str):\n",
    "        assert len(self.stack) >= 2\n",
    "        s1=self.stack[-1]\n",
    "        s2=self.stack[-2]\n",
    "        # RIGHT-ARC(label): 在 s2->s1 上建立依存弧，然后弹出 s1（顶）\n",
    "        self.deps.add((s2, s1, label))\n",
    "        self.stack.pop()\n",
    "        ### START YOUR CODE ###\n",
    "        ### END YOUR CODE ###\n",
    "\n",
    "    def __repr__(self):\n",
    "        return \"({},{},{})\".format(self.stack, self.buffer, self.deps)"
   ]
  },
  {
   "cell_type": "code",
   "execution_count": 8,
   "metadata": {},
   "outputs": [
    {
     "name": "stdout",
     "output_type": "stream",
     "text": [
      "after 2 shifts: ([0, 1],[4, 3, 2],set())\n",
      "before right-arc: ([0, 1, 2],[4, 3],set())\n",
      "after right-arc: ([0, 1],[4, 3],{(1, 2, 'label1')})\n",
      "before left-arc: ([0, 1, 3, 4],[],{(1, 2, 'label1')})\n",
      "after left-arc: ([0, 1, 4],[],{(1, 2, 'label1'), (4, 3, 'label2')})\n"
     ]
    }
   ],
   "source": [
    "# Test results\n",
    "state = State([0,1,2,3,4])\n",
    "state.shift()\n",
    "state.shift()\n",
    "print('after 2 shifts:', state)\n",
    "\n",
    "state.shift()\n",
    "print('before right-arc:', state)\n",
    "state.right_arc('label1')\n",
    "print('after right-arc:', state)\n",
    "\n",
    "state.shift()\n",
    "state.shift()\n",
    "print('before left-arc:', state)\n",
    "state.left_arc('label2')\n",
    "print('after left-arc:', state)\n",
    "\n",
    "\n",
    "# You should expect to see the following output:\n",
    "# after 2 shifts: ([0, 1],[4, 3, 2],set())\n",
    "# before right-arc: ([0, 1, 2],[4, 3],set())\n",
    "# after right-arc: ([0, 1],[4, 3],{(1, 2, 'label1')})\n",
    "# before left-arc: ([0, 1, 3, 4],[],{(1, 2, 'label1')})\n",
    "# after left-arc: ([0, 1, 4],[],{(1, 2, 'label1'), (4, 3, 'label2')})"
   ]
  },
  {
   "cell_type": "markdown",
   "metadata": {},
   "source": [
    "Complete the folliwing `get_training_instances` function, so that it can generate the training data instances from a given dependency tree.\n",
    "\n",
    "The return type of this function is a list of two-elements tuples:\n",
    "- Tuple[0] is a `State` object, deepcopied from the initial state\n",
    "- Tuple[1] is a a tuple of `(action, relation)` where `action` is from {\"shift\", \"left_arc\", \"right_arc\"} and `relation` is the specific dependency relation.\n",
    "\n",
    "The transition action is decided in the `if ... elif ... else` block, which corresponds to the following three cases:\n",
    "- If $s_1 \\rightarrow s_2$ exists in `deprels`, then `left_arc` is performed.\n",
    "- If $s_2 \\rightarrow s_1$ exists in `deprels`, **AND** all rules with $s_1$ as the head have already been assigned, then `right_arc` is performed.\n",
    "- Perform `shift` otherwise.\n",
    "\n",
    "Note that we use the dictionary `childcount` to count the number of relations with each word as the head. Each time after a `left_arc` or `right_arc` is performed, the corresponding count is decreased by 1."
   ]
  },
  {
   "cell_type": "code",
   "execution_count": 9,
   "metadata": {},
   "outputs": [],
   "source": [
    "class RootDummy(object):\n",
    "    def __init__(self):\n",
    "        self.head = None\n",
    "        self.id = 0\n",
    "        self.deprel = None\n",
    "    def __repr__(self):\n",
    "        return \"<ROOT>\"\n",
    "\n",
    "\n",
    "def get_training_instances(dep_tree) -> List[Tuple[State, Tuple[str, str]]]:\n",
    "    # 从一个已知的依存树中，按照arc-standard策略模拟解析过程，生成训练实例\n",
    "    deprels = dep_tree.deprels\n",
    "\n",
    "    word_ids = list(deprels.keys())\n",
    "    state = State(word_ids)\n",
    "    state.stack.append(0) # ROOT\n",
    "\n",
    "    childcount = defaultdict(int)\n",
    "    for _, rel in deprels.items():\n",
    "        childcount[rel.head] += 1\n",
    "\n",
    "    seq = []\n",
    "    while len(state.buffer) > 0 or len(state.stack) > 1:\n",
    "        # 栈顶是root，只能shift\n",
    "        if state.stack[-1] == 0:\n",
    "            seq.append((copy.deepcopy(state), (\"shift\", None)))\n",
    "            state.shift()\n",
    "            continue\n",
    "        \n",
    "        stack_top1 = deprels[state.stack[-1]]\n",
    "        if state.stack[-2] == 0:\n",
    "            stack_top2 = RootDummy()\n",
    "        else:\n",
    "            stack_top2 = deprels[state.stack[-2]]\n",
    "\n",
    "        # Decide transition action\n",
    "        ### START YOUR CODE ###\n",
    "        # 1) Left-Arc: 如果 s1 -> s2 \n",
    "        if stack_top2.head == stack_top1.id:\n",
    "            rel = stack_top2.deprel\n",
    "            seq.append((copy.deepcopy(state), (\"left_arc\", rel)))\n",
    "            state.left_arc(rel)\n",
    "            # s1 作为 head，减少其未处理 child 数\n",
    "            childcount[stack_top1.id] -= 1\n",
    "\n",
    "        # 2) Right-Arc: 如果 s2 -> s1 且 s1 的所有 child 已处理\n",
    "        elif stack_top1.head == stack_top2.id and childcount[stack_top1.id] == 0:\n",
    "            rel = stack_top1.deprel\n",
    "            seq.append((copy.deepcopy(state), (\"right_arc\", rel)))\n",
    "            state.right_arc(rel)\n",
    "            # s2 作为 head，减少其未处理 child 数\n",
    "            childcount[stack_top2.id] -= 1\n",
    "\n",
    "        # 3) Shift: 其他情况\n",
    "        else:\n",
    "            seq.append((copy.deepcopy(state), (\"shift\", None)))\n",
    "            state.shift()\n",
    "        ### END YOUR CODE ###\n",
    "    \n",
    "    seq.append((copy.deepcopy(state), (\"done\", None)))\n",
    "\n",
    "    return seq"
   ]
  },
  {
   "cell_type": "markdown",
   "metadata": {},
   "source": [
    "Test with a toy tree"
   ]
  },
  {
   "cell_type": "code",
   "execution_count": 10,
   "metadata": {},
   "outputs": [
    {
     "name": "stdout",
     "output_type": "stream",
     "text": [
      "1\tBook\t_\t_\tVERB\t_\t0\troot\t_\t_\n",
      "2\tthe\t_\t_\tDET\t_\t3\tdet\t_\t_\n",
      "3\tflight\t_\t_\tNOUN\t_\t1\tobj\t_\t_\n",
      "4\tthrough\t_\t_\tADP\t_\t5\tcase\t_\t_\n",
      "5\tHouston\t_\t_\tPROPN\t_\t3\tnmod\t_\t_\n"
     ]
    }
   ],
   "source": [
    "toy_tree_str = \"\"\"\n",
    "1\\tBook\\t_\\t_\\tVERB\\t_\\t0\\troot\\t_\\t_\n",
    "2\\tthe\\t_\\t_\\tDET\\t_\\t3\\tdet\\t_\\t_\n",
    "3\\tflight\\t_\\t_\\tNOUN\\t_\\t1\\tobj\\t_\\t_\n",
    "4\\tthrough\\t_\\t_\\tADP\\t_\\t5\\tcase\\t_\\t_\n",
    "5\\tHouston\\t_\\t_\\tPROPN\\t_\\t3\\tnmod\\t_\\t_\n",
    "\"\"\"\n",
    "toy_tree = DependencyTree.from_string(toy_tree_str)\n",
    "print(toy_tree)"
   ]
  },
  {
   "cell_type": "code",
   "execution_count": 11,
   "metadata": {},
   "outputs": [
    {
     "name": "stdout",
     "output_type": "stream",
     "text": [
      "toy_data length: 11\n",
      "[(([0],[5, 4, 3, 2, 1],set()), ('shift', None)),\n",
      " (([0, 1],[5, 4, 3, 2],set()), ('shift', None)),\n",
      " (([0, 1, 2],[5, 4, 3],set()), ('shift', None)),\n",
      " (([0, 1, 2, 3],[5, 4],set()), ('left_arc', 'det')),\n",
      " (([0, 1, 3],[5, 4],{(3, 2, 'det')}), ('shift', None)),\n",
      " (([0, 1, 3, 4],[5],{(3, 2, 'det')}), ('shift', None)),\n",
      " (([0, 1, 3, 4, 5],[],{(3, 2, 'det')}), ('left_arc', 'case')),\n",
      " (([0, 1, 3, 5],[],{(3, 2, 'det'), (5, 4, 'case')}), ('right_arc', 'nmod')),\n",
      " (([0, 1, 3],[],{(3, 2, 'det'), (5, 4, 'case'), (3, 5, 'nmod')}),\n",
      "  ('right_arc', 'obj')),\n",
      " (([0, 1],[],{(3, 2, 'det'), (5, 4, 'case'), (3, 5, 'nmod'), (1, 3, 'obj')}),\n",
      "  ('right_arc', 'root')),\n",
      " (([0],[],{(0, 1, 'root'), (3, 2, 'det'), (5, 4, 'case'), (1, 3, 'obj'), (3, 5, 'nmod')}),\n",
      "  ('done', None))]\n"
     ]
    }
   ],
   "source": [
    "toy_data = get_training_instances(toy_tree)\n",
    "print('toy_data length:', len(toy_data))\n",
    "pprint(toy_data)\n",
    "\n",
    "# You should expect to see the following output:\n",
    "# toy_data length: 11\n",
    "# [(([0],[5, 4, 3, 2, 1],set()), ('shift', None)),\n",
    "#  (([0, 1],[5, 4, 3, 2],set()), ('shift', None)),\n",
    "#  (([0, 1, 2],[5, 4, 3],set()), ('shift', None)),\n",
    "#  (([0, 1, 2, 3],[5, 4],set()), ('left_arc', 'det')),\n",
    "#  (([0, 1, 3],[5, 4],{(3, 2, 'det')}), ('shift', None)),\n",
    "#  (([0, 1, 3, 4],[5],{(3, 2, 'det')}), ('shift', None)),\n",
    "#  (([0, 1, 3, 4, 5],[],{(3, 2, 'det')}), ('left_arc', 'case')),\n",
    "#  (([0, 1, 3, 5],[],{(3, 2, 'det'), (5, 4, 'case')}), ('right_arc', 'nmod')),\n",
    "#  (([0, 1, 3],[],{(3, 5, 'nmod'), (3, 2, 'det'), (5, 4, 'case')}),\n",
    "#   ('right_arc', 'obj')),\n",
    "#  (([0, 1],[],{(3, 5, 'nmod'), (3, 2, 'det'), (5, 4, 'case'), (1, 3, 'obj')}),\n",
    "#   ('right_arc', 'root')),\n",
    "#  (([0],[],{(0, 1, 'root'), (3, 2, 'det'), (1, 3, 'obj'), (3, 5, 'nmod'), (5, 4, 'case')}),\n",
    "#   ('done', None))]"
   ]
  },
  {
   "cell_type": "markdown",
   "metadata": {},
   "source": [
    "Test with some sentence in dev.conll"
   ]
  },
  {
   "cell_type": "code",
   "execution_count": 12,
   "metadata": {},
   "outputs": [
    {
     "name": "stdout",
     "output_type": "stream",
     "text": [
      "Number of data instances: 41\n",
      "[(([0],[20, 19, 18, 17, 16, 15, 14, 13, 12, 11, 10, 9, 8, 7, 6, 5, 4, 3, 2, 1],set()),\n",
      "  ('shift', None)),\n",
      " (([0, 1],[20, 19, 18, 17, 16, 15, 14, 13, 12, 11, 10, 9, 8, 7, 6, 5, 4, 3, 2],set()),\n",
      "  ('shift', None)),\n",
      " (([0, 1, 2],[20, 19, 18, 17, 16, 15, 14, 13, 12, 11, 10, 9, 8, 7, 6, 5, 4, 3],set()),\n",
      "  ('left_arc', 'det'))]\n"
     ]
    }
   ],
   "source": [
    "# Test results\n",
    "data = get_training_instances(dev_trees[2])\n",
    "print('Number of data instances:', len(data))\n",
    "pprint(data[:3])\n",
    "\n",
    "# You should expect to see the following output:\n",
    "# Number of data instances: 41\n",
    "# [(([0],[20, 19, 18, 17, 16, 15, 14, 13, 12, 11, 10, 9, 8, 7, 6, 5, 4, 3, 2, 1],set()),\n",
    "#   ('shift', None)),\n",
    "#  (([0, 1],[20, 19, 18, 17, 16, 15, 14, 13, 12, 11, 10, 9, 8, 7, 6, 5, 4, 3, 2],set()),\n",
    "#   ('shift', None)),\n",
    "#  (([0, 1, 2],[20, 19, 18, 17, 16, 15, 14, 13, 12, 11, 10, 9, 8, 7, 6, 5, 4, 3],set()),\n",
    "#   ('left_arc', 'det'))]"
   ]
  },
  {
   "cell_type": "markdown",
   "metadata": {},
   "source": [
    "---\n",
    "\n",
    "**Note**:\n",
    "- The last element in the returned list of instances is a pseudo instance with the label `\"done\"`. This is for demenstration purpose, and should not be used for training.\n",
    "- For actual training step, you need to post-process the data to convert each relation tuple to an integer index. \n",
    "- We have 39 unique dependency relations in the data, including `ROOT`. Considering `ROOT` only appears as the head in a `right_arc` action, we have $(39-1)\\times 2 + 1 = 77$ possible actions in total.\n",
    "\n",
    "---"
   ]
  },
  {
   "cell_type": "markdown",
   "metadata": {},
   "source": [
    "Lasty, here is an example for converting the generated data instances into a a more *training friendly* format:"
   ]
  },
  {
   "cell_type": "code",
   "execution_count": 13,
   "metadata": {},
   "outputs": [],
   "source": [
    "import torch\n",
    "\n",
    "def process(dep_trees: List[DependencyTree],\n",
    "            word_vocab: dict,\n",
    "            pos_vocab: dict,\n",
    "            action_vocab: dict) -> torch.Tensor:\n",
    "    tensor_data = []\n",
    "    PAD_WORD = word_vocab.get(\"<PAD>\", 0)\n",
    "    UNK_WORD = word_vocab.get(\"<UNK>\", 1)\n",
    "    PAD_POS = pos_vocab.get(\"<PAD>\", 0)\n",
    "    UNK_POS = pos_vocab.get(\"<UNK>\", 1)\n",
    "\n",
    "    for tree in dep_trees:\n",
    "        instances = get_training_instances(tree)\n",
    "        for state, (action, rel) in instances:\n",
    "            # TODO\n",
    "            # convert to torch tensor and append to tensor_data\n",
    "\n",
    "            # 1) 抽取四个位置：S0, S1, B0, B1\n",
    "            s0 = state.stack[-1] if len(state.stack) >= 1 else None\n",
    "            s1 = state.stack[-2] if len(state.stack) >= 2 else None\n",
    "            b0 = state.buffer[-1] if len(state.buffer) >= 1 else None\n",
    "            b1 = state.buffer[-2] if len(state.buffer) >= 2 else None\n",
    "\n",
    "            # 2) 定义映射函数\n",
    "            def get_word_id(tid):\n",
    "                if tid is None or tid not in tree.deprels:\n",
    "                    return PAD_WORD\n",
    "                w = tree.deprels[tid].word\n",
    "                return word_vocab.get(w, UNK_WORD)\n",
    "\n",
    "            def get_pos_id(tid):\n",
    "                if tid is None or tid not in tree.deprels:\n",
    "                    return PAD_POS\n",
    "                p = tree.deprels[tid].pos\n",
    "                return pos_vocab.get(p, UNK_POS)\n",
    "\n",
    "            # 3) 构建特征向量 [w_s0, p_s0, w_s1, p_s1, w_b0, p_b0, w_b1, p_b1]\n",
    "            feat = [\n",
    "                get_word_id(s0), get_pos_id(s0),\n",
    "                get_word_id(s1), get_pos_id(s1),\n",
    "                get_word_id(b0), get_pos_id(b0),\n",
    "                get_word_id(b1), get_pos_id(b1),\n",
    "            ]\n",
    "\n",
    "            # 4) 动作 ID\n",
    "            action_id = action_vocab[(action, rel)]\n",
    "\n",
    "            # 5) 拼接并转为 tensor\n",
    "            row = torch.tensor(feat + [action_id], dtype=torch.long)\n",
    "            tensor_data.append(row)\n",
    "\n",
    "    return torch.stack(tensor_data, dim=0)\n"
   ]
  }
 ],
 "metadata": {
  "kernelspec": {
   "display_name": "NLP",
   "language": "python",
   "name": "python3"
  },
  "language_info": {
   "codemirror_mode": {
    "name": "ipython",
    "version": 3
   },
   "file_extension": ".py",
   "mimetype": "text/x-python",
   "name": "python",
   "nbconvert_exporter": "python",
   "pygments_lexer": "ipython3",
   "version": "3.11.11"
  }
 },
 "nbformat": 4,
 "nbformat_minor": 2
}
